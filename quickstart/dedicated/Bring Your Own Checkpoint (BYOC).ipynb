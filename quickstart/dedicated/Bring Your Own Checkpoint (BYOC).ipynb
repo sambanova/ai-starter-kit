{
 "cells": [
  {
   "cell_type": "markdown",
   "id": "f594c94e-0e5e-4852-a132-4e3e24ed0b41",
   "metadata": {},
   "source": [
    "# Bring Your Own Checkpoint (BYOC)"
   ]
  },
  {
   "cell_type": "markdown",
   "id": "6a795bb7-8801-455c-bd2d-e3d192821fdf",
   "metadata": {},
   "source": [
    "Welcome to this tutorial on bringing your own checkpoint (BYOC) to SambaNova dedicated offerings! \n",
    "\n",
    "Before you get started, please follow the set up instructions given in the [README](./README.md)\n"
   ]
  },
  {
   "cell_type": "markdown",
   "id": "baebfc10-eb09-4da5-82e9-35f9f78cdca7",
   "metadata": {},
   "source": [
    "## 1.  Imports"
   ]
  },
  {
   "cell_type": "code",
   "execution_count": 1,
   "id": "8bd40d05-10f3-47d7-8c57-507798bfca9a",
   "metadata": {},
   "outputs": [
    {
     "data": {
      "text/plain": [
       "'3.11.11 (main, Dec 11 2024, 10:28:39) [Clang 14.0.6 ]'"
      ]
     },
     "execution_count": 1,
     "metadata": {},
     "output_type": "execute_result"
    }
   ],
   "source": [
    "import sys\n",
    "sys.version"
   ]
  },
  {
   "cell_type": "code",
   "execution_count": 2,
   "id": "ea1bf646-5d54-4044-8324-33bbfa235035",
   "metadata": {
    "editable": true,
    "slideshow": {
     "slide_type": ""
    },
    "tags": []
   },
   "outputs": [
    {
     "data": {
      "text/html": [
       "<style>:root { --jp-notebook-max-width: 100% !important; }</style>"
      ],
      "text/plain": [
       "<IPython.core.display.HTML object>"
      ]
     },
     "metadata": {},
     "output_type": "display_data"
    },
    {
     "data": {
      "text/plain": [
       "True"
      ]
     },
     "execution_count": 2,
     "metadata": {},
     "output_type": "execute_result"
    }
   ],
   "source": [
    "from IPython.display import display, HTML\n",
    "display(HTML(\"<style>:root { --jp-notebook-max-width: 100% !important; }</style>\"))\n",
    "import json\n",
    "import os\n",
    "from dotenv import load_dotenv\n",
    "from huggingface_hub import hf_hub_download, HfApi\n",
    "from pathlib import Path\n",
    "import pprint\n",
    "load_dotenv()"
   ]
  },
  {
   "cell_type": "code",
   "execution_count": 3,
   "id": "683277e4-095b-4ef7-9a02-72f7dbc8e0fb",
   "metadata": {},
   "outputs": [],
   "source": [
    "ai_starter_kit_path = \"../../\"\n",
    "byoc_path = ai_starter_kit_path + \"utils/byoc\"\n",
    "sys.path.append(byoc_path)\n",
    "from src.snsdk_byoc_wrapper import BYOC"
   ]
  },
  {
   "cell_type": "markdown",
   "id": "cb162fb2-8da7-4a1b-8c96-762188c49888",
   "metadata": {},
   "source": [
    "## 2. Download checkpoint from HuggingFace"
   ]
  },
  {
   "cell_type": "markdown",
   "id": "f8003334-9e57-4b0d-8e77-9ab25fceae6c",
   "metadata": {},
   "source": [
    "#### Choose your model from HuggingFace"
   ]
  },
  {
   "cell_type": "code",
   "execution_count": 4,
   "id": "1a9f8a34-6fc4-473a-9f3f-412ee29310e1",
   "metadata": {},
   "outputs": [],
   "source": [
    "model_name = \"Salesforce/Llama-xLAM-2-70b-fc-r\"  # Replace with your desired model"
   ]
  },
  {
   "cell_type": "markdown",
   "id": "85d7d7b2-1c53-43a4-bdcd-1791441f6bd3",
   "metadata": {},
   "source": [
    "#### Specify the local directory for downloading and caching the model"
   ]
  },
  {
   "cell_type": "code",
   "execution_count": 5,
   "id": "d236474a-19eb-42d5-afa8-338ffcc519ce",
   "metadata": {},
   "outputs": [],
   "source": [
    "home_dir = os.path.expanduser(\"~\") \n",
    "cache_dir = os.path.join(home_dir + \"/models\")  \n",
    "os.makedirs(cache_dir, exist_ok=True)"
   ]
  },
  {
   "cell_type": "markdown",
   "id": "c8d1a2cc-7d95-4a66-bb1c-b6da18c1c34b",
   "metadata": {},
   "source": [
    "#### Download the model to the cache directory"
   ]
  },
  {
   "cell_type": "code",
   "execution_count": 6,
   "id": "76d0f558-1274-44c8-aa88-d3563339200e",
   "metadata": {},
   "outputs": [
    {
     "data": {
      "application/vnd.jupyter.widget-view+json": {
       "model_id": "6c9b1d94e17a4351bab09f5f81867644",
       "version_major": 2,
       "version_minor": 0
      },
      "text/plain": [
       ".gitattributes:   0%|          | 0.00/1.57k [00:00<?, ?B/s]"
      ]
     },
     "metadata": {},
     "output_type": "display_data"
    },
    {
     "data": {
      "application/vnd.jupyter.widget-view+json": {
       "model_id": "530b7307602748e1a8a4d5d43255bba6",
       "version_major": 2,
       "version_minor": 0
      },
      "text/plain": [
       "README.md:   0%|          | 0.00/15.2k [00:00<?, ?B/s]"
      ]
     },
     "metadata": {},
     "output_type": "display_data"
    },
    {
     "data": {
      "application/vnd.jupyter.widget-view+json": {
       "model_id": "452fd2c0ed4346bab953ecfc6e571d08",
       "version_major": 2,
       "version_minor": 0
      },
      "text/plain": [
       "generation_config.json:   0%|          | 0.00/184 [00:00<?, ?B/s]"
      ]
     },
     "metadata": {},
     "output_type": "display_data"
    },
    {
     "data": {
      "application/vnd.jupyter.widget-view+json": {
       "model_id": "49e3db27b3b9496fab06911117ca9358",
       "version_major": 2,
       "version_minor": 0
      },
      "text/plain": [
       "model-00001-of-00030.safetensors:   0%|          | 0.00/4.58G [00:00<?, ?B/s]"
      ]
     },
     "metadata": {},
     "output_type": "display_data"
    },
    {
     "data": {
      "application/vnd.jupyter.widget-view+json": {
       "model_id": "27a20a68a85340b192ac3edc2d7094bd",
       "version_major": 2,
       "version_minor": 0
      },
      "text/plain": [
       "model-00002-of-00030.safetensors:   0%|          | 0.00/4.66G [00:00<?, ?B/s]"
      ]
     },
     "metadata": {},
     "output_type": "display_data"
    },
    {
     "data": {
      "application/vnd.jupyter.widget-view+json": {
       "model_id": "0f55c2876c6742a5933e129dc1a58c58",
       "version_major": 2,
       "version_minor": 0
      },
      "text/plain": [
       "model-00003-of-00030.safetensors:   0%|          | 0.00/5.00G [00:00<?, ?B/s]"
      ]
     },
     "metadata": {},
     "output_type": "display_data"
    },
    {
     "data": {
      "application/vnd.jupyter.widget-view+json": {
       "model_id": "cbd35e06b33e4f18a032b33aa308e52b",
       "version_major": 2,
       "version_minor": 0
      },
      "text/plain": [
       "model-00004-of-00030.safetensors:   0%|          | 0.00/4.97G [00:00<?, ?B/s]"
      ]
     },
     "metadata": {},
     "output_type": "display_data"
    },
    {
     "data": {
      "application/vnd.jupyter.widget-view+json": {
       "model_id": "8ef3e309e5964ffc8e913a73f700a1d1",
       "version_major": 2,
       "version_minor": 0
      },
      "text/plain": [
       "model-00005-of-00030.safetensors:   0%|          | 0.00/4.66G [00:00<?, ?B/s]"
      ]
     },
     "metadata": {},
     "output_type": "display_data"
    },
    {
     "data": {
      "application/vnd.jupyter.widget-view+json": {
       "model_id": "e1a3466995d54b41a30699b31fcc5ab3",
       "version_major": 2,
       "version_minor": 0
      },
      "text/plain": [
       "model-00006-of-00030.safetensors:   0%|          | 0.00/4.66G [00:00<?, ?B/s]"
      ]
     },
     "metadata": {},
     "output_type": "display_data"
    },
    {
     "data": {
      "application/vnd.jupyter.widget-view+json": {
       "model_id": "34660aedfcd640449e71c4e9e28b4256",
       "version_major": 2,
       "version_minor": 0
      },
      "text/plain": [
       "model-00007-of-00030.safetensors:   0%|          | 0.00/4.66G [00:00<?, ?B/s]"
      ]
     },
     "metadata": {},
     "output_type": "display_data"
    },
    {
     "data": {
      "application/vnd.jupyter.widget-view+json": {
       "model_id": "52ecdbd67a2a45f69fa1460adaf6b841",
       "version_major": 2,
       "version_minor": 0
      },
      "text/plain": [
       "model-00008-of-00030.safetensors:   0%|          | 0.00/5.00G [00:00<?, ?B/s]"
      ]
     },
     "metadata": {},
     "output_type": "display_data"
    },
    {
     "data": {
      "application/vnd.jupyter.widget-view+json": {
       "model_id": "a8643019adbb4fc9ad21b9a2f06a7b57",
       "version_major": 2,
       "version_minor": 0
      },
      "text/plain": [
       "model-00009-of-00030.safetensors:   0%|          | 0.00/4.97G [00:00<?, ?B/s]"
      ]
     },
     "metadata": {},
     "output_type": "display_data"
    },
    {
     "data": {
      "application/vnd.jupyter.widget-view+json": {
       "model_id": "f4266ffa9d9c40e3b20ed26519978eca",
       "version_major": 2,
       "version_minor": 0
      },
      "text/plain": [
       "model-00010-of-00030.safetensors:   0%|          | 0.00/4.66G [00:00<?, ?B/s]"
      ]
     },
     "metadata": {},
     "output_type": "display_data"
    },
    {
     "data": {
      "application/vnd.jupyter.widget-view+json": {
       "model_id": "ef8ae3808ea04137af1ed89193f9781d",
       "version_major": 2,
       "version_minor": 0
      },
      "text/plain": [
       "model-00011-of-00030.safetensors:   0%|          | 0.00/4.66G [00:00<?, ?B/s]"
      ]
     },
     "metadata": {},
     "output_type": "display_data"
    },
    {
     "data": {
      "application/vnd.jupyter.widget-view+json": {
       "model_id": "6a06f4717c74436e8a2362d967e895dd",
       "version_major": 2,
       "version_minor": 0
      },
      "text/plain": [
       "model-00012-of-00030.safetensors:   0%|          | 0.00/4.66G [00:00<?, ?B/s]"
      ]
     },
     "metadata": {},
     "output_type": "display_data"
    },
    {
     "data": {
      "application/vnd.jupyter.widget-view+json": {
       "model_id": "41e8ff36a05645a299a6de3f21811cae",
       "version_major": 2,
       "version_minor": 0
      },
      "text/plain": [
       "model-00013-of-00030.safetensors:   0%|          | 0.00/5.00G [00:00<?, ?B/s]"
      ]
     },
     "metadata": {},
     "output_type": "display_data"
    },
    {
     "data": {
      "application/vnd.jupyter.widget-view+json": {
       "model_id": "57183c95487545a189f803d34b9aee8e",
       "version_major": 2,
       "version_minor": 0
      },
      "text/plain": [
       "model-00014-of-00030.safetensors:   0%|          | 0.00/4.97G [00:00<?, ?B/s]"
      ]
     },
     "metadata": {},
     "output_type": "display_data"
    },
    {
     "data": {
      "application/vnd.jupyter.widget-view+json": {
       "model_id": "dea45c7d28b04503a06975fc9c9faa4a",
       "version_major": 2,
       "version_minor": 0
      },
      "text/plain": [
       "model-00015-of-00030.safetensors:   0%|          | 0.00/4.66G [00:00<?, ?B/s]"
      ]
     },
     "metadata": {},
     "output_type": "display_data"
    },
    {
     "data": {
      "application/vnd.jupyter.widget-view+json": {
       "model_id": "c3e03f964d95490ea30f3c0c7755eccb",
       "version_major": 2,
       "version_minor": 0
      },
      "text/plain": [
       "model-00016-of-00030.safetensors:   0%|          | 0.00/4.66G [00:00<?, ?B/s]"
      ]
     },
     "metadata": {},
     "output_type": "display_data"
    },
    {
     "data": {
      "application/vnd.jupyter.widget-view+json": {
       "model_id": "991497fb59a74861a6dd5928a2d640ab",
       "version_major": 2,
       "version_minor": 0
      },
      "text/plain": [
       "model-00017-of-00030.safetensors:   0%|          | 0.00/4.66G [00:00<?, ?B/s]"
      ]
     },
     "metadata": {},
     "output_type": "display_data"
    },
    {
     "data": {
      "application/vnd.jupyter.widget-view+json": {
       "model_id": "7e7e17b2861840c7beda25c7795fc921",
       "version_major": 2,
       "version_minor": 0
      },
      "text/plain": [
       "model-00018-of-00030.safetensors:   0%|          | 0.00/5.00G [00:00<?, ?B/s]"
      ]
     },
     "metadata": {},
     "output_type": "display_data"
    },
    {
     "data": {
      "application/vnd.jupyter.widget-view+json": {
       "model_id": "f35e10b3384c4972be0c80b57bee5a85",
       "version_major": 2,
       "version_minor": 0
      },
      "text/plain": [
       "model-00019-of-00030.safetensors:   0%|          | 0.00/4.97G [00:00<?, ?B/s]"
      ]
     },
     "metadata": {},
     "output_type": "display_data"
    },
    {
     "data": {
      "application/vnd.jupyter.widget-view+json": {
       "model_id": "ca7e5cb529af465cb3074d884a64ba42",
       "version_major": 2,
       "version_minor": 0
      },
      "text/plain": [
       "model-00020-of-00030.safetensors:   0%|          | 0.00/4.66G [00:00<?, ?B/s]"
      ]
     },
     "metadata": {},
     "output_type": "display_data"
    },
    {
     "data": {
      "application/vnd.jupyter.widget-view+json": {
       "model_id": "d919008fddcf400f8810f3cc1f78d58f",
       "version_major": 2,
       "version_minor": 0
      },
      "text/plain": [
       "model-00021-of-00030.safetensors:   0%|          | 0.00/4.66G [00:00<?, ?B/s]"
      ]
     },
     "metadata": {},
     "output_type": "display_data"
    },
    {
     "data": {
      "application/vnd.jupyter.widget-view+json": {
       "model_id": "dfd457b4d97d42e0b97b3e0a297ddbc1",
       "version_major": 2,
       "version_minor": 0
      },
      "text/plain": [
       "model-00022-of-00030.safetensors:   0%|          | 0.00/4.66G [00:00<?, ?B/s]"
      ]
     },
     "metadata": {},
     "output_type": "display_data"
    },
    {
     "data": {
      "application/vnd.jupyter.widget-view+json": {
       "model_id": "95212d090e3d49d9a840468790a6bc1b",
       "version_major": 2,
       "version_minor": 0
      },
      "text/plain": [
       "model-00023-of-00030.safetensors:   0%|          | 0.00/5.00G [00:00<?, ?B/s]"
      ]
     },
     "metadata": {},
     "output_type": "display_data"
    },
    {
     "data": {
      "application/vnd.jupyter.widget-view+json": {
       "model_id": "d9c4c8b1f6d749c2baf7473c0a70f42b",
       "version_major": 2,
       "version_minor": 0
      },
      "text/plain": [
       "model-00024-of-00030.safetensors:   0%|          | 0.00/4.97G [00:00<?, ?B/s]"
      ]
     },
     "metadata": {},
     "output_type": "display_data"
    },
    {
     "data": {
      "application/vnd.jupyter.widget-view+json": {
       "model_id": "32963ab0a59f4cce98b7512a77649516",
       "version_major": 2,
       "version_minor": 0
      },
      "text/plain": [
       "model-00025-of-00030.safetensors:   0%|          | 0.00/4.66G [00:00<?, ?B/s]"
      ]
     },
     "metadata": {},
     "output_type": "display_data"
    },
    {
     "data": {
      "application/vnd.jupyter.widget-view+json": {
       "model_id": "7b39433d13d64d189d6e6ba7561908f4",
       "version_major": 2,
       "version_minor": 0
      },
      "text/plain": [
       "model-00026-of-00030.safetensors:   0%|          | 0.00/4.66G [00:00<?, ?B/s]"
      ]
     },
     "metadata": {},
     "output_type": "display_data"
    },
    {
     "data": {
      "application/vnd.jupyter.widget-view+json": {
       "model_id": "d3bb9b33ae0446df9da62b51a979f6c0",
       "version_major": 2,
       "version_minor": 0
      },
      "text/plain": [
       "model-00027-of-00030.safetensors:   0%|          | 0.00/4.66G [00:00<?, ?B/s]"
      ]
     },
     "metadata": {},
     "output_type": "display_data"
    },
    {
     "data": {
      "application/vnd.jupyter.widget-view+json": {
       "model_id": "6449141d8cab4363ba6e8e4c003d06e6",
       "version_major": 2,
       "version_minor": 0
      },
      "text/plain": [
       "model-00028-of-00030.safetensors:   0%|          | 0.00/5.00G [00:00<?, ?B/s]"
      ]
     },
     "metadata": {},
     "output_type": "display_data"
    },
    {
     "data": {
      "application/vnd.jupyter.widget-view+json": {
       "model_id": "8d22e4b7586c4207a1d352012e7e925f",
       "version_major": 2,
       "version_minor": 0
      },
      "text/plain": [
       "model-00029-of-00030.safetensors:   0%|          | 0.00/4.97G [00:00<?, ?B/s]"
      ]
     },
     "metadata": {},
     "output_type": "display_data"
    },
    {
     "data": {
      "application/vnd.jupyter.widget-view+json": {
       "model_id": "8260b47225394e0aad799ee6dedbee96",
       "version_major": 2,
       "version_minor": 0
      },
      "text/plain": [
       "model-00030-of-00030.safetensors:   0%|          | 0.00/2.10G [00:00<?, ?B/s]"
      ]
     },
     "metadata": {},
     "output_type": "display_data"
    },
    {
     "data": {
      "application/vnd.jupyter.widget-view+json": {
       "model_id": "7e5558d31e0442fabda72676a97c5a7c",
       "version_major": 2,
       "version_minor": 0
      },
      "text/plain": [
       "model.safetensors.index.json:   0%|          | 0.00/59.6k [00:00<?, ?B/s]"
      ]
     },
     "metadata": {},
     "output_type": "display_data"
    },
    {
     "data": {
      "application/vnd.jupyter.widget-view+json": {
       "model_id": "1a7425d3e90e465cb07c46e3ddd55e48",
       "version_major": 2,
       "version_minor": 0
      },
      "text/plain": [
       "special_tokens_map.json:   0%|          | 0.00/512 [00:00<?, ?B/s]"
      ]
     },
     "metadata": {},
     "output_type": "display_data"
    },
    {
     "data": {
      "application/vnd.jupyter.widget-view+json": {
       "model_id": "6241c71df1cf49f4bfeea544457d96dd",
       "version_major": 2,
       "version_minor": 0
      },
      "text/plain": [
       "tokenizer.json:   0%|          | 0.00/17.2M [00:00<?, ?B/s]"
      ]
     },
     "metadata": {},
     "output_type": "display_data"
    },
    {
     "data": {
      "application/vnd.jupyter.widget-view+json": {
       "model_id": "0fab1f7309574eaabfe2c67635995bed",
       "version_major": 2,
       "version_minor": 0
      },
      "text/plain": [
       "tokenizer_config.json:   0%|          | 0.00/54.1k [00:00<?, ?B/s]"
      ]
     },
     "metadata": {},
     "output_type": "display_data"
    },
    {
     "data": {
      "application/vnd.jupyter.widget-view+json": {
       "model_id": "9ad04179a734426cae1e94ab358f5a63",
       "version_major": 2,
       "version_minor": 0
      },
      "text/plain": [
       "xlam_tool_call_parser.py:   0%|          | 0.00/8.21k [00:00<?, ?B/s]"
      ]
     },
     "metadata": {},
     "output_type": "display_data"
    }
   ],
   "source": [
    "repo_files = HfApi().list_repo_files(model_name)\n",
    "for file_name in repo_files:    \n",
    "    path = hf_hub_download(repo_id=model_name, filename=file_name, cache_dir=cache_dir)\n",
    "    if file_name == \"config.json\":\n",
    "        config_path = path\n",
    "    "
   ]
  },
  {
   "cell_type": "markdown",
   "id": "20d1fd63-5e8a-4106-b159-a01bca213575",
   "metadata": {},
   "source": [
    "## 3. Set your BYOC config"
   ]
  },
  {
   "cell_type": "markdown",
   "id": "522e7d51-6f44-4412-a738-6bacf2f99eb7",
   "metadata": {},
   "source": [
    "#### Model metadata"
   ]
  },
  {
   "cell_type": "markdown",
   "id": "485ea173-6055-49c8-bab7-bfd997f269f5",
   "metadata": {},
   "source": [
    "The metadata values can be modified manually. Note that the `param_count` is hardcoded because it does not exist in any of the HF checkpoint configs."
   ]
  },
  {
   "cell_type": "code",
   "execution_count": 7,
   "id": "9bd8c522-d8d9-4320-a579-42773221ccf2",
   "metadata": {},
   "outputs": [
    {
     "name": "stderr",
     "output_type": "stream",
     "text": [
      "2025-05-02 12:39:07,443 [INFO] Using env variables to set up SNSDK and SNAPI.\n"
     ]
    }
   ],
   "source": [
    "byoc = BYOC()\n",
    "byoc.config = {\n",
    "    \"checkpoints\": [{\n",
    "        \"model_name\": model_name.replace('/','--'),\n",
    "        \"checkpoint_path\": str(Path(config_path).parent),\n",
    "        \"publisher\": model_name.split('/')[0],\n",
    "        \"description\": \"BYOC - \" + model_name,\n",
    "        \"param_count\": 70 # number in billions of parameters\n",
    "    }]\n",
    "}"
   ]
  },
  {
   "cell_type": "markdown",
   "id": "67c84756-ab59-4f35-a515-752c94538a43",
   "metadata": {},
   "source": [
    "#### Model parameters"
   ]
  },
  {
   "cell_type": "markdown",
   "id": "bd5422c6-d6a5-4dcb-8a45-2bb240a7c5b2",
   "metadata": {},
   "source": [
    "Automatically extract parameters from the HuggingFace config file"
   ]
  },
  {
   "cell_type": "code",
   "execution_count": 8,
   "id": "83a88c13-7db5-4b33-9660-2124d1f075ae",
   "metadata": {},
   "outputs": [
    {
     "data": {
      "text/plain": [
       "[{'model_arch': 'llama', 'seq_length': 131072, 'vocab_size': 128256}]"
      ]
     },
     "execution_count": 8,
     "metadata": {},
     "output_type": "execute_result"
    }
   ],
   "source": [
    "byoc.find_config_params(verbose=False)"
   ]
  },
  {
   "cell_type": "markdown",
   "id": "35f6c45b-3832-4d8e-b3dc-1fd90796636a",
   "metadata": {},
   "source": [
    "#### Model application"
   ]
  },
  {
   "cell_type": "markdown",
   "id": "dfcce8d9-417a-4743-b84c-87736f2a7986",
   "metadata": {},
   "source": [
    "The model `app` is a grouping of models based on their architecture, vocabularly size, sequence length, and intended purpose. **If no apps are found matching the HuggingFace parameters, it is likely that the model is not yet supported on the SambaNova platform. If that's the case, please check with your SambaNova representative before proceeding with the upload.**"
   ]
  },
  {
   "cell_type": "code",
   "execution_count": 9,
   "id": "69a7e12c-0611-4f6f-b384-6b6d2170f54a",
   "metadata": {},
   "outputs": [
    {
     "data": {
      "text/plain": [
       "[{'id': 'fd3c25e0-4091-41d6-97b2-f676f48f951b',\n",
       "  'name': 'Samba1 Llama3.3 Experts'},\n",
       " {'id': 'eb0aaad1-694f-41b6-958a-b974737635c4',\n",
       "  'name': 'Samba1 Llama3.1 Experts'}]"
      ]
     },
     "execution_count": 9,
     "metadata": {},
     "output_type": "execute_result"
    }
   ],
   "source": [
    "suitable_apps = byoc.get_suitable_apps(verbose=False)[0]\n",
    "suitable_apps"
   ]
  },
  {
   "cell_type": "code",
   "execution_count": 10,
   "id": "62606785-194c-4d91-b67f-feae4193b604",
   "metadata": {},
   "outputs": [],
   "source": [
    "byoc.config[\"checkpoints\"][0][\"app_id\"] = suitable_apps[0][\"id\"]"
   ]
  },
  {
   "cell_type": "markdown",
   "id": "6b3d24fa-c10d-41e6-b517-aac2ec079a32",
   "metadata": {},
   "source": [
    "#### BYOC config summary"
   ]
  },
  {
   "cell_type": "markdown",
   "id": "22a650e9-2489-4ce0-ad39-d0414fa69c1f",
   "metadata": {},
   "source": [
    "Review the BYOC config summary before the upload"
   ]
  },
  {
   "cell_type": "code",
   "execution_count": 11,
   "id": "09059d23-4af6-4c6b-888f-845215aadfc2",
   "metadata": {},
   "outputs": [
    {
     "name": "stdout",
     "output_type": "stream",
     "text": [
      "{'checkpoints': [{'app_id': 'fd3c25e0-4091-41d6-97b2-f676f48f951b',\n",
      "                  'checkpoint_path': '/Users/varunk/models/models--Salesforce--Llama-xLAM-2-70b-fc-r/snapshots/53b0eff871dc278ff10cebc26f037e614278a3a2',\n",
      "                  'description': 'BYOC - Salesforce/Llama-xLAM-2-70b-fc-r',\n",
      "                  'model_arch': 'llama',\n",
      "                  'model_name': 'Salesforce--Llama-xLAM-2-70b-fc-r',\n",
      "                  'param_count': 70,\n",
      "                  'publisher': 'Salesforce',\n",
      "                  'seq_length': 131072,\n",
      "                  'vocab_size': 128256}]}\n"
     ]
    }
   ],
   "source": [
    "pprint.pprint(byoc.config)"
   ]
  },
  {
   "cell_type": "markdown",
   "id": "953ed5c8-efe2-4d0e-93e8-31259966b2c5",
   "metadata": {},
   "source": [
    "## 4. Upload checkpoint"
   ]
  },
  {
   "cell_type": "markdown",
   "id": "ff9d42fe-5ac9-422b-b9ca-495f0c296447",
   "metadata": {},
   "source": [
    "The following command will upload the checkpoint to your dedicated environment. If you leave `verbose = True`, please note that the logs will show that the model is not found on the remote environment and upload will proceed. If the model is found, the upload will abort."
   ]
  },
  {
   "cell_type": "code",
   "execution_count": 12,
   "id": "fa3b7d02-e2b6-4f29-95b3-51cf52e70fe7",
   "metadata": {},
   "outputs": [
    {
     "name": "stderr",
     "output_type": "stream",
     "text": [
      "2025-05-02 21:45:27,096 [INFO] Model with name 'Salesforce--Llama-xLAM-2-70b-fc-r' found with id ca2b2e3b-b7d8-4c62-bd47-21d5d9681538\n",
      "2025-05-02 21:45:27,112 [INFO] Model checkpoint with name 'Salesforce--Llama-xLAM-2-70b-fc-r' created it with id ca2b2e3b-b7d8-4c62-bd47-21d5d9681538\n",
      "2025-05-02 21:45:27,115 [INFO] Checkpoint for model Salesforce--Llama-xLAM-2-70b-fc-r finished successfully with result ca2b2e3b-b7d8-4c62-bd47-21d5d9681538 \n"
     ]
    }
   ],
   "source": [
    "results = byoc.upload_checkpoints(verbose=False)"
   ]
  },
  {
   "cell_type": "code",
   "execution_count": 13,
   "id": "d5b6903f-3095-4fad-a6dd-4e5c0570b972",
   "metadata": {},
   "outputs": [
    {
     "data": {
      "text/plain": [
       "[{'name': 'Salesforce--Llama-xLAM-2-70b-fc-r',\n",
       "  'id': 'ca2b2e3b-b7d8-4c62-bd47-21d5d9681538'}]"
      ]
     },
     "execution_count": 13,
     "metadata": {},
     "output_type": "execute_result"
    }
   ],
   "source": [
    "results"
   ]
  },
  {
   "cell_type": "markdown",
   "id": "8fc6bf4b-d975-494c-9888-f3bca574c23b",
   "metadata": {},
   "source": [
    "You can check the status of the checkpoints after the upload process"
   ]
  },
  {
   "cell_type": "code",
   "execution_count": 17,
   "id": "df2f7d64-bb83-4fbd-9bd2-0059ae4bf55d",
   "metadata": {},
   "outputs": [
    {
     "data": {
      "text/plain": [
       "{'model_id': 'ca2b2e3b-b7d8-4c62-bd47-21d5d9681538',\n",
       " 'status': 'Available',\n",
       " 'progress': 100,\n",
       " 'stage': 'convert',\n",
       " 'status_code': 200}"
      ]
     },
     "execution_count": 17,
     "metadata": {},
     "output_type": "execute_result"
    }
   ],
   "source": [
    "status = byoc.get_checkpoints_status(results[0][\"id\"])[0]\n",
    "status.pop(\"headers\")\n",
    "status"
   ]
  },
  {
   "cell_type": "markdown",
   "id": "72dfddd8-ca17-40c6-85f7-962dcbe36167",
   "metadata": {},
   "source": [
    "## Next steps"
   ]
  },
  {
   "cell_type": "markdown",
   "id": "6505efa5-65ce-498e-9598-13601ee4e299",
   "metadata": {},
   "source": [
    "Now that you have uploaded your model checkpoint, you may want to [deploy it to an endpoint](<./Deploy a Model or Bundle to an Endpoint.ipynb>) or [create a bundle with it](<./Create a Model Bundle.ipynb>)"
   ]
  }
 ],
 "metadata": {
  "kernelspec": {
   "display_name": "py_3_11_autogen",
   "language": "python",
   "name": "py_3_11_autogen"
  },
  "language_info": {
   "codemirror_mode": {
    "name": "ipython",
    "version": 3
   },
   "file_extension": ".py",
   "mimetype": "text/x-python",
   "name": "python",
   "nbconvert_exporter": "python",
   "pygments_lexer": "ipython3",
   "version": "3.11.11"
  }
 },
 "nbformat": 4,
 "nbformat_minor": 5
}
