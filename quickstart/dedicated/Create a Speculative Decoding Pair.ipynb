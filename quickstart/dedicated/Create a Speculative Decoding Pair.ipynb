{
 "cells": [
  {
   "cell_type": "markdown",
   "id": "f594c94e-0e5e-4852-a132-4e3e24ed0b41",
   "metadata": {},
   "source": [
    "# Create a Speculative Decoding Pair"
   ]
  },
  {
   "cell_type": "markdown",
   "id": "6a795bb7-8801-455c-bd2d-e3d192821fdf",
   "metadata": {},
   "source": [
    "Welcome to this tutorial on creating a speculative decoding pair in SambaNova dedicated offerings!\n",
    "\n",
    "**What is a speculative decoding pair?**  \n",
    "A speculative decoding pair improves the inference speed of a larger `target_model` by having a smaller/faster `draft model` propose tokens. A good draft model will propose tokens that the target model is more likely to accept. A poor draft model will not improve the inference speed of the target model if its proposed tokens are not frequently accepted.\n",
    "\n",
    "Before you get started, please follow the set up instructions given in the [README](./README.md)"
   ]
  },
  {
   "cell_type": "markdown",
   "id": "baebfc10-eb09-4da5-82e9-35f9f78cdca7",
   "metadata": {},
   "source": [
    "## 1.  Imports"
   ]
  },
  {
   "cell_type": "code",
   "execution_count": 1,
   "id": "8bd40d05-10f3-47d7-8c57-507798bfca9a",
   "metadata": {},
   "outputs": [
    {
     "data": {
      "text/plain": [
       "'3.11.11 (main, Dec 11 2024, 10:28:39) [Clang 14.0.6 ]'"
      ]
     },
     "execution_count": 1,
     "metadata": {},
     "output_type": "execute_result"
    }
   ],
   "source": [
    "import sys\n",
    "sys.version"
   ]
  },
  {
   "cell_type": "code",
   "execution_count": 2,
   "id": "ea1bf646-5d54-4044-8324-33bbfa235035",
   "metadata": {
    "editable": true,
    "slideshow": {
     "slide_type": ""
    },
    "tags": []
   },
   "outputs": [
    {
     "data": {
      "text/html": [
       "<style>:root { --jp-notebook-max-width: 100% !important; }</style>"
      ],
      "text/plain": [
       "<IPython.core.display.HTML object>"
      ]
     },
     "metadata": {},
     "output_type": "display_data"
    },
    {
     "data": {
      "text/plain": [
       "True"
      ]
     },
     "execution_count": 2,
     "metadata": {},
     "output_type": "execute_result"
    }
   ],
   "source": [
    "from IPython.display import display, HTML\n",
    "display(HTML(\"<style>:root { --jp-notebook-max-width: 100% !important; }</style>\"))\n",
    "import json\n",
    "import os\n",
    "from dotenv import load_dotenv\n",
    "import pprint\n",
    "load_dotenv()"
   ]
  },
  {
   "cell_type": "code",
   "execution_count": 3,
   "id": "a252b07f-c85f-44a9-8185-505a41fbf6cf",
   "metadata": {},
   "outputs": [],
   "source": [
    "from snsdk import SnSdk"
   ]
  },
  {
   "cell_type": "markdown",
   "id": "02d004f8-6ff1-44ad-b33d-601d71528243",
   "metadata": {},
   "source": [
    "## 2. Set up environment connector"
   ]
  },
  {
   "cell_type": "markdown",
   "id": "fd0b3583-b31f-45c6-87b6-b40a58bee55e",
   "metadata": {},
   "source": [
    "Connects to the remote dedicated environment using the variables defined in `.env`"
   ]
  },
  {
   "cell_type": "code",
   "execution_count": 4,
   "id": "772356ae-30a7-4780-a29e-9a71796cb0fb",
   "metadata": {},
   "outputs": [],
   "source": [
    "sn_env = SnSdk(host_url=os.getenv(\"SAMBASTUDIO_HOST_NAME\"), \n",
    "                   access_key=os.getenv(\"SAMBASTUDIO_ACCESS_KEY\"), \n",
    "                   tenant_id=os.getenv(\"SAMBASTUDIO_TENANT_NAME\"))"
   ]
  },
  {
   "cell_type": "markdown",
   "id": "cb162fb2-8da7-4a1b-8c96-762188c49888",
   "metadata": {},
   "source": [
    "## 3. Select models to pair"
   ]
  },
  {
   "cell_type": "markdown",
   "id": "f8003334-9e57-4b0d-8e77-9ab25fceae6c",
   "metadata": {},
   "source": [
    "#### List models"
   ]
  },
  {
   "cell_type": "markdown",
   "id": "4ebdbca6-b4d9-4b13-8075-97ade54ecb2c",
   "metadata": {},
   "source": [
    "Get the complete list of models. This includes models that are  \n",
    "  - actually available\n",
    "  - still in the process of uploading\n",
    "  - exist in a remote storage from which they can be made available\n",
    "  - not in a usable state"
   ]
  },
  {
   "cell_type": "code",
   "execution_count": 5,
   "id": "08d1e30f-540a-4843-8ab1-7d01cfb406b7",
   "metadata": {},
   "outputs": [
    {
     "data": {
      "text/plain": [
       "140"
      ]
     },
     "execution_count": 5,
     "metadata": {},
     "output_type": "execute_result"
    }
   ],
   "source": [
    "models = sn_env.list_models()[\"models\"]\n",
    "len(models)"
   ]
  },
  {
   "cell_type": "markdown",
   "id": "8509da5e-2660-4e76-b150-9e850cbdaac9",
   "metadata": {},
   "source": [
    "Filter down to the models that are actually available on the environment"
   ]
  },
  {
   "cell_type": "code",
   "execution_count": 6,
   "id": "49706042-a445-41df-9742-22e8c4329257",
   "metadata": {},
   "outputs": [
    {
     "data": {
      "text/plain": [
       "53"
      ]
     },
     "execution_count": 6,
     "metadata": {},
     "output_type": "execute_result"
    }
   ],
   "source": [
    "available_models = [m for m in models if m['status'] == 'Available']\n",
    "len(available_models)"
   ]
  },
  {
   "cell_type": "markdown",
   "id": "9830e32a-2775-495c-93f3-77893b178b9b",
   "metadata": {},
   "source": [
    "Print names of the available models"
   ]
  },
  {
   "cell_type": "code",
   "execution_count": 7,
   "id": "1a9f8a34-6fc4-473a-9f3f-412ee29310e1",
   "metadata": {},
   "outputs": [
    {
     "data": {
      "text/plain": [
       "['Meta-Llama-3-70B-Instruct',\n",
       " 'Meta-Llama-3-8B-Instruct',\n",
       " 'Meta-Llama-3.1-405B-Instruct',\n",
       " 'Meta-Llama-3.1-405B-Instruct-FP8',\n",
       " 'Meta-Llama-3.1-405B-SD-Llama-3.1-8B',\n",
       " 'Meta-Llama-3.1-70B-Instruct',\n",
       " 'Meta-Llama-3.1-70B-SD-Llama-3.1-8B',\n",
       " 'Meta-Llama-3.1-70B-SD-Llama-3.2-1B',\n",
       " 'Meta-Llama-3.1-8B-Instruct',\n",
       " 'Meta-Llama-3.2-11B-Vision-Instruct',\n",
       " 'Meta-Llama-3.2-1B-Instruct',\n",
       " 'Meta-Llama-3.2-3B-Instruct',\n",
       " 'Meta-Llama-3.2-3B-Instruct-TP16',\n",
       " 'Meta-Llama-3.2-90B-Vision-Instruct',\n",
       " 'Meta-Llama-3.3-70B-Instruct',\n",
       " 'Meta-Llama-3.3-70B-SD-Llama-3.2-1B-TP16',\n",
       " 'Meta-Llama-Guard-3-8B']"
      ]
     },
     "execution_count": 7,
     "metadata": {},
     "output_type": "execute_result"
    }
   ],
   "source": [
    "sorted([m[\"model_checkpoint_name\"] for m in available_models if \"Meta\" in m[\"model_checkpoint_name\"]])"
   ]
  },
  {
   "cell_type": "markdown",
   "id": "d0eeb8b8-cd74-4774-a136-7946da862ff1",
   "metadata": {},
   "source": [
    "#### Select draft and target models"
   ]
  },
  {
   "cell_type": "markdown",
   "id": "2b3036ed-bdfe-4024-bc43-2512e184a10a",
   "metadata": {},
   "source": [
    "Note that models whose names end in \"TP16\" have been optimized to run performantly on SambaNova's nodes that contain 16 RDUs ([RDUs](https://sambanova.ai/technology/sn40l-rdu-ai-chip) are SambaNova's cutting-edge replacements for GPUs)."
   ]
  },
  {
   "cell_type": "code",
   "execution_count": 9,
   "id": "9d0d8fed-196a-4d92-9d90-77a4e201c755",
   "metadata": {},
   "outputs": [],
   "source": [
    "target_model = 'Meta-Llama-3.1-405B-Instruct'\n",
    "draft_model = 'Meta-Llama-3.2-3B-Instruct-TP16'"
   ]
  },
  {
   "cell_type": "markdown",
   "id": "85d7d7b2-1c53-43a4-bdcd-1791441f6bd3",
   "metadata": {},
   "source": [
    "## 4. Validate SD Pair"
   ]
  },
  {
   "cell_type": "markdown",
   "id": "a449e4d8-c3a0-48f8-99ab-7a5ad692b677",
   "metadata": {},
   "source": [
    "Set `rdu_required=16` to specify that this SD pair will leverage all 16 RDUs for maximum performance. "
   ]
  },
  {
   "cell_type": "code",
   "execution_count": 10,
   "id": "0e83db8f-b871-461c-808d-ac879ca02724",
   "metadata": {},
   "outputs": [],
   "source": [
    "sd_pair_name = 'Meta-Llama-3.1-405B-SD-Llama-3.2-3B'\n",
    "dependencies = [{'name': target_model}, {'name': draft_model}]\n",
    "rdu_required = 16"
   ]
  },
  {
   "cell_type": "markdown",
   "id": "fa92073b-cdd6-4577-a796-0c98f099eadf",
   "metadata": {},
   "source": [
    "If the following command fails, please try a different SD pair. "
   ]
  },
  {
   "cell_type": "code",
   "execution_count": 11,
   "id": "de794fbf-77d4-4243-a318-ea86b3395640",
   "metadata": {},
   "outputs": [
    {
     "name": "stdout",
     "output_type": "stream",
     "text": [
      "True\n"
     ]
    }
   ],
   "source": [
    "validation_status = sn_env.validate_spec_decoding(\n",
    "    target=target_model,\n",
    "    draft=draft_model,\n",
    "    rdu_required=rdu_required,\n",
    "    dependencies=dependencies\n",
    ")\n",
    "print(validation_status['valid'])"
   ]
  },
  {
   "cell_type": "code",
   "execution_count": 12,
   "id": "b0240188-605c-4560-93e7-7d8ca4b8fb0f",
   "metadata": {},
   "outputs": [
    {
     "data": {
      "text/plain": [
       "[{'level': 'INFO',\n",
       "  'message': 'Target and draft models are compatible',\n",
       "  'reason': 'SpeculativeDecodingPairCompatible'}]"
      ]
     },
     "execution_count": 12,
     "metadata": {},
     "output_type": "execute_result"
    }
   ],
   "source": [
    "validation_status['validations']"
   ]
  },
  {
   "cell_type": "markdown",
   "id": "408068cb-f275-4a1a-8382-dd0fb7fdcac9",
   "metadata": {},
   "source": [
    "## 5. Create SD Pair"
   ]
  },
  {
   "cell_type": "code",
   "execution_count": 13,
   "id": "323cb3cf-1118-4d1f-86dc-4f81a1ad58f8",
   "metadata": {},
   "outputs": [],
   "source": [
    "sd_pair = sn_env.add_composite_model(\n",
    "    name=sd_pair_name,\n",
    "    description=f\"SD pair with target model: {target_model} and draft model: {draft_model}.\",\n",
    "    dependencies=dependencies,\n",
    "    rdu_required=rdu_required,\n",
    "    config_params={'target_model': target_model, 'draft_model': draft_model},\n",
    "    app=\"Spec Decoding\"\n",
    ")"
   ]
  },
  {
   "cell_type": "code",
   "execution_count": 14,
   "id": "ee31d333-ae6c-422f-87a8-b3ef226e06de",
   "metadata": {},
   "outputs": [
    {
     "data": {
      "text/plain": [
       "'Available'"
      ]
     },
     "execution_count": 14,
     "metadata": {},
     "output_type": "execute_result"
    }
   ],
   "source": [
    "sd_pair['status']"
   ]
  },
  {
   "cell_type": "markdown",
   "id": "deb00c28-047a-4757-a906-b9b8a289847c",
   "metadata": {},
   "source": [
    "Once created, a SD pair can be deleted using `sn_env.delete_model(sd_pair_name)`"
   ]
  },
  {
   "cell_type": "markdown",
   "id": "a6b880b8-313a-434d-9b72-ec655d38135f",
   "metadata": {},
   "source": [
    "## Next steps"
   ]
  },
  {
   "cell_type": "markdown",
   "id": "f1130402-3c44-488c-8840-9b5b8173b0a5",
   "metadata": {},
   "source": [
    "Now that you have your SD pair created, you may want to [deploy it to an endpoint](<./Deploy a Model or Bundle to an Endpoint.ipynb>) or [create a bundle with it](<./Create a Model Bundle.ipynb>)"
   ]
  },
  {
   "cell_type": "code",
   "execution_count": null,
   "id": "3b9f099c-4622-4abe-aece-46d9e6544948",
   "metadata": {},
   "outputs": [],
   "source": []
  }
 ],
 "metadata": {
  "kernelspec": {
   "display_name": "py_3_11_autogen",
   "language": "python",
   "name": "py_3_11_autogen"
  },
  "language_info": {
   "codemirror_mode": {
    "name": "ipython",
    "version": 3
   },
   "file_extension": ".py",
   "mimetype": "text/x-python",
   "name": "python",
   "nbconvert_exporter": "python",
   "pygments_lexer": "ipython3",
   "version": "3.11.11"
  }
 },
 "nbformat": 4,
 "nbformat_minor": 5
}
