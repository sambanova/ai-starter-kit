{
 "cells": [
  {
   "cell_type": "markdown",
   "id": "f594c94e-0e5e-4852-a132-4e3e24ed0b41",
   "metadata": {},
   "source": [
    "# Bring Your Own Checkpoint (BYOC)"
   ]
  },
  {
   "cell_type": "markdown",
   "id": "6a795bb7-8801-455c-bd2d-e3d192821fdf",
   "metadata": {},
   "source": [
    "Welcome to this tutorial on bringing your own checkpoint (BYOC) to SambaNova dedicated offerings! \n",
    "\n",
    "Before you get started, please follow the set up instructions given in the [README](./README.md)\n"
   ]
  },
  {
   "cell_type": "markdown",
   "id": "baebfc10-eb09-4da5-82e9-35f9f78cdca7",
   "metadata": {},
   "source": [
    "## 1.  Imports"
   ]
  },
  {
   "cell_type": "code",
   "execution_count": 1,
   "id": "8bd40d05-10f3-47d7-8c57-507798bfca9a",
   "metadata": {},
   "outputs": [
    {
     "data": {
      "text/plain": [
       "'3.11.11 (main, Dec 11 2024, 10:28:39) [Clang 14.0.6 ]'"
      ]
     },
     "execution_count": 1,
     "metadata": {},
     "output_type": "execute_result"
    }
   ],
   "source": [
    "import sys\n",
    "sys.version"
   ]
  },
  {
   "cell_type": "code",
   "execution_count": 2,
   "id": "ea1bf646-5d54-4044-8324-33bbfa235035",
   "metadata": {
    "editable": true,
    "slideshow": {
     "slide_type": ""
    },
    "tags": []
   },
   "outputs": [
    {
     "data": {
      "text/html": [
       "<style>:root { --jp-notebook-max-width: 100% !important; }</style>"
      ],
      "text/plain": [
       "<IPython.core.display.HTML object>"
      ]
     },
     "metadata": {},
     "output_type": "display_data"
    },
    {
     "data": {
      "text/plain": [
       "True"
      ]
     },
     "execution_count": 2,
     "metadata": {},
     "output_type": "execute_result"
    }
   ],
   "source": [
    "from IPython.display import display, HTML\n",
    "display(HTML(\"<style>:root { --jp-notebook-max-width: 100% !important; }</style>\"))\n",
    "import json\n",
    "import os\n",
    "from dotenv import load_dotenv\n",
    "from huggingface_hub import hf_hub_download, HfApi\n",
    "from pathlib import Path\n",
    "import pprint\n",
    "load_dotenv()"
   ]
  },
  {
   "cell_type": "code",
   "execution_count": 3,
   "id": "683277e4-095b-4ef7-9a02-72f7dbc8e0fb",
   "metadata": {},
   "outputs": [],
   "source": [
    "ai_starter_kit_path = \"../../\"\n",
    "snsdk_wrapper_path = ai_starter_kit_path + \"utils/dedicated_env\"\n",
    "sys.path.append(snsdk_wrapper_path)\n",
    "from snsdk_wrapper import SnsdkWrapper"
   ]
  },
  {
   "cell_type": "markdown",
   "id": "cb162fb2-8da7-4a1b-8c96-762188c49888",
   "metadata": {},
   "source": [
    "## 2. Download checkpoint from HuggingFace"
   ]
  },
  {
   "cell_type": "markdown",
   "id": "f8003334-9e57-4b0d-8e77-9ab25fceae6c",
   "metadata": {},
   "source": [
    "#### Choose your model from HuggingFace\n",
    "`numind/NuExtract-1.5-tiny` is a fine-tuned version of `Qwen 2.5 0.5B` that's not currently available on Sambanova, but supported through BYOC"
   ]
  },
  {
   "cell_type": "code",
   "execution_count": 4,
   "id": "1a9f8a34-6fc4-473a-9f3f-412ee29310e1",
   "metadata": {},
   "outputs": [],
   "source": [
    "model_name = \"numind/NuExtract-1.5-tiny\"  "
   ]
  },
  {
   "cell_type": "markdown",
   "id": "85d7d7b2-1c53-43a4-bdcd-1791441f6bd3",
   "metadata": {},
   "source": [
    "#### Specify the local directory for downloading and caching the model"
   ]
  },
  {
   "cell_type": "code",
   "execution_count": 5,
   "id": "d236474a-19eb-42d5-afa8-338ffcc519ce",
   "metadata": {},
   "outputs": [],
   "source": [
    "home_dir = os.path.expanduser(\"~\") \n",
    "cache_dir = os.path.join(home_dir + \"/models\")  \n",
    "os.makedirs(cache_dir, exist_ok=True)"
   ]
  },
  {
   "cell_type": "markdown",
   "id": "c8d1a2cc-7d95-4a66-bb1c-b6da18c1c34b",
   "metadata": {},
   "source": [
    "#### Download the model to the cache directory"
   ]
  },
  {
   "cell_type": "code",
   "execution_count": 6,
   "id": "76d0f558-1274-44c8-aa88-d3563339200e",
   "metadata": {},
   "outputs": [
    {
     "data": {
      "application/vnd.jupyter.widget-view+json": {
       "model_id": "cd7bdb0a3f064df3b72e3ba7f2cac660",
       "version_major": 2,
       "version_minor": 0
      },
      "text/plain": [
       ".gitattributes:   0%|          | 0.00/1.52k [00:00<?, ?B/s]"
      ]
     },
     "metadata": {},
     "output_type": "display_data"
    },
    {
     "data": {
      "application/vnd.jupyter.widget-view+json": {
       "model_id": "d0d93c855c8b4f32a88da18ccc79487e",
       "version_major": 2,
       "version_minor": 0
      },
      "text/plain": [
       "README.md:   0%|          | 0.00/6.12k [00:00<?, ?B/s]"
      ]
     },
     "metadata": {},
     "output_type": "display_data"
    },
    {
     "data": {
      "application/vnd.jupyter.widget-view+json": {
       "model_id": "5aa63ac2da9e4575b916a2b67daa202d",
       "version_major": 2,
       "version_minor": 0
      },
      "text/plain": [
       "added_tokens.json:   0%|          | 0.00/605 [00:00<?, ?B/s]"
      ]
     },
     "metadata": {},
     "output_type": "display_data"
    },
    {
     "data": {
      "application/vnd.jupyter.widget-view+json": {
       "model_id": "c6798586942d40fe96b9de6bfe2537d7",
       "version_major": 2,
       "version_minor": 0
      },
      "text/plain": [
       "config.json:   0%|          | 0.00/729 [00:00<?, ?B/s]"
      ]
     },
     "metadata": {},
     "output_type": "display_data"
    },
    {
     "data": {
      "application/vnd.jupyter.widget-view+json": {
       "model_id": "22b6cf27ff464442b6f46a23c5f0d1c4",
       "version_major": 2,
       "version_minor": 0
      },
      "text/plain": [
       "english_bench.pdf:   0%|          | 0.00/21.7k [00:00<?, ?B/s]"
      ]
     },
     "metadata": {},
     "output_type": "display_data"
    },
    {
     "data": {
      "application/vnd.jupyter.widget-view+json": {
       "model_id": "698779b3686141deb7f3a307cb9d7e13",
       "version_major": 2,
       "version_minor": 0
      },
      "text/plain": [
       "english_bench.png:   0%|          | 0.00/128k [00:00<?, ?B/s]"
      ]
     },
     "metadata": {},
     "output_type": "display_data"
    },
    {
     "data": {
      "application/vnd.jupyter.widget-view+json": {
       "model_id": "4ed6be2006d24eed934ae7006c73fb21",
       "version_major": 2,
       "version_minor": 0
      },
      "text/plain": [
       "fewshot_bench.png:   0%|          | 0.00/152k [00:00<?, ?B/s]"
      ]
     },
     "metadata": {},
     "output_type": "display_data"
    },
    {
     "data": {
      "application/vnd.jupyter.widget-view+json": {
       "model_id": "56b1f7b597f74291a9328ba16344f458",
       "version_major": 2,
       "version_minor": 0
      },
      "text/plain": [
       "finetuned_gains.pdf:   0%|          | 0.00/17.6k [00:00<?, ?B/s]"
      ]
     },
     "metadata": {},
     "output_type": "display_data"
    },
    {
     "data": {
      "application/vnd.jupyter.widget-view+json": {
       "model_id": "a314073bf6a34449afd6dc7ebeeb2114",
       "version_major": 2,
       "version_minor": 0
      },
      "text/plain": [
       "generation_config.json:   0%|          | 0.00/117 [00:00<?, ?B/s]"
      ]
     },
     "metadata": {},
     "output_type": "display_data"
    },
    {
     "data": {
      "application/vnd.jupyter.widget-view+json": {
       "model_id": "6c31aafae7444a54a77d6de0fee5dbd0",
       "version_major": 2,
       "version_minor": 0
      },
      "text/plain": [
       "merges.txt:   0%|          | 0.00/1.67M [00:00<?, ?B/s]"
      ]
     },
     "metadata": {},
     "output_type": "display_data"
    },
    {
     "data": {
      "application/vnd.jupyter.widget-view+json": {
       "model_id": "a738e45630a6494e88cfd0dbfa4cc8ff",
       "version_major": 2,
       "version_minor": 0
      },
      "text/plain": [
       "model.safetensors:   0%|          | 0.00/988M [00:00<?, ?B/s]"
      ]
     },
     "metadata": {},
     "output_type": "display_data"
    },
    {
     "data": {
      "application/vnd.jupyter.widget-view+json": {
       "model_id": "685f3173dd864f2e8477c826f0f26c8d",
       "version_major": 2,
       "version_minor": 0
      },
      "text/plain": [
       "multilingual_bench.png:   0%|          | 0.00/105k [00:00<?, ?B/s]"
      ]
     },
     "metadata": {},
     "output_type": "display_data"
    },
    {
     "data": {
      "application/vnd.jupyter.widget-view+json": {
       "model_id": "108da5a9629f46aca30c00cbda554ca3",
       "version_major": 2,
       "version_minor": 0
      },
      "text/plain": [
       "special_tokens_map.json:   0%|          | 0.00/616 [00:00<?, ?B/s]"
      ]
     },
     "metadata": {},
     "output_type": "display_data"
    },
    {
     "data": {
      "application/vnd.jupyter.widget-view+json": {
       "model_id": "508bc1b4857a4097bc5697a61f416ddb",
       "version_major": 2,
       "version_minor": 0
      },
      "text/plain": [
       "tokenizer.json:   0%|          | 0.00/7.03M [00:00<?, ?B/s]"
      ]
     },
     "metadata": {},
     "output_type": "display_data"
    },
    {
     "data": {
      "application/vnd.jupyter.widget-view+json": {
       "model_id": "dbca76b3f14d4a9b97337aead2e53bf6",
       "version_major": 2,
       "version_minor": 0
      },
      "text/plain": [
       "tokenizer_config.json:   0%|          | 0.00/7.36k [00:00<?, ?B/s]"
      ]
     },
     "metadata": {},
     "output_type": "display_data"
    },
    {
     "data": {
      "application/vnd.jupyter.widget-view+json": {
       "model_id": "e3e210c98cc543ba9437bebefbc8f94b",
       "version_major": 2,
       "version_minor": 0
      },
      "text/plain": [
       "vocab.json:   0%|          | 0.00/2.78M [00:00<?, ?B/s]"
      ]
     },
     "metadata": {},
     "output_type": "display_data"
    }
   ],
   "source": [
    "repo_files = HfApi().list_repo_files(model_name)\n",
    "for file_name in repo_files:    \n",
    "    path = hf_hub_download(repo_id=model_name, filename=file_name, cache_dir=cache_dir)\n",
    "    if file_name == \"config.json\":\n",
    "        config_path = path\n",
    "    "
   ]
  },
  {
   "cell_type": "markdown",
   "id": "20d1fd63-5e8a-4106-b159-a01bca213575",
   "metadata": {},
   "source": [
    "## 3. Set your BYOC config"
   ]
  },
  {
   "cell_type": "markdown",
   "id": "522e7d51-6f44-4412-a738-6bacf2f99eb7",
   "metadata": {},
   "source": [
    "#### Model metadata"
   ]
  },
  {
   "cell_type": "markdown",
   "id": "485ea173-6055-49c8-bab7-bfd997f269f5",
   "metadata": {},
   "source": [
    "The metadata values can be modified manually. Note that the `param_count` is hardcoded because it does not exist in any of the HF checkpoint configs."
   ]
  },
  {
   "cell_type": "code",
   "execution_count": 7,
   "id": "9bd8c522-d8d9-4320-a579-42773221ccf2",
   "metadata": {},
   "outputs": [
    {
     "name": "stderr",
     "output_type": "stream",
     "text": [
      "2025-06-05 16:20:03,007 [INFO] Using env variables to set up SNSDK and SNAPI.\n"
     ]
    }
   ],
   "source": [
    "byoc = SnsdkWrapper()\n",
    "byoc.config = {\n",
    "    \"checkpoints\": [{\n",
    "        \"model_name\": model_name.replace('/','--'),\n",
    "        \"checkpoint_path\": str(Path(config_path).parent),\n",
    "        \"publisher\": model_name.split('/')[0],\n",
    "        \"description\": \"BYOC - \" + model_name,\n",
    "        \"param_count\": 0.5 # number in billions of parameters\n",
    "    }]\n",
    "}"
   ]
  },
  {
   "cell_type": "markdown",
   "id": "67c84756-ab59-4f35-a515-752c94538a43",
   "metadata": {},
   "source": [
    "#### Model parameters"
   ]
  },
  {
   "cell_type": "markdown",
   "id": "bd5422c6-d6a5-4dcb-8a45-2bb240a7c5b2",
   "metadata": {},
   "source": [
    "Automatically extract parameters from the HuggingFace config file"
   ]
  },
  {
   "cell_type": "code",
   "execution_count": 8,
   "id": "83a88c13-7db5-4b33-9660-2124d1f075ae",
   "metadata": {},
   "outputs": [
    {
     "data": {
      "text/plain": [
       "[{'model_arch': 'qwen2', 'seq_length': 32768, 'vocab_size': 151936}]"
      ]
     },
     "execution_count": 8,
     "metadata": {},
     "output_type": "execute_result"
    }
   ],
   "source": [
    "byoc.find_config_params(verbose=False)"
   ]
  },
  {
   "cell_type": "markdown",
   "id": "35f6c45b-3832-4d8e-b3dc-1fd90796636a",
   "metadata": {},
   "source": [
    "#### Model application"
   ]
  },
  {
   "cell_type": "markdown",
   "id": "dfcce8d9-417a-4743-b84c-87736f2a7986",
   "metadata": {},
   "source": [
    "The model `app` is a grouping of models based on their architecture, vocabularly size, sequence length, and intended purpose. **If no apps are found matching the HuggingFace parameters, it is likely that the model is not yet supported on the SambaNova platform. If that's the case, please check with your SambaNova representative before proceeding with the upload.**"
   ]
  },
  {
   "cell_type": "code",
   "execution_count": 9,
   "id": "69a7e12c-0611-4f6f-b384-6b6d2170f54a",
   "metadata": {},
   "outputs": [
    {
     "data": {
      "text/plain": [
       "[{'id': '12e55537-0e6a-4c3b-b591-1f6670da0d6a',\n",
       "  'name': 'Samba1 Qwen2.5 Experts'}]"
      ]
     },
     "execution_count": 9,
     "metadata": {},
     "output_type": "execute_result"
    }
   ],
   "source": [
    "suitable_apps = byoc.get_suitable_apps(verbose=False)[0]\n",
    "suitable_apps"
   ]
  },
  {
   "cell_type": "code",
   "execution_count": 10,
   "id": "62606785-194c-4d91-b67f-feae4193b604",
   "metadata": {},
   "outputs": [],
   "source": [
    "byoc.config[\"checkpoints\"][0][\"app_id\"] = suitable_apps[0][\"id\"]"
   ]
  },
  {
   "cell_type": "markdown",
   "id": "6b3d24fa-c10d-41e6-b517-aac2ec079a32",
   "metadata": {},
   "source": [
    "#### BYOC config summary"
   ]
  },
  {
   "cell_type": "markdown",
   "id": "22a650e9-2489-4ce0-ad39-d0414fa69c1f",
   "metadata": {},
   "source": [
    "Review the BYOC config summary before the upload"
   ]
  },
  {
   "cell_type": "code",
   "execution_count": 11,
   "id": "09059d23-4af6-4c6b-888f-845215aadfc2",
   "metadata": {},
   "outputs": [
    {
     "name": "stdout",
     "output_type": "stream",
     "text": [
      "{'checkpoints': [{'app_id': '12e55537-0e6a-4c3b-b591-1f6670da0d6a',\n",
      "                  'checkpoint_path': '/Users/varunk/models/models--numind--NuExtract-1.5-tiny/snapshots/df52efb3109d324cd52b30728f9e3fdedf19f742',\n",
      "                  'description': 'BYOC - numind/NuExtract-1.5-tiny',\n",
      "                  'model_arch': 'qwen2',\n",
      "                  'model_name': 'numind--NuExtract-1.5-tiny',\n",
      "                  'param_count': 0.5,\n",
      "                  'publisher': 'numind',\n",
      "                  'seq_length': 32768,\n",
      "                  'vocab_size': 151936}]}\n"
     ]
    }
   ],
   "source": [
    "pprint.pprint(byoc.config)"
   ]
  },
  {
   "cell_type": "markdown",
   "id": "953ed5c8-efe2-4d0e-93e8-31259966b2c5",
   "metadata": {},
   "source": [
    "## 4. Upload checkpoint"
   ]
  },
  {
   "cell_type": "markdown",
   "id": "ff9d42fe-5ac9-422b-b9ca-495f0c296447",
   "metadata": {},
   "source": [
    "The following command will upload the checkpoint to your dedicated environment. If you leave `verbose = True`, please note that the logs will show that the model is not found on the remote environment and upload will proceed. If the model is found, the upload will abort."
   ]
  },
  {
   "cell_type": "code",
   "execution_count": 12,
   "id": "fa3b7d02-e2b6-4f29-95b3-51cf52e70fe7",
   "metadata": {},
   "outputs": [
    {
     "name": "stderr",
     "output_type": "stream",
     "text": [
      "2025-06-05 16:20:39,179 [INFO] Model with name 'numind--NuExtract-1.5-tiny' not found\n",
      "2025-06-05 16:20:39,319 [INFO] App with name '12e55537-0e6a-4c3b-b591-1f6670da0d6a' found with id 12e55537-0e6a-4c3b-b591-1f6670da0d6a\n",
      "2025-06-05 16:20:39,320 [INFO] running snapi upload command:\n",
      " snapi import model create --model-name numind--NuExtract-1.5-tiny --app 12e55537-0e6a-4c3b-b591-1f6670da0d6a --source-type LOCAL --source-path /Users/varunk/models/models--numind--NuExtract-1.5-tiny/snapshots/df52efb3109d324cd52b30728f9e3fdedf19f742 --model-arch qwen2 --parameter-count 0.5b --sequence-length 32768 --vocab-size 151936 -ni --publisher numind --description BYOC - numind/NuExtract-1.5-tiny --ignore-transformers-version\n",
      "This could take a while\n",
      "2025-06-05 16:24:11,071 [INFO] Model with name 'numind--NuExtract-1.5-tiny' found with id 85f8346e-b2b2-4415-a99c-82d0ee3c55df\n",
      "2025-06-05 16:24:11,075 [INFO] Model checkpoint with name 'numind--NuExtract-1.5-tiny' created it with id 85f8346e-b2b2-4415-a99c-82d0ee3c55df\n"
     ]
    }
   ],
   "source": [
    "results = byoc.upload_checkpoints(verbose=False)"
   ]
  },
  {
   "cell_type": "code",
   "execution_count": 13,
   "id": "d5b6903f-3095-4fad-a6dd-4e5c0570b972",
   "metadata": {},
   "outputs": [
    {
     "data": {
      "text/plain": [
       "[{'name': 'numind--NuExtract-1.5-tiny',\n",
       "  'id': '85f8346e-b2b2-4415-a99c-82d0ee3c55df'}]"
      ]
     },
     "execution_count": 13,
     "metadata": {},
     "output_type": "execute_result"
    }
   ],
   "source": [
    "results"
   ]
  },
  {
   "cell_type": "markdown",
   "id": "8fc6bf4b-d975-494c-9888-f3bca574c23b",
   "metadata": {},
   "source": [
    "You can check the status of the checkpoints after the upload process"
   ]
  },
  {
   "cell_type": "code",
   "execution_count": 14,
   "id": "df2f7d64-bb83-4fbd-9bd2-0059ae4bf55d",
   "metadata": {},
   "outputs": [
    {
     "data": {
      "text/plain": [
       "{'model_id': '85f8346e-b2b2-4415-a99c-82d0ee3c55df',\n",
       " 'status': 'Available',\n",
       " 'progress': 100,\n",
       " 'stage': 'convert',\n",
       " 'status_code': 200}"
      ]
     },
     "execution_count": 14,
     "metadata": {},
     "output_type": "execute_result"
    }
   ],
   "source": [
    "status = byoc.get_checkpoints_status(results[0][\"id\"])[0]\n",
    "status.pop(\"headers\")\n",
    "status"
   ]
  },
  {
   "cell_type": "markdown",
   "id": "72dfddd8-ca17-40c6-85f7-962dcbe36167",
   "metadata": {},
   "source": [
    "## Next steps"
   ]
  },
  {
   "cell_type": "markdown",
   "id": "6505efa5-65ce-498e-9598-13601ee4e299",
   "metadata": {},
   "source": [
    "Now that you have uploaded your model checkpoint, you may want to [deploy it to an endpoint](<./Deploy a Model or Bundle to an Endpoint.ipynb>) or [create a bundle with it](<./Create a Model Bundle.ipynb>)"
   ]
  }
 ],
 "metadata": {
  "kernelspec": {
   "display_name": "Python 3 (ipykernel)",
   "language": "python",
   "name": "python3"
  },
  "language_info": {
   "codemirror_mode": {
    "name": "ipython",
    "version": 3
   },
   "file_extension": ".py",
   "mimetype": "text/x-python",
   "name": "python",
   "nbconvert_exporter": "python",
   "pygments_lexer": "ipython3",
   "version": "3.11.11"
  }
 },
 "nbformat": 4,
 "nbformat_minor": 5
}
