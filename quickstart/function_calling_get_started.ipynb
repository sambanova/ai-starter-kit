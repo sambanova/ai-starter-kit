{
 "cells": [
  {
   "cell_type": "markdown",
   "metadata": {},
   "source": [
    "# Function Calling with Llama 3.1: Getting started"
   ]
  },
  {
   "cell_type": "markdown",
   "metadata": {},
   "source": [
    "In this example, we’ll demonstrate how to use function calling with the Llama 3.1 model. We’ll integrate a simple function called GetTime, which the model will be able to call when appropriate. The function attributes will be defined."
   ]
  },
  {
   "cell_type": "code",
   "execution_count": null,
   "metadata": {},
   "outputs": [],
   "source": [
    "# Install these required dependencies to run this notebook\n",
    "!pip install python-dotenv==1.0.1\n",
    "!pip install langchain-core==0.3.68\n",
    "!pip install langchain-sambanova==0.2.0"
   ]
  },
  {
   "cell_type": "code",
   "execution_count": 1,
   "metadata": {},
   "outputs": [],
   "source": [
    "# Import libraries\n",
    "import os\n",
    "import sys\n",
    "import json\n",
    "from datetime import datetime\n",
    "from langchain_core.messages import HumanMessage, SystemMessage, ToolMessage\n",
    "from langchain_core.tools import tool\n",
    "from pydantic import BaseModel, Field\n",
    "\n",
    "from dotenv import load_dotenv\n",
    "\n",
    "# Get absolute path for repo_dir and add it to the Python module search path\n",
    "current_dir = os.getcwd()\n",
    "repo_dir = os.path.abspath(os.path.join(current_dir, \"..\"))\n",
    "sys.path.append(repo_dir)\n",
    "\n",
    "from langchain_sambanova import ChatSambaNova\n",
    "\n",
    "# Constants and configuration\n",
    "load_dotenv(os.path.join(repo_dir, '.env'), override=True)\n",
    "SAMBANOVA_API_KEY = os.getenv(\"SAMBANOVA_API_KEY\")\n",
    "MODEL = \"Meta-Llama-3.3-70B-Instruct\""
   ]
  },
  {
   "cell_type": "markdown",
   "metadata": {},
   "source": [
    "### Tools definition"
   ]
  },
  {
   "cell_type": "code",
   "execution_count": 2,
   "metadata": {},
   "outputs": [],
   "source": [
    "# Get time tool definition\n",
    "\n",
    "# Argument schema\n",
    "class GetTimeSchema(BaseModel):\n",
    "    \"\"\"Returns current date, current time or both.\"\"\"\n",
    "\n",
    "    kind: str = Field(description='kind of information to retrieve \"date\", \"time\" or \"both\"')\n",
    "\n",
    "# Tool definition using @tool decorator\n",
    "@tool(args_schema=GetTimeSchema)\n",
    "def get_time(kind: str = \"both\") -> str:\n",
    "    \"\"\"Returns current date, current time or both.\n",
    "    Args:\n",
    "        kind(str): date, time or both\n",
    "    \n",
    "    Returns:\n",
    "        str: current date, current time or both    \n",
    "    \"\"\"\n",
    "    if kind == \"date\":\n",
    "        date = datetime.now().strftime(\"%m/%d/%Y\")\n",
    "        return f\"Current date: {date}\"\n",
    "    elif kind == \"time\":\n",
    "        time = datetime.now().strftime(\"%H:%M:%S\")\n",
    "        return f\"Current time: {time}\"\n",
    "    else:\n",
    "        date = datetime.now().strftime(\"%m/%d/%Y\")\n",
    "        time = datetime.now().strftime(\"%H:%M:%S\")\n",
    "        return f\"Current date: {date}, Current time: {time}\"\n",
    "    \n",
    "# Define list of tools\n",
    "tools = [get_time]\n",
    "\n",
    "# Define tool invocation method\n",
    "def invoke_tools(tool_calls, messages):\n",
    "    available_functions={tool.name:tool for tool in tools}\n",
    "    for tool_call in tool_calls:\n",
    "        selected_tool = available_functions[tool_call[\"name\"]]\n",
    "        tool_output = selected_tool.invoke(tool_call[\"args\"])\n",
    "        print(f\"Tool output: {tool_output}\")\n",
    "        messages.append(ToolMessage(tool_output, tool_call_id=tool_call[\"id\"]))\n",
    "    return messages"
   ]
  },
  {
   "cell_type": "markdown",
   "metadata": {},
   "source": [
    "### Define the function calling model"
   ]
  },
  {
   "cell_type": "code",
   "execution_count": 3,
   "metadata": {},
   "outputs": [],
   "source": [
    "# Define tool calling model\n",
    "llm = ChatSambaNova(\n",
    "    sambanova_api_key = SAMBANOVA_API_KEY,\n",
    "    model=MODEL,\n",
    "    max_tokens=1024,\n",
    "    temperature=0.7,\n",
    "    top_p=0.01\n",
    ")\n",
    "\n",
    "llm_with_tools = llm.bind_tools(tools=tools)"
   ]
  },
  {
   "cell_type": "markdown",
   "metadata": {},
   "source": [
    "### Call the function calling model"
   ]
  },
  {
   "cell_type": "code",
   "execution_count": 4,
   "metadata": {},
   "outputs": [
    {
     "name": "stdout",
     "output_type": "stream",
     "text": [
      "Intermediate model response: [{'name': 'get_time', 'args': {'kind': 'date'}, 'id': 'call_877ad8e1d9564235b7', 'type': 'tool_call'}]\n",
      "Tool output: Current date: 10/14/2025\n",
      "final response: Two weeks from the current date (10/14/2025) would be 10/28/2025.\n"
     ]
    }
   ],
   "source": [
    "# Define messages\n",
    "messages = [\n",
    "    HumanMessage(\n",
    "       content=\"I need to schedule a meeting for two weeks from today. Can you tell me the exact date of the meeting?\"\n",
    "    )\n",
    "]\n",
    "\n",
    "# Iterative pipeline\n",
    "response = llm_with_tools.invoke(messages)\n",
    "while len(response.tool_calls)>0:\n",
    "    print(f\"Intermediate model response: {response.tool_calls}\")\n",
    "    messages.append(response)\n",
    "    messages = invoke_tools(response.tool_calls, messages)\n",
    "    response = llm_with_tools.invoke(messages)\n",
    "\n",
    "print(f\"final response: {response.content}\")"
   ]
  }
 ],
 "metadata": {
  "kernelspec": {
   "display_name": "quick_oct14_env",
   "language": "python",
   "name": "python3"
  },
  "language_info": {
   "codemirror_mode": {
    "name": "ipython",
    "version": 3
   },
   "file_extension": ".py",
   "mimetype": "text/x-python",
   "name": "python",
   "nbconvert_exporter": "python",
   "pygments_lexer": "ipython3",
   "version": "3.11.9"
  }
 },
 "nbformat": 4,
 "nbformat_minor": 2
}
