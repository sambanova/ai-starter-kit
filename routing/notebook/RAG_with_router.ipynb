{
 "cells": [
  {
   "cell_type": "code",
   "execution_count": 6,
   "metadata": {},
   "outputs": [],
   "source": [
    "import os\n",
    "import sys\n",
    "import glob\n",
    "from langchain_community.vectorstores import Chroma\n",
    "from IPython.display import display, Markdown\n",
    "from langchain.text_splitter import RecursiveCharacterTextSplitter\n",
    "import warnings\n",
    "warnings.filterwarnings('ignore')\n",
    "\n",
    "current_dir = os.getcwd()\n",
    "kit_dir = os.path.abspath(os.path.join(current_dir, \"..\"))\n",
    "repo_dir = os.path.abspath(os.path.join(kit_dir, \"..\"))\n",
    "\n",
    "sys.path.append(kit_dir)\n",
    "sys.path.append(repo_dir)\n",
    "\n",
    "from src.routing import Router\n",
    "from enterprise_knowledge_retriever.src.document_retrieval import DocumentRetrieval\n",
    "\n",
    "CONFIG_PATH = os.path.join(kit_dir,'config.yaml')"
   ]
  },
  {
   "cell_type": "markdown",
   "metadata": {},
   "source": [
    "# init router"
   ]
  },
  {
   "cell_type": "code",
   "execution_count": 7,
   "metadata": {},
   "outputs": [],
   "source": [
    "router = Router(CONFIG_PATH)"
   ]
  },
  {
   "cell_type": "markdown",
   "metadata": {},
   "source": [
    "# init RAG"
   ]
  },
  {
   "cell_type": "code",
   "execution_count": 8,
   "metadata": {},
   "outputs": [
    {
     "name": "stderr",
     "output_type": "stream",
     "text": [
      "2024-09-20 17:59:49,474 [INFO] - Load pretrained SentenceTransformer: intfloat/e5-large-v2\n"
     ]
    },
    {
     "name": "stdout",
     "output_type": "stream",
     "text": [
      "load INSTRUCTOR_Transformer\n"
     ]
    },
    {
     "name": "stderr",
     "output_type": "stream",
     "text": [
      "2024-09-20 17:59:54,436 [INFO] - Use pytorch device: cpu\n",
      "2024-09-20 17:59:54,438 [INFO] - This is the collection name: collection_2a0f08ef-e1a8-424d-8261-34deff710721\n"
     ]
    },
    {
     "name": "stdout",
     "output_type": "stream",
     "text": [
      "max_seq_length  512\n",
      "Collection name is None\n"
     ]
    },
    {
     "name": "stderr",
     "output_type": "stream",
     "text": [
      "2024-09-20 17:59:56,578 [INFO] - Vector store saved to data/vectordb/\n"
     ]
    }
   ],
   "source": [
    "folder_loc = os.path.join(kit_dir,'data/')\n",
    "docx_files = list(glob.glob(f'{folder_loc}/*.txt'))\n",
    "docs = []\n",
    "for doc in docx_files:\n",
    "    with open(doc) as f:\n",
    "        docs.append(f.read())\n",
    "text_splitter = RecursiveCharacterTextSplitter(\n",
    "        chunk_size = 800,\n",
    "        chunk_overlap  = 20,\n",
    "        length_function = len,\n",
    "        add_start_index = True,\n",
    "        separators = [\"\\n\\n\\n\",\"\\n\\n\", \"\\n\", \"*\", \".\"]\n",
    "    )\n",
    "text_chunks = text_splitter.create_documents(docs)\n",
    "document_retrieval =  DocumentRetrieval()\n",
    "embeddings = document_retrieval.load_embedding_model()\n",
    "vectorstore = document_retrieval.create_vector_store(text_chunks, embeddings, output_db=\"data/vectordb/\")\n",
    "document_retrieval.init_retriever(vectorstore)\n",
    "conversation = document_retrieval.get_qa_retrieval_chain()"
   ]
  },
  {
   "cell_type": "markdown",
   "metadata": {},
   "source": [
    "# user input"
   ]
  },
  {
   "cell_type": "code",
   "execution_count": 9,
   "metadata": {},
   "outputs": [],
   "source": [
    "query = \"How to measure performance using sambatune?\"\n",
    "# query = \"Who is the CEO of Sambanova?\"\n",
    "# query = \"What is LLM?\""
   ]
  },
  {
   "cell_type": "markdown",
   "metadata": {},
   "source": [
    "# pipeline"
   ]
  },
  {
   "cell_type": "code",
   "execution_count": 10,
   "metadata": {},
   "outputs": [
    {
     "name": "stdout",
     "output_type": "stream",
     "text": [
      "To measure performance using SambaTune, you can run SambaTune with the application YAML file as input. After running `sambatune` and passing in the YAML file, you can then run `sambatune_ui` to view the results. The performance analysis results can be found in the SambaTune GUI, where you can examine reports.\n",
      "\n",
      "The performance reports are generated after a successful run, which includes collating compile-time and run-time statistics. The reports display in the SambaTune GUI to help identify potential hotspots.\n",
      "\n",
      "You can also use the `sambatune --help` command to view a list of all options and configuration details.\n",
      "--------------------------\n",
      "datasource: vectorstore\n"
     ]
    }
   ],
   "source": [
    "datasource = router.routing(query)\n",
    "if datasource == \"vectorstore\":\n",
    "    output = conversation.invoke({\"question\":query})\n",
    "    response = output['answer']\n",
    "else:\n",
    "    response = document_retrieval.llm(query)\n",
    "\n",
    "print(response)\n",
    "print(\"--------------------------\")\n",
    "print(f\"datasource: {datasource}\")"
   ]
  },
  {
   "cell_type": "code",
   "execution_count": null,
   "metadata": {},
   "outputs": [],
   "source": []
  }
 ],
 "metadata": {
  "kernelspec": {
   "display_name": "Python 3 (ipykernel)",
   "language": "python",
   "name": "python3"
  },
  "language_info": {
   "codemirror_mode": {
    "name": "ipython",
    "version": 3
   },
   "file_extension": ".py",
   "mimetype": "text/x-python",
   "name": "python",
   "nbconvert_exporter": "python",
   "pygments_lexer": "ipython3",
   "version": "3.9.6"
  }
 },
 "nbformat": 4,
 "nbformat_minor": 4
}
