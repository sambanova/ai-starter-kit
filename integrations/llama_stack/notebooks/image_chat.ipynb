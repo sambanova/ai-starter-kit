{
 "cells": [
  {
   "cell_type": "markdown",
   "id": "923343b0-d4bd-4361-b8d4-dd29f86a0fbd",
   "metadata": {},
   "source": [
    "## LlamaStack Vision API\n"
   ]
  },
  {
   "cell_type": "markdown",
   "id": "143837c6-1072-4015-8297-514712704087",
   "metadata": {},
   "source": [
    "## Setup"
   ]
  },
  {
   "cell_type": "code",
   "execution_count": 1,
   "id": "5219e695",
   "metadata": {},
   "outputs": [],
   "source": [
    "# Imports\n",
    "import asyncio\n",
    "import base64\n",
    "import mimetypes\n",
    "from llama_stack_client import LlamaStackClient\n",
    "from llama_stack_client.lib.inference.event_logger import EventLogger\n",
    "from llama_stack_client.types import UserMessage\n",
    "from termcolor import cprint\n",
    "import os"
   ]
  },
  {
   "cell_type": "code",
   "execution_count": 2,
   "id": "1d293479-9dde-4b68-94ab-d0c4c61ab08c",
   "metadata": {},
   "outputs": [],
   "source": [
    "# Select model\n",
    "model = 'sambanova/Llama-3.2-11B-Vision-Instruct'\n",
    "# Select image path\n",
    "image_path='../../../images/SambaNova-dark-logo-1.png'"
   ]
  },
  {
   "cell_type": "code",
   "execution_count": 3,
   "id": "ed7a60c7",
   "metadata": {},
   "outputs": [],
   "source": [
    "# Initialize client\n",
    "client = LlamaStackClient(\n",
    "    base_url=f\"http://localhost:{os.environ['LLAMA_STACK_PORT']}\",\n",
    ")"
   ]
  },
  {
   "cell_type": "markdown",
   "id": "51984856-dfc7-4226-817a-1d44853e6661",
   "metadata": {},
   "source": [
    "## Helper functions\n",
    "Some utility functions to handle image processing and API interaction."
   ]
  },
  {
   "cell_type": "code",
   "execution_count": 4,
   "id": "8e65aae0-3ef0-4084-8c59-273a89ac9510",
   "metadata": {},
   "outputs": [],
   "source": [
    "def encode_image_to_data_url(file_path: str) -> str:\n",
    "    \"\"\"\n",
    "    Encode an image file to a data URL.\n",
    "\n",
    "    Args:\n",
    "        file_path: Path to the image file\n",
    "\n",
    "    Returns:\n",
    "        Data URL string\n",
    "    \"\"\"\n",
    "    mime_type, _ = mimetypes.guess_type(file_path)\n",
    "    if mime_type is None:\n",
    "        raise ValueError(\"Could not determine MIME type of the file\")\n",
    "\n",
    "    with open(file_path, \"rb\") as image_file:\n",
    "        encoded_string = base64.b64encode(image_file.read()).decode(\"utf-8\")\n",
    "\n",
    "    return f\"data:{mime_type};base64,{encoded_string}\"\n"
   ]
  },
  {
   "cell_type": "markdown",
   "id": "8073b673-e730-4557-8980-fd8b7ea11975",
   "metadata": {},
   "source": [
    "## Chat with the image\n",
    "The code below uses the Llama Stack Chat API to interact with the LLM.\n"
   ]
  },
  {
   "cell_type": "code",
   "execution_count": 5,
   "id": "9f2c26ce",
   "metadata": {},
   "outputs": [],
   "source": [
    "def process_image_chat(client: LlamaStackClient, image_path: str, stream: bool = True):\n",
    "    \"\"\"\n",
    "    Process an image through the LlamaStack Chat API.\n",
    "\n",
    "    Args:\n",
    "        client: Initialized client.\n",
    "        image_path: Path to image file.capitalize.\n",
    "        stream: Whether to stream the response.\n",
    "    \"\"\"\n",
    "    data_url = encode_image_to_data_url(image_path)\n",
    "\n",
    "    messages=[\n",
    "        {\n",
    "            'role': 'user', 'content': {'type': 'image', 'image': {'url': {'uri': data_url}}}\n",
    "        },\n",
    "        {\n",
    "            'role': 'user',\n",
    "            'content': 'What does this image represent?',\n",
    "        },\n",
    "    ]\n",
    "    \n",
    "    cprint(\"User> Sending image for analysis...\", \"green\")\n",
    "    response = client.inference.chat_completion(\n",
    "        messages=messages,\n",
    "        model_id=model,\n",
    "        stream=stream,\n",
    "    )\n",
    "\n",
    "    if stream:\n",
    "        text = ''\n",
    "        for chunk in response:\n",
    "            if chunk.event is not None:\n",
    "                print(f'{chunk.event.delta.text}', end='', flush=True)\n",
    "                text += chunk.event.delta.text\n",
    "                print(chunk.event.delta.text)\n",
    "        print(text)\n",
    "    else:\n",
    "        print(\n",
    "            f'Type: {type(response.completion_message.content)}, '\n",
    "            f'Value:{response.completion_message.content}'\n",
    "        )"
   ]
  },
  {
   "cell_type": "code",
   "execution_count": 6,
   "id": "8f7ed518",
   "metadata": {},
   "outputs": [
    {
     "name": "stdout",
     "output_type": "stream",
     "text": [
      "\u001b[32mUser> Sending image for analysis...\u001b[0m\n",
      "\n",
      "The image represents the logo of The image represents the logo of \n",
      "SambaNova Systems, a company that specializes in artificial SambaNova Systems, a company that specializes in artificial \n",
      "intelligence (AI) and machine learning (ML) solutions. intelligence (AI) and machine learning (ML) solutions. \n",
      "The logo features the company name The logo features the company name \n",
      "\"SambaNova Systems\" in large, bold letters, with the \"SambaNova Systems\" in large, bold letters, with the \n",
      "word \"Systems\" in smaller text underneath. The word \"Systems\" in smaller text underneath. The \n",
      "logo also includes a stylized letter \"S\" logo also includes a stylized letter \"S\" \n",
      "made up of curved lines, which is likely meant made up of curved lines, which is likely meant \n",
      "to represent the company's name and to represent the company's name and \n",
      "brand identity.\n",
      "\n",
      "SambaNova Systems is a technology company that was brand identity.\n",
      "\n",
      "SambaNova Systems is a technology company that was \n",
      "founded in 2017 by industry veterans from companies founded in 2017 by industry veterans from companies \n",
      "such as Google, Facebook, and NVIDIA. such as Google, Facebook, and NVIDIA. \n",
      "The company's mission is to accelerate the development and deployment The company's mission is to accelerate the development and deployment \n",
      "of AI and ML solutions for a wide range of AI and ML solutions for a wide range \n",
      "of industries, including healthcare, finance, of industries, including healthcare, finance, \n",
      "and manufacturing.\n",
      "\n",
      "SambaNova Systems offers a range of products and manufacturing.\n",
      "\n",
      "SambaNova Systems offers a range of products \n",
      "and services, including:\n",
      "\n",
      "* **AI and ML and services, including:\n",
      "\n",
      "* **AI and ML \n",
      "software**: The company provides software solutions for building and deploying software**: The company provides software solutions for building and deploying \n",
      "AI and ML models, including tools for data AI and ML models, including tools for data \n",
      "preparation, model training, and deployment.\n",
      "* preparation, model training, and deployment.\n",
      "* \n",
      "**Hardware acceleration**: SambaNova Systems offers specialized hardware **Hardware acceleration**: SambaNova Systems offers specialized hardware \n",
      "accelerators that can be used to speed up the performance accelerators that can be used to speed up the performance \n",
      "of AI and ML workloads.\n",
      "* of AI and ML workloads.\n",
      "* \n",
      "**Consulting and services**: The company provides consulting and services **Consulting and services**: The company provides consulting and services \n",
      "to help customers implement AI and ML solutions in their organizations.\n",
      "\n",
      "to help customers implement AI and ML solutions in their organizations.\n",
      "\n",
      "\n",
      "Overall, the image represents SambaNova Overall, the image represents SambaNova \n",
      "Systems as a leading provider of AI and ML Systems as a leading provider of AI and ML \n",
      "solutions, with a focus on accelerating the development and deployment solutions, with a focus on accelerating the development and deployment \n",
      "of these technologies for a wide range of these technologies for a wide range \n",
      "of industries.of industries.\n",
      "\n",
      "The image represents the logo of SambaNova Systems, a company that specializes in artificial intelligence (AI) and machine learning (ML) solutions. The logo features the company name \"SambaNova Systems\" in large, bold letters, with the word \"Systems\" in smaller text underneath. The logo also includes a stylized letter \"S\" made up of curved lines, which is likely meant to represent the company's name and brand identity.\n",
      "\n",
      "SambaNova Systems is a technology company that was founded in 2017 by industry veterans from companies such as Google, Facebook, and NVIDIA. The company's mission is to accelerate the development and deployment of AI and ML solutions for a wide range of industries, including healthcare, finance, and manufacturing.\n",
      "\n",
      "SambaNova Systems offers a range of products and services, including:\n",
      "\n",
      "* **AI and ML software**: The company provides software solutions for building and deploying AI and ML models, including tools for data preparation, model training, and deployment.\n",
      "* **Hardware acceleration**: SambaNova Systems offers specialized hardware accelerators that can be used to speed up the performance of AI and ML workloads.\n",
      "* **Consulting and services**: The company provides consulting and services to help customers implement AI and ML solutions in their organizations.\n",
      "\n",
      "Overall, the image represents SambaNova Systems as a leading provider of AI and ML solutions, with a focus on accelerating the development and deployment of these technologies for a wide range of industries.\n"
     ]
    }
   ],
   "source": [
    "# Chat with the iamge\n",
    "process_image_chat(client=client, image_path=image_path, stream=True)"
   ]
  }
 ],
 "metadata": {
  "kernelspec": {
   "display_name": ".venv",
   "language": "python",
   "name": "python3"
  },
  "language_info": {
   "codemirror_mode": {
    "name": "ipython",
    "version": 3
   },
   "file_extension": ".py",
   "mimetype": "text/x-python",
   "name": "python",
   "nbconvert_exporter": "python",
   "pygments_lexer": "ipython3",
   "version": "3.11.10"
  }
 },
 "nbformat": 4,
 "nbformat_minor": 5
}
