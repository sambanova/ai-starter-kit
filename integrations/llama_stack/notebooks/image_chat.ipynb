{
 "cells": [
  {
   "cell_type": "markdown",
   "id": "923343b0-d4bd-4361-b8d4-dd29f86a0fbd",
   "metadata": {},
   "source": [
    "## LlamaStack Vision API\n"
   ]
  },
  {
   "cell_type": "code",
   "execution_count": 5,
   "id": "eae04594-49f9-43af-bb42-9df114d9ddd6",
   "metadata": {},
   "outputs": [],
   "source": [
    "import asyncio\n",
    "import base64\n",
    "import mimetypes\n",
    "from llama_stack_client import LlamaStackClient\n",
    "from llama_stack_client.lib.inference.event_logger import EventLogger\n",
    "from llama_stack_client.types import UserMessage\n",
    "from termcolor import cprint\n",
    "import os"
   ]
  },
  {
   "cell_type": "markdown",
   "id": "143837c6-1072-4015-8297-514712704087",
   "metadata": {},
   "source": [
    "## Configuration\n",
    "Set up your connection parameters:"
   ]
  },
  {
   "cell_type": "code",
   "execution_count": 46,
   "id": "1d293479-9dde-4b68-94ab-d0c4c61ab08c",
   "metadata": {},
   "outputs": [],
   "source": [
    "MODEL_NAME = 'sambanova/Llama-3.2-11B-Vision-Instruct'\n",
    "MODEL_NAME = 'sambanova/Llama-3.2-90B-Vision-Instruct'"
   ]
  },
  {
   "cell_type": "markdown",
   "id": "51984856-dfc7-4226-817a-1d44853e6661",
   "metadata": {},
   "source": [
    "## Helper Functions\n",
    "Let's create some utility functions to handle image processing and API interaction:"
   ]
  },
  {
   "cell_type": "code",
   "execution_count": null,
   "id": "8e65aae0-3ef0-4084-8c59-273a89ac9510",
   "metadata": {},
   "outputs": [],
   "source": [
    "import base64\n",
    "import mimetypes\n",
    "from termcolor import cprint\n",
    "from llama_stack_client.lib.inference.event_logger import EventLogger\n",
    "from llama_stack_client import LlamaStackClient\n",
    "\n",
    "\n",
    "def encode_image_to_data_url(file_path: str) -> str:\n",
    "    \"\"\"\n",
    "    Encode an image file to a data URL.\n",
    "\n",
    "    Args:\n",
    "        file_path: Path to the image file\n",
    "\n",
    "    Returns:\n",
    "        Data URL string\n",
    "    \"\"\"\n",
    "    mime_type, _ = mimetypes.guess_type(file_path)\n",
    "    if mime_type is None:\n",
    "        raise ValueError(\"Could not determine MIME type of the file\")\n",
    "\n",
    "    with open(file_path, \"rb\") as image_file:\n",
    "        encoded_string = base64.b64encode(image_file.read()).decode(\"utf-8\")\n",
    "\n",
    "    return f\"data:{mime_type};base64,{encoded_string}\"\n",
    "\n",
    "\n",
    "async def process_image(client: LlamaStackClient, image_path: str, stream: bool = True):\n",
    "    \"\"\"\n",
    "    Process an image through the LlamaStack Vision API.\n",
    "\n",
    "    Args:\n",
    "        client: Initialized client.\n",
    "        image_path: Path to image file.capitalize.\n",
    "        stream: Whether to stream the response\n",
    "    \"\"\"\n",
    "    data_url = encode_image_to_data_url(image_path)\n",
    "\n",
    "    messages=[\n",
    "        {\n",
    "            'role': 'user', 'content': {'type': 'image', 'image': {'url': {'uri': data_url}}}\n",
    "        },\n",
    "        {\n",
    "            'role': 'user',\n",
    "            'content': 'How many different colors are in this image?',\n",
    "        },\n",
    "    ]\n",
    "    \n",
    "    cprint(\"User> Sending image for analysis...\", \"green\")\n",
    "    response = client.inference.chat_completion(\n",
    "        messages=messages,\n",
    "        model_id=MODEL_NAME,\n",
    "        stream=stream,\n",
    "    )\n",
    "\n",
    "    if stream:\n",
    "        text = ''\n",
    "        for chunk in response:\n",
    "            if chunk.event is not None:\n",
    "                print(f'{chunk.event.delta.text}', end='', flush=True)\n",
    "                text += chunk.event.delta.text\n",
    "                print(chunk.event.delta.text)\n",
    "        print(text)\n",
    "    else:\n",
    "        print(\n",
    "            f'Type: {type(response.completion_message.content)}, '\n",
    "            f'Value:{response.completion_message.content}'\n",
    "        )\n"
   ]
  },
  {
   "cell_type": "markdown",
   "metadata": {},
   "source": [
    "## Agent Configuration\n",
    "\n",
    "Agents are configured using the `AgentConfig` class, which includes:\n",
    "\n",
    "- `Model`: The underlying LLM to power the agent.\n",
    "- `Instructions`: System prompt that defines the agent’s behavior.\n",
    "- `Tools`: Capabilities the agent can use to interact with external systems.\n",
    "- `Safety Shields`: Guardrails to ensure responsible AI behavior."
   ]
  },
  {
   "cell_type": "markdown",
   "id": "8073b673-e730-4557-8980-fd8b7ea11975",
   "metadata": {},
   "source": [
    "## Chat with Image"
   ]
  },
  {
   "cell_type": "code",
   "execution_count": 49,
   "id": "64d36476-95d7-49f9-a548-312cf8d8c49e",
   "metadata": {},
   "outputs": [
    {
     "name": "stdout",
     "output_type": "stream",
     "text": [
      "/Users/francescar/Documents/ai-starter-kit/integrations/llama_stack/notebooks\n",
      "\u001b[32mUser> Sending image for analysis...\u001b[0m\n",
      "\u001b[0m\n"
     ]
    }
   ],
   "source": [
    "# Initialize client and process image\n",
    "async def main(stream: bool):\n",
    "    # Initialize client\n",
    "    client = LlamaStackClient(\n",
    "        base_url=f\"http://localhost:{os.environ['LLAMA_STACK_PORT']}\",\n",
    "    )\n",
    "\n",
    "    # Process image\n",
    "    print(os.getcwd())\n",
    "    await process_image(client, \"../../../images/SambaNova-dark-logo-1.png\", stream)\n",
    "\n",
    "\n",
    "# Execute the main function\n",
    "await main(stream=True)"
   ]
  }
 ],
 "metadata": {
  "kernelspec": {
   "display_name": "llamastackenv",
   "language": "python",
   "name": "python3"
  },
  "language_info": {
   "codemirror_mode": {
    "name": "ipython",
    "version": 3
   },
   "file_extension": ".py",
   "mimetype": "text/x-python",
   "name": "python",
   "nbconvert_exporter": "python",
   "pygments_lexer": "ipython3",
   "version": "3.11.3"
  }
 },
 "nbformat": 4,
 "nbformat_minor": 5
}
