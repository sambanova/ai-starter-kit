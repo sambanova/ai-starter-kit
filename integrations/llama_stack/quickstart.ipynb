{
 "cells": [
  {
   "cell_type": "markdown",
   "metadata": {},
   "source": [
    "# Quickstart"
   ]
  },
  {
   "cell_type": "code",
   "execution_count": 9,
   "metadata": {},
   "outputs": [],
   "source": [
    "# Imports\n",
    "import os\n",
    "import sys"
   ]
  },
  {
   "cell_type": "code",
   "execution_count": null,
   "metadata": {},
   "outputs": [],
   "source": [
    "def create_http_client():\n",
    "    \"\"\"Create HTTP client\"\"\"\n",
    "    \n",
    "    from llama_stack_client import LlamaStackClient\n",
    "\n",
    "    return LlamaStackClient(base_url=f\"http://localhost:{os.environ['LLAMA_STACK_PORT']}\")"
   ]
  },
  {
   "cell_type": "code",
   "execution_count": 11,
   "metadata": {},
   "outputs": [
    {
     "name": "stdout",
     "output_type": "stream",
     "text": [
      "--- Available models: ---\n",
      "- Llama-3.2-11B-Vision-Instruct\n",
      "- Llama-3.2-90B-Vision-Instruct\n",
      "- Meta-Llama-3.1-405B-Instruct\n",
      "- Meta-Llama-3.1-70B-Instruct\n",
      "- Meta-Llama-3.1-8B-Instruct\n",
      "- Meta-Llama-3.2-1B-Instruct\n",
      "- Meta-Llama-3.2-3B-Instruct\n",
      "- Meta-Llama-3.3-70B-Instruct\n",
      "- Meta-Llama-Guard-3-8B\n",
      "- all-MiniLM-L6-v2\n",
      "- meta-llama/Llama-3.1-405B-Instruct-FP8\n",
      "- meta-llama/Llama-3.1-70B-Instruct\n",
      "- meta-llama/Llama-3.1-8B-Instruct\n",
      "- meta-llama/Llama-3.2-11B-Vision-Instruct\n",
      "- meta-llama/Llama-3.2-1B-Instruct\n",
      "- meta-llama/Llama-3.2-3B-Instruct\n",
      "- meta-llama/Llama-3.2-90B-Vision-Instruct\n",
      "- meta-llama/Llama-3.3-70B-Instruct\n",
      "- meta-llama/Llama-Guard-3-8B\n",
      "- sambanova/Llama-3.2-11B-Vision-Instruct\n",
      "- sambanova/Llama-3.2-90B-Vision-Instruct\n",
      "- sambanova/Meta-Llama-3.1-405B-Instruct\n",
      "- sambanova/Meta-Llama-3.1-70B-Instruct\n",
      "- sambanova/Meta-Llama-3.1-8B-Instruct\n",
      "- sambanova/Meta-Llama-3.2-1B-Instruct\n",
      "- sambanova/Meta-Llama-3.2-3B-Instruct\n",
      "- sambanova/Meta-Llama-3.3-70B-Instruct\n",
      "- sambanova/Meta-Llama-Guard-3-8B\n",
      "\n"
     ]
    }
   ],
   "source": [
    "# Create HTTP client\n",
    "client = create_http_client()\n",
    "\n",
    "# List available models\n",
    "models = client.models.list()\n",
    "print('--- Available models: ---')\n",
    "for m in models:\n",
    "    print(f'- {m.identifier}')\n",
    "print()"
   ]
  },
  {
   "cell_type": "code",
   "execution_count": 12,
   "metadata": {},
   "outputs": [],
   "source": [
    "# Choose an inference model from the previous list\n",
    "inference_model = \"sambanova/Meta-Llama-3.2-3B-Instruct\""
   ]
  },
  {
   "cell_type": "code",
   "execution_count": 8,
   "metadata": {},
   "outputs": [
    {
     "name": "stdout",
     "output_type": "stream",
     "text": [
      "Lines of code descend\n",
      "Logic's gentle, guiding hand\n",
      "Beauty in the code\n"
     ]
    }
   ],
   "source": [
    "# Chat completion\n",
    "response = client.inference.chat_completion(\n",
    "    model_id=inference_model,\n",
    "    messages=[\n",
    "        {'role': 'system', 'content': 'You are a helpful assistant.'},\n",
    "        {'role': 'user', 'content': 'Write a haiku about coding'},\n",
    "    ],\n",
    ")\n",
    "print(response.completion_message.content)\n"
   ]
  }
 ],
 "metadata": {
  "kernelspec": {
   "display_name": "llamastackenv",
   "language": "python",
   "name": "python3"
  },
  "language_info": {
   "codemirror_mode": {
    "name": "ipython",
    "version": 3
   },
   "file_extension": ".py",
   "mimetype": "text/x-python",
   "name": "python",
   "nbconvert_exporter": "python",
   "pygments_lexer": "ipython3",
   "version": "3.11.3"
  }
 },
 "nbformat": 4,
 "nbformat_minor": 2
}
