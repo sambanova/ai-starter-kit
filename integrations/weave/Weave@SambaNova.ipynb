import litellm

# Initialize Weave project
weave.init('weave_integration_sambanova_litellm')
model_litellm = 'sambanova/' + model
