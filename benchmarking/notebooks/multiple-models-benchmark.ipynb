{
 "cells": [
  {
   "cell_type": "code",
   "execution_count": null,
   "metadata": {},
   "outputs": [],
   "source": [
    "import json\n",
    "import os\n",
    "import sys\n",
    "\n",
    "sys.path.append('../')\n",
    "sys.path.append('../../')\n",
    "sys.path.append('../src')\n",
    "sys.path.append('../prompts')\n",
    "sys.path.append('../src/llmperf')"
   ]
  },
  {
   "cell_type": "markdown",
   "metadata": {},
   "source": [
    "# Run multiple models through the benchmarking process"
   ]
  },
  {
   "cell_type": "code",
   "execution_count": null,
   "metadata": {},
   "outputs": [],
   "source": [
    "results_dir = '../data/results/samsung_switching_time/20250507-194050.002042'"
   ]
  },
  {
   "cell_type": "markdown",
   "metadata": {},
   "source": [
    "# Analyze metrics through models"
   ]
  },
  {
   "cell_type": "code",
   "execution_count": null,
   "metadata": {},
   "outputs": [],
   "source": [
    "import pandas as pd\n",
    "import matplotlib.pyplot as plt\n",
    "import seaborn as sns\n",
    "import numpy as np\n",
    "\n",
    "from benchmarking.utils import read_perf_eval_json_files"
   ]
  },
  {
   "cell_type": "markdown",
   "metadata": {},
   "source": [
    "## Read the input json file"
   ]
  },
  {
   "cell_type": "code",
   "execution_count": null,
   "metadata": {},
   "outputs": [],
   "source": [
    "df = read_perf_eval_json_files(results_dir, type='summary')\n",
    "df = df.set_index(['num_input_tokens','num_output_tokens','num_concurrent_requests'])\n",
    "df.head(10)"
   ]
  },
  {
   "cell_type": "code",
   "execution_count": null,
   "metadata": {},
   "outputs": [],
   "source": [
    "import matplotlib.pyplot as plt\n",
    "import seaborn as sns\n",
    "import numpy as np\n",
    "\n",
    "def plot_benchmarking_data(df, ycol, ylabel):\n",
    "    df = df.reset_index()\n",
    "    # Create a new column combining 'in' and 'out' into a single legend label\n",
    "    df['in_out'] = df.apply(lambda row: f\"({row['num_input_tokens']}, {row['num_output_tokens']})\", axis=1)\n",
    "\n",
    "    plt.figure(figsize=(8, 5))\n",
    "    \n",
    "    # Plot main performance metric\n",
    "    sns.lineplot(data=df, x='num_concurrent_requests', y=ycol, hue='in_out', marker='o', linewidth=2)\n",
    "    \n",
    "    # Plot client_output_token_per_sec as a dashed line\n",
    "    if ycol=='output_token_per_s_p50' and 'client_output_token_per_s_p50' in df.columns:\n",
    "        sns.lineplot(data=df, x='num_concurrent_requests', y='client_output_token_per_s_p50', hue='in_out', \n",
    "                     marker='o', linestyle='dashed', alpha=0.6)\n",
    "    \n",
    "    # Set x-axis to log2 scale\n",
    "    plt.xscale(\"log\", base=2)\n",
    "    \n",
    "    # Customize x-axis ticks to show real numbers instead of 2^n notation\n",
    "    xticks = sorted(df['num_concurrent_requests'].unique())\n",
    "    plt.xticks(xticks, labels=[str(x) for x in xticks])\n",
    "    \n",
    "    # Labels and title\n",
    "    plt.xlabel(\"Concurrency [log2 scale]\")\n",
    "    plt.ylabel(ylabel)\n",
    "    if ycol=='output_token_per_s_p50':\n",
    "        plt.title(\"Performance for Different (in, out) Token Combinations\\n(Solid = Server, Dashed = Client)\")\n",
    "    else:\n",
    "        plt.title(\"Performance for Different (in, out) Token Combinations\")\n",
    "    \n",
    "    plt.legend(title=\"(in, out)\", bbox_to_anchor=(1.05, 1), loc=\"upper left\")\n",
    "    plt.grid(True, which=\"both\", linestyle=\"--\")\n",
    "    \n",
    "    plt.show();"
   ]
  },
  {
   "cell_type": "code",
   "execution_count": null,
   "metadata": {},
   "outputs": [],
   "source": [
    "plot_benchmarking_data(df, 'server_output_token_per_s_p50', 'Output Tokens per Second per Request (median)')\n",
    "plot_benchmarking_data(df, 'server_ttft_s_p50', 'Server Time to First Token')\n",
    "plot_benchmarking_data(df, 'client_ttft_s_p50', 'Client Time to First Token')\n",
    "plot_benchmarking_data(df, 'client_total_output_throughput', 'E2E Token Throughput per Sec')\n"
   ]
  },
  {
   "cell_type": "markdown",
   "metadata": {},
   "source": [
    "# Analyze switching time\n",
    "\n",
    "__Note:__ This analysis will work if a Bundle endpoint is used. Users will be able to test and compare performance metrics for different experts."
   ]
  },
  {
   "cell_type": "code",
   "execution_count": null,
   "metadata": {},
   "outputs": [],
   "source": [
    "# post processing individual request json files\n",
    "def read_json_files_to_df(directory: str) -> pd.DataFrame:\n",
    "    data = []\n",
    "\n",
    "    # Iterate through all files in the directory\n",
    "    for filename in os.listdir(directory):\n",
    "        if filename.endswith('individual_responses.json'):\n",
    "            model_name = '_'.join(filename.split('_')[2:3])\n",
    "            file_path = os.path.join(directory, filename)\n",
    "            # Read the JSON file\n",
    "            with open(file_path, 'r') as file:\n",
    "                json_data = json.load(file)\n",
    "\n",
    "                # Extract relevant fields from each JSON object and append to the data list\n",
    "                for item in json_data:\n",
    "                    if pd.isnull(item['error_code']):\n",
    "                        data.append(\n",
    "                            {\n",
    "                                'start_time': item['start_time'],\n",
    "                                'end_time': item['end_time'],\n",
    "                                'server_ttft_s': item['server_ttft_s'],\n",
    "                                'model_name': model_name,\n",
    "                            }\n",
    "                        )\n",
    "\n",
    "    # Create a DataFrame from the data list\n",
    "    df = pd.DataFrame(data)\n",
    "    return df\n",
    "\n",
    "# Get the DataFrame\n",
    "df = read_json_files_to_df(results_dir)\n",
    "\n",
    "# transforming str to date time for sorting\n",
    "df['start_time'] = pd.to_datetime(df['start_time'])\n",
    "df = df.sort_values(by=['start_time'])\n",
    "\n",
    "# transforming back to str for plotting\n",
    "df['start_time'] = df['start_time'].dt.strftime(date_format='%H:%M:%S')\n",
    "df"
   ]
  },
  {
   "cell_type": "code",
   "execution_count": null,
   "metadata": {},
   "outputs": [],
   "source": [
    "# Initialize a column for the switching time\n",
    "df['server_switching_time'] = None\n",
    "\n",
    "# Group by model_name\n",
    "grouped = df.groupby('model_name')\n",
    "\n",
    "# Iterate through each group to calculate switching time\n",
    "for name, group in grouped:\n",
    "    if len(group) > 1:\n",
    "        first_ttft = group['server_ttft_s'].iloc[0]\n",
    "        mean_ttft = group['server_ttft_s'].iloc[1:].mean()\n",
    "        std_ttft = group['server_ttft_s'].iloc[1:].std()\n",
    "        std_ttft = 1e-16 if np.isnan(std_ttft) else std_ttft\n",
    "        switching_time = first_ttft - mean_ttft\n",
    "        if switching_time > (mean_ttft + 3 * std_ttft):\n",
    "            df.loc[group.index[0], 'server_switching_time'] = switching_time\n",
    "        else:\n",
    "            None\n",
    "    else:\n",
    "        df.loc[group.index[0], 'server_switching_time'] = None\n",
    "\n",
    "# with pd.option_context(\n",
    "#     'display.max_rows',\n",
    "#     None,\n",
    "# ):\n",
    "#     display(df)"
   ]
  },
  {
   "cell_type": "code",
   "execution_count": null,
   "metadata": {},
   "outputs": [],
   "source": [
    "# Create a scatter plot\n",
    "plt.figure(figsize=(40, 12))\n",
    "sns.scatterplot(x='start_time', y='server_ttft_s', hue='model_name', data=df, s=100, alpha=0.7)\n",
    "\n",
    "# Identify and plot the first datapoint for each model_name with a red color and bold marker\n",
    "first_points = df.groupby('model_name').first().reset_index()\n",
    "plt.scatter(\n",
    "    first_points['start_time'],\n",
    "    first_points['server_ttft_s'],\n",
    "    color='red',\n",
    "    s=150,\n",
    "    edgecolor='black',\n",
    "    linewidth=2,\n",
    "    label='First TTFT',\n",
    ")\n",
    "\n",
    "# Customize the plot\n",
    "plt.title('Scatter Plot of server_ttft_s Over Time by Model Name')\n",
    "plt.xlabel('Start Time')\n",
    "plt.ylabel('Server TTFT (s)')\n",
    "plt.legend(title='Model Name', loc='upper left')\n",
    "plt.xticks(rotation='vertical')\n",
    "plt.grid(True)\n",
    "plt.tight_layout()\n",
    "\n",
    "# Show the plot\n",
    "plt.show()"
   ]
  },
  {
   "cell_type": "code",
   "execution_count": null,
   "metadata": {},
   "outputs": [],
   "source": []
  }
 ],
 "metadata": {
  "kernelspec": {
   "display_name": "benchmarking_venv",
   "language": "python",
   "name": "benchmarking_venv"
  },
  "language_info": {
   "codemirror_mode": {
    "name": "ipython",
    "version": 3
   },
   "file_extension": ".py",
   "mimetype": "text/x-python",
   "name": "python",
   "nbconvert_exporter": "python",
   "pygments_lexer": "ipython3",
   "version": "3.11.11"
  }
 },
 "nbformat": 4,
 "nbformat_minor": 2
}
