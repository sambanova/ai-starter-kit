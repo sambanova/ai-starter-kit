{
 "cells": [
  {
   "cell_type": "code",
   "execution_count": null,
   "metadata": {},
   "outputs": [],
   "source": [
    "import sys\n",
    "sys.path.append(\"../\")\n",
    "sys.path.append(\"../src\")\n",
    "sys.path.append(\"../prompts\")\n",
    "sys.path.append(\"../src/llmperf\")\n",
    "\n",
    "import pandas as pd\n",
    "\n",
    "from src.performance_evaluation import SyntheticPerformanceEvaluator\n",
    "from src.llmperf import utils"
   ]
  },
  {
   "cell_type": "markdown",
   "metadata": {},
   "source": [
    "# Run multiple models through the benchmarking process"
   ]
  },
  {
   "cell_type": "markdown",
   "metadata": {},
   "source": [
    "__Note:__ This analysis will work if a COE endpoint is used. Users will be able to test and compare performance metrics for different experts."
   ]
  },
  {
   "cell_type": "code",
   "execution_count": null,
   "metadata": {},
   "outputs": [],
   "source": [
    "model_names = [\"llama3-8b\", \"llama3-70b\", \"llama3-405b\"]\n",
    "results_dir = \"../data/results/multiple_models\"\n",
    "num_workers = 1\n",
    "timeout = 600\n",
    "num_input_tokens = 1000\n",
    "num_output_tokens = 1000\n",
    "num_requests = 1 \n",
    "sampling_params={}\n",
    "user_metadata={}\n",
    "llm_api=\"sncloud\""
   ]
  },
  {
   "cell_type": "code",
   "execution_count": null,
   "metadata": {},
   "outputs": [],
   "source": [
    "df_all_summary_results = pd.DataFrame()\n",
    "for model_name in model_names:\n",
    "    # Instantiate evaluator\n",
    "    evaluator = SyntheticPerformanceEvaluator(\n",
    "        model_name=model_name,\n",
    "        results_dir=results_dir,\n",
    "        num_workers=num_workers,\n",
    "        timeout=timeout,\n",
    "        user_metadata=user_metadata,\n",
    "        llm_api=llm_api\n",
    "    )\n",
    "\n",
    "    # Run performance evaluation\n",
    "    model_results_summary, model_results_per_request = evaluator.run_benchmark(\n",
    "        num_input_tokens=num_input_tokens,\n",
    "        num_output_tokens=num_output_tokens,\n",
    "        num_requests=num_requests,\n",
    "        sampling_params=sampling_params\n",
    "    )\n",
    "    \n",
    "    flatten_model_results_summary = utils.flatten_dict(model_results_summary)\n",
    "    filtered_flatten_model_results_summary = {key: value for key, value in flatten_model_results_summary.items() if key not in [\"model\"]}\n",
    "    df_model_results_summary = pd.DataFrame.from_dict(filtered_flatten_model_results_summary, orient='index', columns=[flatten_model_results_summary[\"model\"]])\n",
    "    \n",
    "    df_all_summary_results = pd.concat([df_all_summary_results, df_model_results_summary], axis=1)"
   ]
  },
  {
   "cell_type": "markdown",
   "metadata": {},
   "source": [
    "# Analyze collected results"
   ]
  },
  {
   "cell_type": "code",
   "execution_count": null,
   "metadata": {},
   "outputs": [],
   "source": [
    "with pd.option_context('display.max_rows', None):\n",
    "    display(df_all_summary_results)"
   ]
  },
  {
   "cell_type": "code",
   "execution_count": null,
   "metadata": {},
   "outputs": [],
   "source": []
  }
 ],
 "metadata": {
  "kernelspec": {
   "display_name": ".venv",
   "language": "python",
   "name": "python3"
  },
  "language_info": {
   "codemirror_mode": {
    "name": "ipython",
    "version": 3
   },
   "file_extension": ".py",
   "mimetype": "text/x-python",
   "name": "python",
   "nbconvert_exporter": "python",
   "pygments_lexer": "ipython3",
   "version": "3.11.9"
  }
 },
 "nbformat": 4,
 "nbformat_minor": 2
}
