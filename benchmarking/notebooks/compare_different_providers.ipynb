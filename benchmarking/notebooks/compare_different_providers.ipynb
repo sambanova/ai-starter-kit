{
 "cells": [
  {
   "cell_type": "code",
   "execution_count": null,
   "metadata": {},
   "outputs": [],
   "source": [
    "import sys\n",
    "\n",
    "sys.path.append('../')\n",
    "sys.path.append('../../')\n",
    "\n",
    "import matplotlib.pyplot as plt\n",
    "import pandas as pd\n",
    "import seaborn as sns\n",
    "from typing import List\n",
    "\n",
    "from benchmarking.utils import read_perf_eval_json_files\n",
    "\n",
    "import warnings\n",
    "warnings.filterwarnings('ignore')"
   ]
  },
  {
   "cell_type": "markdown",
   "metadata": {},
   "source": [
    "## Read benchmarking output files\n",
    "Responses with errors will be skipped."
   ]
  },
  {
   "cell_type": "code",
   "execution_count": null,
   "metadata": {},
   "outputs": [],
   "source": [
    "# Specify the paths to the results directories of each provider\n",
    "provider_results_dir_paths = [\n",
    "    '../data/results/llmperf/provider1',\n",
    "    '../data/results/llmperf/provider2',\n",
    "    '../data/results/llmperf/provider3',\n",
    "]"
   ]
  },
  {
   "cell_type": "code",
   "execution_count": null,
   "metadata": {},
   "outputs": [],
   "source": [
    "all_provider_responses: List[pd.DataFrame] = []\n",
    "\n",
    "for provide_path in provider_results_dir_paths:\n",
    "    provider_identifier = provide_path.split('/')[-1]\n",
    "    provider_responses = {\n",
    "        'provider': provider_identifier,\n",
    "        'responses': read_perf_eval_json_files(provide_path, type='summary')\n",
    "    }\n",
    "    all_provider_responses.append(provider_responses)"
   ]
  },
  {
   "cell_type": "code",
   "execution_count": null,
   "metadata": {},
   "outputs": [],
   "source": [
    "run_stats = []\n",
    "for provider_run in all_provider_responses:\n",
    "    df = provider_run['responses'].copy()\n",
    "    df['provider'] = provider_responses['provider']\n",
    "    first_columns = ['name','provider','model','num_input_tokens','num_output_tokens','num_concurrent_requests']\n",
    "    following_columns = [column for column in df.columns if column not in first_columns]\n",
    "    df = df[first_columns + following_columns]\n",
    "    run_stats.append(df)\n",
    "    \n",
    "results = pd.concat(run_stats)\n",
    "results.head()"
   ]
  },
  {
   "cell_type": "markdown",
   "metadata": {},
   "source": [
    "## Plot benchmarking charts among providers\n",
    "\n",
    "You may change the pallette color based on the color that better identifies each provider. You can take the [following link](https://seaborn.pydata.org/tutorial/color_palettes.html) as reference. Also, you will need to update the suptitle to reflect the model you're showing and any other detail. "
   ]
  },
  {
   "cell_type": "markdown",
   "metadata": {},
   "source": [
    "### TTFT"
   ]
  },
  {
   "cell_type": "code",
   "execution_count": null,
   "metadata": {},
   "outputs": [],
   "source": [
    "# Pallette for the providers, change colors and provider names as needed\n",
    "palette = {'provider1': 'orange', 'provider2': 'tab:purple', 'provider3': 'xkcd:blue'}\n",
    "\n",
    "# Get unique concurrent values\n",
    "concurrent_values = results['num_concurrent_requests'].unique()\n",
    "concurrent_values.sort()\n",
    "\n",
    "# Set up the figure and axes\n",
    "fig, axes = plt.subplots(len(concurrent_values), 1, figsize=(10, 5 * len(concurrent_values)), sharex=False)\n",
    "\n",
    "# Add a supertitle, it could be the model name\n",
    "fig.suptitle('<<Model_name>>', fontsize=20)\n",
    "\n",
    "# Plot each concurrent value\n",
    "for ax, concurrent in zip(axes, concurrent_values):\n",
    "    subset = results[results['num_concurrent_requests'] == concurrent]\n",
    "    sns.barplot(data=subset, x='num_input_tokens', y='client_ttft_s_p50', hue='provider', ax=ax, palette=palette, errorbar=None)\n",
    "    ax.set_title(f'Client TTFT (s) for Concurrent Requests: {concurrent}')\n",
    "    ax.set_xlabel('Input Tokens')\n",
    "    ax.set_ylabel('Client TTFT (s)')\n",
    "    ax.annotate('Note: A lower TTFT is better',\n",
    "            xy = (0.5, -0.2),\n",
    "            xycoords='axes fraction',\n",
    "            ha='center',\n",
    "            va=\"center\",\n",
    "            fontsize=10)\n",
    "\n",
    "plt.tight_layout()\n",
    "plt.show()"
   ]
  },
  {
   "cell_type": "markdown",
   "metadata": {},
   "source": [
    "### Latency"
   ]
  },
  {
   "cell_type": "code",
   "execution_count": null,
   "metadata": {},
   "outputs": [],
   "source": [
    "# Get unique concurrent values\n",
    "concurrent_values = results['num_concurrent_requests'].unique()\n",
    "concurrent_values.sort()\n",
    "\n",
    "# Set up the figure and axes\n",
    "fig, axes = plt.subplots(len(concurrent_values), 1, figsize=(10, 5 * len(concurrent_values)), sharex=False)\n",
    "\n",
    "# Add a supertitle, it could be the model name\n",
    "fig.suptitle('<<Model_name>>', fontsize=20)\n",
    "\n",
    "# Plot each concurrent value\n",
    "for ax, concurrent in zip(axes, concurrent_values):\n",
    "    subset = results[results['num_concurrent_requests'] == concurrent]\n",
    "    sns.barplot(data=subset, x='num_input_tokens', y='client_end_to_end_latency_s_p50', hue='provider', ax=ax, palette=palette, errorbar=None)\n",
    "    ax.set_title(f'Client E2E Latency (s) for Concurrent Requests: {concurrent}')\n",
    "    ax.set_xlabel('Input Tokens')\n",
    "    ax.set_ylabel('Client E2E Latency (s)')\n",
    "    ax.annotate('Note: A lower Latency is better',\n",
    "        xy = (0.5, -0.2),\n",
    "        xycoords='axes fraction',\n",
    "        ha='center',\n",
    "        va=\"center\",\n",
    "        fontsize=10)\n",
    "\n",
    "\n",
    "plt.tight_layout()\n",
    "plt.show()"
   ]
  },
  {
   "cell_type": "markdown",
   "metadata": {},
   "source": [
    "### Tokens / sec"
   ]
  },
  {
   "cell_type": "code",
   "execution_count": null,
   "metadata": {},
   "outputs": [],
   "source": [
    "# Get unique concurrent values\n",
    "concurrent_values = results['num_concurrent_requests'].unique()\n",
    "concurrent_values.sort()\n",
    "\n",
    "# Set up the figure and axes\n",
    "fig, axes = plt.subplots(len(concurrent_values), 1, figsize=(10, 5 * len(concurrent_values)), sharex=False)\n",
    "\n",
    "# Add a supertitle, it could be the model name\n",
    "fig.suptitle('<<Model_name>>', fontsize=20)\n",
    "\n",
    "# Plot each concurrent value\n",
    "for ax, concurrent in zip(axes, concurrent_values):\n",
    "    subset = results[results['num_concurrent_requests'] == concurrent]\n",
    "    sns.barplot(data=subset, x='num_input_tokens', y='client_output_token_per_s_p50', hue='provider', ax=ax, palette=palette, errorbar=None)\n",
    "    ax.set_title(f'Client Tokens/sec per request for Concurrent Requests: {concurrent}')\n",
    "    ax.set_xlabel('Input Tokens')\n",
    "    ax.set_ylabel('Client Tokens/sec per request')\n",
    "    ax.annotate('Note: higher Tokens/sec is better',\n",
    "        xy = (0.5, -0.2),\n",
    "        xycoords='axes fraction',\n",
    "        ha='center',\n",
    "        va=\"center\",\n",
    "        fontsize=10)\n",
    "\n",
    "\n",
    "plt.tight_layout()\n",
    "plt.show()"
   ]
  },
  {
   "cell_type": "markdown",
   "metadata": {},
   "source": [
    "### Throughput"
   ]
  },
  {
   "cell_type": "code",
   "execution_count": null,
   "metadata": {},
   "outputs": [],
   "source": [
    "# Get unique concurrent values\n",
    "concurrent_values = results['num_concurrent_requests'].unique()\n",
    "concurrent_values.sort()\n",
    "\n",
    "# Set up the figure and axes\n",
    "fig, axes = plt.subplots(len(concurrent_values), 1, figsize=(10, 5 * len(concurrent_values)), sharex=False)\n",
    "\n",
    "# Add a supertitle, it could be the model name\n",
    "fig.suptitle('<<Model_name>>', fontsize=20)\n",
    "\n",
    "# Plot each concurrent value\n",
    "results['client_throughput_median'] = results['num_concurrent_requests']*results['client_output_token_per_s_p50']\n",
    "for ax, concurrent in zip(axes, concurrent_values):\n",
    "    subset = results[results['num_concurrent_requests'] == concurrent]\n",
    "    sns.barplot(data=subset, x='num_input_tokens', y='client_throughput_median', hue='provider', ax=ax, palette=palette, errorbar=None)\n",
    "    ax.set_title(f'Client Throughput (tok/s) for Concurrent Requests: {concurrent}')\n",
    "    ax.set_xlabel('Input Tokens')\n",
    "    ax.set_ylabel('Client Throughput (tok/s)')\n",
    "    ax.annotate('Note: A higher Throughput is better',\n",
    "        xy = (0.5, -0.2),\n",
    "        xycoords='axes fraction',\n",
    "        ha='center',\n",
    "        va=\"center\",\n",
    "        fontsize=10)\n",
    "\n",
    "\n",
    "plt.tight_layout()\n",
    "plt.show()"
   ]
  },
  {
   "cell_type": "code",
   "execution_count": null,
   "metadata": {},
   "outputs": [],
   "source": []
  }
 ],
 "metadata": {
  "kernelspec": {
   "display_name": "benchmark_venv",
   "language": "python",
   "name": "benchmark_venv"
  },
  "language_info": {
   "codemirror_mode": {
    "name": "ipython",
    "version": 3
   },
   "file_extension": ".py",
   "mimetype": "text/x-python",
   "name": "python",
   "nbconvert_exporter": "python",
   "pygments_lexer": "ipython3",
   "version": "3.11.3"
  }
 },
 "nbformat": 4,
 "nbformat_minor": 2
}
