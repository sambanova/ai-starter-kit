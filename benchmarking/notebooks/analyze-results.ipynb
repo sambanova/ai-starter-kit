{
 "cells": [
  {
   "cell_type": "markdown",
   "id": "56950450",
   "metadata": {},
   "source": [
    "# Analyze responses\n",
    "The following is an example of the analysis that can be done on individual responses that are saved when running `token_benchmark_ray.py` with the flag `--results-dir` which enables the saving of all responses."
   ]
  },
  {
   "cell_type": "code",
   "execution_count": 1,
   "id": "dacfe98a-e81b-4089-9506-97a652993b5b",
   "metadata": {
    "tags": []
   },
   "outputs": [],
   "source": [
    "import pandas as pd\n",
    "from typing import List\n",
    "import plotly.graph_objects as go\n",
    "import numpy as np"
   ]
  },
  {
   "cell_type": "markdown",
   "id": "e5fd0e93",
   "metadata": {},
   "source": [
    "## Read the input json file"
   ]
  },
  {
   "cell_type": "code",
   "execution_count": 2,
   "id": "17f7abe9-ed9e-466c-b034-577489aaf98b",
   "metadata": {
    "tags": []
   },
   "outputs": [
    {
     "name": "stderr",
     "output_type": "stream",
     "text": [
      "/Users/amitk/Music/PublicRepos/ai-starter-kit/benchmarking/.venv/lib/python3.11/site-packages/pandas/core/tools/datetimes.py:557: RuntimeWarning: invalid value encountered in cast\n",
      "  arr, tz_parsed = tslib.array_with_unit_to_datetime(arg, unit, errors=errors)\n"
     ]
    }
   ],
   "source": [
    "# path to the individual responses json file\n",
    "df_user = pd.read_json(f'../data/ankur_softbank/synthetic_0_Meta-Llama-3-1-70B-Instruct_2048_128_256_stream_individual_responses.json')\n",
    "df_user = df_user[df_user['error_code'].isnull()]"
   ]
  },
  {
   "cell_type": "code",
   "execution_count": 3,
   "id": "bdb61de7",
   "metadata": {},
   "outputs": [],
   "source": [
    "# for non-batching endpoints, batch_size_used will be 1\n",
    "if df_user[\"batch_size_used\"].isnull().all():\n",
    "    df_user[\"batch_size_used\"] = 1"
   ]
  },
  {
   "cell_type": "markdown",
   "id": "d5328791",
   "metadata": {},
   "source": [
    "## Server vs client metrics\n",
    "Following charts show a comparison between server-side and client-side metrics across different performance metrics"
   ]
  },
  {
   "cell_type": "code",
   "execution_count": 4,
   "id": "2707495e",
   "metadata": {},
   "outputs": [],
   "source": [
    "def plot_client_vs_server_barplots(df_user: pd.DataFrame, x_col: str, y_cols: List[str], legend_labels: List[str], title: str, ylabel: str, xlabel: str) -> None:\n",
    "    \"\"\"\n",
    "    Plots bar plots for client vs server metrics from a DataFrame.\n",
    "\n",
    "    Args:\n",
    "        df_user (pd.DataFrame): The DataFrame containing the data to plot.\n",
    "        x_col (str): The column name to be used as the x-axis.\n",
    "        y_cols (List[str]): A list of column names to be used as the y-axis.\n",
    "        legend_labels (List[str]): Human-readable labels for each grouping in y_cols.\n",
    "        title (str): The title of the plot.\n",
    "        ylabel (str): The label for the y-axis.\n",
    "        xlabel (str): The label for the x-axis.\n",
    "\n",
    "    Returns:\n",
    "        fig (go.Figure): The plotly figure container\n",
    "    \"\"\"    \n",
    "    value_vars = y_cols\n",
    "    title_text = title\n",
    "    yaxis_title = ylabel\n",
    "    xaxis_title = xlabel\n",
    "\n",
    "    df_melted = df_user.melt(\n",
    "        id_vars=[x_col], \n",
    "        value_vars=value_vars, \n",
    "        var_name='Metric', \n",
    "        value_name='Value',\n",
    "    )\n",
    "    xgroups = [str(x) for x in sorted(pd.unique(df_melted[x_col]))]\n",
    "    df_melted[x_col] = [str(x) for x in df_melted[x_col]]\n",
    "\n",
    "    valsl = {}\n",
    "    valsr = {}\n",
    "    for i in xgroups:\n",
    "        maskl = (df_melted[\"Metric\"] == value_vars[0]) & (df_melted[x_col] == i)\n",
    "        valsl[i] = np.percentile(df_melted[\"Value\"][maskl], [5, 50, 95])\n",
    "        maskr = (df_melted[\"Metric\"] == value_vars[1]) & (df_melted[x_col] == i)\n",
    "        valsr[i] = np.percentile(df_melted[\"Value\"][maskr], [5, 50, 95])\n",
    "\n",
    "    fig = go.Figure()\n",
    "    fig.add_trace(\n",
    "        go.Bar(\n",
    "            x = xgroups,\n",
    "            y = [0 for _ in xgroups],\n",
    "            base = [valsl[i][1] for i in xgroups],\n",
    "            customdata=[legend_labels[0] for _ in xgroups],\n",
    "            marker={\"color\":\"#325c8c\",\"line\":{\"color\":\"#325c8c\", \"width\":2}},\n",
    "            offsetgroup=0,\n",
    "            legendgroup=legend_labels[0],\n",
    "            name=legend_labels[0],\n",
    "            showlegend=False,\n",
    "            hovertemplate=\"<extra></extra><b>%{customdata}</b> median: %{base:.2f}\",\n",
    "        )\n",
    "    )\n",
    "    fig.add_trace(\n",
    "        go.Bar(\n",
    "            x = xgroups,\n",
    "            y = [valsl[i][2] - valsl[i][0] for i in xgroups],\n",
    "            base = [valsl[i][0] for i in xgroups],\n",
    "            customdata = [valsl[i][2] for i in xgroups],\n",
    "            marker={\"color\":\"#325c8c\"},\n",
    "            opacity=0.5,\n",
    "            offsetgroup=0,\n",
    "            legendgroup=legend_labels[0],\n",
    "            name=legend_labels[0],\n",
    "            hovertemplate=\"<extra></extra>5–95 pctile range: %{base:.2f}–%{customdata:.2f}\",\n",
    "        )\n",
    "    )\n",
    "    fig.add_trace(\n",
    "        go.Bar(\n",
    "            x = xgroups,\n",
    "            y= [0 for _ in xgroups],\n",
    "            base = [valsr[i][1] for i in xgroups],\n",
    "            customdata=[legend_labels[1] for _ in xgroups],\n",
    "            marker={\"color\":\"#ee7625\",\"line\":{\"color\":\"#ee7625\", \"width\":2}},\n",
    "            offsetgroup=1,\n",
    "            legendgroup=legend_labels[1],\n",
    "            name=legend_labels[1],\n",
    "            showlegend=False,\n",
    "            hovertemplate=\"<extra></extra><b>%{customdata}</b> median: %{base:.2f}\",\n",
    "        )\n",
    "    )\n",
    "    fig.add_trace(\n",
    "        go.Bar(\n",
    "            x = xgroups,\n",
    "            y = [valsr[i][2] - valsr[i][0] for i in xgroups],\n",
    "            base = [valsr[i][0] for i in xgroups],\n",
    "            customdata = [valsr[i][2] for i in xgroups],\n",
    "            marker={\"color\":\"#ee7625\"},\n",
    "            opacity=0.5,\n",
    "            offsetgroup=1,\n",
    "            legendgroup=legend_labels[1],\n",
    "            name=legend_labels[1],\n",
    "            hovertemplate=\"<extra></extra>5–95 pctile range: %{base:.2f}–%{customdata:.2f}\",\n",
    "        )\n",
    "    )\n",
    "\n",
    "    fig.update_layout(\n",
    "        title_text=title_text,\n",
    "        xaxis_title=xaxis_title,\n",
    "        yaxis_title=yaxis_title,\n",
    "        barmode=\"group\",\n",
    "        template=\"plotly_dark\",\n",
    "        hovermode=\"x unified\",\n",
    "    )\n",
    "\n",
    "    fig.update_xaxes(hoverformat=\"foo\")\n",
    "    return fig"
   ]
  },
  {
   "cell_type": "code",
   "execution_count": 5,
   "id": "add96f73",
   "metadata": {},
   "outputs": [
    {
     "data": {
      "application/vnd.plotly.v1+json": {
       "config": {
        "plotlyServerURL": "https://plot.ly"
       },
       "data": [
        {
         "base": [
          165.82942261306596
         ],
         "customdata": [
          "Server"
         ],
         "hovertemplate": "<extra></extra><b>%{customdata}</b> median: %{base:.2f}",
         "legendgroup": "Server",
         "marker": {
          "color": "#325c8c",
          "line": {
           "color": "#325c8c",
           "width": 2
          }
         },
         "name": "Server",
         "offsetgroup": "0",
         "showlegend": false,
         "type": "bar",
         "x": [
          "1"
         ],
         "y": [
          0
         ]
        },
        {
         "base": [
          159.19227203574468
         ],
         "customdata": [
          175.5303490451978
         ],
         "hovertemplate": "<extra></extra>5–95 pctile range: %{base:.2f}–%{customdata:.2f}",
         "legendgroup": "Server",
         "marker": {
          "color": "#325c8c"
         },
         "name": "Server",
         "offsetgroup": "0",
         "opacity": 0.5,
         "type": "bar",
         "x": [
          "1"
         ],
         "y": [
          16.338077009453116
         ]
        },
        {
         "base": [
          172.13620307229144
         ],
         "customdata": [
          "Client"
         ],
         "hovertemplate": "<extra></extra><b>%{customdata}</b> median: %{base:.2f}",
         "legendgroup": "Client",
         "marker": {
          "color": "#ee7625",
          "line": {
           "color": "#ee7625",
           "width": 2
          }
         },
         "name": "Client",
         "offsetgroup": "1",
         "showlegend": false,
         "type": "bar",
         "x": [
          "1"
         ],
         "y": [
          0
         ]
        },
        {
         "base": [
          162.71873498588997
         ],
         "customdata": [
          186.62235661192804
         ],
         "hovertemplate": "<extra></extra>5–95 pctile range: %{base:.2f}–%{customdata:.2f}",
         "legendgroup": "Client",
         "marker": {
          "color": "#ee7625"
         },
         "name": "Client",
         "offsetgroup": "1",
         "opacity": 0.5,
         "type": "bar",
         "x": [
          "1"
         ],
         "y": [
          23.903621626038074
         ]
        }
       ],
       "layout": {
        "barmode": "group",
        "hovermode": "x unified",
        "template": {
         "data": {
          "bar": [
           {
            "error_x": {
             "color": "#f2f5fa"
            },
            "error_y": {
             "color": "#f2f5fa"
            },
            "marker": {
             "line": {
              "color": "rgb(17,17,17)",
              "width": 0.5
             },
             "pattern": {
              "fillmode": "overlay",
              "size": 10,
              "solidity": 0.2
             }
            },
            "type": "bar"
           }
          ],
          "barpolar": [
           {
            "marker": {
             "line": {
              "color": "rgb(17,17,17)",
              "width": 0.5
             },
             "pattern": {
              "fillmode": "overlay",
              "size": 10,
              "solidity": 0.2
             }
            },
            "type": "barpolar"
           }
          ],
          "carpet": [
           {
            "aaxis": {
             "endlinecolor": "#A2B1C6",
             "gridcolor": "#506784",
             "linecolor": "#506784",
             "minorgridcolor": "#506784",
             "startlinecolor": "#A2B1C6"
            },
            "baxis": {
             "endlinecolor": "#A2B1C6",
             "gridcolor": "#506784",
             "linecolor": "#506784",
             "minorgridcolor": "#506784",
             "startlinecolor": "#A2B1C6"
            },
            "type": "carpet"
           }
          ],
          "choropleth": [
           {
            "colorbar": {
             "outlinewidth": 0,
             "ticks": ""
            },
            "type": "choropleth"
           }
          ],
          "contour": [
           {
            "colorbar": {
             "outlinewidth": 0,
             "ticks": ""
            },
            "colorscale": [
             [
              0,
              "#0d0887"
             ],
             [
              0.1111111111111111,
              "#46039f"
             ],
             [
              0.2222222222222222,
              "#7201a8"
             ],
             [
              0.3333333333333333,
              "#9c179e"
             ],
             [
              0.4444444444444444,
              "#bd3786"
             ],
             [
              0.5555555555555556,
              "#d8576b"
             ],
             [
              0.6666666666666666,
              "#ed7953"
             ],
             [
              0.7777777777777778,
              "#fb9f3a"
             ],
             [
              0.8888888888888888,
              "#fdca26"
             ],
             [
              1,
              "#f0f921"
             ]
            ],
            "type": "contour"
           }
          ],
          "contourcarpet": [
           {
            "colorbar": {
             "outlinewidth": 0,
             "ticks": ""
            },
            "type": "contourcarpet"
           }
          ],
          "heatmap": [
           {
            "colorbar": {
             "outlinewidth": 0,
             "ticks": ""
            },
            "colorscale": [
             [
              0,
              "#0d0887"
             ],
             [
              0.1111111111111111,
              "#46039f"
             ],
             [
              0.2222222222222222,
              "#7201a8"
             ],
             [
              0.3333333333333333,
              "#9c179e"
             ],
             [
              0.4444444444444444,
              "#bd3786"
             ],
             [
              0.5555555555555556,
              "#d8576b"
             ],
             [
              0.6666666666666666,
              "#ed7953"
             ],
             [
              0.7777777777777778,
              "#fb9f3a"
             ],
             [
              0.8888888888888888,
              "#fdca26"
             ],
             [
              1,
              "#f0f921"
             ]
            ],
            "type": "heatmap"
           }
          ],
          "heatmapgl": [
           {
            "colorbar": {
             "outlinewidth": 0,
             "ticks": ""
            },
            "colorscale": [
             [
              0,
              "#0d0887"
             ],
             [
              0.1111111111111111,
              "#46039f"
             ],
             [
              0.2222222222222222,
              "#7201a8"
             ],
             [
              0.3333333333333333,
              "#9c179e"
             ],
             [
              0.4444444444444444,
              "#bd3786"
             ],
             [
              0.5555555555555556,
              "#d8576b"
             ],
             [
              0.6666666666666666,
              "#ed7953"
             ],
             [
              0.7777777777777778,
              "#fb9f3a"
             ],
             [
              0.8888888888888888,
              "#fdca26"
             ],
             [
              1,
              "#f0f921"
             ]
            ],
            "type": "heatmapgl"
           }
          ],
          "histogram": [
           {
            "marker": {
             "pattern": {
              "fillmode": "overlay",
              "size": 10,
              "solidity": 0.2
             }
            },
            "type": "histogram"
           }
          ],
          "histogram2d": [
           {
            "colorbar": {
             "outlinewidth": 0,
             "ticks": ""
            },
            "colorscale": [
             [
              0,
              "#0d0887"
             ],
             [
              0.1111111111111111,
              "#46039f"
             ],
             [
              0.2222222222222222,
              "#7201a8"
             ],
             [
              0.3333333333333333,
              "#9c179e"
             ],
             [
              0.4444444444444444,
              "#bd3786"
             ],
             [
              0.5555555555555556,
              "#d8576b"
             ],
             [
              0.6666666666666666,
              "#ed7953"
             ],
             [
              0.7777777777777778,
              "#fb9f3a"
             ],
             [
              0.8888888888888888,
              "#fdca26"
             ],
             [
              1,
              "#f0f921"
             ]
            ],
            "type": "histogram2d"
           }
          ],
          "histogram2dcontour": [
           {
            "colorbar": {
             "outlinewidth": 0,
             "ticks": ""
            },
            "colorscale": [
             [
              0,
              "#0d0887"
             ],
             [
              0.1111111111111111,
              "#46039f"
             ],
             [
              0.2222222222222222,
              "#7201a8"
             ],
             [
              0.3333333333333333,
              "#9c179e"
             ],
             [
              0.4444444444444444,
              "#bd3786"
             ],
             [
              0.5555555555555556,
              "#d8576b"
             ],
             [
              0.6666666666666666,
              "#ed7953"
             ],
             [
              0.7777777777777778,
              "#fb9f3a"
             ],
             [
              0.8888888888888888,
              "#fdca26"
             ],
             [
              1,
              "#f0f921"
             ]
            ],
            "type": "histogram2dcontour"
           }
          ],
          "mesh3d": [
           {
            "colorbar": {
             "outlinewidth": 0,
             "ticks": ""
            },
            "type": "mesh3d"
           }
          ],
          "parcoords": [
           {
            "line": {
             "colorbar": {
              "outlinewidth": 0,
              "ticks": ""
             }
            },
            "type": "parcoords"
           }
          ],
          "pie": [
           {
            "automargin": true,
            "type": "pie"
           }
          ],
          "scatter": [
           {
            "marker": {
             "line": {
              "color": "#283442"
             }
            },
            "type": "scatter"
           }
          ],
          "scatter3d": [
           {
            "line": {
             "colorbar": {
              "outlinewidth": 0,
              "ticks": ""
             }
            },
            "marker": {
             "colorbar": {
              "outlinewidth": 0,
              "ticks": ""
             }
            },
            "type": "scatter3d"
           }
          ],
          "scattercarpet": [
           {
            "marker": {
             "colorbar": {
              "outlinewidth": 0,
              "ticks": ""
             }
            },
            "type": "scattercarpet"
           }
          ],
          "scattergeo": [
           {
            "marker": {
             "colorbar": {
              "outlinewidth": 0,
              "ticks": ""
             }
            },
            "type": "scattergeo"
           }
          ],
          "scattergl": [
           {
            "marker": {
             "line": {
              "color": "#283442"
             }
            },
            "type": "scattergl"
           }
          ],
          "scattermapbox": [
           {
            "marker": {
             "colorbar": {
              "outlinewidth": 0,
              "ticks": ""
             }
            },
            "type": "scattermapbox"
           }
          ],
          "scatterpolar": [
           {
            "marker": {
             "colorbar": {
              "outlinewidth": 0,
              "ticks": ""
             }
            },
            "type": "scatterpolar"
           }
          ],
          "scatterpolargl": [
           {
            "marker": {
             "colorbar": {
              "outlinewidth": 0,
              "ticks": ""
             }
            },
            "type": "scatterpolargl"
           }
          ],
          "scatterternary": [
           {
            "marker": {
             "colorbar": {
              "outlinewidth": 0,
              "ticks": ""
             }
            },
            "type": "scatterternary"
           }
          ],
          "surface": [
           {
            "colorbar": {
             "outlinewidth": 0,
             "ticks": ""
            },
            "colorscale": [
             [
              0,
              "#0d0887"
             ],
             [
              0.1111111111111111,
              "#46039f"
             ],
             [
              0.2222222222222222,
              "#7201a8"
             ],
             [
              0.3333333333333333,
              "#9c179e"
             ],
             [
              0.4444444444444444,
              "#bd3786"
             ],
             [
              0.5555555555555556,
              "#d8576b"
             ],
             [
              0.6666666666666666,
              "#ed7953"
             ],
             [
              0.7777777777777778,
              "#fb9f3a"
             ],
             [
              0.8888888888888888,
              "#fdca26"
             ],
             [
              1,
              "#f0f921"
             ]
            ],
            "type": "surface"
           }
          ],
          "table": [
           {
            "cells": {
             "fill": {
              "color": "#506784"
             },
             "line": {
              "color": "rgb(17,17,17)"
             }
            },
            "header": {
             "fill": {
              "color": "#2a3f5f"
             },
             "line": {
              "color": "rgb(17,17,17)"
             }
            },
            "type": "table"
           }
          ]
         },
         "layout": {
          "annotationdefaults": {
           "arrowcolor": "#f2f5fa",
           "arrowhead": 0,
           "arrowwidth": 1
          },
          "autotypenumbers": "strict",
          "coloraxis": {
           "colorbar": {
            "outlinewidth": 0,
            "ticks": ""
           }
          },
          "colorscale": {
           "diverging": [
            [
             0,
             "#8e0152"
            ],
            [
             0.1,
             "#c51b7d"
            ],
            [
             0.2,
             "#de77ae"
            ],
            [
             0.3,
             "#f1b6da"
            ],
            [
             0.4,
             "#fde0ef"
            ],
            [
             0.5,
             "#f7f7f7"
            ],
            [
             0.6,
             "#e6f5d0"
            ],
            [
             0.7,
             "#b8e186"
            ],
            [
             0.8,
             "#7fbc41"
            ],
            [
             0.9,
             "#4d9221"
            ],
            [
             1,
             "#276419"
            ]
           ],
           "sequential": [
            [
             0,
             "#0d0887"
            ],
            [
             0.1111111111111111,
             "#46039f"
            ],
            [
             0.2222222222222222,
             "#7201a8"
            ],
            [
             0.3333333333333333,
             "#9c179e"
            ],
            [
             0.4444444444444444,
             "#bd3786"
            ],
            [
             0.5555555555555556,
             "#d8576b"
            ],
            [
             0.6666666666666666,
             "#ed7953"
            ],
            [
             0.7777777777777778,
             "#fb9f3a"
            ],
            [
             0.8888888888888888,
             "#fdca26"
            ],
            [
             1,
             "#f0f921"
            ]
           ],
           "sequentialminus": [
            [
             0,
             "#0d0887"
            ],
            [
             0.1111111111111111,
             "#46039f"
            ],
            [
             0.2222222222222222,
             "#7201a8"
            ],
            [
             0.3333333333333333,
             "#9c179e"
            ],
            [
             0.4444444444444444,
             "#bd3786"
            ],
            [
             0.5555555555555556,
             "#d8576b"
            ],
            [
             0.6666666666666666,
             "#ed7953"
            ],
            [
             0.7777777777777778,
             "#fb9f3a"
            ],
            [
             0.8888888888888888,
             "#fdca26"
            ],
            [
             1,
             "#f0f921"
            ]
           ]
          },
          "colorway": [
           "#636efa",
           "#EF553B",
           "#00cc96",
           "#ab63fa",
           "#FFA15A",
           "#19d3f3",
           "#FF6692",
           "#B6E880",
           "#FF97FF",
           "#FECB52"
          ],
          "font": {
           "color": "#f2f5fa"
          },
          "geo": {
           "bgcolor": "rgb(17,17,17)",
           "lakecolor": "rgb(17,17,17)",
           "landcolor": "rgb(17,17,17)",
           "showlakes": true,
           "showland": true,
           "subunitcolor": "#506784"
          },
          "hoverlabel": {
           "align": "left"
          },
          "hovermode": "closest",
          "mapbox": {
           "style": "dark"
          },
          "paper_bgcolor": "rgb(17,17,17)",
          "plot_bgcolor": "rgb(17,17,17)",
          "polar": {
           "angularaxis": {
            "gridcolor": "#506784",
            "linecolor": "#506784",
            "ticks": ""
           },
           "bgcolor": "rgb(17,17,17)",
           "radialaxis": {
            "gridcolor": "#506784",
            "linecolor": "#506784",
            "ticks": ""
           }
          },
          "scene": {
           "xaxis": {
            "backgroundcolor": "rgb(17,17,17)",
            "gridcolor": "#506784",
            "gridwidth": 2,
            "linecolor": "#506784",
            "showbackground": true,
            "ticks": "",
            "zerolinecolor": "#C8D4E3"
           },
           "yaxis": {
            "backgroundcolor": "rgb(17,17,17)",
            "gridcolor": "#506784",
            "gridwidth": 2,
            "linecolor": "#506784",
            "showbackground": true,
            "ticks": "",
            "zerolinecolor": "#C8D4E3"
           },
           "zaxis": {
            "backgroundcolor": "rgb(17,17,17)",
            "gridcolor": "#506784",
            "gridwidth": 2,
            "linecolor": "#506784",
            "showbackground": true,
            "ticks": "",
            "zerolinecolor": "#C8D4E3"
           }
          },
          "shapedefaults": {
           "line": {
            "color": "#f2f5fa"
           }
          },
          "sliderdefaults": {
           "bgcolor": "#C8D4E3",
           "bordercolor": "rgb(17,17,17)",
           "borderwidth": 1,
           "tickwidth": 0
          },
          "ternary": {
           "aaxis": {
            "gridcolor": "#506784",
            "linecolor": "#506784",
            "ticks": ""
           },
           "baxis": {
            "gridcolor": "#506784",
            "linecolor": "#506784",
            "ticks": ""
           },
           "bgcolor": "rgb(17,17,17)",
           "caxis": {
            "gridcolor": "#506784",
            "linecolor": "#506784",
            "ticks": ""
           }
          },
          "title": {
           "x": 0.05
          },
          "updatemenudefaults": {
           "bgcolor": "#506784",
           "borderwidth": 0
          },
          "xaxis": {
           "automargin": true,
           "gridcolor": "#283442",
           "linecolor": "#506784",
           "ticks": "",
           "title": {
            "standoff": 15
           },
           "zerolinecolor": "#283442",
           "zerolinewidth": 2
          },
          "yaxis": {
           "automargin": true,
           "gridcolor": "#283442",
           "linecolor": "#506784",
           "ticks": "",
           "title": {
            "standoff": 15
           },
           "zerolinecolor": "#283442",
           "zerolinewidth": 2
          }
         }
        },
        "title": {
         "text": "Distribution of output throughput by batch size"
        },
        "xaxis": {
         "hoverformat": "foo",
         "title": {
          "text": "Batch size"
         }
        },
        "yaxis": {
         "title": {
          "text": "Tokens per second, per request"
         }
        }
       }
      }
     },
     "metadata": {},
     "output_type": "display_data"
    }
   ],
   "source": [
    "x_col = \"batch_size_used\"\n",
    "xaxis_title=\"Batch size\"\n",
    "value_vars = ['server_output_token_per_s_per_request', 'client_output_token_per_s_per_request']\n",
    "legend_labels = [\"Server\", \"Client\"]\n",
    "yaxis_title = \"Tokens per second, per request\"\n",
    "title_text = \"Distribution of output throughput by batch size\"\n",
    "plot_client_vs_server_barplots(df_user, x_col, value_vars, legend_labels, title_text, yaxis_title, xaxis_title).show()"
   ]
  },
  {
   "cell_type": "code",
   "execution_count": 6,
   "id": "5b4d6f99",
   "metadata": {},
   "outputs": [
    {
     "data": {
      "application/vnd.plotly.v1+json": {
       "config": {
        "plotlyServerURL": "https://plot.ly"
       },
       "data": [
        {
         "base": [
          9.722934007644653
         ],
         "customdata": [
          "Server"
         ],
         "hovertemplate": "<extra></extra><b>%{customdata}</b> median: %{base:.2f}",
         "legendgroup": "Server",
         "marker": {
          "color": "#325c8c",
          "line": {
           "color": "#325c8c",
           "width": 2
          }
         },
         "name": "Server",
         "offsetgroup": "0",
         "showlegend": false,
         "type": "bar",
         "x": [
          "1"
         ],
         "y": [
          0
         ]
        },
        {
         "base": [
          9.714935064315796
         ],
         "customdata": [
          9.738147735595703
         ],
         "hovertemplate": "<extra></extra>5–95 pctile range: %{base:.2f}–%{customdata:.2f}",
         "legendgroup": "Server",
         "marker": {
          "color": "#325c8c"
         },
         "name": "Server",
         "offsetgroup": "0",
         "opacity": 0.5,
         "type": "bar",
         "x": [
          "1"
         ],
         "y": [
          0.023212671279907227
         ]
        },
        {
         "base": [
          43.830954457996995
         ],
         "customdata": [
          "Client"
         ],
         "hovertemplate": "<extra></extra><b>%{customdata}</b> median: %{base:.2f}",
         "legendgroup": "Client",
         "marker": {
          "color": "#ee7625",
          "line": {
           "color": "#ee7625",
           "width": 2
          }
         },
         "name": "Client",
         "offsetgroup": "1",
         "showlegend": false,
         "type": "bar",
         "x": [
          "1"
         ],
         "y": [
          0
         ]
        },
        {
         "base": [
          12.064135583001189
         ],
         "customdata": [
          85.89100741599395
         ],
         "hovertemplate": "<extra></extra>5–95 pctile range: %{base:.2f}–%{customdata:.2f}",
         "legendgroup": "Client",
         "marker": {
          "color": "#ee7625"
         },
         "name": "Client",
         "offsetgroup": "1",
         "opacity": 0.5,
         "type": "bar",
         "x": [
          "1"
         ],
         "y": [
          73.82687183299277
         ]
        }
       ],
       "layout": {
        "barmode": "group",
        "hovermode": "x unified",
        "template": {
         "data": {
          "bar": [
           {
            "error_x": {
             "color": "#f2f5fa"
            },
            "error_y": {
             "color": "#f2f5fa"
            },
            "marker": {
             "line": {
              "color": "rgb(17,17,17)",
              "width": 0.5
             },
             "pattern": {
              "fillmode": "overlay",
              "size": 10,
              "solidity": 0.2
             }
            },
            "type": "bar"
           }
          ],
          "barpolar": [
           {
            "marker": {
             "line": {
              "color": "rgb(17,17,17)",
              "width": 0.5
             },
             "pattern": {
              "fillmode": "overlay",
              "size": 10,
              "solidity": 0.2
             }
            },
            "type": "barpolar"
           }
          ],
          "carpet": [
           {
            "aaxis": {
             "endlinecolor": "#A2B1C6",
             "gridcolor": "#506784",
             "linecolor": "#506784",
             "minorgridcolor": "#506784",
             "startlinecolor": "#A2B1C6"
            },
            "baxis": {
             "endlinecolor": "#A2B1C6",
             "gridcolor": "#506784",
             "linecolor": "#506784",
             "minorgridcolor": "#506784",
             "startlinecolor": "#A2B1C6"
            },
            "type": "carpet"
           }
          ],
          "choropleth": [
           {
            "colorbar": {
             "outlinewidth": 0,
             "ticks": ""
            },
            "type": "choropleth"
           }
          ],
          "contour": [
           {
            "colorbar": {
             "outlinewidth": 0,
             "ticks": ""
            },
            "colorscale": [
             [
              0,
              "#0d0887"
             ],
             [
              0.1111111111111111,
              "#46039f"
             ],
             [
              0.2222222222222222,
              "#7201a8"
             ],
             [
              0.3333333333333333,
              "#9c179e"
             ],
             [
              0.4444444444444444,
              "#bd3786"
             ],
             [
              0.5555555555555556,
              "#d8576b"
             ],
             [
              0.6666666666666666,
              "#ed7953"
             ],
             [
              0.7777777777777778,
              "#fb9f3a"
             ],
             [
              0.8888888888888888,
              "#fdca26"
             ],
             [
              1,
              "#f0f921"
             ]
            ],
            "type": "contour"
           }
          ],
          "contourcarpet": [
           {
            "colorbar": {
             "outlinewidth": 0,
             "ticks": ""
            },
            "type": "contourcarpet"
           }
          ],
          "heatmap": [
           {
            "colorbar": {
             "outlinewidth": 0,
             "ticks": ""
            },
            "colorscale": [
             [
              0,
              "#0d0887"
             ],
             [
              0.1111111111111111,
              "#46039f"
             ],
             [
              0.2222222222222222,
              "#7201a8"
             ],
             [
              0.3333333333333333,
              "#9c179e"
             ],
             [
              0.4444444444444444,
              "#bd3786"
             ],
             [
              0.5555555555555556,
              "#d8576b"
             ],
             [
              0.6666666666666666,
              "#ed7953"
             ],
             [
              0.7777777777777778,
              "#fb9f3a"
             ],
             [
              0.8888888888888888,
              "#fdca26"
             ],
             [
              1,
              "#f0f921"
             ]
            ],
            "type": "heatmap"
           }
          ],
          "heatmapgl": [
           {
            "colorbar": {
             "outlinewidth": 0,
             "ticks": ""
            },
            "colorscale": [
             [
              0,
              "#0d0887"
             ],
             [
              0.1111111111111111,
              "#46039f"
             ],
             [
              0.2222222222222222,
              "#7201a8"
             ],
             [
              0.3333333333333333,
              "#9c179e"
             ],
             [
              0.4444444444444444,
              "#bd3786"
             ],
             [
              0.5555555555555556,
              "#d8576b"
             ],
             [
              0.6666666666666666,
              "#ed7953"
             ],
             [
              0.7777777777777778,
              "#fb9f3a"
             ],
             [
              0.8888888888888888,
              "#fdca26"
             ],
             [
              1,
              "#f0f921"
             ]
            ],
            "type": "heatmapgl"
           }
          ],
          "histogram": [
           {
            "marker": {
             "pattern": {
              "fillmode": "overlay",
              "size": 10,
              "solidity": 0.2
             }
            },
            "type": "histogram"
           }
          ],
          "histogram2d": [
           {
            "colorbar": {
             "outlinewidth": 0,
             "ticks": ""
            },
            "colorscale": [
             [
              0,
              "#0d0887"
             ],
             [
              0.1111111111111111,
              "#46039f"
             ],
             [
              0.2222222222222222,
              "#7201a8"
             ],
             [
              0.3333333333333333,
              "#9c179e"
             ],
             [
              0.4444444444444444,
              "#bd3786"
             ],
             [
              0.5555555555555556,
              "#d8576b"
             ],
             [
              0.6666666666666666,
              "#ed7953"
             ],
             [
              0.7777777777777778,
              "#fb9f3a"
             ],
             [
              0.8888888888888888,
              "#fdca26"
             ],
             [
              1,
              "#f0f921"
             ]
            ],
            "type": "histogram2d"
           }
          ],
          "histogram2dcontour": [
           {
            "colorbar": {
             "outlinewidth": 0,
             "ticks": ""
            },
            "colorscale": [
             [
              0,
              "#0d0887"
             ],
             [
              0.1111111111111111,
              "#46039f"
             ],
             [
              0.2222222222222222,
              "#7201a8"
             ],
             [
              0.3333333333333333,
              "#9c179e"
             ],
             [
              0.4444444444444444,
              "#bd3786"
             ],
             [
              0.5555555555555556,
              "#d8576b"
             ],
             [
              0.6666666666666666,
              "#ed7953"
             ],
             [
              0.7777777777777778,
              "#fb9f3a"
             ],
             [
              0.8888888888888888,
              "#fdca26"
             ],
             [
              1,
              "#f0f921"
             ]
            ],
            "type": "histogram2dcontour"
           }
          ],
          "mesh3d": [
           {
            "colorbar": {
             "outlinewidth": 0,
             "ticks": ""
            },
            "type": "mesh3d"
           }
          ],
          "parcoords": [
           {
            "line": {
             "colorbar": {
              "outlinewidth": 0,
              "ticks": ""
             }
            },
            "type": "parcoords"
           }
          ],
          "pie": [
           {
            "automargin": true,
            "type": "pie"
           }
          ],
          "scatter": [
           {
            "marker": {
             "line": {
              "color": "#283442"
             }
            },
            "type": "scatter"
           }
          ],
          "scatter3d": [
           {
            "line": {
             "colorbar": {
              "outlinewidth": 0,
              "ticks": ""
             }
            },
            "marker": {
             "colorbar": {
              "outlinewidth": 0,
              "ticks": ""
             }
            },
            "type": "scatter3d"
           }
          ],
          "scattercarpet": [
           {
            "marker": {
             "colorbar": {
              "outlinewidth": 0,
              "ticks": ""
             }
            },
            "type": "scattercarpet"
           }
          ],
          "scattergeo": [
           {
            "marker": {
             "colorbar": {
              "outlinewidth": 0,
              "ticks": ""
             }
            },
            "type": "scattergeo"
           }
          ],
          "scattergl": [
           {
            "marker": {
             "line": {
              "color": "#283442"
             }
            },
            "type": "scattergl"
           }
          ],
          "scattermapbox": [
           {
            "marker": {
             "colorbar": {
              "outlinewidth": 0,
              "ticks": ""
             }
            },
            "type": "scattermapbox"
           }
          ],
          "scatterpolar": [
           {
            "marker": {
             "colorbar": {
              "outlinewidth": 0,
              "ticks": ""
             }
            },
            "type": "scatterpolar"
           }
          ],
          "scatterpolargl": [
           {
            "marker": {
             "colorbar": {
              "outlinewidth": 0,
              "ticks": ""
             }
            },
            "type": "scatterpolargl"
           }
          ],
          "scatterternary": [
           {
            "marker": {
             "colorbar": {
              "outlinewidth": 0,
              "ticks": ""
             }
            },
            "type": "scatterternary"
           }
          ],
          "surface": [
           {
            "colorbar": {
             "outlinewidth": 0,
             "ticks": ""
            },
            "colorscale": [
             [
              0,
              "#0d0887"
             ],
             [
              0.1111111111111111,
              "#46039f"
             ],
             [
              0.2222222222222222,
              "#7201a8"
             ],
             [
              0.3333333333333333,
              "#9c179e"
             ],
             [
              0.4444444444444444,
              "#bd3786"
             ],
             [
              0.5555555555555556,
              "#d8576b"
             ],
             [
              0.6666666666666666,
              "#ed7953"
             ],
             [
              0.7777777777777778,
              "#fb9f3a"
             ],
             [
              0.8888888888888888,
              "#fdca26"
             ],
             [
              1,
              "#f0f921"
             ]
            ],
            "type": "surface"
           }
          ],
          "table": [
           {
            "cells": {
             "fill": {
              "color": "#506784"
             },
             "line": {
              "color": "rgb(17,17,17)"
             }
            },
            "header": {
             "fill": {
              "color": "#2a3f5f"
             },
             "line": {
              "color": "rgb(17,17,17)"
             }
            },
            "type": "table"
           }
          ]
         },
         "layout": {
          "annotationdefaults": {
           "arrowcolor": "#f2f5fa",
           "arrowhead": 0,
           "arrowwidth": 1
          },
          "autotypenumbers": "strict",
          "coloraxis": {
           "colorbar": {
            "outlinewidth": 0,
            "ticks": ""
           }
          },
          "colorscale": {
           "diverging": [
            [
             0,
             "#8e0152"
            ],
            [
             0.1,
             "#c51b7d"
            ],
            [
             0.2,
             "#de77ae"
            ],
            [
             0.3,
             "#f1b6da"
            ],
            [
             0.4,
             "#fde0ef"
            ],
            [
             0.5,
             "#f7f7f7"
            ],
            [
             0.6,
             "#e6f5d0"
            ],
            [
             0.7,
             "#b8e186"
            ],
            [
             0.8,
             "#7fbc41"
            ],
            [
             0.9,
             "#4d9221"
            ],
            [
             1,
             "#276419"
            ]
           ],
           "sequential": [
            [
             0,
             "#0d0887"
            ],
            [
             0.1111111111111111,
             "#46039f"
            ],
            [
             0.2222222222222222,
             "#7201a8"
            ],
            [
             0.3333333333333333,
             "#9c179e"
            ],
            [
             0.4444444444444444,
             "#bd3786"
            ],
            [
             0.5555555555555556,
             "#d8576b"
            ],
            [
             0.6666666666666666,
             "#ed7953"
            ],
            [
             0.7777777777777778,
             "#fb9f3a"
            ],
            [
             0.8888888888888888,
             "#fdca26"
            ],
            [
             1,
             "#f0f921"
            ]
           ],
           "sequentialminus": [
            [
             0,
             "#0d0887"
            ],
            [
             0.1111111111111111,
             "#46039f"
            ],
            [
             0.2222222222222222,
             "#7201a8"
            ],
            [
             0.3333333333333333,
             "#9c179e"
            ],
            [
             0.4444444444444444,
             "#bd3786"
            ],
            [
             0.5555555555555556,
             "#d8576b"
            ],
            [
             0.6666666666666666,
             "#ed7953"
            ],
            [
             0.7777777777777778,
             "#fb9f3a"
            ],
            [
             0.8888888888888888,
             "#fdca26"
            ],
            [
             1,
             "#f0f921"
            ]
           ]
          },
          "colorway": [
           "#636efa",
           "#EF553B",
           "#00cc96",
           "#ab63fa",
           "#FFA15A",
           "#19d3f3",
           "#FF6692",
           "#B6E880",
           "#FF97FF",
           "#FECB52"
          ],
          "font": {
           "color": "#f2f5fa"
          },
          "geo": {
           "bgcolor": "rgb(17,17,17)",
           "lakecolor": "rgb(17,17,17)",
           "landcolor": "rgb(17,17,17)",
           "showlakes": true,
           "showland": true,
           "subunitcolor": "#506784"
          },
          "hoverlabel": {
           "align": "left"
          },
          "hovermode": "closest",
          "mapbox": {
           "style": "dark"
          },
          "paper_bgcolor": "rgb(17,17,17)",
          "plot_bgcolor": "rgb(17,17,17)",
          "polar": {
           "angularaxis": {
            "gridcolor": "#506784",
            "linecolor": "#506784",
            "ticks": ""
           },
           "bgcolor": "rgb(17,17,17)",
           "radialaxis": {
            "gridcolor": "#506784",
            "linecolor": "#506784",
            "ticks": ""
           }
          },
          "scene": {
           "xaxis": {
            "backgroundcolor": "rgb(17,17,17)",
            "gridcolor": "#506784",
            "gridwidth": 2,
            "linecolor": "#506784",
            "showbackground": true,
            "ticks": "",
            "zerolinecolor": "#C8D4E3"
           },
           "yaxis": {
            "backgroundcolor": "rgb(17,17,17)",
            "gridcolor": "#506784",
            "gridwidth": 2,
            "linecolor": "#506784",
            "showbackground": true,
            "ticks": "",
            "zerolinecolor": "#C8D4E3"
           },
           "zaxis": {
            "backgroundcolor": "rgb(17,17,17)",
            "gridcolor": "#506784",
            "gridwidth": 2,
            "linecolor": "#506784",
            "showbackground": true,
            "ticks": "",
            "zerolinecolor": "#C8D4E3"
           }
          },
          "shapedefaults": {
           "line": {
            "color": "#f2f5fa"
           }
          },
          "sliderdefaults": {
           "bgcolor": "#C8D4E3",
           "bordercolor": "rgb(17,17,17)",
           "borderwidth": 1,
           "tickwidth": 0
          },
          "ternary": {
           "aaxis": {
            "gridcolor": "#506784",
            "linecolor": "#506784",
            "ticks": ""
           },
           "baxis": {
            "gridcolor": "#506784",
            "linecolor": "#506784",
            "ticks": ""
           },
           "bgcolor": "rgb(17,17,17)",
           "caxis": {
            "gridcolor": "#506784",
            "linecolor": "#506784",
            "ticks": ""
           }
          },
          "title": {
           "x": 0.05
          },
          "updatemenudefaults": {
           "bgcolor": "#506784",
           "borderwidth": 0
          },
          "xaxis": {
           "automargin": true,
           "gridcolor": "#283442",
           "linecolor": "#506784",
           "ticks": "",
           "title": {
            "standoff": 15
           },
           "zerolinecolor": "#283442",
           "zerolinewidth": 2
          },
          "yaxis": {
           "automargin": true,
           "gridcolor": "#283442",
           "linecolor": "#506784",
           "ticks": "",
           "title": {
            "standoff": 15
           },
           "zerolinecolor": "#283442",
           "zerolinewidth": 2
          }
         }
        },
        "title": {
         "text": "Distribution of Time to First Token (TTFT) by batch size"
        },
        "xaxis": {
         "hoverformat": "foo",
         "title": {
          "text": "Batch size"
         }
        },
        "yaxis": {
         "title": {
          "text": "TTFT (s), per request"
         }
        }
       }
      }
     },
     "metadata": {},
     "output_type": "display_data"
    }
   ],
   "source": [
    "x_col = \"batch_size_used\"\n",
    "xaxis_title=\"Batch size\"\n",
    "value_vars = ['server_ttft_s', 'client_ttft_s']\n",
    "legend_labels = [\"Server\", \"Client\"]\n",
    "yaxis_title = \"TTFT (s), per request\"\n",
    "title_text = \"Distribution of Time to First Token (TTFT) by batch size\"\n",
    "plot_client_vs_server_barplots(df_user, x_col, value_vars, legend_labels, title_text, yaxis_title, xaxis_title).show()"
   ]
  },
  {
   "cell_type": "code",
   "execution_count": 7,
   "id": "e5e042e9",
   "metadata": {},
   "outputs": [
    {
     "data": {
      "application/vnd.plotly.v1+json": {
       "config": {
        "plotlyServerURL": "https://plot.ly"
       },
       "data": [
        {
         "base": [
          10.37458754993149
         ],
         "customdata": [
          "Server"
         ],
         "hovertemplate": "<extra></extra><b>%{customdata}</b> median: %{base:.2f}",
         "legendgroup": "Server",
         "marker": {
          "color": "#325c8c",
          "line": {
           "color": "#325c8c",
           "width": 2
          }
         },
         "name": "Server",
         "offsetgroup": "0",
         "showlegend": false,
         "type": "bar",
         "x": [
          "1"
         ],
         "y": [
          0
         ]
        },
        {
         "base": [
          10.357298874323257
         ],
         "customdata": [
          10.402841763144696
         ],
         "hovertemplate": "<extra></extra>5–95 pctile range: %{base:.2f}–%{customdata:.2f}",
         "legendgroup": "Server",
         "marker": {
          "color": "#325c8c"
         },
         "name": "Server",
         "offsetgroup": "0",
         "opacity": 0.5,
         "type": "bar",
         "x": [
          "1"
         ],
         "y": [
          0.045542888821438865
         ]
        },
        {
         "base": [
          44.578168666994316
         ],
         "customdata": [
          "Client"
         ],
         "hovertemplate": "<extra></extra><b>%{customdata}</b> median: %{base:.2f}",
         "legendgroup": "Client",
         "marker": {
          "color": "#ee7625",
          "line": {
           "color": "#ee7625",
           "width": 2
          }
         },
         "name": "Client",
         "offsetgroup": "1",
         "showlegend": false,
         "type": "bar",
         "x": [
          "1"
         ],
         "y": [
          0
         ]
        },
        {
         "base": [
          12.828257041997858
         ],
         "customdata": [
          86.61836841650074
         ],
         "hovertemplate": "<extra></extra>5–95 pctile range: %{base:.2f}–%{customdata:.2f}",
         "legendgroup": "Client",
         "marker": {
          "color": "#ee7625"
         },
         "name": "Client",
         "offsetgroup": "1",
         "opacity": 0.5,
         "type": "bar",
         "x": [
          "1"
         ],
         "y": [
          73.79011137450289
         ]
        }
       ],
       "layout": {
        "barmode": "group",
        "hovermode": "x unified",
        "template": {
         "data": {
          "bar": [
           {
            "error_x": {
             "color": "#f2f5fa"
            },
            "error_y": {
             "color": "#f2f5fa"
            },
            "marker": {
             "line": {
              "color": "rgb(17,17,17)",
              "width": 0.5
             },
             "pattern": {
              "fillmode": "overlay",
              "size": 10,
              "solidity": 0.2
             }
            },
            "type": "bar"
           }
          ],
          "barpolar": [
           {
            "marker": {
             "line": {
              "color": "rgb(17,17,17)",
              "width": 0.5
             },
             "pattern": {
              "fillmode": "overlay",
              "size": 10,
              "solidity": 0.2
             }
            },
            "type": "barpolar"
           }
          ],
          "carpet": [
           {
            "aaxis": {
             "endlinecolor": "#A2B1C6",
             "gridcolor": "#506784",
             "linecolor": "#506784",
             "minorgridcolor": "#506784",
             "startlinecolor": "#A2B1C6"
            },
            "baxis": {
             "endlinecolor": "#A2B1C6",
             "gridcolor": "#506784",
             "linecolor": "#506784",
             "minorgridcolor": "#506784",
             "startlinecolor": "#A2B1C6"
            },
            "type": "carpet"
           }
          ],
          "choropleth": [
           {
            "colorbar": {
             "outlinewidth": 0,
             "ticks": ""
            },
            "type": "choropleth"
           }
          ],
          "contour": [
           {
            "colorbar": {
             "outlinewidth": 0,
             "ticks": ""
            },
            "colorscale": [
             [
              0,
              "#0d0887"
             ],
             [
              0.1111111111111111,
              "#46039f"
             ],
             [
              0.2222222222222222,
              "#7201a8"
             ],
             [
              0.3333333333333333,
              "#9c179e"
             ],
             [
              0.4444444444444444,
              "#bd3786"
             ],
             [
              0.5555555555555556,
              "#d8576b"
             ],
             [
              0.6666666666666666,
              "#ed7953"
             ],
             [
              0.7777777777777778,
              "#fb9f3a"
             ],
             [
              0.8888888888888888,
              "#fdca26"
             ],
             [
              1,
              "#f0f921"
             ]
            ],
            "type": "contour"
           }
          ],
          "contourcarpet": [
           {
            "colorbar": {
             "outlinewidth": 0,
             "ticks": ""
            },
            "type": "contourcarpet"
           }
          ],
          "heatmap": [
           {
            "colorbar": {
             "outlinewidth": 0,
             "ticks": ""
            },
            "colorscale": [
             [
              0,
              "#0d0887"
             ],
             [
              0.1111111111111111,
              "#46039f"
             ],
             [
              0.2222222222222222,
              "#7201a8"
             ],
             [
              0.3333333333333333,
              "#9c179e"
             ],
             [
              0.4444444444444444,
              "#bd3786"
             ],
             [
              0.5555555555555556,
              "#d8576b"
             ],
             [
              0.6666666666666666,
              "#ed7953"
             ],
             [
              0.7777777777777778,
              "#fb9f3a"
             ],
             [
              0.8888888888888888,
              "#fdca26"
             ],
             [
              1,
              "#f0f921"
             ]
            ],
            "type": "heatmap"
           }
          ],
          "heatmapgl": [
           {
            "colorbar": {
             "outlinewidth": 0,
             "ticks": ""
            },
            "colorscale": [
             [
              0,
              "#0d0887"
             ],
             [
              0.1111111111111111,
              "#46039f"
             ],
             [
              0.2222222222222222,
              "#7201a8"
             ],
             [
              0.3333333333333333,
              "#9c179e"
             ],
             [
              0.4444444444444444,
              "#bd3786"
             ],
             [
              0.5555555555555556,
              "#d8576b"
             ],
             [
              0.6666666666666666,
              "#ed7953"
             ],
             [
              0.7777777777777778,
              "#fb9f3a"
             ],
             [
              0.8888888888888888,
              "#fdca26"
             ],
             [
              1,
              "#f0f921"
             ]
            ],
            "type": "heatmapgl"
           }
          ],
          "histogram": [
           {
            "marker": {
             "pattern": {
              "fillmode": "overlay",
              "size": 10,
              "solidity": 0.2
             }
            },
            "type": "histogram"
           }
          ],
          "histogram2d": [
           {
            "colorbar": {
             "outlinewidth": 0,
             "ticks": ""
            },
            "colorscale": [
             [
              0,
              "#0d0887"
             ],
             [
              0.1111111111111111,
              "#46039f"
             ],
             [
              0.2222222222222222,
              "#7201a8"
             ],
             [
              0.3333333333333333,
              "#9c179e"
             ],
             [
              0.4444444444444444,
              "#bd3786"
             ],
             [
              0.5555555555555556,
              "#d8576b"
             ],
             [
              0.6666666666666666,
              "#ed7953"
             ],
             [
              0.7777777777777778,
              "#fb9f3a"
             ],
             [
              0.8888888888888888,
              "#fdca26"
             ],
             [
              1,
              "#f0f921"
             ]
            ],
            "type": "histogram2d"
           }
          ],
          "histogram2dcontour": [
           {
            "colorbar": {
             "outlinewidth": 0,
             "ticks": ""
            },
            "colorscale": [
             [
              0,
              "#0d0887"
             ],
             [
              0.1111111111111111,
              "#46039f"
             ],
             [
              0.2222222222222222,
              "#7201a8"
             ],
             [
              0.3333333333333333,
              "#9c179e"
             ],
             [
              0.4444444444444444,
              "#bd3786"
             ],
             [
              0.5555555555555556,
              "#d8576b"
             ],
             [
              0.6666666666666666,
              "#ed7953"
             ],
             [
              0.7777777777777778,
              "#fb9f3a"
             ],
             [
              0.8888888888888888,
              "#fdca26"
             ],
             [
              1,
              "#f0f921"
             ]
            ],
            "type": "histogram2dcontour"
           }
          ],
          "mesh3d": [
           {
            "colorbar": {
             "outlinewidth": 0,
             "ticks": ""
            },
            "type": "mesh3d"
           }
          ],
          "parcoords": [
           {
            "line": {
             "colorbar": {
              "outlinewidth": 0,
              "ticks": ""
             }
            },
            "type": "parcoords"
           }
          ],
          "pie": [
           {
            "automargin": true,
            "type": "pie"
           }
          ],
          "scatter": [
           {
            "marker": {
             "line": {
              "color": "#283442"
             }
            },
            "type": "scatter"
           }
          ],
          "scatter3d": [
           {
            "line": {
             "colorbar": {
              "outlinewidth": 0,
              "ticks": ""
             }
            },
            "marker": {
             "colorbar": {
              "outlinewidth": 0,
              "ticks": ""
             }
            },
            "type": "scatter3d"
           }
          ],
          "scattercarpet": [
           {
            "marker": {
             "colorbar": {
              "outlinewidth": 0,
              "ticks": ""
             }
            },
            "type": "scattercarpet"
           }
          ],
          "scattergeo": [
           {
            "marker": {
             "colorbar": {
              "outlinewidth": 0,
              "ticks": ""
             }
            },
            "type": "scattergeo"
           }
          ],
          "scattergl": [
           {
            "marker": {
             "line": {
              "color": "#283442"
             }
            },
            "type": "scattergl"
           }
          ],
          "scattermapbox": [
           {
            "marker": {
             "colorbar": {
              "outlinewidth": 0,
              "ticks": ""
             }
            },
            "type": "scattermapbox"
           }
          ],
          "scatterpolar": [
           {
            "marker": {
             "colorbar": {
              "outlinewidth": 0,
              "ticks": ""
             }
            },
            "type": "scatterpolar"
           }
          ],
          "scatterpolargl": [
           {
            "marker": {
             "colorbar": {
              "outlinewidth": 0,
              "ticks": ""
             }
            },
            "type": "scatterpolargl"
           }
          ],
          "scatterternary": [
           {
            "marker": {
             "colorbar": {
              "outlinewidth": 0,
              "ticks": ""
             }
            },
            "type": "scatterternary"
           }
          ],
          "surface": [
           {
            "colorbar": {
             "outlinewidth": 0,
             "ticks": ""
            },
            "colorscale": [
             [
              0,
              "#0d0887"
             ],
             [
              0.1111111111111111,
              "#46039f"
             ],
             [
              0.2222222222222222,
              "#7201a8"
             ],
             [
              0.3333333333333333,
              "#9c179e"
             ],
             [
              0.4444444444444444,
              "#bd3786"
             ],
             [
              0.5555555555555556,
              "#d8576b"
             ],
             [
              0.6666666666666666,
              "#ed7953"
             ],
             [
              0.7777777777777778,
              "#fb9f3a"
             ],
             [
              0.8888888888888888,
              "#fdca26"
             ],
             [
              1,
              "#f0f921"
             ]
            ],
            "type": "surface"
           }
          ],
          "table": [
           {
            "cells": {
             "fill": {
              "color": "#506784"
             },
             "line": {
              "color": "rgb(17,17,17)"
             }
            },
            "header": {
             "fill": {
              "color": "#2a3f5f"
             },
             "line": {
              "color": "rgb(17,17,17)"
             }
            },
            "type": "table"
           }
          ]
         },
         "layout": {
          "annotationdefaults": {
           "arrowcolor": "#f2f5fa",
           "arrowhead": 0,
           "arrowwidth": 1
          },
          "autotypenumbers": "strict",
          "coloraxis": {
           "colorbar": {
            "outlinewidth": 0,
            "ticks": ""
           }
          },
          "colorscale": {
           "diverging": [
            [
             0,
             "#8e0152"
            ],
            [
             0.1,
             "#c51b7d"
            ],
            [
             0.2,
             "#de77ae"
            ],
            [
             0.3,
             "#f1b6da"
            ],
            [
             0.4,
             "#fde0ef"
            ],
            [
             0.5,
             "#f7f7f7"
            ],
            [
             0.6,
             "#e6f5d0"
            ],
            [
             0.7,
             "#b8e186"
            ],
            [
             0.8,
             "#7fbc41"
            ],
            [
             0.9,
             "#4d9221"
            ],
            [
             1,
             "#276419"
            ]
           ],
           "sequential": [
            [
             0,
             "#0d0887"
            ],
            [
             0.1111111111111111,
             "#46039f"
            ],
            [
             0.2222222222222222,
             "#7201a8"
            ],
            [
             0.3333333333333333,
             "#9c179e"
            ],
            [
             0.4444444444444444,
             "#bd3786"
            ],
            [
             0.5555555555555556,
             "#d8576b"
            ],
            [
             0.6666666666666666,
             "#ed7953"
            ],
            [
             0.7777777777777778,
             "#fb9f3a"
            ],
            [
             0.8888888888888888,
             "#fdca26"
            ],
            [
             1,
             "#f0f921"
            ]
           ],
           "sequentialminus": [
            [
             0,
             "#0d0887"
            ],
            [
             0.1111111111111111,
             "#46039f"
            ],
            [
             0.2222222222222222,
             "#7201a8"
            ],
            [
             0.3333333333333333,
             "#9c179e"
            ],
            [
             0.4444444444444444,
             "#bd3786"
            ],
            [
             0.5555555555555556,
             "#d8576b"
            ],
            [
             0.6666666666666666,
             "#ed7953"
            ],
            [
             0.7777777777777778,
             "#fb9f3a"
            ],
            [
             0.8888888888888888,
             "#fdca26"
            ],
            [
             1,
             "#f0f921"
            ]
           ]
          },
          "colorway": [
           "#636efa",
           "#EF553B",
           "#00cc96",
           "#ab63fa",
           "#FFA15A",
           "#19d3f3",
           "#FF6692",
           "#B6E880",
           "#FF97FF",
           "#FECB52"
          ],
          "font": {
           "color": "#f2f5fa"
          },
          "geo": {
           "bgcolor": "rgb(17,17,17)",
           "lakecolor": "rgb(17,17,17)",
           "landcolor": "rgb(17,17,17)",
           "showlakes": true,
           "showland": true,
           "subunitcolor": "#506784"
          },
          "hoverlabel": {
           "align": "left"
          },
          "hovermode": "closest",
          "mapbox": {
           "style": "dark"
          },
          "paper_bgcolor": "rgb(17,17,17)",
          "plot_bgcolor": "rgb(17,17,17)",
          "polar": {
           "angularaxis": {
            "gridcolor": "#506784",
            "linecolor": "#506784",
            "ticks": ""
           },
           "bgcolor": "rgb(17,17,17)",
           "radialaxis": {
            "gridcolor": "#506784",
            "linecolor": "#506784",
            "ticks": ""
           }
          },
          "scene": {
           "xaxis": {
            "backgroundcolor": "rgb(17,17,17)",
            "gridcolor": "#506784",
            "gridwidth": 2,
            "linecolor": "#506784",
            "showbackground": true,
            "ticks": "",
            "zerolinecolor": "#C8D4E3"
           },
           "yaxis": {
            "backgroundcolor": "rgb(17,17,17)",
            "gridcolor": "#506784",
            "gridwidth": 2,
            "linecolor": "#506784",
            "showbackground": true,
            "ticks": "",
            "zerolinecolor": "#C8D4E3"
           },
           "zaxis": {
            "backgroundcolor": "rgb(17,17,17)",
            "gridcolor": "#506784",
            "gridwidth": 2,
            "linecolor": "#506784",
            "showbackground": true,
            "ticks": "",
            "zerolinecolor": "#C8D4E3"
           }
          },
          "shapedefaults": {
           "line": {
            "color": "#f2f5fa"
           }
          },
          "sliderdefaults": {
           "bgcolor": "#C8D4E3",
           "bordercolor": "rgb(17,17,17)",
           "borderwidth": 1,
           "tickwidth": 0
          },
          "ternary": {
           "aaxis": {
            "gridcolor": "#506784",
            "linecolor": "#506784",
            "ticks": ""
           },
           "baxis": {
            "gridcolor": "#506784",
            "linecolor": "#506784",
            "ticks": ""
           },
           "bgcolor": "rgb(17,17,17)",
           "caxis": {
            "gridcolor": "#506784",
            "linecolor": "#506784",
            "ticks": ""
           }
          },
          "title": {
           "x": 0.05
          },
          "updatemenudefaults": {
           "bgcolor": "#506784",
           "borderwidth": 0
          },
          "xaxis": {
           "automargin": true,
           "gridcolor": "#283442",
           "linecolor": "#506784",
           "ticks": "",
           "title": {
            "standoff": 15
           },
           "zerolinecolor": "#283442",
           "zerolinewidth": 2
          },
          "yaxis": {
           "automargin": true,
           "gridcolor": "#283442",
           "linecolor": "#506784",
           "ticks": "",
           "title": {
            "standoff": 15
           },
           "zerolinecolor": "#283442",
           "zerolinewidth": 2
          }
         }
        },
        "title": {
         "text": "Distribution of end-to-end latency by batch size"
        },
        "xaxis": {
         "hoverformat": "foo",
         "title": {
          "text": "Batch size"
         }
        },
        "yaxis": {
         "title": {
          "text": "Latency (s), per request"
         }
        }
       }
      }
     },
     "metadata": {},
     "output_type": "display_data"
    }
   ],
   "source": [
    "x_col = \"batch_size_used\"\n",
    "xaxis_title=\"Batch size\"\n",
    "value_vars = ['server_end_to_end_latency_s', 'client_end_to_end_latency_s']\n",
    "legend_labels = [\"Server\", \"Client\"]\n",
    "yaxis_title = \"Latency (s), per request\"\n",
    "title_text = \"Distribution of end-to-end latency by batch size\"\n",
    "plot_client_vs_server_barplots(df_user, x_col, value_vars, legend_labels, title_text, yaxis_title, xaxis_title).show()"
   ]
  },
  {
   "cell_type": "markdown",
   "id": "fa8f1208",
   "metadata": {},
   "source": [
    "## Create a summary dataframe\n",
    "Group results by batch and get sum of number of tokens, mean throughput, mean TTFT, and batch frequency. Finally, calculate the total number of output tokens per batch "
   ]
  },
  {
   "cell_type": "code",
   "execution_count": 8,
   "id": "9b1c0a92",
   "metadata": {},
   "outputs": [
    {
     "data": {
      "text/html": [
       "<style type=\"text/css\">\n",
       "</style>\n",
       "<table id=\"T_9e57c\">\n",
       "  <thead>\n",
       "    <tr>\n",
       "      <th class=\"index_name level0\" >Batch size</th>\n",
       "      <th id=\"T_9e57c_level0_col0\" class=\"col_heading level0 col0\" >1</th>\n",
       "    </tr>\n",
       "  </thead>\n",
       "  <tbody>\n",
       "    <tr>\n",
       "      <th id=\"T_9e57c_level0_row0\" class=\"row_heading level0 row0\" >Avg. server output tokens per sec per request</th>\n",
       "      <td id=\"T_9e57c_row0_col0\" class=\"data row0 col0\" >167.89</td>\n",
       "    </tr>\n",
       "    <tr>\n",
       "      <th id=\"T_9e57c_level0_row1\" class=\"row_heading level0 row1\" >Total output tokens</th>\n",
       "      <td id=\"T_9e57c_row1_col0\" class=\"data row1 col0\" >32128</td>\n",
       "    </tr>\n",
       "    <tr>\n",
       "      <th id=\"T_9e57c_level0_row2\" class=\"row_heading level0 row2\" >Avg. server TTFT (s)</th>\n",
       "      <td id=\"T_9e57c_row2_col0\" class=\"data row2 col0\" >9.65</td>\n",
       "    </tr>\n",
       "    <tr>\n",
       "      <th id=\"T_9e57c_level0_row3\" class=\"row_heading level0 row3\" >Total number of completed requests</th>\n",
       "      <td id=\"T_9e57c_row3_col0\" class=\"data row3 col0\" >251</td>\n",
       "    </tr>\n",
       "    <tr>\n",
       "      <th id=\"T_9e57c_level0_row4\" class=\"row_heading level0 row4\" >Avg. server total output tokens per second</th>\n",
       "      <td id=\"T_9e57c_row4_col0\" class=\"data row4 col0\" >167.89</td>\n",
       "    </tr>\n",
       "  </tbody>\n",
       "</table>\n"
      ],
      "text/plain": [
       "<pandas.io.formats.style.Styler at 0x157e70350>"
      ]
     },
     "execution_count": 8,
     "metadata": {},
     "output_type": "execute_result"
    }
   ],
   "source": [
    "df_summary_thorughput = df_user.groupby('batch_size_used')['server_output_token_per_s_per_request'].mean().reset_index()\n",
    "df_summary_output_tokens = df_user.groupby('batch_size_used')['server_number_output_tokens'].sum().reset_index()\n",
    "df_summary_ttft = df_user.groupby('batch_size_used')['server_ttft_s'].mean().reset_index()\n",
    "df_summary_count = df_user.groupby('batch_size_used').size().reset_index(name='Counts')\n",
    "\n",
    "\n",
    "df_summary = pd.merge(df_summary_thorughput, df_summary_output_tokens, on='batch_size_used', how='inner')\n",
    "df_summary = pd.merge(df_summary, df_summary_ttft, on='batch_size_used', how='inner')\n",
    "df_summary = pd.merge(df_summary, df_summary_count, on='batch_size_used', how='inner')\n",
    "df_summary['server_total_output_tokens_per_s'] = df_summary['server_output_token_per_s_per_request']*df_summary['batch_size_used']\n",
    "\n",
    "df_summary.rename(columns={\n",
    "    \"batch_size_used\": \"Batch size\",\n",
    "    \"server_output_token_per_s_per_request\": \"Avg. server output tokens per sec per request\",\n",
    "    \"server_number_output_tokens\": \"Total output tokens\",\n",
    "    \"server_ttft_s\": \"Avg. server TTFT (s)\",\n",
    "    \"Counts\": \"Total number of completed requests\",\n",
    "    \"server_total_output_tokens_per_s\": \"Avg. server total output tokens per second\"\n",
    "}, \n",
    "inplace=True)\n",
    "\n",
    "df_summary.set_index(\"Batch size\", inplace=True)\n",
    "df_summary.T.style \\\n",
    "    .format(\"{:.2f}\", subset=([True,False,True,False,True],[True]*len(df_summary))) \\\n",
    "    .format(\"{:.0f}\", subset=([False,True,False,True,False],[True]*len(df_summary)))"
   ]
  },
  {
   "cell_type": "markdown",
   "id": "dfb81a80",
   "metadata": {},
   "source": [
    "## Time taken\n",
    "- Approximate computation to compare the time spent waiting due to TTFT vs response generation time\n",
    "- Compute the time that calls are cumulatively waiting for time-to-first-token vs time to generate tokens"
   ]
  },
  {
   "cell_type": "code",
   "execution_count": 9,
   "id": "1506628a",
   "metadata": {},
   "outputs": [
    {
     "name": "stdout",
     "output_type": "stream",
     "text": [
      "Total wait time due to ttft (mins) = 40.3802\n",
      "Total generation time due (mins) = 3.1894\n",
      "Total time (mins) = 43.5696\n"
     ]
    }
   ],
   "source": [
    "\n",
    "import numpy as np\n",
    "\n",
    "# calculate number of batches executed in each batch size\n",
    "df_summary['num_batches_executed'] = np.ceil(df_summary['Total number of completed requests'] / df_summary.index.get_level_values('Batch size'))\n",
    "\n",
    "# calculate average time taken per request in each batch size\n",
    "df_summary['output_tokens_per_request'] = df_summary['Total output tokens']/df_summary['Total number of completed requests']\n",
    "df_summary['time_taken_per_request'] = df_summary['output_tokens_per_request']/df_summary['Avg. server output tokens per sec per request']\n",
    "\n",
    "# calculate total ttft and generation times across all batch sizes\n",
    "total_wait_time_ttft = (df_summary['num_batches_executed']*df_summary['Avg. server TTFT (s)']).sum()\n",
    "total_generation_time = (df_summary['num_batches_executed']*df_summary['time_taken_per_request']).sum()\n",
    "\n",
    "print(f'Total wait time due to ttft (mins) = {total_wait_time_ttft/60:,.4f}')\n",
    "print(f'Total generation time due (mins) = {total_generation_time/60:,.4f}')\n",
    "print(f'Total time (mins) = {(total_wait_time_ttft + total_generation_time)/60:,.4f}')"
   ]
  },
  {
   "cell_type": "markdown",
   "id": "84e7a38e",
   "metadata": {},
   "source": [
    "## Requests Gantt Chart\n",
    "- Blue bar is the total time to get back full response\n",
    "- Orange line is the time call is waiting to be executed"
   ]
  },
  {
   "cell_type": "code",
   "execution_count": 10,
   "id": "79a2adde",
   "metadata": {},
   "outputs": [],
   "source": [
    "def plot_requests_gantt_chart(df_user: pd.DataFrame):\n",
    "    \"\"\"\n",
    "    Plots a Gantt chart of response timings across all requests\n",
    "\n",
    "    # if i> 100:\n",
    "    #     break\n",
    "    Args:\n",
    "        df_user (pd.DataFrame): The DataFrame containing the data to plot.\n",
    "\n",
    "    Returns:\n",
    "        fig (go.Figure): The plotly figure container\n",
    "    \"\"\"    \n",
    "    requests = df_user.index+1\n",
    "    fig = go.Figure()\n",
    "    fig.add_trace(\n",
    "        go.Bar(\n",
    "            y=requests,\n",
    "            x=1000*df_user[\"client_ttft_s\"],\n",
    "            base=[str(x) for x in df_user[\"start_time\"]],\n",
    "            name=\"TTFT\",\n",
    "            orientation=\"h\",\n",
    "            marker_color=\"#ee7625\",\n",
    "        )\n",
    "    )\n",
    "    fig.add_trace(\n",
    "        go.Bar(\n",
    "            y=requests,\n",
    "            x=1000*df_user[\"client_end_to_end_latency_s\"],\n",
    "            base=[str(x) for x in df_user[\"start_time\"]],\n",
    "            name=\"End-to-end latency\",\n",
    "            orientation=\"h\",\n",
    "            marker_color=\"#325c8c\",\n",
    "        )\n",
    "    )\n",
    "    for i in range(0, len(df_user.index), 2):\n",
    "        fig.add_hrect(y0=i+0.5, y1=i+1.5, line_width=0, fillcolor=\"grey\", opacity=0.1)\n",
    "    fig.update_xaxes(\n",
    "        type=\"date\",\n",
    "        tickformat=\"%H:%M:%S\",\n",
    "        hoverformat=\"%H:%M:%S.%2f\",)\n",
    "    fig.update_layout(\n",
    "        title_text=\"LLM requests across time\",\n",
    "        xaxis_title=\"Time stamp\",\n",
    "        yaxis_title=\"Request index\",\n",
    "        template=\"plotly_dark\",\n",
    "    )\n",
    "    return fig"
   ]
  },
  {
   "cell_type": "code",
   "execution_count": 11,
   "id": "fa0e72fb",
   "metadata": {},
   "outputs": [
    {
     "data": {
      "application/vnd.plotly.v1+json": {
       "config": {
        "plotlyServerURL": "https://plot.ly"
       },
       "data": [
        {
         "base": [
          "2025-03-06 10:00:20.692285",
          "2025-03-06 10:00:20.759044",
          "2025-03-06 10:00:20.666942",
          "2025-03-06 10:00:20.671188",
          "2025-03-06 10:00:20.691099",
          "2025-03-06 10:00:20.699615",
          "2025-03-06 10:00:20.672473",
          "2025-03-06 10:00:20.676420",
          "2025-03-06 10:00:20.678093",
          "2025-03-06 10:00:20.725689",
          "2025-03-06 10:00:20.758358",
          "2025-03-06 10:00:20.737818",
          "2025-03-06 10:00:20.670613",
          "2025-03-06 10:00:20.682086",
          "2025-03-06 10:00:20.685317",
          "2025-03-06 10:00:20.674285",
          "2025-03-06 10:00:20.733284",
          "2025-03-06 10:00:20.679611",
          "2025-03-06 10:00:20.729754",
          "2025-03-06 10:00:20.736855",
          "2025-03-06 10:00:20.742107",
          "2025-03-06 10:00:20.692643",
          "2025-03-06 10:00:20.745142",
          "2025-03-06 10:00:20.731233",
          "2025-03-06 10:00:20.720805",
          "2025-03-06 10:00:20.659999",
          "2025-03-06 10:00:20.744654",
          "2025-03-06 10:00:20.717325",
          "2025-03-06 10:00:20.679176",
          "2025-03-06 10:00:20.660277",
          "2025-03-06 10:00:20.711380",
          "2025-03-06 10:00:20.683530",
          "2025-03-06 10:00:20.744002",
          "2025-03-06 10:00:20.679969",
          "2025-03-06 10:00:20.684009",
          "2025-03-06 10:00:20.675912",
          "2025-03-06 10:00:20.682661",
          "2025-03-06 10:00:20.716744",
          "2025-03-06 10:00:20.697411",
          "2025-03-06 10:00:20.709659",
          "2025-03-06 10:00:20.676877",
          "2025-03-06 10:00:20.706081",
          "2025-03-06 10:00:20.724649",
          "2025-03-06 10:00:20.749887",
          "2025-03-06 10:00:20.765989",
          "2025-03-06 10:00:20.710295",
          "2025-03-06 10:00:20.764704",
          "2025-03-06 10:00:20.727033",
          "2025-03-06 10:00:20.689810",
          "2025-03-06 10:00:20.681041",
          "2025-03-06 10:00:20.670885",
          "2025-03-06 10:00:20.688681",
          "2025-03-06 10:00:20.678938",
          "2025-03-06 10:00:20.731683",
          "2025-03-06 10:00:20.718979",
          "2025-03-06 10:00:20.662013",
          "2025-03-06 10:00:20.674724",
          "2025-03-06 10:00:20.740068",
          "2025-03-06 10:00:20.729378",
          "2025-03-06 10:00:20.757797",
          "2025-03-06 10:00:20.746689",
          "2025-03-06 10:00:20.727885",
          "2025-03-06 10:00:20.759778",
          "2025-03-06 10:00:20.773486",
          "2025-03-06 10:00:20.714556",
          "2025-03-06 10:00:20.742893",
          "2025-03-06 10:00:20.661122",
          "2025-03-06 10:00:20.687008",
          "2025-03-06 10:00:20.728884",
          "2025-03-06 10:00:20.748170",
          "2025-03-06 10:00:20.722575",
          "2025-03-06 10:00:20.741297",
          "2025-03-06 10:00:20.735984",
          "2025-03-06 10:00:20.699802",
          "2025-03-06 10:00:20.660397",
          "2025-03-06 10:00:20.690162",
          "2025-03-06 10:00:20.666830",
          "2025-03-06 10:00:20.677094",
          "2025-03-06 10:00:20.780098",
          "2025-03-06 10:00:20.675275",
          "2025-03-06 10:00:20.681507",
          "2025-03-06 10:00:20.687245",
          "2025-03-06 10:00:20.687402",
          "2025-03-06 10:00:20.760124",
          "2025-03-06 10:00:20.669360",
          "2025-03-06 10:00:20.665252",
          "2025-03-06 10:00:20.748553",
          "2025-03-06 10:00:20.747337",
          "2025-03-06 10:00:20.744973",
          "2025-03-06 10:00:20.667084",
          "2025-03-06 10:00:20.660482",
          "2025-03-06 10:00:20.693849",
          "2025-03-06 10:00:20.694136",
          "2025-03-06 10:00:20.669954",
          "2025-03-06 10:00:20.700633",
          "2025-03-06 10:00:20.689351",
          "2025-03-06 10:00:20.664564",
          "2025-03-06 10:00:20.702529",
          "2025-03-06 10:00:20.699180",
          "2025-03-06 10:00:20.716529",
          "2025-03-06 10:00:20.697908",
          "2025-03-06 10:00:20.705886",
          "2025-03-06 10:00:20.673863",
          "2025-03-06 10:00:20.696079",
          "2025-03-06 10:00:20.735007",
          "2025-03-06 10:00:20.677518",
          "2025-03-06 10:00:20.667554",
          "2025-03-06 10:00:20.730883",
          "2025-03-06 10:00:20.712110",
          "2025-03-06 10:00:20.662683",
          "2025-03-06 10:00:20.735549",
          "2025-03-06 10:00:20.695062",
          "2025-03-06 10:00:20.694583",
          "2025-03-06 10:00:20.798995",
          "2025-03-06 10:00:20.716214",
          "2025-03-06 10:00:20.810271",
          "2025-03-06 10:00:20.734234",
          "2025-03-06 10:00:20.718091",
          "2025-03-06 10:00:20.663472",
          "2025-03-06 10:00:20.719514",
          "2025-03-06 10:00:20.782305",
          "2025-03-06 10:00:20.713125",
          "2025-03-06 10:00:20.721187",
          "2025-03-06 10:00:20.668063",
          "2025-03-06 10:00:20.732678",
          "2025-03-06 10:00:20.752414",
          "2025-03-06 10:00:20.739522",
          "2025-03-06 10:00:20.711895",
          "2025-03-06 10:00:20.703483",
          "2025-03-06 10:00:20.726456",
          "2025-03-06 10:00:20.829551",
          "2025-03-06 10:00:20.829771",
          "2025-03-06 10:00:20.725137",
          "2025-03-06 10:00:20.751928",
          "2025-03-06 10:00:20.696788",
          "2025-03-06 10:00:20.874065",
          "2025-03-06 10:00:20.777519",
          "2025-03-06 10:00:20.684847",
          "2025-03-06 10:00:20.712383",
          "2025-03-06 10:00:20.846787",
          "2025-03-06 10:00:20.838626",
          "2025-03-06 10:00:20.683008",
          "2025-03-06 10:00:20.769384",
          "2025-03-06 10:00:20.703050",
          "2025-03-06 10:00:20.668490",
          "2025-03-06 10:00:20.854645",
          "2025-03-06 10:00:20.766946",
          "2025-03-06 10:00:20.758082",
          "2025-03-06 10:00:20.772732",
          "2025-03-06 10:00:20.687987",
          "2025-03-06 10:00:20.757157",
          "2025-03-06 10:00:20.827208",
          "2025-03-06 10:00:20.823767",
          "2025-03-06 10:00:20.707720",
          "2025-03-06 10:00:20.755717",
          "2025-03-06 10:00:20.768220",
          "2025-03-06 10:00:20.778212",
          "2025-03-06 10:00:20.751465",
          "2025-03-06 10:00:20.755447",
          "2025-03-06 10:00:20.710737",
          "2025-03-06 10:00:20.839827",
          "2025-03-06 10:00:20.837689",
          "2025-03-06 10:00:20.844401",
          "2025-03-06 10:00:20.818400",
          "2025-03-06 10:00:20.767853",
          "2025-03-06 10:00:20.753832",
          "2025-03-06 10:00:20.760571",
          "2025-03-06 10:00:20.778469",
          "2025-03-06 10:00:20.740505",
          "2025-03-06 10:00:20.888324",
          "2025-03-06 10:00:20.840537",
          "2025-03-06 10:00:20.870738",
          "2025-03-06 10:00:20.849081",
          "2025-03-06 10:00:20.882132",
          "2025-03-06 10:00:20.871935",
          "2025-03-06 10:00:20.879335",
          "2025-03-06 10:00:20.824814",
          "2025-03-06 10:00:20.707136",
          "2025-03-06 10:00:20.856123",
          "2025-03-06 10:00:20.853524",
          "2025-03-06 10:00:20.708438",
          "2025-03-06 10:00:20.738355",
          "2025-03-06 10:00:20.762359",
          "2025-03-06 10:00:20.874379",
          "2025-03-06 10:00:20.887480",
          "2025-03-06 10:00:20.761475",
          "2025-03-06 10:00:20.873673",
          "2025-03-06 10:00:20.776104",
          "2025-03-06 10:00:20.864765",
          "2025-03-06 10:00:20.833998",
          "2025-03-06 10:00:20.664715",
          "2025-03-06 10:00:20.880880",
          "2025-03-06 10:00:20.781110",
          "2025-03-06 10:00:20.723308",
          "2025-03-06 10:00:20.865626",
          "2025-03-06 10:00:20.776915",
          "2025-03-06 10:00:20.862410",
          "2025-03-06 10:00:20.811922",
          "2025-03-06 10:00:20.889763",
          "2025-03-06 10:00:20.753253",
          "2025-03-06 10:00:20.870455",
          "2025-03-06 10:00:20.818889",
          "2025-03-06 10:00:20.814247",
          "2025-03-06 10:00:20.829359",
          "2025-03-06 10:00:20.741816",
          "2025-03-06 10:00:20.849850",
          "2025-03-06 10:00:20.884629",
          "2025-03-06 10:00:20.775164",
          "2025-03-06 10:00:20.863408",
          "2025-03-06 10:00:20.850795",
          "2025-03-06 10:00:20.835726",
          "2025-03-06 10:00:20.883914",
          "2025-03-06 10:00:20.815595",
          "2025-03-06 10:00:20.840844",
          "2025-03-06 10:00:20.745872",
          "2025-03-06 10:00:20.888756",
          "2025-03-06 10:00:20.847600",
          "2025-03-06 10:00:20.866296",
          "2025-03-06 10:00:20.864029",
          "2025-03-06 10:00:20.872908",
          "2025-03-06 10:00:20.832583",
          "2025-03-06 10:00:20.856740",
          "2025-03-06 10:00:20.867687",
          "2025-03-06 10:00:20.877456",
          "2025-03-06 10:00:20.755904",
          "2025-03-06 10:00:20.886251",
          "2025-03-06 10:00:20.859389",
          "2025-03-06 10:00:20.860188",
          "2025-03-06 10:00:20.890626",
          "2025-03-06 10:00:20.820821",
          "2025-03-06 10:00:20.876756",
          "2025-03-06 10:00:20.736398",
          "2025-03-06 10:00:20.889417",
          "2025-03-06 10:00:20.890069",
          "2025-03-06 10:00:20.868125",
          "2025-03-06 10:00:20.868904",
          "2025-03-06 10:00:20.882469",
          "2025-03-06 10:00:20.802030",
          "2025-03-06 10:00:20.878327",
          "2025-03-06 10:00:20.858226",
          "2025-03-06 10:00:20.869446",
          "2025-03-06 10:00:20.857489",
          "2025-03-06 10:00:20.883333",
          "2025-03-06 10:00:20.876117",
          "2025-03-06 10:00:20.875626",
          "2025-03-06 10:00:20.861069",
          "2025-03-06 10:00:20.845574",
          "2025-03-06 10:00:20.834874",
          "2025-03-06 10:00:20.750718",
          "2025-03-06 10:00:20.858937",
          "2025-03-06 10:00:20.882854"
         ],
         "marker": {
          "color": "#ee7625"
         },
         "name": "TTFT",
         "orientation": "h",
         "type": "bar",
         "x": [
          1946.493875002488,
          1883.116584009258,
          12109.647083998425,
          12108.390875000623,
          12092.944332995103,
          12080.891249992419,
          12113.426042007632,
          12108.835042003193,
          12107.870124993497,
          12061.666458001127,
          12018.966415998875,
          12047.632166999392,
          12114.608999996562,
          12099.506292011938,
          12099.974791999557,
          12108.52983398945,
          12052.494250005111,
          12107.895541994367,
          12057.712167006684,
          12045.916957998998,
          12042.462166995392,
          12092.740209001931,
          12038.863624999067,
          12056.329957995331,
          12066.60470800125,
          12127.521707996493,
          12043.01520899753,
          12068.896959011909,
          12106.637958000647,
          12127.313499993761,
          12073.797958000796,
          12104.116375005106,
          12044.100167011493,
          12107.648459001211,
          22682.86016699858,
          22683.526540989988,
          22676.716165995458,
          22650.750499989954,
          22677.65966699517,
          22653.543915992486,
          22690.103665998322,
          22669.57695799647,
          22640.550834010355,
          22613.613124995027,
          22600.909959001,
          22663.207042001886,
          22606.004750006832,
          22637.566915989737,
          22685.88891600666,
          22696.40708299994,
          22706.604042003164,
          22688.962250002078,
          22686.214165994897,
          22643.510542009608,
          22655.463458999293,
          22713.834916998167,
          22702.885374994366,
          22627.46508300188,
          22642.149791005068,
          22607.441499989363,
          22627.718165997067,
          22639.057042004424,
          22617.801625005086,
          22601.615332998335,
          22656.08583300491,
          22621.669958010898,
          33306.75458299811,
          33279.71054200316,
          33240.35041699244,
          33208.14654100104,
          33240.3976249916,
          33223.48383300414,
          33230.212334005046,
          33263.924083003076,
          33308.07650000497,
          33272.377417000826,
          33290.25483400619,
          33289.035333000356,
          33189.797375001945,
          33289.17708300287,
          33278.09812501073,
          33272.777499994845,
          33279.68841600523,
          33199.017624996486,
          33294.70729199238,
          33304.750167008024,
          33221.02395800175,
          33220.13566599344,
          33212.85424999951,
          33296.30845801148,
          33301.17120900832,
          33271.24437499151,
          33267.97954199719,
          33298.17112500314,
          33265.13558300212,
          33271.09333300905,
          33296.29058300634,
          33262.89120900037,
          43803.76558301214,
          43788.94449998916,
          43810.40883400419,
          43800.10200000834,
          43830.954457996995,
          43810.826916000224,
          43770.749833012815,
          43828.02258399897,
          43838.021083007334,
          43778.034417002345,
          43800.182625011075,
          43846.18758299621,
          43771.55170899641,
          43811.873207989265,
          43813.63666598918,
          43709.67258300516,
          43792.636832993594,
          43698.50816599501,
          43771.397875010734,
          43787.59141599585,
          43836.82837500237,
          43786.641541999415,
          43723.34741600207,
          43790.54437500599,
          43785.165791006875,
          43840.93629200652,
          43775.60866600834,
          43756.53645800776,
          43769.26883398846,
          43800.35608400067,
          43802.225499995984,
          43779.1483750043,
          54231.148416001815,
          54223.52579199651,
          54340.49650000816,
          54306.08587501047,
          54363.538707999396,
          54189.18079200375,
          54287.44887499488,
          54378.223708001315,
          54351.23120799835,
          54216.079457997694,
          54217.528124994715,
          54376.22691701108,
          54297.112959000515,
          54362.62687500857,
          54395.53758299735,
          54207.76575000491,
          54295.89049999777,
          54307.52487499558,
          54291.26774999895,
          54377.03954199969,
          54305.88674999308,
          54236.48254200816,
          54240.28266700043,
          54357.326457989984,
          54309.376582998084,
          54295.868458997575,
          54283.466125009,
          54312.64600000577,
          54308.52654199407,
          54353.19225001149,
          54223.84108399274,
          54227.30891700485,
          64812.37675000739,
          64842.90987500572,
          64884.31533299445,
          64906.66300000157,
          64902.48750000319,
          64879.9975830043,
          64914.96433400607,
          64771.87275000324,
          64816.483458998846,
          64782.62650000397,
          64811.67637500039,
          64776.11008399981,
          64787.13812500064,
          64783.991375006735,
          64831.70795800106,
          64950.135249993764,
          64805.248125005164,
          64799.36983299558,
          64952.63845799491,
          64923.99999999907,
          64893.396125000436,
          64779.91225000005,
          64768.50441699207,
          64901.49308399123,
          64784.328749999986,
          64880.1032499905,
          64792.77391699725,
          64827.71825000236,
          64995.2823749918,
          64781.14487499988,
          64878.42858400836,
          64934.46116699488,
          75311.85799998639,
          75393.95820899517,
          75313.71399998898,
          75358.90141699929,
          75287.31658299512,
          75419.76733300544,
          75299.99870900065,
          75358.0926249997,
          75364.79991600208,
          75347.65350000816,
          75437.2033339896,
          75321.36950000131,
          75292.88804200769,
          75401.94987499854,
          75314.04645800649,
          75326.59558398882,
          75342.94095801306,
          75292.30883299897,
          75359.09620800521,
          75336.57458299422,
          75431.70616601128,
          75287.33354200085,
          75329.44704100373,
          75309.88645899924,
          75314.94766699325,
          75306.30741699133,
          75345.01595899928,
          75320.80637499166,
          75313.00429200928,
          75301.73012500745,
          75419.1337920056,
          75290.17150000436,
          85896.84674999444,
          85889.51266599179,
          85869.87158299598,
          85931.01212498732,
          85876.18154200027,
          86014.28329199553,
          85866.00487500255,
          85856.68454199913,
          85892.50216599612,
          85887.08604199928,
          85869.46891600383,
          85951.43975000246,
          85883.15058300213,
          85894.01387500402,
          85892.90758299467,
          85896.72958299343,
          85869.30770899926,
          85879.96695800393,
          85877.37529199512,
          85894.27916701243,
          85906.48829199199,
          85920.68595899036,
          86001.03300000774,
          85893.94916599849,
          85871.5982499998
         ],
         "y": [
          6,
          7,
          8,
          9,
          10,
          11,
          12,
          13,
          14,
          15,
          16,
          17,
          18,
          19,
          20,
          21,
          22,
          23,
          24,
          25,
          26,
          27,
          28,
          29,
          30,
          31,
          32,
          33,
          34,
          35,
          36,
          37,
          38,
          39,
          40,
          41,
          42,
          43,
          44,
          45,
          46,
          47,
          48,
          49,
          50,
          51,
          52,
          53,
          54,
          55,
          56,
          57,
          58,
          59,
          60,
          61,
          62,
          63,
          64,
          65,
          66,
          67,
          68,
          69,
          70,
          71,
          72,
          73,
          74,
          75,
          76,
          77,
          78,
          79,
          80,
          81,
          82,
          83,
          84,
          85,
          86,
          87,
          88,
          89,
          90,
          91,
          92,
          93,
          94,
          95,
          96,
          97,
          98,
          99,
          100,
          101,
          102,
          103,
          104,
          105,
          106,
          107,
          108,
          109,
          110,
          111,
          112,
          113,
          114,
          115,
          116,
          117,
          118,
          119,
          120,
          121,
          122,
          123,
          124,
          125,
          126,
          127,
          128,
          129,
          130,
          131,
          132,
          133,
          134,
          135,
          136,
          137,
          138,
          139,
          140,
          141,
          142,
          143,
          144,
          145,
          146,
          147,
          148,
          149,
          150,
          151,
          152,
          153,
          154,
          155,
          156,
          157,
          158,
          159,
          160,
          161,
          162,
          163,
          164,
          165,
          166,
          167,
          168,
          169,
          170,
          171,
          172,
          173,
          174,
          175,
          176,
          177,
          178,
          179,
          180,
          181,
          182,
          183,
          184,
          185,
          186,
          187,
          188,
          189,
          190,
          191,
          192,
          193,
          194,
          195,
          196,
          197,
          198,
          199,
          200,
          201,
          202,
          203,
          204,
          205,
          206,
          207,
          208,
          209,
          210,
          211,
          212,
          213,
          214,
          215,
          216,
          217,
          218,
          219,
          220,
          221,
          222,
          223,
          224,
          225,
          226,
          227,
          228,
          229,
          230,
          231,
          232,
          233,
          234,
          235,
          236,
          237,
          238,
          239,
          240,
          241,
          242,
          243,
          244,
          245,
          246,
          247,
          248,
          249,
          250,
          251,
          252,
          253,
          254,
          255,
          256
         ]
        },
        {
         "base": [
          "2025-03-06 10:00:20.692285",
          "2025-03-06 10:00:20.759044",
          "2025-03-06 10:00:20.666942",
          "2025-03-06 10:00:20.671188",
          "2025-03-06 10:00:20.691099",
          "2025-03-06 10:00:20.699615",
          "2025-03-06 10:00:20.672473",
          "2025-03-06 10:00:20.676420",
          "2025-03-06 10:00:20.678093",
          "2025-03-06 10:00:20.725689",
          "2025-03-06 10:00:20.758358",
          "2025-03-06 10:00:20.737818",
          "2025-03-06 10:00:20.670613",
          "2025-03-06 10:00:20.682086",
          "2025-03-06 10:00:20.685317",
          "2025-03-06 10:00:20.674285",
          "2025-03-06 10:00:20.733284",
          "2025-03-06 10:00:20.679611",
          "2025-03-06 10:00:20.729754",
          "2025-03-06 10:00:20.736855",
          "2025-03-06 10:00:20.742107",
          "2025-03-06 10:00:20.692643",
          "2025-03-06 10:00:20.745142",
          "2025-03-06 10:00:20.731233",
          "2025-03-06 10:00:20.720805",
          "2025-03-06 10:00:20.659999",
          "2025-03-06 10:00:20.744654",
          "2025-03-06 10:00:20.717325",
          "2025-03-06 10:00:20.679176",
          "2025-03-06 10:00:20.660277",
          "2025-03-06 10:00:20.711380",
          "2025-03-06 10:00:20.683530",
          "2025-03-06 10:00:20.744002",
          "2025-03-06 10:00:20.679969",
          "2025-03-06 10:00:20.684009",
          "2025-03-06 10:00:20.675912",
          "2025-03-06 10:00:20.682661",
          "2025-03-06 10:00:20.716744",
          "2025-03-06 10:00:20.697411",
          "2025-03-06 10:00:20.709659",
          "2025-03-06 10:00:20.676877",
          "2025-03-06 10:00:20.706081",
          "2025-03-06 10:00:20.724649",
          "2025-03-06 10:00:20.749887",
          "2025-03-06 10:00:20.765989",
          "2025-03-06 10:00:20.710295",
          "2025-03-06 10:00:20.764704",
          "2025-03-06 10:00:20.727033",
          "2025-03-06 10:00:20.689810",
          "2025-03-06 10:00:20.681041",
          "2025-03-06 10:00:20.670885",
          "2025-03-06 10:00:20.688681",
          "2025-03-06 10:00:20.678938",
          "2025-03-06 10:00:20.731683",
          "2025-03-06 10:00:20.718979",
          "2025-03-06 10:00:20.662013",
          "2025-03-06 10:00:20.674724",
          "2025-03-06 10:00:20.740068",
          "2025-03-06 10:00:20.729378",
          "2025-03-06 10:00:20.757797",
          "2025-03-06 10:00:20.746689",
          "2025-03-06 10:00:20.727885",
          "2025-03-06 10:00:20.759778",
          "2025-03-06 10:00:20.773486",
          "2025-03-06 10:00:20.714556",
          "2025-03-06 10:00:20.742893",
          "2025-03-06 10:00:20.661122",
          "2025-03-06 10:00:20.687008",
          "2025-03-06 10:00:20.728884",
          "2025-03-06 10:00:20.748170",
          "2025-03-06 10:00:20.722575",
          "2025-03-06 10:00:20.741297",
          "2025-03-06 10:00:20.735984",
          "2025-03-06 10:00:20.699802",
          "2025-03-06 10:00:20.660397",
          "2025-03-06 10:00:20.690162",
          "2025-03-06 10:00:20.666830",
          "2025-03-06 10:00:20.677094",
          "2025-03-06 10:00:20.780098",
          "2025-03-06 10:00:20.675275",
          "2025-03-06 10:00:20.681507",
          "2025-03-06 10:00:20.687245",
          "2025-03-06 10:00:20.687402",
          "2025-03-06 10:00:20.760124",
          "2025-03-06 10:00:20.669360",
          "2025-03-06 10:00:20.665252",
          "2025-03-06 10:00:20.748553",
          "2025-03-06 10:00:20.747337",
          "2025-03-06 10:00:20.744973",
          "2025-03-06 10:00:20.667084",
          "2025-03-06 10:00:20.660482",
          "2025-03-06 10:00:20.693849",
          "2025-03-06 10:00:20.694136",
          "2025-03-06 10:00:20.669954",
          "2025-03-06 10:00:20.700633",
          "2025-03-06 10:00:20.689351",
          "2025-03-06 10:00:20.664564",
          "2025-03-06 10:00:20.702529",
          "2025-03-06 10:00:20.699180",
          "2025-03-06 10:00:20.716529",
          "2025-03-06 10:00:20.697908",
          "2025-03-06 10:00:20.705886",
          "2025-03-06 10:00:20.673863",
          "2025-03-06 10:00:20.696079",
          "2025-03-06 10:00:20.735007",
          "2025-03-06 10:00:20.677518",
          "2025-03-06 10:00:20.667554",
          "2025-03-06 10:00:20.730883",
          "2025-03-06 10:00:20.712110",
          "2025-03-06 10:00:20.662683",
          "2025-03-06 10:00:20.735549",
          "2025-03-06 10:00:20.695062",
          "2025-03-06 10:00:20.694583",
          "2025-03-06 10:00:20.798995",
          "2025-03-06 10:00:20.716214",
          "2025-03-06 10:00:20.810271",
          "2025-03-06 10:00:20.734234",
          "2025-03-06 10:00:20.718091",
          "2025-03-06 10:00:20.663472",
          "2025-03-06 10:00:20.719514",
          "2025-03-06 10:00:20.782305",
          "2025-03-06 10:00:20.713125",
          "2025-03-06 10:00:20.721187",
          "2025-03-06 10:00:20.668063",
          "2025-03-06 10:00:20.732678",
          "2025-03-06 10:00:20.752414",
          "2025-03-06 10:00:20.739522",
          "2025-03-06 10:00:20.711895",
          "2025-03-06 10:00:20.703483",
          "2025-03-06 10:00:20.726456",
          "2025-03-06 10:00:20.829551",
          "2025-03-06 10:00:20.829771",
          "2025-03-06 10:00:20.725137",
          "2025-03-06 10:00:20.751928",
          "2025-03-06 10:00:20.696788",
          "2025-03-06 10:00:20.874065",
          "2025-03-06 10:00:20.777519",
          "2025-03-06 10:00:20.684847",
          "2025-03-06 10:00:20.712383",
          "2025-03-06 10:00:20.846787",
          "2025-03-06 10:00:20.838626",
          "2025-03-06 10:00:20.683008",
          "2025-03-06 10:00:20.769384",
          "2025-03-06 10:00:20.703050",
          "2025-03-06 10:00:20.668490",
          "2025-03-06 10:00:20.854645",
          "2025-03-06 10:00:20.766946",
          "2025-03-06 10:00:20.758082",
          "2025-03-06 10:00:20.772732",
          "2025-03-06 10:00:20.687987",
          "2025-03-06 10:00:20.757157",
          "2025-03-06 10:00:20.827208",
          "2025-03-06 10:00:20.823767",
          "2025-03-06 10:00:20.707720",
          "2025-03-06 10:00:20.755717",
          "2025-03-06 10:00:20.768220",
          "2025-03-06 10:00:20.778212",
          "2025-03-06 10:00:20.751465",
          "2025-03-06 10:00:20.755447",
          "2025-03-06 10:00:20.710737",
          "2025-03-06 10:00:20.839827",
          "2025-03-06 10:00:20.837689",
          "2025-03-06 10:00:20.844401",
          "2025-03-06 10:00:20.818400",
          "2025-03-06 10:00:20.767853",
          "2025-03-06 10:00:20.753832",
          "2025-03-06 10:00:20.760571",
          "2025-03-06 10:00:20.778469",
          "2025-03-06 10:00:20.740505",
          "2025-03-06 10:00:20.888324",
          "2025-03-06 10:00:20.840537",
          "2025-03-06 10:00:20.870738",
          "2025-03-06 10:00:20.849081",
          "2025-03-06 10:00:20.882132",
          "2025-03-06 10:00:20.871935",
          "2025-03-06 10:00:20.879335",
          "2025-03-06 10:00:20.824814",
          "2025-03-06 10:00:20.707136",
          "2025-03-06 10:00:20.856123",
          "2025-03-06 10:00:20.853524",
          "2025-03-06 10:00:20.708438",
          "2025-03-06 10:00:20.738355",
          "2025-03-06 10:00:20.762359",
          "2025-03-06 10:00:20.874379",
          "2025-03-06 10:00:20.887480",
          "2025-03-06 10:00:20.761475",
          "2025-03-06 10:00:20.873673",
          "2025-03-06 10:00:20.776104",
          "2025-03-06 10:00:20.864765",
          "2025-03-06 10:00:20.833998",
          "2025-03-06 10:00:20.664715",
          "2025-03-06 10:00:20.880880",
          "2025-03-06 10:00:20.781110",
          "2025-03-06 10:00:20.723308",
          "2025-03-06 10:00:20.865626",
          "2025-03-06 10:00:20.776915",
          "2025-03-06 10:00:20.862410",
          "2025-03-06 10:00:20.811922",
          "2025-03-06 10:00:20.889763",
          "2025-03-06 10:00:20.753253",
          "2025-03-06 10:00:20.870455",
          "2025-03-06 10:00:20.818889",
          "2025-03-06 10:00:20.814247",
          "2025-03-06 10:00:20.829359",
          "2025-03-06 10:00:20.741816",
          "2025-03-06 10:00:20.849850",
          "2025-03-06 10:00:20.884629",
          "2025-03-06 10:00:20.775164",
          "2025-03-06 10:00:20.863408",
          "2025-03-06 10:00:20.850795",
          "2025-03-06 10:00:20.835726",
          "2025-03-06 10:00:20.883914",
          "2025-03-06 10:00:20.815595",
          "2025-03-06 10:00:20.840844",
          "2025-03-06 10:00:20.745872",
          "2025-03-06 10:00:20.888756",
          "2025-03-06 10:00:20.847600",
          "2025-03-06 10:00:20.866296",
          "2025-03-06 10:00:20.864029",
          "2025-03-06 10:00:20.872908",
          "2025-03-06 10:00:20.832583",
          "2025-03-06 10:00:20.856740",
          "2025-03-06 10:00:20.867687",
          "2025-03-06 10:00:20.877456",
          "2025-03-06 10:00:20.755904",
          "2025-03-06 10:00:20.886251",
          "2025-03-06 10:00:20.859389",
          "2025-03-06 10:00:20.860188",
          "2025-03-06 10:00:20.890626",
          "2025-03-06 10:00:20.820821",
          "2025-03-06 10:00:20.876756",
          "2025-03-06 10:00:20.736398",
          "2025-03-06 10:00:20.889417",
          "2025-03-06 10:00:20.890069",
          "2025-03-06 10:00:20.868125",
          "2025-03-06 10:00:20.868904",
          "2025-03-06 10:00:20.882469",
          "2025-03-06 10:00:20.802030",
          "2025-03-06 10:00:20.878327",
          "2025-03-06 10:00:20.858226",
          "2025-03-06 10:00:20.869446",
          "2025-03-06 10:00:20.857489",
          "2025-03-06 10:00:20.883333",
          "2025-03-06 10:00:20.876117",
          "2025-03-06 10:00:20.875626",
          "2025-03-06 10:00:20.861069",
          "2025-03-06 10:00:20.845574",
          "2025-03-06 10:00:20.834874",
          "2025-03-06 10:00:20.750718",
          "2025-03-06 10:00:20.858937",
          "2025-03-06 10:00:20.882854"
         ],
         "marker": {
          "color": "#325c8c"
         },
         "name": "End-to-end latency",
         "orientation": "h",
         "type": "bar",
         "x": [
          2302.939957997296,
          2237.062375003006,
          12834.917416999815,
          12833.363458004897,
          12819.684957998106,
          12815.56787500449,
          12847.377042009612,
          12846.640375006245,
          12845.860874993377,
          12802.486792003037,
          12769.38991600764,
          12793.806416986627,
          12865.34654199204,
          12856.329125002958,
          12853.449834001367,
          12866.928499992355,
          12810.379417001968,
          12872.379416992771,
          12824.074917007238,
          12826.632874988718,
          12822.918874997413,
          12874.756167002488,
          12824.460290998104,
          12838.450291994377,
          12848.669999992126,
          12910.393792000832,
          12825.250166992191,
          12856.857792008668,
          12892.543791007483,
          12917.079791994183,
          12862.670250004157,
          12892.380290999427,
          12829.881209006999,
          12898.974959010957,
          23398.971083996003,
          23408.34324999014,
          23399.534832991776,
          23375.05233399861,
          23393.719542000326,
          23387.67262500187,
          23419.744083003025,
          23396.631332987454,
          23386.026584004867,
          23360.37995798688,
          23345.237250003265,
          23398.585125003592,
          23349.21833399858,
          23392.722249991493,
          23432.46141599957,
          23438.892833000864,
          23454.356749993167,
          23437.627333012642,
          23449.256374995457,
          23398.16779200919,
          23410.974833997898,
          23473.89262499928,
          23460.52791600232,
          23398.648417001823,
          23410.485958011122,
          23382.859749995987,
          23395.837582997046,
          23414.495667006122,
          23382.99325000844,
          23371.184165996965,
          24408.939625005587,
          24385.332208010368,
          33984.6102080046,
          33956.68529201066,
          33914.54345900274,
          33901.100375005626,
          33927.527249994455,
          33918.04487499758,
          33920.80879199784,
          34005.55583300593,
          34001.34133300162,
          33968.9351249981,
          34031.08162499848,
          34032.53295799368,
          33884.91849999991,
          34026.36012498988,
          34015.50308401056,
          34010.794874993735,
          33995.32379100856,
          33946.26154100115,
          34024.74066699506,
          34046.90058399865,
          33958.992832995136,
          33960.89524999843,
          33960.99254098954,
          34042.8112080117,
          34046.56745900866,
          33973.1827499927,
          34005.0883750082,
          34028.92087500368,
          33976.96533300041,
          34009.18229200761,
          34034.9063330068,
          34003.29025000974,
          44529.46195800905,
          44518.73799999885,
          44545.14154201024,
          44536.60658400622,
          44569.02383299894,
          44550.474750009016,
          44514.40820800781,
          44573.256709001726,
          44588.43133300252,
          44528.284625004744,
          44551.63562500093,
          44598.43362499669,
          44529.47112498805,
          44571.86170799832,
          44572.81183300074,
          44470.967542001745,
          44557.416374998866,
          44462.29366600164,
          44533.987458999036,
          44555.99274999986,
          44613.05629099661,
          44561.49904199992,
          44496.01633299608,
          44564.705084005254,
          44551.96137499297,
          44604.76179199759,
          44550.210875007906,
          44529.071708006086,
          44543.01449999912,
          44570.256791994325,
          44578.168666994316,
          44553.404749996844,
          54938.39037499856,
          54937.964541997644,
          55045.7600410009,
          55019.632666997495,
          55079.04199999757,
          54906.436208009836,
          55005.6002499914,
          55102.34500000661,
          55078.801417010254,
          54945.36949999747,
          54954.08391600358,
          55108.77391700342,
          55029.74399999948,
          55095.74016601255,
          55132.411874990794,
          54952.81962500303,
          55042.15979199216,
          55049.82383399329,
          55037.270792003255,
          55115.526875000796,
          55052.4860000005,
          54990.495167003246,
          54987.82658299024,
          55113.5482499958,
          55066.75312500738,
          55049.528584000655,
          55037.09716700541,
          55073.10937499278,
          55060.45925000217,
          55110.95125001157,
          54981.010249990504,
          54985.99650000688,
          65480.01395800384,
          65507.26479200239,
          65561.52595799358,
          65580.68374999857,
          65574.51304099231,
          65561.21475000691,
          65599.59345900279,
          65451.31849999598,
          65506.679333993816,
          65480.584291013656,
          65504.98412500019,
          65483.994541995344,
          65495.68329199974,
          65491.43675000232,
          65545.60679200222,
          65662.63424999488,
          65514.018957997905,
          65516.719374994864,
          65667.96529199928,
          65634.5058339939,
          65611.36941600125,
          65505.92224999855,
          65489.389582988224,
          65620.1097919984,
          65510.89050000883,
          65608.80575000192,
          65520.778499994776,
          65550.76520900184,
          65724.39841600135,
          65510.47137500427,
          65607.05125000095,
          65668.89879199152,
          76049.4173749903,
          76141.0067090037,
          76056.28520798928,
          76110.72741700627,
          76033.48391599138,
          76169.84191699885,
          76059.13920899911,
          76107.99312499876,
          76115.71437500243,
          76102.97916700074,
          76189.49549998797,
          76095.06729099667,
          76059.26562499371,
          76169.35604100581,
          76086.23475000786,
          76095.38779199647,
          76111.03037500288,
          76073.21854100155,
          76139.68799999566,
          76116.33537500165,
          76209.58354100003,
          76072.34412500111,
          76116.80945800617,
          76091.26483400178,
          76096.09091699531,
          76090.770625,
          76136.07704199967,
          76109.63270798675,
          76103.05929199967,
          76086.16654200887,
          76207.66516700678,
          76087.12887500587,
          86595.98641599587,
          86598.92679098994,
          86571.47137500579,
          86644.96954198694,
          86588.82554199954,
          86732.65458300011,
          86582.5747080089,
          86589.89308300079,
          86613.99283299397,
          86612.22133299452,
          86602.9954580008,
          86685.57133400463,
          86611.72058299417,
          86636.35291700484,
          86623.02383298811,
          86637.95837499492,
          86613.59712500416,
          86623.56416600232,
          86622.74400000751,
          86634.2263330007,
          86650.71824999177,
          86661.66250000242,
          86744.69695800508,
          86639.58120800089,
          86613.193666999
         ],
         "y": [
          6,
          7,
          8,
          9,
          10,
          11,
          12,
          13,
          14,
          15,
          16,
          17,
          18,
          19,
          20,
          21,
          22,
          23,
          24,
          25,
          26,
          27,
          28,
          29,
          30,
          31,
          32,
          33,
          34,
          35,
          36,
          37,
          38,
          39,
          40,
          41,
          42,
          43,
          44,
          45,
          46,
          47,
          48,
          49,
          50,
          51,
          52,
          53,
          54,
          55,
          56,
          57,
          58,
          59,
          60,
          61,
          62,
          63,
          64,
          65,
          66,
          67,
          68,
          69,
          70,
          71,
          72,
          73,
          74,
          75,
          76,
          77,
          78,
          79,
          80,
          81,
          82,
          83,
          84,
          85,
          86,
          87,
          88,
          89,
          90,
          91,
          92,
          93,
          94,
          95,
          96,
          97,
          98,
          99,
          100,
          101,
          102,
          103,
          104,
          105,
          106,
          107,
          108,
          109,
          110,
          111,
          112,
          113,
          114,
          115,
          116,
          117,
          118,
          119,
          120,
          121,
          122,
          123,
          124,
          125,
          126,
          127,
          128,
          129,
          130,
          131,
          132,
          133,
          134,
          135,
          136,
          137,
          138,
          139,
          140,
          141,
          142,
          143,
          144,
          145,
          146,
          147,
          148,
          149,
          150,
          151,
          152,
          153,
          154,
          155,
          156,
          157,
          158,
          159,
          160,
          161,
          162,
          163,
          164,
          165,
          166,
          167,
          168,
          169,
          170,
          171,
          172,
          173,
          174,
          175,
          176,
          177,
          178,
          179,
          180,
          181,
          182,
          183,
          184,
          185,
          186,
          187,
          188,
          189,
          190,
          191,
          192,
          193,
          194,
          195,
          196,
          197,
          198,
          199,
          200,
          201,
          202,
          203,
          204,
          205,
          206,
          207,
          208,
          209,
          210,
          211,
          212,
          213,
          214,
          215,
          216,
          217,
          218,
          219,
          220,
          221,
          222,
          223,
          224,
          225,
          226,
          227,
          228,
          229,
          230,
          231,
          232,
          233,
          234,
          235,
          236,
          237,
          238,
          239,
          240,
          241,
          242,
          243,
          244,
          245,
          246,
          247,
          248,
          249,
          250,
          251,
          252,
          253,
          254,
          255,
          256
         ]
        }
       ],
       "layout": {
        "shapes": [
         {
          "fillcolor": "grey",
          "line": {
           "width": 0
          },
          "opacity": 0.1,
          "type": "rect",
          "x0": 0,
          "x1": 1,
          "xref": "x domain",
          "y0": 0.5,
          "y1": 1.5,
          "yref": "y"
         },
         {
          "fillcolor": "grey",
          "line": {
           "width": 0
          },
          "opacity": 0.1,
          "type": "rect",
          "x0": 0,
          "x1": 1,
          "xref": "x domain",
          "y0": 2.5,
          "y1": 3.5,
          "yref": "y"
         },
         {
          "fillcolor": "grey",
          "line": {
           "width": 0
          },
          "opacity": 0.1,
          "type": "rect",
          "x0": 0,
          "x1": 1,
          "xref": "x domain",
          "y0": 4.5,
          "y1": 5.5,
          "yref": "y"
         },
         {
          "fillcolor": "grey",
          "line": {
           "width": 0
          },
          "opacity": 0.1,
          "type": "rect",
          "x0": 0,
          "x1": 1,
          "xref": "x domain",
          "y0": 6.5,
          "y1": 7.5,
          "yref": "y"
         },
         {
          "fillcolor": "grey",
          "line": {
           "width": 0
          },
          "opacity": 0.1,
          "type": "rect",
          "x0": 0,
          "x1": 1,
          "xref": "x domain",
          "y0": 8.5,
          "y1": 9.5,
          "yref": "y"
         },
         {
          "fillcolor": "grey",
          "line": {
           "width": 0
          },
          "opacity": 0.1,
          "type": "rect",
          "x0": 0,
          "x1": 1,
          "xref": "x domain",
          "y0": 10.5,
          "y1": 11.5,
          "yref": "y"
         },
         {
          "fillcolor": "grey",
          "line": {
           "width": 0
          },
          "opacity": 0.1,
          "type": "rect",
          "x0": 0,
          "x1": 1,
          "xref": "x domain",
          "y0": 12.5,
          "y1": 13.5,
          "yref": "y"
         },
         {
          "fillcolor": "grey",
          "line": {
           "width": 0
          },
          "opacity": 0.1,
          "type": "rect",
          "x0": 0,
          "x1": 1,
          "xref": "x domain",
          "y0": 14.5,
          "y1": 15.5,
          "yref": "y"
         },
         {
          "fillcolor": "grey",
          "line": {
           "width": 0
          },
          "opacity": 0.1,
          "type": "rect",
          "x0": 0,
          "x1": 1,
          "xref": "x domain",
          "y0": 16.5,
          "y1": 17.5,
          "yref": "y"
         },
         {
          "fillcolor": "grey",
          "line": {
           "width": 0
          },
          "opacity": 0.1,
          "type": "rect",
          "x0": 0,
          "x1": 1,
          "xref": "x domain",
          "y0": 18.5,
          "y1": 19.5,
          "yref": "y"
         },
         {
          "fillcolor": "grey",
          "line": {
           "width": 0
          },
          "opacity": 0.1,
          "type": "rect",
          "x0": 0,
          "x1": 1,
          "xref": "x domain",
          "y0": 20.5,
          "y1": 21.5,
          "yref": "y"
         },
         {
          "fillcolor": "grey",
          "line": {
           "width": 0
          },
          "opacity": 0.1,
          "type": "rect",
          "x0": 0,
          "x1": 1,
          "xref": "x domain",
          "y0": 22.5,
          "y1": 23.5,
          "yref": "y"
         },
         {
          "fillcolor": "grey",
          "line": {
           "width": 0
          },
          "opacity": 0.1,
          "type": "rect",
          "x0": 0,
          "x1": 1,
          "xref": "x domain",
          "y0": 24.5,
          "y1": 25.5,
          "yref": "y"
         },
         {
          "fillcolor": "grey",
          "line": {
           "width": 0
          },
          "opacity": 0.1,
          "type": "rect",
          "x0": 0,
          "x1": 1,
          "xref": "x domain",
          "y0": 26.5,
          "y1": 27.5,
          "yref": "y"
         },
         {
          "fillcolor": "grey",
          "line": {
           "width": 0
          },
          "opacity": 0.1,
          "type": "rect",
          "x0": 0,
          "x1": 1,
          "xref": "x domain",
          "y0": 28.5,
          "y1": 29.5,
          "yref": "y"
         },
         {
          "fillcolor": "grey",
          "line": {
           "width": 0
          },
          "opacity": 0.1,
          "type": "rect",
          "x0": 0,
          "x1": 1,
          "xref": "x domain",
          "y0": 30.5,
          "y1": 31.5,
          "yref": "y"
         },
         {
          "fillcolor": "grey",
          "line": {
           "width": 0
          },
          "opacity": 0.1,
          "type": "rect",
          "x0": 0,
          "x1": 1,
          "xref": "x domain",
          "y0": 32.5,
          "y1": 33.5,
          "yref": "y"
         },
         {
          "fillcolor": "grey",
          "line": {
           "width": 0
          },
          "opacity": 0.1,
          "type": "rect",
          "x0": 0,
          "x1": 1,
          "xref": "x domain",
          "y0": 34.5,
          "y1": 35.5,
          "yref": "y"
         },
         {
          "fillcolor": "grey",
          "line": {
           "width": 0
          },
          "opacity": 0.1,
          "type": "rect",
          "x0": 0,
          "x1": 1,
          "xref": "x domain",
          "y0": 36.5,
          "y1": 37.5,
          "yref": "y"
         },
         {
          "fillcolor": "grey",
          "line": {
           "width": 0
          },
          "opacity": 0.1,
          "type": "rect",
          "x0": 0,
          "x1": 1,
          "xref": "x domain",
          "y0": 38.5,
          "y1": 39.5,
          "yref": "y"
         },
         {
          "fillcolor": "grey",
          "line": {
           "width": 0
          },
          "opacity": 0.1,
          "type": "rect",
          "x0": 0,
          "x1": 1,
          "xref": "x domain",
          "y0": 40.5,
          "y1": 41.5,
          "yref": "y"
         },
         {
          "fillcolor": "grey",
          "line": {
           "width": 0
          },
          "opacity": 0.1,
          "type": "rect",
          "x0": 0,
          "x1": 1,
          "xref": "x domain",
          "y0": 42.5,
          "y1": 43.5,
          "yref": "y"
         },
         {
          "fillcolor": "grey",
          "line": {
           "width": 0
          },
          "opacity": 0.1,
          "type": "rect",
          "x0": 0,
          "x1": 1,
          "xref": "x domain",
          "y0": 44.5,
          "y1": 45.5,
          "yref": "y"
         },
         {
          "fillcolor": "grey",
          "line": {
           "width": 0
          },
          "opacity": 0.1,
          "type": "rect",
          "x0": 0,
          "x1": 1,
          "xref": "x domain",
          "y0": 46.5,
          "y1": 47.5,
          "yref": "y"
         },
         {
          "fillcolor": "grey",
          "line": {
           "width": 0
          },
          "opacity": 0.1,
          "type": "rect",
          "x0": 0,
          "x1": 1,
          "xref": "x domain",
          "y0": 48.5,
          "y1": 49.5,
          "yref": "y"
         },
         {
          "fillcolor": "grey",
          "line": {
           "width": 0
          },
          "opacity": 0.1,
          "type": "rect",
          "x0": 0,
          "x1": 1,
          "xref": "x domain",
          "y0": 50.5,
          "y1": 51.5,
          "yref": "y"
         },
         {
          "fillcolor": "grey",
          "line": {
           "width": 0
          },
          "opacity": 0.1,
          "type": "rect",
          "x0": 0,
          "x1": 1,
          "xref": "x domain",
          "y0": 52.5,
          "y1": 53.5,
          "yref": "y"
         },
         {
          "fillcolor": "grey",
          "line": {
           "width": 0
          },
          "opacity": 0.1,
          "type": "rect",
          "x0": 0,
          "x1": 1,
          "xref": "x domain",
          "y0": 54.5,
          "y1": 55.5,
          "yref": "y"
         },
         {
          "fillcolor": "grey",
          "line": {
           "width": 0
          },
          "opacity": 0.1,
          "type": "rect",
          "x0": 0,
          "x1": 1,
          "xref": "x domain",
          "y0": 56.5,
          "y1": 57.5,
          "yref": "y"
         },
         {
          "fillcolor": "grey",
          "line": {
           "width": 0
          },
          "opacity": 0.1,
          "type": "rect",
          "x0": 0,
          "x1": 1,
          "xref": "x domain",
          "y0": 58.5,
          "y1": 59.5,
          "yref": "y"
         },
         {
          "fillcolor": "grey",
          "line": {
           "width": 0
          },
          "opacity": 0.1,
          "type": "rect",
          "x0": 0,
          "x1": 1,
          "xref": "x domain",
          "y0": 60.5,
          "y1": 61.5,
          "yref": "y"
         },
         {
          "fillcolor": "grey",
          "line": {
           "width": 0
          },
          "opacity": 0.1,
          "type": "rect",
          "x0": 0,
          "x1": 1,
          "xref": "x domain",
          "y0": 62.5,
          "y1": 63.5,
          "yref": "y"
         },
         {
          "fillcolor": "grey",
          "line": {
           "width": 0
          },
          "opacity": 0.1,
          "type": "rect",
          "x0": 0,
          "x1": 1,
          "xref": "x domain",
          "y0": 64.5,
          "y1": 65.5,
          "yref": "y"
         },
         {
          "fillcolor": "grey",
          "line": {
           "width": 0
          },
          "opacity": 0.1,
          "type": "rect",
          "x0": 0,
          "x1": 1,
          "xref": "x domain",
          "y0": 66.5,
          "y1": 67.5,
          "yref": "y"
         },
         {
          "fillcolor": "grey",
          "line": {
           "width": 0
          },
          "opacity": 0.1,
          "type": "rect",
          "x0": 0,
          "x1": 1,
          "xref": "x domain",
          "y0": 68.5,
          "y1": 69.5,
          "yref": "y"
         },
         {
          "fillcolor": "grey",
          "line": {
           "width": 0
          },
          "opacity": 0.1,
          "type": "rect",
          "x0": 0,
          "x1": 1,
          "xref": "x domain",
          "y0": 70.5,
          "y1": 71.5,
          "yref": "y"
         },
         {
          "fillcolor": "grey",
          "line": {
           "width": 0
          },
          "opacity": 0.1,
          "type": "rect",
          "x0": 0,
          "x1": 1,
          "xref": "x domain",
          "y0": 72.5,
          "y1": 73.5,
          "yref": "y"
         },
         {
          "fillcolor": "grey",
          "line": {
           "width": 0
          },
          "opacity": 0.1,
          "type": "rect",
          "x0": 0,
          "x1": 1,
          "xref": "x domain",
          "y0": 74.5,
          "y1": 75.5,
          "yref": "y"
         },
         {
          "fillcolor": "grey",
          "line": {
           "width": 0
          },
          "opacity": 0.1,
          "type": "rect",
          "x0": 0,
          "x1": 1,
          "xref": "x domain",
          "y0": 76.5,
          "y1": 77.5,
          "yref": "y"
         },
         {
          "fillcolor": "grey",
          "line": {
           "width": 0
          },
          "opacity": 0.1,
          "type": "rect",
          "x0": 0,
          "x1": 1,
          "xref": "x domain",
          "y0": 78.5,
          "y1": 79.5,
          "yref": "y"
         },
         {
          "fillcolor": "grey",
          "line": {
           "width": 0
          },
          "opacity": 0.1,
          "type": "rect",
          "x0": 0,
          "x1": 1,
          "xref": "x domain",
          "y0": 80.5,
          "y1": 81.5,
          "yref": "y"
         },
         {
          "fillcolor": "grey",
          "line": {
           "width": 0
          },
          "opacity": 0.1,
          "type": "rect",
          "x0": 0,
          "x1": 1,
          "xref": "x domain",
          "y0": 82.5,
          "y1": 83.5,
          "yref": "y"
         },
         {
          "fillcolor": "grey",
          "line": {
           "width": 0
          },
          "opacity": 0.1,
          "type": "rect",
          "x0": 0,
          "x1": 1,
          "xref": "x domain",
          "y0": 84.5,
          "y1": 85.5,
          "yref": "y"
         },
         {
          "fillcolor": "grey",
          "line": {
           "width": 0
          },
          "opacity": 0.1,
          "type": "rect",
          "x0": 0,
          "x1": 1,
          "xref": "x domain",
          "y0": 86.5,
          "y1": 87.5,
          "yref": "y"
         },
         {
          "fillcolor": "grey",
          "line": {
           "width": 0
          },
          "opacity": 0.1,
          "type": "rect",
          "x0": 0,
          "x1": 1,
          "xref": "x domain",
          "y0": 88.5,
          "y1": 89.5,
          "yref": "y"
         },
         {
          "fillcolor": "grey",
          "line": {
           "width": 0
          },
          "opacity": 0.1,
          "type": "rect",
          "x0": 0,
          "x1": 1,
          "xref": "x domain",
          "y0": 90.5,
          "y1": 91.5,
          "yref": "y"
         },
         {
          "fillcolor": "grey",
          "line": {
           "width": 0
          },
          "opacity": 0.1,
          "type": "rect",
          "x0": 0,
          "x1": 1,
          "xref": "x domain",
          "y0": 92.5,
          "y1": 93.5,
          "yref": "y"
         },
         {
          "fillcolor": "grey",
          "line": {
           "width": 0
          },
          "opacity": 0.1,
          "type": "rect",
          "x0": 0,
          "x1": 1,
          "xref": "x domain",
          "y0": 94.5,
          "y1": 95.5,
          "yref": "y"
         },
         {
          "fillcolor": "grey",
          "line": {
           "width": 0
          },
          "opacity": 0.1,
          "type": "rect",
          "x0": 0,
          "x1": 1,
          "xref": "x domain",
          "y0": 96.5,
          "y1": 97.5,
          "yref": "y"
         },
         {
          "fillcolor": "grey",
          "line": {
           "width": 0
          },
          "opacity": 0.1,
          "type": "rect",
          "x0": 0,
          "x1": 1,
          "xref": "x domain",
          "y0": 98.5,
          "y1": 99.5,
          "yref": "y"
         },
         {
          "fillcolor": "grey",
          "line": {
           "width": 0
          },
          "opacity": 0.1,
          "type": "rect",
          "x0": 0,
          "x1": 1,
          "xref": "x domain",
          "y0": 100.5,
          "y1": 101.5,
          "yref": "y"
         },
         {
          "fillcolor": "grey",
          "line": {
           "width": 0
          },
          "opacity": 0.1,
          "type": "rect",
          "x0": 0,
          "x1": 1,
          "xref": "x domain",
          "y0": 102.5,
          "y1": 103.5,
          "yref": "y"
         },
         {
          "fillcolor": "grey",
          "line": {
           "width": 0
          },
          "opacity": 0.1,
          "type": "rect",
          "x0": 0,
          "x1": 1,
          "xref": "x domain",
          "y0": 104.5,
          "y1": 105.5,
          "yref": "y"
         },
         {
          "fillcolor": "grey",
          "line": {
           "width": 0
          },
          "opacity": 0.1,
          "type": "rect",
          "x0": 0,
          "x1": 1,
          "xref": "x domain",
          "y0": 106.5,
          "y1": 107.5,
          "yref": "y"
         },
         {
          "fillcolor": "grey",
          "line": {
           "width": 0
          },
          "opacity": 0.1,
          "type": "rect",
          "x0": 0,
          "x1": 1,
          "xref": "x domain",
          "y0": 108.5,
          "y1": 109.5,
          "yref": "y"
         },
         {
          "fillcolor": "grey",
          "line": {
           "width": 0
          },
          "opacity": 0.1,
          "type": "rect",
          "x0": 0,
          "x1": 1,
          "xref": "x domain",
          "y0": 110.5,
          "y1": 111.5,
          "yref": "y"
         },
         {
          "fillcolor": "grey",
          "line": {
           "width": 0
          },
          "opacity": 0.1,
          "type": "rect",
          "x0": 0,
          "x1": 1,
          "xref": "x domain",
          "y0": 112.5,
          "y1": 113.5,
          "yref": "y"
         },
         {
          "fillcolor": "grey",
          "line": {
           "width": 0
          },
          "opacity": 0.1,
          "type": "rect",
          "x0": 0,
          "x1": 1,
          "xref": "x domain",
          "y0": 114.5,
          "y1": 115.5,
          "yref": "y"
         },
         {
          "fillcolor": "grey",
          "line": {
           "width": 0
          },
          "opacity": 0.1,
          "type": "rect",
          "x0": 0,
          "x1": 1,
          "xref": "x domain",
          "y0": 116.5,
          "y1": 117.5,
          "yref": "y"
         },
         {
          "fillcolor": "grey",
          "line": {
           "width": 0
          },
          "opacity": 0.1,
          "type": "rect",
          "x0": 0,
          "x1": 1,
          "xref": "x domain",
          "y0": 118.5,
          "y1": 119.5,
          "yref": "y"
         },
         {
          "fillcolor": "grey",
          "line": {
           "width": 0
          },
          "opacity": 0.1,
          "type": "rect",
          "x0": 0,
          "x1": 1,
          "xref": "x domain",
          "y0": 120.5,
          "y1": 121.5,
          "yref": "y"
         },
         {
          "fillcolor": "grey",
          "line": {
           "width": 0
          },
          "opacity": 0.1,
          "type": "rect",
          "x0": 0,
          "x1": 1,
          "xref": "x domain",
          "y0": 122.5,
          "y1": 123.5,
          "yref": "y"
         },
         {
          "fillcolor": "grey",
          "line": {
           "width": 0
          },
          "opacity": 0.1,
          "type": "rect",
          "x0": 0,
          "x1": 1,
          "xref": "x domain",
          "y0": 124.5,
          "y1": 125.5,
          "yref": "y"
         },
         {
          "fillcolor": "grey",
          "line": {
           "width": 0
          },
          "opacity": 0.1,
          "type": "rect",
          "x0": 0,
          "x1": 1,
          "xref": "x domain",
          "y0": 126.5,
          "y1": 127.5,
          "yref": "y"
         },
         {
          "fillcolor": "grey",
          "line": {
           "width": 0
          },
          "opacity": 0.1,
          "type": "rect",
          "x0": 0,
          "x1": 1,
          "xref": "x domain",
          "y0": 128.5,
          "y1": 129.5,
          "yref": "y"
         },
         {
          "fillcolor": "grey",
          "line": {
           "width": 0
          },
          "opacity": 0.1,
          "type": "rect",
          "x0": 0,
          "x1": 1,
          "xref": "x domain",
          "y0": 130.5,
          "y1": 131.5,
          "yref": "y"
         },
         {
          "fillcolor": "grey",
          "line": {
           "width": 0
          },
          "opacity": 0.1,
          "type": "rect",
          "x0": 0,
          "x1": 1,
          "xref": "x domain",
          "y0": 132.5,
          "y1": 133.5,
          "yref": "y"
         },
         {
          "fillcolor": "grey",
          "line": {
           "width": 0
          },
          "opacity": 0.1,
          "type": "rect",
          "x0": 0,
          "x1": 1,
          "xref": "x domain",
          "y0": 134.5,
          "y1": 135.5,
          "yref": "y"
         },
         {
          "fillcolor": "grey",
          "line": {
           "width": 0
          },
          "opacity": 0.1,
          "type": "rect",
          "x0": 0,
          "x1": 1,
          "xref": "x domain",
          "y0": 136.5,
          "y1": 137.5,
          "yref": "y"
         },
         {
          "fillcolor": "grey",
          "line": {
           "width": 0
          },
          "opacity": 0.1,
          "type": "rect",
          "x0": 0,
          "x1": 1,
          "xref": "x domain",
          "y0": 138.5,
          "y1": 139.5,
          "yref": "y"
         },
         {
          "fillcolor": "grey",
          "line": {
           "width": 0
          },
          "opacity": 0.1,
          "type": "rect",
          "x0": 0,
          "x1": 1,
          "xref": "x domain",
          "y0": 140.5,
          "y1": 141.5,
          "yref": "y"
         },
         {
          "fillcolor": "grey",
          "line": {
           "width": 0
          },
          "opacity": 0.1,
          "type": "rect",
          "x0": 0,
          "x1": 1,
          "xref": "x domain",
          "y0": 142.5,
          "y1": 143.5,
          "yref": "y"
         },
         {
          "fillcolor": "grey",
          "line": {
           "width": 0
          },
          "opacity": 0.1,
          "type": "rect",
          "x0": 0,
          "x1": 1,
          "xref": "x domain",
          "y0": 144.5,
          "y1": 145.5,
          "yref": "y"
         },
         {
          "fillcolor": "grey",
          "line": {
           "width": 0
          },
          "opacity": 0.1,
          "type": "rect",
          "x0": 0,
          "x1": 1,
          "xref": "x domain",
          "y0": 146.5,
          "y1": 147.5,
          "yref": "y"
         },
         {
          "fillcolor": "grey",
          "line": {
           "width": 0
          },
          "opacity": 0.1,
          "type": "rect",
          "x0": 0,
          "x1": 1,
          "xref": "x domain",
          "y0": 148.5,
          "y1": 149.5,
          "yref": "y"
         },
         {
          "fillcolor": "grey",
          "line": {
           "width": 0
          },
          "opacity": 0.1,
          "type": "rect",
          "x0": 0,
          "x1": 1,
          "xref": "x domain",
          "y0": 150.5,
          "y1": 151.5,
          "yref": "y"
         },
         {
          "fillcolor": "grey",
          "line": {
           "width": 0
          },
          "opacity": 0.1,
          "type": "rect",
          "x0": 0,
          "x1": 1,
          "xref": "x domain",
          "y0": 152.5,
          "y1": 153.5,
          "yref": "y"
         },
         {
          "fillcolor": "grey",
          "line": {
           "width": 0
          },
          "opacity": 0.1,
          "type": "rect",
          "x0": 0,
          "x1": 1,
          "xref": "x domain",
          "y0": 154.5,
          "y1": 155.5,
          "yref": "y"
         },
         {
          "fillcolor": "grey",
          "line": {
           "width": 0
          },
          "opacity": 0.1,
          "type": "rect",
          "x0": 0,
          "x1": 1,
          "xref": "x domain",
          "y0": 156.5,
          "y1": 157.5,
          "yref": "y"
         },
         {
          "fillcolor": "grey",
          "line": {
           "width": 0
          },
          "opacity": 0.1,
          "type": "rect",
          "x0": 0,
          "x1": 1,
          "xref": "x domain",
          "y0": 158.5,
          "y1": 159.5,
          "yref": "y"
         },
         {
          "fillcolor": "grey",
          "line": {
           "width": 0
          },
          "opacity": 0.1,
          "type": "rect",
          "x0": 0,
          "x1": 1,
          "xref": "x domain",
          "y0": 160.5,
          "y1": 161.5,
          "yref": "y"
         },
         {
          "fillcolor": "grey",
          "line": {
           "width": 0
          },
          "opacity": 0.1,
          "type": "rect",
          "x0": 0,
          "x1": 1,
          "xref": "x domain",
          "y0": 162.5,
          "y1": 163.5,
          "yref": "y"
         },
         {
          "fillcolor": "grey",
          "line": {
           "width": 0
          },
          "opacity": 0.1,
          "type": "rect",
          "x0": 0,
          "x1": 1,
          "xref": "x domain",
          "y0": 164.5,
          "y1": 165.5,
          "yref": "y"
         },
         {
          "fillcolor": "grey",
          "line": {
           "width": 0
          },
          "opacity": 0.1,
          "type": "rect",
          "x0": 0,
          "x1": 1,
          "xref": "x domain",
          "y0": 166.5,
          "y1": 167.5,
          "yref": "y"
         },
         {
          "fillcolor": "grey",
          "line": {
           "width": 0
          },
          "opacity": 0.1,
          "type": "rect",
          "x0": 0,
          "x1": 1,
          "xref": "x domain",
          "y0": 168.5,
          "y1": 169.5,
          "yref": "y"
         },
         {
          "fillcolor": "grey",
          "line": {
           "width": 0
          },
          "opacity": 0.1,
          "type": "rect",
          "x0": 0,
          "x1": 1,
          "xref": "x domain",
          "y0": 170.5,
          "y1": 171.5,
          "yref": "y"
         },
         {
          "fillcolor": "grey",
          "line": {
           "width": 0
          },
          "opacity": 0.1,
          "type": "rect",
          "x0": 0,
          "x1": 1,
          "xref": "x domain",
          "y0": 172.5,
          "y1": 173.5,
          "yref": "y"
         },
         {
          "fillcolor": "grey",
          "line": {
           "width": 0
          },
          "opacity": 0.1,
          "type": "rect",
          "x0": 0,
          "x1": 1,
          "xref": "x domain",
          "y0": 174.5,
          "y1": 175.5,
          "yref": "y"
         },
         {
          "fillcolor": "grey",
          "line": {
           "width": 0
          },
          "opacity": 0.1,
          "type": "rect",
          "x0": 0,
          "x1": 1,
          "xref": "x domain",
          "y0": 176.5,
          "y1": 177.5,
          "yref": "y"
         },
         {
          "fillcolor": "grey",
          "line": {
           "width": 0
          },
          "opacity": 0.1,
          "type": "rect",
          "x0": 0,
          "x1": 1,
          "xref": "x domain",
          "y0": 178.5,
          "y1": 179.5,
          "yref": "y"
         },
         {
          "fillcolor": "grey",
          "line": {
           "width": 0
          },
          "opacity": 0.1,
          "type": "rect",
          "x0": 0,
          "x1": 1,
          "xref": "x domain",
          "y0": 180.5,
          "y1": 181.5,
          "yref": "y"
         },
         {
          "fillcolor": "grey",
          "line": {
           "width": 0
          },
          "opacity": 0.1,
          "type": "rect",
          "x0": 0,
          "x1": 1,
          "xref": "x domain",
          "y0": 182.5,
          "y1": 183.5,
          "yref": "y"
         },
         {
          "fillcolor": "grey",
          "line": {
           "width": 0
          },
          "opacity": 0.1,
          "type": "rect",
          "x0": 0,
          "x1": 1,
          "xref": "x domain",
          "y0": 184.5,
          "y1": 185.5,
          "yref": "y"
         },
         {
          "fillcolor": "grey",
          "line": {
           "width": 0
          },
          "opacity": 0.1,
          "type": "rect",
          "x0": 0,
          "x1": 1,
          "xref": "x domain",
          "y0": 186.5,
          "y1": 187.5,
          "yref": "y"
         },
         {
          "fillcolor": "grey",
          "line": {
           "width": 0
          },
          "opacity": 0.1,
          "type": "rect",
          "x0": 0,
          "x1": 1,
          "xref": "x domain",
          "y0": 188.5,
          "y1": 189.5,
          "yref": "y"
         },
         {
          "fillcolor": "grey",
          "line": {
           "width": 0
          },
          "opacity": 0.1,
          "type": "rect",
          "x0": 0,
          "x1": 1,
          "xref": "x domain",
          "y0": 190.5,
          "y1": 191.5,
          "yref": "y"
         },
         {
          "fillcolor": "grey",
          "line": {
           "width": 0
          },
          "opacity": 0.1,
          "type": "rect",
          "x0": 0,
          "x1": 1,
          "xref": "x domain",
          "y0": 192.5,
          "y1": 193.5,
          "yref": "y"
         },
         {
          "fillcolor": "grey",
          "line": {
           "width": 0
          },
          "opacity": 0.1,
          "type": "rect",
          "x0": 0,
          "x1": 1,
          "xref": "x domain",
          "y0": 194.5,
          "y1": 195.5,
          "yref": "y"
         },
         {
          "fillcolor": "grey",
          "line": {
           "width": 0
          },
          "opacity": 0.1,
          "type": "rect",
          "x0": 0,
          "x1": 1,
          "xref": "x domain",
          "y0": 196.5,
          "y1": 197.5,
          "yref": "y"
         },
         {
          "fillcolor": "grey",
          "line": {
           "width": 0
          },
          "opacity": 0.1,
          "type": "rect",
          "x0": 0,
          "x1": 1,
          "xref": "x domain",
          "y0": 198.5,
          "y1": 199.5,
          "yref": "y"
         },
         {
          "fillcolor": "grey",
          "line": {
           "width": 0
          },
          "opacity": 0.1,
          "type": "rect",
          "x0": 0,
          "x1": 1,
          "xref": "x domain",
          "y0": 200.5,
          "y1": 201.5,
          "yref": "y"
         },
         {
          "fillcolor": "grey",
          "line": {
           "width": 0
          },
          "opacity": 0.1,
          "type": "rect",
          "x0": 0,
          "x1": 1,
          "xref": "x domain",
          "y0": 202.5,
          "y1": 203.5,
          "yref": "y"
         },
         {
          "fillcolor": "grey",
          "line": {
           "width": 0
          },
          "opacity": 0.1,
          "type": "rect",
          "x0": 0,
          "x1": 1,
          "xref": "x domain",
          "y0": 204.5,
          "y1": 205.5,
          "yref": "y"
         },
         {
          "fillcolor": "grey",
          "line": {
           "width": 0
          },
          "opacity": 0.1,
          "type": "rect",
          "x0": 0,
          "x1": 1,
          "xref": "x domain",
          "y0": 206.5,
          "y1": 207.5,
          "yref": "y"
         },
         {
          "fillcolor": "grey",
          "line": {
           "width": 0
          },
          "opacity": 0.1,
          "type": "rect",
          "x0": 0,
          "x1": 1,
          "xref": "x domain",
          "y0": 208.5,
          "y1": 209.5,
          "yref": "y"
         },
         {
          "fillcolor": "grey",
          "line": {
           "width": 0
          },
          "opacity": 0.1,
          "type": "rect",
          "x0": 0,
          "x1": 1,
          "xref": "x domain",
          "y0": 210.5,
          "y1": 211.5,
          "yref": "y"
         },
         {
          "fillcolor": "grey",
          "line": {
           "width": 0
          },
          "opacity": 0.1,
          "type": "rect",
          "x0": 0,
          "x1": 1,
          "xref": "x domain",
          "y0": 212.5,
          "y1": 213.5,
          "yref": "y"
         },
         {
          "fillcolor": "grey",
          "line": {
           "width": 0
          },
          "opacity": 0.1,
          "type": "rect",
          "x0": 0,
          "x1": 1,
          "xref": "x domain",
          "y0": 214.5,
          "y1": 215.5,
          "yref": "y"
         },
         {
          "fillcolor": "grey",
          "line": {
           "width": 0
          },
          "opacity": 0.1,
          "type": "rect",
          "x0": 0,
          "x1": 1,
          "xref": "x domain",
          "y0": 216.5,
          "y1": 217.5,
          "yref": "y"
         },
         {
          "fillcolor": "grey",
          "line": {
           "width": 0
          },
          "opacity": 0.1,
          "type": "rect",
          "x0": 0,
          "x1": 1,
          "xref": "x domain",
          "y0": 218.5,
          "y1": 219.5,
          "yref": "y"
         },
         {
          "fillcolor": "grey",
          "line": {
           "width": 0
          },
          "opacity": 0.1,
          "type": "rect",
          "x0": 0,
          "x1": 1,
          "xref": "x domain",
          "y0": 220.5,
          "y1": 221.5,
          "yref": "y"
         },
         {
          "fillcolor": "grey",
          "line": {
           "width": 0
          },
          "opacity": 0.1,
          "type": "rect",
          "x0": 0,
          "x1": 1,
          "xref": "x domain",
          "y0": 222.5,
          "y1": 223.5,
          "yref": "y"
         },
         {
          "fillcolor": "grey",
          "line": {
           "width": 0
          },
          "opacity": 0.1,
          "type": "rect",
          "x0": 0,
          "x1": 1,
          "xref": "x domain",
          "y0": 224.5,
          "y1": 225.5,
          "yref": "y"
         },
         {
          "fillcolor": "grey",
          "line": {
           "width": 0
          },
          "opacity": 0.1,
          "type": "rect",
          "x0": 0,
          "x1": 1,
          "xref": "x domain",
          "y0": 226.5,
          "y1": 227.5,
          "yref": "y"
         },
         {
          "fillcolor": "grey",
          "line": {
           "width": 0
          },
          "opacity": 0.1,
          "type": "rect",
          "x0": 0,
          "x1": 1,
          "xref": "x domain",
          "y0": 228.5,
          "y1": 229.5,
          "yref": "y"
         },
         {
          "fillcolor": "grey",
          "line": {
           "width": 0
          },
          "opacity": 0.1,
          "type": "rect",
          "x0": 0,
          "x1": 1,
          "xref": "x domain",
          "y0": 230.5,
          "y1": 231.5,
          "yref": "y"
         },
         {
          "fillcolor": "grey",
          "line": {
           "width": 0
          },
          "opacity": 0.1,
          "type": "rect",
          "x0": 0,
          "x1": 1,
          "xref": "x domain",
          "y0": 232.5,
          "y1": 233.5,
          "yref": "y"
         },
         {
          "fillcolor": "grey",
          "line": {
           "width": 0
          },
          "opacity": 0.1,
          "type": "rect",
          "x0": 0,
          "x1": 1,
          "xref": "x domain",
          "y0": 234.5,
          "y1": 235.5,
          "yref": "y"
         },
         {
          "fillcolor": "grey",
          "line": {
           "width": 0
          },
          "opacity": 0.1,
          "type": "rect",
          "x0": 0,
          "x1": 1,
          "xref": "x domain",
          "y0": 236.5,
          "y1": 237.5,
          "yref": "y"
         },
         {
          "fillcolor": "grey",
          "line": {
           "width": 0
          },
          "opacity": 0.1,
          "type": "rect",
          "x0": 0,
          "x1": 1,
          "xref": "x domain",
          "y0": 238.5,
          "y1": 239.5,
          "yref": "y"
         },
         {
          "fillcolor": "grey",
          "line": {
           "width": 0
          },
          "opacity": 0.1,
          "type": "rect",
          "x0": 0,
          "x1": 1,
          "xref": "x domain",
          "y0": 240.5,
          "y1": 241.5,
          "yref": "y"
         },
         {
          "fillcolor": "grey",
          "line": {
           "width": 0
          },
          "opacity": 0.1,
          "type": "rect",
          "x0": 0,
          "x1": 1,
          "xref": "x domain",
          "y0": 242.5,
          "y1": 243.5,
          "yref": "y"
         },
         {
          "fillcolor": "grey",
          "line": {
           "width": 0
          },
          "opacity": 0.1,
          "type": "rect",
          "x0": 0,
          "x1": 1,
          "xref": "x domain",
          "y0": 244.5,
          "y1": 245.5,
          "yref": "y"
         },
         {
          "fillcolor": "grey",
          "line": {
           "width": 0
          },
          "opacity": 0.1,
          "type": "rect",
          "x0": 0,
          "x1": 1,
          "xref": "x domain",
          "y0": 246.5,
          "y1": 247.5,
          "yref": "y"
         },
         {
          "fillcolor": "grey",
          "line": {
           "width": 0
          },
          "opacity": 0.1,
          "type": "rect",
          "x0": 0,
          "x1": 1,
          "xref": "x domain",
          "y0": 248.5,
          "y1": 249.5,
          "yref": "y"
         },
         {
          "fillcolor": "grey",
          "line": {
           "width": 0
          },
          "opacity": 0.1,
          "type": "rect",
          "x0": 0,
          "x1": 1,
          "xref": "x domain",
          "y0": 250.5,
          "y1": 251.5,
          "yref": "y"
         }
        ],
        "template": {
         "data": {
          "bar": [
           {
            "error_x": {
             "color": "#f2f5fa"
            },
            "error_y": {
             "color": "#f2f5fa"
            },
            "marker": {
             "line": {
              "color": "rgb(17,17,17)",
              "width": 0.5
             },
             "pattern": {
              "fillmode": "overlay",
              "size": 10,
              "solidity": 0.2
             }
            },
            "type": "bar"
           }
          ],
          "barpolar": [
           {
            "marker": {
             "line": {
              "color": "rgb(17,17,17)",
              "width": 0.5
             },
             "pattern": {
              "fillmode": "overlay",
              "size": 10,
              "solidity": 0.2
             }
            },
            "type": "barpolar"
           }
          ],
          "carpet": [
           {
            "aaxis": {
             "endlinecolor": "#A2B1C6",
             "gridcolor": "#506784",
             "linecolor": "#506784",
             "minorgridcolor": "#506784",
             "startlinecolor": "#A2B1C6"
            },
            "baxis": {
             "endlinecolor": "#A2B1C6",
             "gridcolor": "#506784",
             "linecolor": "#506784",
             "minorgridcolor": "#506784",
             "startlinecolor": "#A2B1C6"
            },
            "type": "carpet"
           }
          ],
          "choropleth": [
           {
            "colorbar": {
             "outlinewidth": 0,
             "ticks": ""
            },
            "type": "choropleth"
           }
          ],
          "contour": [
           {
            "colorbar": {
             "outlinewidth": 0,
             "ticks": ""
            },
            "colorscale": [
             [
              0,
              "#0d0887"
             ],
             [
              0.1111111111111111,
              "#46039f"
             ],
             [
              0.2222222222222222,
              "#7201a8"
             ],
             [
              0.3333333333333333,
              "#9c179e"
             ],
             [
              0.4444444444444444,
              "#bd3786"
             ],
             [
              0.5555555555555556,
              "#d8576b"
             ],
             [
              0.6666666666666666,
              "#ed7953"
             ],
             [
              0.7777777777777778,
              "#fb9f3a"
             ],
             [
              0.8888888888888888,
              "#fdca26"
             ],
             [
              1,
              "#f0f921"
             ]
            ],
            "type": "contour"
           }
          ],
          "contourcarpet": [
           {
            "colorbar": {
             "outlinewidth": 0,
             "ticks": ""
            },
            "type": "contourcarpet"
           }
          ],
          "heatmap": [
           {
            "colorbar": {
             "outlinewidth": 0,
             "ticks": ""
            },
            "colorscale": [
             [
              0,
              "#0d0887"
             ],
             [
              0.1111111111111111,
              "#46039f"
             ],
             [
              0.2222222222222222,
              "#7201a8"
             ],
             [
              0.3333333333333333,
              "#9c179e"
             ],
             [
              0.4444444444444444,
              "#bd3786"
             ],
             [
              0.5555555555555556,
              "#d8576b"
             ],
             [
              0.6666666666666666,
              "#ed7953"
             ],
             [
              0.7777777777777778,
              "#fb9f3a"
             ],
             [
              0.8888888888888888,
              "#fdca26"
             ],
             [
              1,
              "#f0f921"
             ]
            ],
            "type": "heatmap"
           }
          ],
          "heatmapgl": [
           {
            "colorbar": {
             "outlinewidth": 0,
             "ticks": ""
            },
            "colorscale": [
             [
              0,
              "#0d0887"
             ],
             [
              0.1111111111111111,
              "#46039f"
             ],
             [
              0.2222222222222222,
              "#7201a8"
             ],
             [
              0.3333333333333333,
              "#9c179e"
             ],
             [
              0.4444444444444444,
              "#bd3786"
             ],
             [
              0.5555555555555556,
              "#d8576b"
             ],
             [
              0.6666666666666666,
              "#ed7953"
             ],
             [
              0.7777777777777778,
              "#fb9f3a"
             ],
             [
              0.8888888888888888,
              "#fdca26"
             ],
             [
              1,
              "#f0f921"
             ]
            ],
            "type": "heatmapgl"
           }
          ],
          "histogram": [
           {
            "marker": {
             "pattern": {
              "fillmode": "overlay",
              "size": 10,
              "solidity": 0.2
             }
            },
            "type": "histogram"
           }
          ],
          "histogram2d": [
           {
            "colorbar": {
             "outlinewidth": 0,
             "ticks": ""
            },
            "colorscale": [
             [
              0,
              "#0d0887"
             ],
             [
              0.1111111111111111,
              "#46039f"
             ],
             [
              0.2222222222222222,
              "#7201a8"
             ],
             [
              0.3333333333333333,
              "#9c179e"
             ],
             [
              0.4444444444444444,
              "#bd3786"
             ],
             [
              0.5555555555555556,
              "#d8576b"
             ],
             [
              0.6666666666666666,
              "#ed7953"
             ],
             [
              0.7777777777777778,
              "#fb9f3a"
             ],
             [
              0.8888888888888888,
              "#fdca26"
             ],
             [
              1,
              "#f0f921"
             ]
            ],
            "type": "histogram2d"
           }
          ],
          "histogram2dcontour": [
           {
            "colorbar": {
             "outlinewidth": 0,
             "ticks": ""
            },
            "colorscale": [
             [
              0,
              "#0d0887"
             ],
             [
              0.1111111111111111,
              "#46039f"
             ],
             [
              0.2222222222222222,
              "#7201a8"
             ],
             [
              0.3333333333333333,
              "#9c179e"
             ],
             [
              0.4444444444444444,
              "#bd3786"
             ],
             [
              0.5555555555555556,
              "#d8576b"
             ],
             [
              0.6666666666666666,
              "#ed7953"
             ],
             [
              0.7777777777777778,
              "#fb9f3a"
             ],
             [
              0.8888888888888888,
              "#fdca26"
             ],
             [
              1,
              "#f0f921"
             ]
            ],
            "type": "histogram2dcontour"
           }
          ],
          "mesh3d": [
           {
            "colorbar": {
             "outlinewidth": 0,
             "ticks": ""
            },
            "type": "mesh3d"
           }
          ],
          "parcoords": [
           {
            "line": {
             "colorbar": {
              "outlinewidth": 0,
              "ticks": ""
             }
            },
            "type": "parcoords"
           }
          ],
          "pie": [
           {
            "automargin": true,
            "type": "pie"
           }
          ],
          "scatter": [
           {
            "marker": {
             "line": {
              "color": "#283442"
             }
            },
            "type": "scatter"
           }
          ],
          "scatter3d": [
           {
            "line": {
             "colorbar": {
              "outlinewidth": 0,
              "ticks": ""
             }
            },
            "marker": {
             "colorbar": {
              "outlinewidth": 0,
              "ticks": ""
             }
            },
            "type": "scatter3d"
           }
          ],
          "scattercarpet": [
           {
            "marker": {
             "colorbar": {
              "outlinewidth": 0,
              "ticks": ""
             }
            },
            "type": "scattercarpet"
           }
          ],
          "scattergeo": [
           {
            "marker": {
             "colorbar": {
              "outlinewidth": 0,
              "ticks": ""
             }
            },
            "type": "scattergeo"
           }
          ],
          "scattergl": [
           {
            "marker": {
             "line": {
              "color": "#283442"
             }
            },
            "type": "scattergl"
           }
          ],
          "scattermapbox": [
           {
            "marker": {
             "colorbar": {
              "outlinewidth": 0,
              "ticks": ""
             }
            },
            "type": "scattermapbox"
           }
          ],
          "scatterpolar": [
           {
            "marker": {
             "colorbar": {
              "outlinewidth": 0,
              "ticks": ""
             }
            },
            "type": "scatterpolar"
           }
          ],
          "scatterpolargl": [
           {
            "marker": {
             "colorbar": {
              "outlinewidth": 0,
              "ticks": ""
             }
            },
            "type": "scatterpolargl"
           }
          ],
          "scatterternary": [
           {
            "marker": {
             "colorbar": {
              "outlinewidth": 0,
              "ticks": ""
             }
            },
            "type": "scatterternary"
           }
          ],
          "surface": [
           {
            "colorbar": {
             "outlinewidth": 0,
             "ticks": ""
            },
            "colorscale": [
             [
              0,
              "#0d0887"
             ],
             [
              0.1111111111111111,
              "#46039f"
             ],
             [
              0.2222222222222222,
              "#7201a8"
             ],
             [
              0.3333333333333333,
              "#9c179e"
             ],
             [
              0.4444444444444444,
              "#bd3786"
             ],
             [
              0.5555555555555556,
              "#d8576b"
             ],
             [
              0.6666666666666666,
              "#ed7953"
             ],
             [
              0.7777777777777778,
              "#fb9f3a"
             ],
             [
              0.8888888888888888,
              "#fdca26"
             ],
             [
              1,
              "#f0f921"
             ]
            ],
            "type": "surface"
           }
          ],
          "table": [
           {
            "cells": {
             "fill": {
              "color": "#506784"
             },
             "line": {
              "color": "rgb(17,17,17)"
             }
            },
            "header": {
             "fill": {
              "color": "#2a3f5f"
             },
             "line": {
              "color": "rgb(17,17,17)"
             }
            },
            "type": "table"
           }
          ]
         },
         "layout": {
          "annotationdefaults": {
           "arrowcolor": "#f2f5fa",
           "arrowhead": 0,
           "arrowwidth": 1
          },
          "autotypenumbers": "strict",
          "coloraxis": {
           "colorbar": {
            "outlinewidth": 0,
            "ticks": ""
           }
          },
          "colorscale": {
           "diverging": [
            [
             0,
             "#8e0152"
            ],
            [
             0.1,
             "#c51b7d"
            ],
            [
             0.2,
             "#de77ae"
            ],
            [
             0.3,
             "#f1b6da"
            ],
            [
             0.4,
             "#fde0ef"
            ],
            [
             0.5,
             "#f7f7f7"
            ],
            [
             0.6,
             "#e6f5d0"
            ],
            [
             0.7,
             "#b8e186"
            ],
            [
             0.8,
             "#7fbc41"
            ],
            [
             0.9,
             "#4d9221"
            ],
            [
             1,
             "#276419"
            ]
           ],
           "sequential": [
            [
             0,
             "#0d0887"
            ],
            [
             0.1111111111111111,
             "#46039f"
            ],
            [
             0.2222222222222222,
             "#7201a8"
            ],
            [
             0.3333333333333333,
             "#9c179e"
            ],
            [
             0.4444444444444444,
             "#bd3786"
            ],
            [
             0.5555555555555556,
             "#d8576b"
            ],
            [
             0.6666666666666666,
             "#ed7953"
            ],
            [
             0.7777777777777778,
             "#fb9f3a"
            ],
            [
             0.8888888888888888,
             "#fdca26"
            ],
            [
             1,
             "#f0f921"
            ]
           ],
           "sequentialminus": [
            [
             0,
             "#0d0887"
            ],
            [
             0.1111111111111111,
             "#46039f"
            ],
            [
             0.2222222222222222,
             "#7201a8"
            ],
            [
             0.3333333333333333,
             "#9c179e"
            ],
            [
             0.4444444444444444,
             "#bd3786"
            ],
            [
             0.5555555555555556,
             "#d8576b"
            ],
            [
             0.6666666666666666,
             "#ed7953"
            ],
            [
             0.7777777777777778,
             "#fb9f3a"
            ],
            [
             0.8888888888888888,
             "#fdca26"
            ],
            [
             1,
             "#f0f921"
            ]
           ]
          },
          "colorway": [
           "#636efa",
           "#EF553B",
           "#00cc96",
           "#ab63fa",
           "#FFA15A",
           "#19d3f3",
           "#FF6692",
           "#B6E880",
           "#FF97FF",
           "#FECB52"
          ],
          "font": {
           "color": "#f2f5fa"
          },
          "geo": {
           "bgcolor": "rgb(17,17,17)",
           "lakecolor": "rgb(17,17,17)",
           "landcolor": "rgb(17,17,17)",
           "showlakes": true,
           "showland": true,
           "subunitcolor": "#506784"
          },
          "hoverlabel": {
           "align": "left"
          },
          "hovermode": "closest",
          "mapbox": {
           "style": "dark"
          },
          "paper_bgcolor": "rgb(17,17,17)",
          "plot_bgcolor": "rgb(17,17,17)",
          "polar": {
           "angularaxis": {
            "gridcolor": "#506784",
            "linecolor": "#506784",
            "ticks": ""
           },
           "bgcolor": "rgb(17,17,17)",
           "radialaxis": {
            "gridcolor": "#506784",
            "linecolor": "#506784",
            "ticks": ""
           }
          },
          "scene": {
           "xaxis": {
            "backgroundcolor": "rgb(17,17,17)",
            "gridcolor": "#506784",
            "gridwidth": 2,
            "linecolor": "#506784",
            "showbackground": true,
            "ticks": "",
            "zerolinecolor": "#C8D4E3"
           },
           "yaxis": {
            "backgroundcolor": "rgb(17,17,17)",
            "gridcolor": "#506784",
            "gridwidth": 2,
            "linecolor": "#506784",
            "showbackground": true,
            "ticks": "",
            "zerolinecolor": "#C8D4E3"
           },
           "zaxis": {
            "backgroundcolor": "rgb(17,17,17)",
            "gridcolor": "#506784",
            "gridwidth": 2,
            "linecolor": "#506784",
            "showbackground": true,
            "ticks": "",
            "zerolinecolor": "#C8D4E3"
           }
          },
          "shapedefaults": {
           "line": {
            "color": "#f2f5fa"
           }
          },
          "sliderdefaults": {
           "bgcolor": "#C8D4E3",
           "bordercolor": "rgb(17,17,17)",
           "borderwidth": 1,
           "tickwidth": 0
          },
          "ternary": {
           "aaxis": {
            "gridcolor": "#506784",
            "linecolor": "#506784",
            "ticks": ""
           },
           "baxis": {
            "gridcolor": "#506784",
            "linecolor": "#506784",
            "ticks": ""
           },
           "bgcolor": "rgb(17,17,17)",
           "caxis": {
            "gridcolor": "#506784",
            "linecolor": "#506784",
            "ticks": ""
           }
          },
          "title": {
           "x": 0.05
          },
          "updatemenudefaults": {
           "bgcolor": "#506784",
           "borderwidth": 0
          },
          "xaxis": {
           "automargin": true,
           "gridcolor": "#283442",
           "linecolor": "#506784",
           "ticks": "",
           "title": {
            "standoff": 15
           },
           "zerolinecolor": "#283442",
           "zerolinewidth": 2
          },
          "yaxis": {
           "automargin": true,
           "gridcolor": "#283442",
           "linecolor": "#506784",
           "ticks": "",
           "title": {
            "standoff": 15
           },
           "zerolinecolor": "#283442",
           "zerolinewidth": 2
          }
         }
        },
        "title": {
         "text": "LLM requests across time"
        },
        "xaxis": {
         "hoverformat": "%H:%M:%S.%2f",
         "tickformat": "%H:%M:%S",
         "title": {
          "text": "Time stamp"
         },
         "type": "date"
        },
        "yaxis": {
         "title": {
          "text": "Request index"
         }
        }
       }
      }
     },
     "metadata": {},
     "output_type": "display_data"
    }
   ],
   "source": [
    "plot_requests_gantt_chart(df_user).show()"
   ]
  },
  {
   "cell_type": "code",
   "execution_count": null,
   "id": "0d4176e3",
   "metadata": {},
   "outputs": [],
   "source": []
  }
 ],
 "metadata": {
  "kernelspec": {
   "display_name": "benchmark_venv",
   "language": "python",
   "name": "benchmark_venv"
  },
  "language_info": {
   "codemirror_mode": {
    "name": "ipython",
    "version": 3
   },
   "file_extension": ".py",
   "mimetype": "text/x-python",
   "name": "python",
   "nbconvert_exporter": "python",
   "pygments_lexer": "ipython3",
   "version": "3.11.3"
  }
 },
 "nbformat": 4,
 "nbformat_minor": 5
}
