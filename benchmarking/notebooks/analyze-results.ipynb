{
 "cells": [
  {
   "cell_type": "markdown",
   "id": "56950450",
   "metadata": {},
   "source": [
    "# Analyze responses\n",
    "The following is an example of the analysis that can be done on individual responses that are saved when running `token_benchmark_ray.py` with the flag `--results-dir` which enables the saving of all responses."
   ]
  },
  {
   "cell_type": "code",
   "execution_count": 1,
   "id": "dacfe98a-e81b-4089-9506-97a652993b5b",
   "metadata": {
    "tags": []
   },
   "outputs": [],
   "source": [
    "import os\n",
    "import json\n",
    "import pandas as pd\n",
    "from typing import List\n",
    "import plotly.graph_objects as go\n",
    "import numpy as np"
   ]
  },
  {
   "cell_type": "markdown",
   "id": "e5fd0e93",
   "metadata": {},
   "source": [
    "## Read the input json file"
   ]
  },
  {
   "cell_type": "code",
   "execution_count": 2,
   "id": "17f7abe9-ed9e-466c-b034-577489aaf98b",
   "metadata": {
    "tags": []
   },
   "outputs": [],
   "source": [
    "# path to the individual responses json file\n",
    "individual_responses_path = f'../data/demos/mara/vijay_tests/deepseek_r1_0324/deepseek_r1_0324_acb/20251028-155938.135797/realworkload_0_DeepSeek-V3-0324-batch_1000_100_12-0_exponential_stream_5421834a-98e2-484b-906b-e5be1146a3b9_individual_responses.json'\n",
    "df_user = pd.read_json(individual_responses_path)\n",
    "df_user = df_user[df_user['error_code'].isnull()]"
   ]
  },
  {
   "cell_type": "code",
   "execution_count": 3,
   "id": "bdb61de7",
   "metadata": {},
   "outputs": [],
   "source": [
    "# for non-batching endpoints, batching_exposed will be False\n",
    "batching_exposed = True\n",
    "if df_user[\"batch_size_used\"].isnull().all():\n",
    "    batching_exposed = False\n",
    "by_batch_size_suffix = ' by batch size' if batching_exposed else ''"
   ]
  },
  {
   "cell_type": "markdown",
   "id": "d5328791",
   "metadata": {},
   "source": [
    "## Server vs client metrics\n",
    "Following charts show a comparison between server-side and client-side metrics across different performance metrics"
   ]
  },
  {
   "cell_type": "code",
   "execution_count": null,
   "id": "2707495e",
   "metadata": {},
   "outputs": [],
   "source": [
    "\n",
    "def plot_client_vs_server_barplots(df_user: pd.DataFrame, x_col: str, y_cols: List[str], legend_labels: List[str], title: str, ylabel: str, xlabel: str, batching_exposed: bool = False) -> None:\n",
    "    \"\"\"\n",
    "    Plots bar plots for client vs server metrics from a DataFrame.\n",
    "\n",
    "    Args:\n",
    "        df_user (pd.DataFrame): The DataFrame containing the data to plot.\n",
    "        x_col (str): The column name to be used as the x-axis.\n",
    "        y_cols (List[str]): A list of column names to be used as the y-axis.\n",
    "        legend_labels (List[str]): Human-readable labels for each grouping in y_cols.\n",
    "        title (str): The title of the plot.\n",
    "        ylabel (str): The label for the y-axis.\n",
    "        xlabel (str): The label for the x-axis.\n",
    "        batching_exposed (bool): boolean identifying if batching was exposed.\n",
    "\n",
    "    Returns:\n",
    "        fig (go.Figure): The plotly figure container\n",
    "    \"\"\"    \n",
    "    value_vars = y_cols\n",
    "    title_text = title\n",
    "    yaxis_title = ylabel\n",
    "    xaxis_title = xlabel if batching_exposed else \"\"\n",
    "\n",
    "    df_melted = df_user.melt(\n",
    "        id_vars=[x_col], \n",
    "        value_vars=value_vars, \n",
    "        var_name='Metric', \n",
    "        value_name='Value',\n",
    "    )\n",
    "    xgroups = [str(x) for x in sorted(pd.unique(df_melted[x_col]))]\n",
    "    df_melted[x_col] = [str(x) for x in df_melted[x_col]]\n",
    "\n",
    "    valsl = {}\n",
    "    valsr = {}\n",
    "    for i in xgroups:\n",
    "        maskl = (df_melted[\"Metric\"] == value_vars[0]) & (df_melted[x_col] == i)\n",
    "        valsl[i] = np.percentile(df_melted[\"Value\"][maskl], [5, 50, 95])\n",
    "        maskr = (df_melted[\"Metric\"] == value_vars[1]) & (df_melted[x_col] == i)\n",
    "        valsr[i] = np.percentile(df_melted[\"Value\"][maskr], [5, 50, 95])\n",
    "\n",
    "    fig = go.Figure()\n",
    "    fig.add_trace(\n",
    "        go.Bar(\n",
    "            x = xgroups,\n",
    "            y = [0 for _ in xgroups],\n",
    "            base = [valsl[i][1] for i in xgroups],\n",
    "            customdata=[legend_labels[0] for _ in xgroups],\n",
    "            marker={\"color\":\"#325c8c\",\"line\":{\"color\":\"#325c8c\", \"width\":2}},\n",
    "            offsetgroup=0,\n",
    "            legendgroup=legend_labels[0],\n",
    "            name=legend_labels[0],\n",
    "            showlegend=False,\n",
    "            hovertemplate=\"<extra></extra><b>%{customdata}</b> median: %{base:.2f}\",\n",
    "        )\n",
    "    )\n",
    "    fig.add_trace(\n",
    "        go.Bar(\n",
    "            x = xgroups,\n",
    "            y = [valsl[i][2] - valsl[i][0] for i in xgroups],\n",
    "            base = [valsl[i][0] for i in xgroups],\n",
    "            customdata = [valsl[i][2] for i in xgroups],\n",
    "            marker={\"color\":\"#325c8c\"},\n",
    "            opacity=0.5,\n",
    "            offsetgroup=0,\n",
    "            legendgroup=legend_labels[0],\n",
    "            name=legend_labels[0],\n",
    "            hovertemplate=\"<extra></extra>5–95 pctile range: %{base:.2f}–%{customdata:.2f}\",\n",
    "        )\n",
    "    )\n",
    "    fig.add_trace(\n",
    "        go.Bar(\n",
    "            x = xgroups,\n",
    "            y= [0 for _ in xgroups],\n",
    "            base = [valsr[i][1] for i in xgroups],\n",
    "            customdata=[legend_labels[1] for _ in xgroups],\n",
    "            marker={\"color\":\"#ee7625\",\"line\":{\"color\":\"#ee7625\", \"width\":2}},\n",
    "            offsetgroup=1,\n",
    "            legendgroup=legend_labels[1],\n",
    "            name=legend_labels[1],\n",
    "            showlegend=False,\n",
    "            hovertemplate=\"<extra></extra><b>%{customdata}</b> median: %{base:.2f}\",\n",
    "        )\n",
    "    )\n",
    "    fig.add_trace(\n",
    "        go.Bar(\n",
    "            x = xgroups,\n",
    "            y = [valsr[i][2] - valsr[i][0] for i in xgroups],\n",
    "            base = [valsr[i][0] for i in xgroups],\n",
    "            customdata = [valsr[i][2] for i in xgroups],\n",
    "            marker={\"color\":\"#ee7625\"},\n",
    "            opacity=0.5,\n",
    "            offsetgroup=1,\n",
    "            legendgroup=legend_labels[1],\n",
    "            name=legend_labels[1],\n",
    "            hovertemplate=\"<extra></extra>5–95 pctile range: %{base:.2f}–%{customdata:.2f}\",\n",
    "        )\n",
    "    )\n",
    "\n",
    "    fig.update_layout(\n",
    "        title_text=title_text,\n",
    "        xaxis_title=xaxis_title,\n",
    "        yaxis_title=yaxis_title,\n",
    "        barmode=\"group\",\n",
    "        template=\"plotly_dark\",\n",
    "        hovermode=\"x unified\",\n",
    "    )\n",
    "    \n",
    "    fig.update_xaxes(\n",
    "        hoverformat=\"foo\",\n",
    "        showticklabels=batching_exposed\n",
    "    )\n",
    "    \n",
    "    return fig"
   ]
  },
  {
   "cell_type": "code",
   "execution_count": null,
   "id": "add96f73",
   "metadata": {},
   "outputs": [],
   "source": [
    "x_col = \"batch_size_used\"\n",
    "xaxis_title=\"Batch size\"\n",
    "value_vars = ['server_output_token_per_s_per_request', 'client_output_token_per_s_per_request']\n",
    "legend_labels = [\"Server\", \"Client\"]\n",
    "yaxis_title = \"Tokens per second, per request\"\n",
    "title_text = \"Distribution of output throughput\" + by_batch_size_suffix\n",
    "plot_client_vs_server_barplots(df_user, x_col, value_vars, legend_labels, title_text, yaxis_title, xaxis_title, batching_exposed).show()"
   ]
  },
  {
   "cell_type": "code",
   "execution_count": null,
   "id": "5b4d6f99",
   "metadata": {},
   "outputs": [],
   "source": [
    "x_col = \"batch_size_used\"\n",
    "xaxis_title=\"Batch size\"\n",
    "value_vars = ['server_ttft_s', 'client_ttft_s']\n",
    "legend_labels = [\"Server\", \"Client\"]\n",
    "yaxis_title = \"TTFT (s), per request\"\n",
    "title_text = \"Distribution of Time to First Token (TTFT)\" + by_batch_size_suffix\n",
    "plot_client_vs_server_barplots(df_user, x_col, value_vars, legend_labels, title_text, yaxis_title, xaxis_title, batching_exposed).show()"
   ]
  },
  {
   "cell_type": "code",
   "execution_count": null,
   "id": "e5e042e9",
   "metadata": {},
   "outputs": [],
   "source": [
    "x_col = \"batch_size_used\"\n",
    "xaxis_title=\"Batch size\"\n",
    "value_vars = ['server_end_to_end_latency_s', 'client_end_to_end_latency_s']\n",
    "legend_labels = [\"Server\", \"Client\"]\n",
    "yaxis_title = \"Latency (s), per request\"\n",
    "title_text = \"Distribution of end-to-end latency\" + by_batch_size_suffix\n",
    "plot_client_vs_server_barplots(df_user, x_col, value_vars, legend_labels, title_text, yaxis_title, xaxis_title, batching_exposed).show()"
   ]
  },
  {
   "cell_type": "markdown",
   "id": "fa8f1208",
   "metadata": {},
   "source": [
    "## Summarize results\n",
    "Group results by batch and get sum of number of tokens, mean throughput, mean TTFT, and batch frequency. Also, calculate the total number of output tokens per batch."
   ]
  },
  {
   "cell_type": "code",
   "execution_count": null,
   "id": "9b1c0a92",
   "metadata": {},
   "outputs": [],
   "source": [
    "df_summary_thorughput = df_user.groupby('batch_size_used', dropna=False)['server_output_token_per_s_per_request'].mean().reset_index()\n",
    "df_summary_output_tokens = df_user.groupby('batch_size_used', dropna=False)['server_number_output_tokens'].sum().reset_index()\n",
    "df_summary_ttft = df_user.groupby('batch_size_used', dropna=False)['server_ttft_s'].mean().reset_index()\n",
    "df_summary_count = df_user.groupby('batch_size_used', dropna=False).size().reset_index(name='Counts')\n",
    "\n",
    "\n",
    "df_summary = pd.merge(df_summary_thorughput, df_summary_output_tokens, on='batch_size_used', how='inner')\n",
    "df_summary = pd.merge(df_summary, df_summary_ttft, on='batch_size_used', how='inner')\n",
    "df_summary = pd.merge(df_summary, df_summary_count, on='batch_size_used', how='inner')\n",
    "if batching_exposed:\n",
    "    df_summary['server_total_output_tokens_per_s'] = df_summary['server_output_token_per_s_per_request'] * df_summary['batch_size_used']\n",
    "    subset_style = [True,False,True,False,True]\n",
    "else:\n",
    "    subset_style = [True,False,True,False]\n",
    "\n",
    "df_summary.rename(columns={\n",
    "    \"batch_size_used\": \"Batch size\",\n",
    "    \"server_output_token_per_s_per_request\": \"Avg. server output tokens per sec per request\",\n",
    "    \"server_number_output_tokens\": \"Total output tokens\",\n",
    "    \"server_ttft_s\": \"Avg. server TTFT (s)\",\n",
    "    \"Counts\": \"Total number of completed requests\",\n",
    "    \"server_total_output_tokens_per_s\": \"Avg. server total output tokens per second\"\n",
    "}, \n",
    "inplace=True)\n",
    "\n",
    "df_summary.set_index(\"Batch size\", inplace=True)\n",
    "df_summary = df_summary.reset_index().fillna(\"\").set_index('Batch size')\n",
    "df_summary.T.style \\\n",
    "    .format(\"{:.4f}\", subset=(subset_style,[True]*len(df_summary))) \\\n",
    "    .format(\"{:.4f}\", subset=(subset_style,[True]*len(df_summary)))"
   ]
  },
  {
   "cell_type": "markdown",
   "id": "83ccb9bd",
   "metadata": {},
   "source": [
    "Show stats from the corresponding summary file."
   ]
  },
  {
   "cell_type": "code",
   "execution_count": null,
   "id": "bfffd988",
   "metadata": {},
   "outputs": [],
   "source": [
    "# Read summary json file \n",
    "\n",
    "json_filename = individual_responses_path.split('/')[-1]\n",
    "summary_filename = json_filename.replace('individual_responses.json', 'summary.json')\n",
    "summary_path = os.path.join('/'.join(individual_responses_path.split('/')[:-1]), summary_filename)\n",
    "\n",
    "with open(summary_path, 'r') as f:\n",
    "    json_data = json.load(f)\n",
    "df_summary = pd.DataFrame(json_data, index=[0])\n",
    "df_summary = df_summary.rename(columns=lambda x: x.replace('results_', '')\n",
    "                   .replace('_quantiles', '')\n",
    "                   .replace('_per_request', '')).copy()\n",
    "\n",
    "# Show summary\n",
    "\n",
    "with pd.option_context('display.max_rows', None):\n",
    "    display(df_summary.T)"
   ]
  },
  {
   "cell_type": "markdown",
   "id": "dfb81a80",
   "metadata": {},
   "source": [
    "## Time taken\n",
    "- Approximate computation to compare the time spent waiting due to TTFT vs response generation time\n",
    "- Compute the time that calls are cumulatively waiting for time-to-first-token vs time to generate tokens"
   ]
  },
  {
   "cell_type": "code",
   "execution_count": 4,
   "id": "1506628a",
   "metadata": {},
   "outputs": [
    {
     "name": "stdout",
     "output_type": "stream",
     "text": [
      "Total wait time due to ttft (mins) = 289.0072\n",
      "Total time (mins) = 2,261.8984\n"
     ]
    }
   ],
   "source": [
    "\n",
    "import numpy as np\n",
    "\n",
    "if batching_exposed:\n",
    "    # calculate number of batches executed in each batch size\n",
    "    df_summary['num_batches_executed'] = np.ceil(df_summary['Total number of completed requests'] / df_summary.index.get_level_values('Batch size'))\n",
    "\n",
    "    # calculate average time taken per request in each batch size\n",
    "    df_summary['output_tokens_per_request'] = df_summary['Total output tokens']/df_summary['Total number of completed requests']\n",
    "    df_summary['time_taken_per_request'] = df_summary['output_tokens_per_request']/df_summary['Avg. server output tokens per sec per request']\n",
    "\n",
    "    # calculate total ttft and generation times across all batch sizes\n",
    "    total_wait_time_ttft = (df_summary['num_batches_executed']*df_summary['Avg. server TTFT (s)']).sum()\n",
    "    total_generation_time = (df_summary['num_batches_executed']*df_summary['time_taken_per_request']).sum()\n",
    "\n",
    "    print(f'Total wait time due to ttft (mins) = {total_wait_time_ttft/60:,.4f}')\n",
    "    print(f'Total time (mins) = {(total_wait_time_ttft + total_generation_time)/60:,.4f}')\n",
    "else:\n",
    "    # since batch size is not exposed, we calculate the total time taken for all requests\n",
    "    total_wait_time_ttft = df_user['server_ttft_s'].sum()\n",
    "    total_generation_time = df_user['server_end_to_end_latency_s'].sum() - df_user['server_ttft_s'].sum()\n",
    "    total_time = df_user['server_end_to_end_latency_s'].sum()\n",
    "    \n",
    "    print(f'Total wait time due to ttft (mins) = {total_wait_time_ttft/60:,.4f}')\n",
    "    print(f'Total time (mins) = {(total_time)/60:,.4f}')"
   ]
  },
  {
   "cell_type": "markdown",
   "id": "84e7a38e",
   "metadata": {},
   "source": [
    "## Requests Gantt Chart\n",
    "- Blue bar is the total time to get back full response\n",
    "- Orange line is the time call is waiting to be executed"
   ]
  },
  {
   "cell_type": "code",
   "execution_count": 45,
   "id": "79a2adde",
   "metadata": {},
   "outputs": [],
   "source": [
    "def plot_requests_gantt_chart(df_user: pd.DataFrame):\n",
    "    \"\"\"\n",
    "    Plots a Gantt chart of response timings across all requests\n",
    "\n",
    "    # if i> 100:\n",
    "    #     break\n",
    "    Args:\n",
    "        df_user (pd.DataFrame): The DataFrame containing the data to plot.\n",
    "\n",
    "    Returns:\n",
    "        fig (go.Figure): The plotly figure container\n",
    "    \"\"\"    \n",
    "    requests = df_user.index+1\n",
    "    fig = go.Figure()\n",
    "    fig.add_trace(\n",
    "        go.Bar(\n",
    "            y=requests,\n",
    "            x=1000*df_user[\"client_ttft_s\"],\n",
    "            base=[str(x) for x in df_user[\"start_time\"]],\n",
    "            name=\"Client TTFT\",\n",
    "            orientation=\"h\",\n",
    "            marker_color=\"#ee7625\",\n",
    "        )\n",
    "    )\n",
    "    fig.add_trace(\n",
    "        go.Bar(\n",
    "            y=requests,\n",
    "            x=1000*df_user[\"server_ttft_s\"],\n",
    "            base=[str(x) for x in df_user[\"start_time\"]],\n",
    "            name=\"Servet TTFT\",\n",
    "            orientation=\"h\",\n",
    "            marker_color=\"#325c8c\",\n",
    "        )\n",
    "    )\n",
    "    for i in range(0, len(df_user.index), 2):\n",
    "        fig.add_hrect(y0=i+0.5, y1=i+1.5, line_width=0, fillcolor=\"grey\", opacity=0.1)\n",
    "    fig.update_xaxes(\n",
    "        type=\"date\",\n",
    "        tickformat=\"%H:%M:%S\",\n",
    "        hoverformat=\"%H:%M:%S.%2f\",)\n",
    "    fig.update_layout(\n",
    "        title_text=\"LLM requests across time\",\n",
    "        xaxis_title=\"Time stamp\",\n",
    "        yaxis_title=\"Request index\",\n",
    "        template=\"plotly_dark\",\n",
    "    )\n",
    "    return fig"
   ]
  },
  {
   "cell_type": "code",
   "execution_count": 50,
   "id": "c2d1b7a8",
   "metadata": {},
   "outputs": [
    {
     "data": {
      "text/html": [
       "<div>\n",
       "<style scoped>\n",
       "    .dataframe tbody tr th:only-of-type {\n",
       "        vertical-align: middle;\n",
       "    }\n",
       "\n",
       "    .dataframe tbody tr th {\n",
       "        vertical-align: top;\n",
       "    }\n",
       "\n",
       "    .dataframe thead th {\n",
       "        text-align: right;\n",
       "    }\n",
       "</style>\n",
       "<table border=\"1\" class=\"dataframe\">\n",
       "  <thead>\n",
       "    <tr style=\"text-align: right;\">\n",
       "      <th></th>\n",
       "      <th>start_time</th>\n",
       "      <th>end_time</th>\n",
       "      <th>client_ttft_s</th>\n",
       "      <th>server_ttft_s</th>\n",
       "    </tr>\n",
       "  </thead>\n",
       "  <tbody>\n",
       "    <tr>\n",
       "      <th>10154</th>\n",
       "      <td>2025-10-28 17:07:04.870936</td>\n",
       "      <td>2025-10-28 17:07:24.170812</td>\n",
       "      <td>12.111104</td>\n",
       "      <td>1.355372</td>\n",
       "    </tr>\n",
       "    <tr>\n",
       "      <th>10155</th>\n",
       "      <td>2025-10-28 17:07:04.968223</td>\n",
       "      <td>2025-10-28 17:07:24.304692</td>\n",
       "      <td>12.021811</td>\n",
       "      <td>1.362922</td>\n",
       "    </tr>\n",
       "    <tr>\n",
       "      <th>10156</th>\n",
       "      <td>2025-10-28 17:07:05.011908</td>\n",
       "      <td>2025-10-28 17:07:24.443471</td>\n",
       "      <td>11.979276</td>\n",
       "      <td>0.728540</td>\n",
       "    </tr>\n",
       "    <tr>\n",
       "      <th>10157</th>\n",
       "      <td>2025-10-28 17:07:05.123560</td>\n",
       "      <td>2025-10-28 17:07:24.640669</td>\n",
       "      <td>11.879273</td>\n",
       "      <td>0.735271</td>\n",
       "    </tr>\n",
       "    <tr>\n",
       "      <th>10158</th>\n",
       "      <td>2025-10-28 17:07:05.288369</td>\n",
       "      <td>2025-10-28 17:07:24.903855</td>\n",
       "      <td>11.727040</td>\n",
       "      <td>0.741614</td>\n",
       "    </tr>\n",
       "  </tbody>\n",
       "</table>\n",
       "</div>"
      ],
      "text/plain": [
       "                      start_time                   end_time  client_ttft_s  \\\n",
       "10154 2025-10-28 17:07:04.870936 2025-10-28 17:07:24.170812      12.111104   \n",
       "10155 2025-10-28 17:07:04.968223 2025-10-28 17:07:24.304692      12.021811   \n",
       "10156 2025-10-28 17:07:05.011908 2025-10-28 17:07:24.443471      11.979276   \n",
       "10157 2025-10-28 17:07:05.123560 2025-10-28 17:07:24.640669      11.879273   \n",
       "10158 2025-10-28 17:07:05.288369 2025-10-28 17:07:24.903855      11.727040   \n",
       "\n",
       "       server_ttft_s  \n",
       "10154       1.355372  \n",
       "10155       1.362922  \n",
       "10156       0.728540  \n",
       "10157       0.735271  \n",
       "10158       0.741614  "
      ]
     },
     "execution_count": 50,
     "metadata": {},
     "output_type": "execute_result"
    }
   ],
   "source": [
    "df_user.tail(5)[['start_time', 'end_time','client_ttft_s', 'server_ttft_s']]"
   ]
  },
  {
   "cell_type": "code",
   "execution_count": 47,
   "id": "fa0e72fb",
   "metadata": {},
   "outputs": [
    {
     "data": {
      "application/vnd.plotly.v1+json": {
       "config": {
        "plotlyServerURL": "https://plot.ly"
       },
       "data": [
        {
         "base": [
          "2025-10-28 16:52:05.579329",
          "2025-10-28 16:52:17.768977",
          "2025-10-28 16:52:22.884444",
          "2025-10-28 16:52:24.867540",
          "2025-10-28 16:52:24.849732",
          "2025-10-28 16:52:24.876310",
          "2025-10-28 16:52:24.931030",
          "2025-10-28 16:52:09.111978",
          "2025-10-28 16:52:09.298542",
          "2025-10-28 16:52:09.138855",
          "2025-10-28 16:52:24.843309",
          "2025-10-28 16:52:09.667366",
          "2025-10-28 16:52:17.167227",
          "2025-10-28 16:52:17.822128",
          "2025-10-28 16:52:09.123598",
          "2025-10-28 16:52:09.358117",
          "2025-10-28 16:52:24.957346",
          "2025-10-28 16:52:17.321224",
          "2025-10-28 16:52:17.761403",
          "2025-10-28 16:52:09.532745",
          "2025-10-28 16:52:08.311034",
          "2025-10-28 16:52:09.598777",
          "2025-10-28 16:52:17.488771",
          "2025-10-28 16:52:17.433316",
          "2025-10-28 16:52:10.063402",
          "2025-10-28 16:52:18.030981",
          "2025-10-28 16:52:17.794306",
          "2025-10-28 16:52:17.823666",
          "2025-10-28 16:52:17.996527",
          "2025-10-28 16:52:09.864702",
          "2025-10-28 16:52:09.750858",
          "2025-10-28 16:52:23.017991",
          "2025-10-28 16:52:17.890423",
          "2025-10-28 16:52:09.813772",
          "2025-10-28 16:52:23.124895",
          "2025-10-28 16:52:10.181996",
          "2025-10-28 16:52:10.037413",
          "2025-10-28 16:52:25.042014",
          "2025-10-28 16:52:10.048764",
          "2025-10-28 16:52:10.228882",
          "2025-10-28 16:52:09.859485",
          "2025-10-28 16:52:18.096038",
          "2025-10-28 16:52:10.058467",
          "2025-10-28 16:52:23.258252",
          "2025-10-28 16:52:08.633367",
          "2025-10-28 16:52:23.077784",
          "2025-10-28 16:52:10.157619",
          "2025-10-28 16:52:10.224864",
          "2025-10-28 16:52:08.858887",
          "2025-10-28 16:52:09.834583",
          "2025-10-28 16:52:18.280273",
          "2025-10-28 16:52:18.207371",
          "2025-10-28 16:52:23.425431",
          "2025-10-28 16:52:23.436355",
          "2025-10-28 16:52:10.096164",
          "2025-10-28 16:52:10.302344",
          "2025-10-28 16:52:18.243719",
          "2025-10-28 16:52:23.407694",
          "2025-10-28 16:52:08.610649",
          "2025-10-28 16:52:10.087457",
          "2025-10-28 16:52:08.443553",
          "2025-10-28 16:52:10.701481",
          "2025-10-28 16:52:08.889142",
          "2025-10-28 16:52:10.737403",
          "2025-10-28 16:52:10.755772",
          "2025-10-28 16:52:18.400685",
          "2025-10-28 16:52:08.605861",
          "2025-10-28 16:52:11.015709",
          "2025-10-28 16:52:09.027545",
          "2025-10-28 16:52:26.152499",
          "2025-10-28 16:52:18.351793",
          "2025-10-28 16:52:18.431351",
          "2025-10-28 16:52:23.422934",
          "2025-10-28 16:52:18.439155",
          "2025-10-28 16:52:11.086791",
          "2025-10-28 16:52:26.591826",
          "2025-10-28 16:52:19.102326",
          "2025-10-28 16:52:26.691945",
          "2025-10-28 16:52:25.856379",
          "2025-10-28 16:52:26.542228",
          "2025-10-28 16:52:21.582899",
          "2025-10-28 16:52:11.309232",
          "2025-10-28 16:52:18.860688",
          "2025-10-28 16:52:11.205472",
          "2025-10-28 16:52:11.542000",
          "2025-10-28 16:52:10.719498",
          "2025-10-28 16:52:10.989404",
          "2025-10-28 16:52:19.128370",
          "2025-10-28 16:52:11.224171",
          "2025-10-28 16:52:24.783964",
          "2025-10-28 16:52:11.054789",
          "2025-10-28 16:52:18.640032",
          "2025-10-28 16:52:11.259286",
          "2025-10-28 16:52:18.488463",
          "2025-10-28 16:52:16.248470",
          "2025-10-28 16:52:11.942371",
          "2025-10-28 16:52:11.644792",
          "2025-10-28 16:52:05.726703",
          "2025-10-28 16:52:26.404490",
          "2025-10-28 16:52:11.948015"
         ],
         "marker": {
          "color": "#ee7625"
         },
         "name": "Client TTFT",
         "orientation": "h",
         "type": "bar",
         "x": [
          1807.107791988528,
          3679.845833001309,
          3159.173541993368,
          3754.943374995491,
          3164.946290999069,
          3751.989374999539,
          3703.726541003561,
          3133.040625005378,
          3571.142499989946,
          3720.7840829942143,
          3803.873834011028,
          3224.951666008564,
          4256.54233401292,
          4249.630749996868,
          3749.288207996869,
          3524.400125010288,
          3695.17445800011,
          4117.920874996344,
          3700.129791002837,
          3358.44429199642,
          3266.780291989562,
          3298.44695799693,
          3959.26704199519,
          4013.129291997757,
          3485.567124997033,
          4066.889292007545,
          4292.401124999742,
          4263.164417003281,
          4102.557917009108,
          3663.07224999764,
          3150.357542006531,
          3025.688833004096,
          4205.710333000752,
          3720.034167010453,
          3540.156499992008,
          4007.7000410092296,
          3511.468624987174,
          3616.378833990893,
          3514.156833000015,
          3975.93987500295,
          3689.3349169986323,
          4014.4556669984013,
          3512.420874991221,
          3421.613500002422,
          3580.911790995742,
          3591.010791991721,
          4048.015041000326,
          3989.182416989933,
          3386.174125000252,
          3686.32645800244,
          4457.766499996069,
          3901.10691600421,
          3269.064666004851,
          3245.840542003861,
          4082.6409159926698,
          3922.329375011031,
          4494.705750010326,
          3282.295707991579,
          3595.063834000029,
          4106.20666599425,
          3764.612832994316,
          4154.097542006639,
          3355.91529199155,
          4122.585000004619,
          4107.990584001527,
          4339.930832997197,
          3612.321458000224,
          3859.570499989786,
          3217.413208010839,
          2561.476917006075,
          4393.524667000747,
          4322.428125000442,
          3284.202459006337,
          4323.337958994671,
          3791.5271249949,
          2128.662333998363,
          4299.693624998326,
          2054.077708002296,
          2857.718083003419,
          2176.153083011741,
          3801.8712909979513,
          4212.484792005853,
          4525.857625005301,
          4298.7130410037935,
          3989.694959003827,
          4116.990416005137,
          3874.342082999646,
          4279.950791009469,
          4292.131750000408,
          3224.897709005745,
          4452.460250002332,
          4124.307375008357,
          4261.326749998261,
          4279.121790998033,
          3891.71120901301,
          4235.097249998944,
          3894.736124988412,
          3873.5700420074863,
          2317.42762500653,
          4227.562166997814
         ],
         "y": [
          1,
          2,
          3,
          4,
          5,
          6,
          7,
          8,
          9,
          10,
          11,
          12,
          13,
          14,
          15,
          16,
          17,
          18,
          19,
          20,
          21,
          22,
          23,
          24,
          25,
          26,
          27,
          28,
          29,
          30,
          31,
          32,
          33,
          34,
          35,
          36,
          37,
          38,
          39,
          40,
          41,
          42,
          43,
          44,
          45,
          46,
          47,
          48,
          49,
          50,
          51,
          52,
          53,
          54,
          55,
          56,
          57,
          58,
          59,
          60,
          61,
          62,
          63,
          64,
          65,
          66,
          67,
          68,
          69,
          70,
          71,
          72,
          73,
          74,
          75,
          76,
          77,
          78,
          79,
          80,
          81,
          82,
          83,
          84,
          85,
          86,
          87,
          88,
          89,
          90,
          91,
          92,
          93,
          94,
          95,
          96,
          97,
          98,
          99,
          100
         ]
        },
        {
         "base": [
          "2025-10-28 16:52:05.579329",
          "2025-10-28 16:52:17.768977",
          "2025-10-28 16:52:22.884444",
          "2025-10-28 16:52:24.867540",
          "2025-10-28 16:52:24.849732",
          "2025-10-28 16:52:24.876310",
          "2025-10-28 16:52:24.931030",
          "2025-10-28 16:52:09.111978",
          "2025-10-28 16:52:09.298542",
          "2025-10-28 16:52:09.138855",
          "2025-10-28 16:52:24.843309",
          "2025-10-28 16:52:09.667366",
          "2025-10-28 16:52:17.167227",
          "2025-10-28 16:52:17.822128",
          "2025-10-28 16:52:09.123598",
          "2025-10-28 16:52:09.358117",
          "2025-10-28 16:52:24.957346",
          "2025-10-28 16:52:17.321224",
          "2025-10-28 16:52:17.761403",
          "2025-10-28 16:52:09.532745",
          "2025-10-28 16:52:08.311034",
          "2025-10-28 16:52:09.598777",
          "2025-10-28 16:52:17.488771",
          "2025-10-28 16:52:17.433316",
          "2025-10-28 16:52:10.063402",
          "2025-10-28 16:52:18.030981",
          "2025-10-28 16:52:17.794306",
          "2025-10-28 16:52:17.823666",
          "2025-10-28 16:52:17.996527",
          "2025-10-28 16:52:09.864702",
          "2025-10-28 16:52:09.750858",
          "2025-10-28 16:52:23.017991",
          "2025-10-28 16:52:17.890423",
          "2025-10-28 16:52:09.813772",
          "2025-10-28 16:52:23.124895",
          "2025-10-28 16:52:10.181996",
          "2025-10-28 16:52:10.037413",
          "2025-10-28 16:52:25.042014",
          "2025-10-28 16:52:10.048764",
          "2025-10-28 16:52:10.228882",
          "2025-10-28 16:52:09.859485",
          "2025-10-28 16:52:18.096038",
          "2025-10-28 16:52:10.058467",
          "2025-10-28 16:52:23.258252",
          "2025-10-28 16:52:08.633367",
          "2025-10-28 16:52:23.077784",
          "2025-10-28 16:52:10.157619",
          "2025-10-28 16:52:10.224864",
          "2025-10-28 16:52:08.858887",
          "2025-10-28 16:52:09.834583",
          "2025-10-28 16:52:18.280273",
          "2025-10-28 16:52:18.207371",
          "2025-10-28 16:52:23.425431",
          "2025-10-28 16:52:23.436355",
          "2025-10-28 16:52:10.096164",
          "2025-10-28 16:52:10.302344",
          "2025-10-28 16:52:18.243719",
          "2025-10-28 16:52:23.407694",
          "2025-10-28 16:52:08.610649",
          "2025-10-28 16:52:10.087457",
          "2025-10-28 16:52:08.443553",
          "2025-10-28 16:52:10.701481",
          "2025-10-28 16:52:08.889142",
          "2025-10-28 16:52:10.737403",
          "2025-10-28 16:52:10.755772",
          "2025-10-28 16:52:18.400685",
          "2025-10-28 16:52:08.605861",
          "2025-10-28 16:52:11.015709",
          "2025-10-28 16:52:09.027545",
          "2025-10-28 16:52:26.152499",
          "2025-10-28 16:52:18.351793",
          "2025-10-28 16:52:18.431351",
          "2025-10-28 16:52:23.422934",
          "2025-10-28 16:52:18.439155",
          "2025-10-28 16:52:11.086791",
          "2025-10-28 16:52:26.591826",
          "2025-10-28 16:52:19.102326",
          "2025-10-28 16:52:26.691945",
          "2025-10-28 16:52:25.856379",
          "2025-10-28 16:52:26.542228",
          "2025-10-28 16:52:21.582899",
          "2025-10-28 16:52:11.309232",
          "2025-10-28 16:52:18.860688",
          "2025-10-28 16:52:11.205472",
          "2025-10-28 16:52:11.542000",
          "2025-10-28 16:52:10.719498",
          "2025-10-28 16:52:10.989404",
          "2025-10-28 16:52:19.128370",
          "2025-10-28 16:52:11.224171",
          "2025-10-28 16:52:24.783964",
          "2025-10-28 16:52:11.054789",
          "2025-10-28 16:52:18.640032",
          "2025-10-28 16:52:11.259286",
          "2025-10-28 16:52:18.488463",
          "2025-10-28 16:52:16.248470",
          "2025-10-28 16:52:11.942371",
          "2025-10-28 16:52:11.644792",
          "2025-10-28 16:52:05.726703",
          "2025-10-28 16:52:26.404490",
          "2025-10-28 16:52:11.948015"
         ],
         "marker": {
          "color": "#325c8c"
         },
         "name": "Servet TTFT",
         "orientation": "h",
         "type": "bar",
         "x": [
          956.905841827392,
          1994.668245315551,
          1997.012376785278,
          1957.11874961853,
          1343.517541885376,
          1963.27805519104,
          1969.235658645629,
          1356.066226959228,
          1986.626863479614,
          1971.9653129577632,
          1974.738121032714,
          2010.148286819458,
          1972.293615341186,
          1963.891506195068,
          1980.6656837463381,
          1992.4132823944092,
          1980.383157730102,
          1977.991580963134,
          1349.204063415527,
          1998.46076965332,
          1345.343112945556,
          2004.2543411254878,
          1988.9013767242432,
          1983.3412170410152,
          2005.7590007781978,
          1992.682456970214,
          1970.2904224395752,
          1976.030349731445,
          1987.239599227905,
          1987.857103347778,
          1356.0287952423091,
          1346.06122970581,
          1981.72640800476,
          1982.0718765258791,
          1968.227386474609,
          1987.600326538086,
          1999.856948852539,
          1985.8090877532961,
          2012.0432376861568,
          1999.8140335083,
          1993.880033493042,
          1998.222827911377,
          1357.899665832519,
          1974.0028381347652,
          1981.8193912506101,
          1960.85500717163,
          1993.523359298706,
          2005.8467388153072,
          1987.6770973205562,
          1973.672866821289,
          1965.55495262146,
          1343.867301940918,
          1990.416288375854,
          1984.973430633545,
          1973.912239074707,
          2011.8494033813472,
          1958.648681640625,
          1979.507446289062,
          1970.0174331665041,
          1981.752872467041,
          1963.585615158081,
          1981.856107711792,
          1993.6130046844482,
          1987.9505634307861,
          1993.870258331298,
          1976.70578956604,
          1975.8684635162351,
          2005.451917648315,
          1999.446868896484,
          730.839729309082,
          1971.1024761199951,
          1982.205867767334,
          1996.108055114746,
          1987.867593765258,
          1356.2612533569331,
          747.6260662078851,
          1982.2988510131831,
          770.363092422485,
          1380.58853149414,
          742.011070251464,
          1997.912406921386,
          1998.138666152954,
          1958.836317062378,
          1980.156660079956,
          2004.1389465332031,
          1973.9534854888911,
          1999.801158905029,
          1988.511562347412,
          1986.2873554229732,
          1994.052648544311,
          1972.5980758666992,
          1344.218015670776,
          1992.302656173706,
          1993.5071468353271,
          1996.617317199707,
          1992.543697357177,
          2010.222196578979,
          2212.915182113647,
          736.474514007568,
          1986.511468887329
         ],
         "y": [
          1,
          2,
          3,
          4,
          5,
          6,
          7,
          8,
          9,
          10,
          11,
          12,
          13,
          14,
          15,
          16,
          17,
          18,
          19,
          20,
          21,
          22,
          23,
          24,
          25,
          26,
          27,
          28,
          29,
          30,
          31,
          32,
          33,
          34,
          35,
          36,
          37,
          38,
          39,
          40,
          41,
          42,
          43,
          44,
          45,
          46,
          47,
          48,
          49,
          50,
          51,
          52,
          53,
          54,
          55,
          56,
          57,
          58,
          59,
          60,
          61,
          62,
          63,
          64,
          65,
          66,
          67,
          68,
          69,
          70,
          71,
          72,
          73,
          74,
          75,
          76,
          77,
          78,
          79,
          80,
          81,
          82,
          83,
          84,
          85,
          86,
          87,
          88,
          89,
          90,
          91,
          92,
          93,
          94,
          95,
          96,
          97,
          98,
          99,
          100
         ]
        }
       ],
       "layout": {
        "shapes": [
         {
          "fillcolor": "grey",
          "line": {
           "width": 0
          },
          "opacity": 0.1,
          "type": "rect",
          "x0": 0,
          "x1": 1,
          "xref": "x domain",
          "y0": 0.5,
          "y1": 1.5,
          "yref": "y"
         },
         {
          "fillcolor": "grey",
          "line": {
           "width": 0
          },
          "opacity": 0.1,
          "type": "rect",
          "x0": 0,
          "x1": 1,
          "xref": "x domain",
          "y0": 2.5,
          "y1": 3.5,
          "yref": "y"
         },
         {
          "fillcolor": "grey",
          "line": {
           "width": 0
          },
          "opacity": 0.1,
          "type": "rect",
          "x0": 0,
          "x1": 1,
          "xref": "x domain",
          "y0": 4.5,
          "y1": 5.5,
          "yref": "y"
         },
         {
          "fillcolor": "grey",
          "line": {
           "width": 0
          },
          "opacity": 0.1,
          "type": "rect",
          "x0": 0,
          "x1": 1,
          "xref": "x domain",
          "y0": 6.5,
          "y1": 7.5,
          "yref": "y"
         },
         {
          "fillcolor": "grey",
          "line": {
           "width": 0
          },
          "opacity": 0.1,
          "type": "rect",
          "x0": 0,
          "x1": 1,
          "xref": "x domain",
          "y0": 8.5,
          "y1": 9.5,
          "yref": "y"
         },
         {
          "fillcolor": "grey",
          "line": {
           "width": 0
          },
          "opacity": 0.1,
          "type": "rect",
          "x0": 0,
          "x1": 1,
          "xref": "x domain",
          "y0": 10.5,
          "y1": 11.5,
          "yref": "y"
         },
         {
          "fillcolor": "grey",
          "line": {
           "width": 0
          },
          "opacity": 0.1,
          "type": "rect",
          "x0": 0,
          "x1": 1,
          "xref": "x domain",
          "y0": 12.5,
          "y1": 13.5,
          "yref": "y"
         },
         {
          "fillcolor": "grey",
          "line": {
           "width": 0
          },
          "opacity": 0.1,
          "type": "rect",
          "x0": 0,
          "x1": 1,
          "xref": "x domain",
          "y0": 14.5,
          "y1": 15.5,
          "yref": "y"
         },
         {
          "fillcolor": "grey",
          "line": {
           "width": 0
          },
          "opacity": 0.1,
          "type": "rect",
          "x0": 0,
          "x1": 1,
          "xref": "x domain",
          "y0": 16.5,
          "y1": 17.5,
          "yref": "y"
         },
         {
          "fillcolor": "grey",
          "line": {
           "width": 0
          },
          "opacity": 0.1,
          "type": "rect",
          "x0": 0,
          "x1": 1,
          "xref": "x domain",
          "y0": 18.5,
          "y1": 19.5,
          "yref": "y"
         },
         {
          "fillcolor": "grey",
          "line": {
           "width": 0
          },
          "opacity": 0.1,
          "type": "rect",
          "x0": 0,
          "x1": 1,
          "xref": "x domain",
          "y0": 20.5,
          "y1": 21.5,
          "yref": "y"
         },
         {
          "fillcolor": "grey",
          "line": {
           "width": 0
          },
          "opacity": 0.1,
          "type": "rect",
          "x0": 0,
          "x1": 1,
          "xref": "x domain",
          "y0": 22.5,
          "y1": 23.5,
          "yref": "y"
         },
         {
          "fillcolor": "grey",
          "line": {
           "width": 0
          },
          "opacity": 0.1,
          "type": "rect",
          "x0": 0,
          "x1": 1,
          "xref": "x domain",
          "y0": 24.5,
          "y1": 25.5,
          "yref": "y"
         },
         {
          "fillcolor": "grey",
          "line": {
           "width": 0
          },
          "opacity": 0.1,
          "type": "rect",
          "x0": 0,
          "x1": 1,
          "xref": "x domain",
          "y0": 26.5,
          "y1": 27.5,
          "yref": "y"
         },
         {
          "fillcolor": "grey",
          "line": {
           "width": 0
          },
          "opacity": 0.1,
          "type": "rect",
          "x0": 0,
          "x1": 1,
          "xref": "x domain",
          "y0": 28.5,
          "y1": 29.5,
          "yref": "y"
         },
         {
          "fillcolor": "grey",
          "line": {
           "width": 0
          },
          "opacity": 0.1,
          "type": "rect",
          "x0": 0,
          "x1": 1,
          "xref": "x domain",
          "y0": 30.5,
          "y1": 31.5,
          "yref": "y"
         },
         {
          "fillcolor": "grey",
          "line": {
           "width": 0
          },
          "opacity": 0.1,
          "type": "rect",
          "x0": 0,
          "x1": 1,
          "xref": "x domain",
          "y0": 32.5,
          "y1": 33.5,
          "yref": "y"
         },
         {
          "fillcolor": "grey",
          "line": {
           "width": 0
          },
          "opacity": 0.1,
          "type": "rect",
          "x0": 0,
          "x1": 1,
          "xref": "x domain",
          "y0": 34.5,
          "y1": 35.5,
          "yref": "y"
         },
         {
          "fillcolor": "grey",
          "line": {
           "width": 0
          },
          "opacity": 0.1,
          "type": "rect",
          "x0": 0,
          "x1": 1,
          "xref": "x domain",
          "y0": 36.5,
          "y1": 37.5,
          "yref": "y"
         },
         {
          "fillcolor": "grey",
          "line": {
           "width": 0
          },
          "opacity": 0.1,
          "type": "rect",
          "x0": 0,
          "x1": 1,
          "xref": "x domain",
          "y0": 38.5,
          "y1": 39.5,
          "yref": "y"
         },
         {
          "fillcolor": "grey",
          "line": {
           "width": 0
          },
          "opacity": 0.1,
          "type": "rect",
          "x0": 0,
          "x1": 1,
          "xref": "x domain",
          "y0": 40.5,
          "y1": 41.5,
          "yref": "y"
         },
         {
          "fillcolor": "grey",
          "line": {
           "width": 0
          },
          "opacity": 0.1,
          "type": "rect",
          "x0": 0,
          "x1": 1,
          "xref": "x domain",
          "y0": 42.5,
          "y1": 43.5,
          "yref": "y"
         },
         {
          "fillcolor": "grey",
          "line": {
           "width": 0
          },
          "opacity": 0.1,
          "type": "rect",
          "x0": 0,
          "x1": 1,
          "xref": "x domain",
          "y0": 44.5,
          "y1": 45.5,
          "yref": "y"
         },
         {
          "fillcolor": "grey",
          "line": {
           "width": 0
          },
          "opacity": 0.1,
          "type": "rect",
          "x0": 0,
          "x1": 1,
          "xref": "x domain",
          "y0": 46.5,
          "y1": 47.5,
          "yref": "y"
         },
         {
          "fillcolor": "grey",
          "line": {
           "width": 0
          },
          "opacity": 0.1,
          "type": "rect",
          "x0": 0,
          "x1": 1,
          "xref": "x domain",
          "y0": 48.5,
          "y1": 49.5,
          "yref": "y"
         },
         {
          "fillcolor": "grey",
          "line": {
           "width": 0
          },
          "opacity": 0.1,
          "type": "rect",
          "x0": 0,
          "x1": 1,
          "xref": "x domain",
          "y0": 50.5,
          "y1": 51.5,
          "yref": "y"
         },
         {
          "fillcolor": "grey",
          "line": {
           "width": 0
          },
          "opacity": 0.1,
          "type": "rect",
          "x0": 0,
          "x1": 1,
          "xref": "x domain",
          "y0": 52.5,
          "y1": 53.5,
          "yref": "y"
         },
         {
          "fillcolor": "grey",
          "line": {
           "width": 0
          },
          "opacity": 0.1,
          "type": "rect",
          "x0": 0,
          "x1": 1,
          "xref": "x domain",
          "y0": 54.5,
          "y1": 55.5,
          "yref": "y"
         },
         {
          "fillcolor": "grey",
          "line": {
           "width": 0
          },
          "opacity": 0.1,
          "type": "rect",
          "x0": 0,
          "x1": 1,
          "xref": "x domain",
          "y0": 56.5,
          "y1": 57.5,
          "yref": "y"
         },
         {
          "fillcolor": "grey",
          "line": {
           "width": 0
          },
          "opacity": 0.1,
          "type": "rect",
          "x0": 0,
          "x1": 1,
          "xref": "x domain",
          "y0": 58.5,
          "y1": 59.5,
          "yref": "y"
         },
         {
          "fillcolor": "grey",
          "line": {
           "width": 0
          },
          "opacity": 0.1,
          "type": "rect",
          "x0": 0,
          "x1": 1,
          "xref": "x domain",
          "y0": 60.5,
          "y1": 61.5,
          "yref": "y"
         },
         {
          "fillcolor": "grey",
          "line": {
           "width": 0
          },
          "opacity": 0.1,
          "type": "rect",
          "x0": 0,
          "x1": 1,
          "xref": "x domain",
          "y0": 62.5,
          "y1": 63.5,
          "yref": "y"
         },
         {
          "fillcolor": "grey",
          "line": {
           "width": 0
          },
          "opacity": 0.1,
          "type": "rect",
          "x0": 0,
          "x1": 1,
          "xref": "x domain",
          "y0": 64.5,
          "y1": 65.5,
          "yref": "y"
         },
         {
          "fillcolor": "grey",
          "line": {
           "width": 0
          },
          "opacity": 0.1,
          "type": "rect",
          "x0": 0,
          "x1": 1,
          "xref": "x domain",
          "y0": 66.5,
          "y1": 67.5,
          "yref": "y"
         },
         {
          "fillcolor": "grey",
          "line": {
           "width": 0
          },
          "opacity": 0.1,
          "type": "rect",
          "x0": 0,
          "x1": 1,
          "xref": "x domain",
          "y0": 68.5,
          "y1": 69.5,
          "yref": "y"
         },
         {
          "fillcolor": "grey",
          "line": {
           "width": 0
          },
          "opacity": 0.1,
          "type": "rect",
          "x0": 0,
          "x1": 1,
          "xref": "x domain",
          "y0": 70.5,
          "y1": 71.5,
          "yref": "y"
         },
         {
          "fillcolor": "grey",
          "line": {
           "width": 0
          },
          "opacity": 0.1,
          "type": "rect",
          "x0": 0,
          "x1": 1,
          "xref": "x domain",
          "y0": 72.5,
          "y1": 73.5,
          "yref": "y"
         },
         {
          "fillcolor": "grey",
          "line": {
           "width": 0
          },
          "opacity": 0.1,
          "type": "rect",
          "x0": 0,
          "x1": 1,
          "xref": "x domain",
          "y0": 74.5,
          "y1": 75.5,
          "yref": "y"
         },
         {
          "fillcolor": "grey",
          "line": {
           "width": 0
          },
          "opacity": 0.1,
          "type": "rect",
          "x0": 0,
          "x1": 1,
          "xref": "x domain",
          "y0": 76.5,
          "y1": 77.5,
          "yref": "y"
         },
         {
          "fillcolor": "grey",
          "line": {
           "width": 0
          },
          "opacity": 0.1,
          "type": "rect",
          "x0": 0,
          "x1": 1,
          "xref": "x domain",
          "y0": 78.5,
          "y1": 79.5,
          "yref": "y"
         },
         {
          "fillcolor": "grey",
          "line": {
           "width": 0
          },
          "opacity": 0.1,
          "type": "rect",
          "x0": 0,
          "x1": 1,
          "xref": "x domain",
          "y0": 80.5,
          "y1": 81.5,
          "yref": "y"
         },
         {
          "fillcolor": "grey",
          "line": {
           "width": 0
          },
          "opacity": 0.1,
          "type": "rect",
          "x0": 0,
          "x1": 1,
          "xref": "x domain",
          "y0": 82.5,
          "y1": 83.5,
          "yref": "y"
         },
         {
          "fillcolor": "grey",
          "line": {
           "width": 0
          },
          "opacity": 0.1,
          "type": "rect",
          "x0": 0,
          "x1": 1,
          "xref": "x domain",
          "y0": 84.5,
          "y1": 85.5,
          "yref": "y"
         },
         {
          "fillcolor": "grey",
          "line": {
           "width": 0
          },
          "opacity": 0.1,
          "type": "rect",
          "x0": 0,
          "x1": 1,
          "xref": "x domain",
          "y0": 86.5,
          "y1": 87.5,
          "yref": "y"
         },
         {
          "fillcolor": "grey",
          "line": {
           "width": 0
          },
          "opacity": 0.1,
          "type": "rect",
          "x0": 0,
          "x1": 1,
          "xref": "x domain",
          "y0": 88.5,
          "y1": 89.5,
          "yref": "y"
         },
         {
          "fillcolor": "grey",
          "line": {
           "width": 0
          },
          "opacity": 0.1,
          "type": "rect",
          "x0": 0,
          "x1": 1,
          "xref": "x domain",
          "y0": 90.5,
          "y1": 91.5,
          "yref": "y"
         },
         {
          "fillcolor": "grey",
          "line": {
           "width": 0
          },
          "opacity": 0.1,
          "type": "rect",
          "x0": 0,
          "x1": 1,
          "xref": "x domain",
          "y0": 92.5,
          "y1": 93.5,
          "yref": "y"
         },
         {
          "fillcolor": "grey",
          "line": {
           "width": 0
          },
          "opacity": 0.1,
          "type": "rect",
          "x0": 0,
          "x1": 1,
          "xref": "x domain",
          "y0": 94.5,
          "y1": 95.5,
          "yref": "y"
         },
         {
          "fillcolor": "grey",
          "line": {
           "width": 0
          },
          "opacity": 0.1,
          "type": "rect",
          "x0": 0,
          "x1": 1,
          "xref": "x domain",
          "y0": 96.5,
          "y1": 97.5,
          "yref": "y"
         },
         {
          "fillcolor": "grey",
          "line": {
           "width": 0
          },
          "opacity": 0.1,
          "type": "rect",
          "x0": 0,
          "x1": 1,
          "xref": "x domain",
          "y0": 98.5,
          "y1": 99.5,
          "yref": "y"
         }
        ],
        "template": {
         "data": {
          "bar": [
           {
            "error_x": {
             "color": "#f2f5fa"
            },
            "error_y": {
             "color": "#f2f5fa"
            },
            "marker": {
             "line": {
              "color": "rgb(17,17,17)",
              "width": 0.5
             },
             "pattern": {
              "fillmode": "overlay",
              "size": 10,
              "solidity": 0.2
             }
            },
            "type": "bar"
           }
          ],
          "barpolar": [
           {
            "marker": {
             "line": {
              "color": "rgb(17,17,17)",
              "width": 0.5
             },
             "pattern": {
              "fillmode": "overlay",
              "size": 10,
              "solidity": 0.2
             }
            },
            "type": "barpolar"
           }
          ],
          "carpet": [
           {
            "aaxis": {
             "endlinecolor": "#A2B1C6",
             "gridcolor": "#506784",
             "linecolor": "#506784",
             "minorgridcolor": "#506784",
             "startlinecolor": "#A2B1C6"
            },
            "baxis": {
             "endlinecolor": "#A2B1C6",
             "gridcolor": "#506784",
             "linecolor": "#506784",
             "minorgridcolor": "#506784",
             "startlinecolor": "#A2B1C6"
            },
            "type": "carpet"
           }
          ],
          "choropleth": [
           {
            "colorbar": {
             "outlinewidth": 0,
             "ticks": ""
            },
            "type": "choropleth"
           }
          ],
          "contour": [
           {
            "colorbar": {
             "outlinewidth": 0,
             "ticks": ""
            },
            "colorscale": [
             [
              0,
              "#0d0887"
             ],
             [
              0.1111111111111111,
              "#46039f"
             ],
             [
              0.2222222222222222,
              "#7201a8"
             ],
             [
              0.3333333333333333,
              "#9c179e"
             ],
             [
              0.4444444444444444,
              "#bd3786"
             ],
             [
              0.5555555555555556,
              "#d8576b"
             ],
             [
              0.6666666666666666,
              "#ed7953"
             ],
             [
              0.7777777777777778,
              "#fb9f3a"
             ],
             [
              0.8888888888888888,
              "#fdca26"
             ],
             [
              1,
              "#f0f921"
             ]
            ],
            "type": "contour"
           }
          ],
          "contourcarpet": [
           {
            "colorbar": {
             "outlinewidth": 0,
             "ticks": ""
            },
            "type": "contourcarpet"
           }
          ],
          "heatmap": [
           {
            "colorbar": {
             "outlinewidth": 0,
             "ticks": ""
            },
            "colorscale": [
             [
              0,
              "#0d0887"
             ],
             [
              0.1111111111111111,
              "#46039f"
             ],
             [
              0.2222222222222222,
              "#7201a8"
             ],
             [
              0.3333333333333333,
              "#9c179e"
             ],
             [
              0.4444444444444444,
              "#bd3786"
             ],
             [
              0.5555555555555556,
              "#d8576b"
             ],
             [
              0.6666666666666666,
              "#ed7953"
             ],
             [
              0.7777777777777778,
              "#fb9f3a"
             ],
             [
              0.8888888888888888,
              "#fdca26"
             ],
             [
              1,
              "#f0f921"
             ]
            ],
            "type": "heatmap"
           }
          ],
          "heatmapgl": [
           {
            "colorbar": {
             "outlinewidth": 0,
             "ticks": ""
            },
            "colorscale": [
             [
              0,
              "#0d0887"
             ],
             [
              0.1111111111111111,
              "#46039f"
             ],
             [
              0.2222222222222222,
              "#7201a8"
             ],
             [
              0.3333333333333333,
              "#9c179e"
             ],
             [
              0.4444444444444444,
              "#bd3786"
             ],
             [
              0.5555555555555556,
              "#d8576b"
             ],
             [
              0.6666666666666666,
              "#ed7953"
             ],
             [
              0.7777777777777778,
              "#fb9f3a"
             ],
             [
              0.8888888888888888,
              "#fdca26"
             ],
             [
              1,
              "#f0f921"
             ]
            ],
            "type": "heatmapgl"
           }
          ],
          "histogram": [
           {
            "marker": {
             "pattern": {
              "fillmode": "overlay",
              "size": 10,
              "solidity": 0.2
             }
            },
            "type": "histogram"
           }
          ],
          "histogram2d": [
           {
            "colorbar": {
             "outlinewidth": 0,
             "ticks": ""
            },
            "colorscale": [
             [
              0,
              "#0d0887"
             ],
             [
              0.1111111111111111,
              "#46039f"
             ],
             [
              0.2222222222222222,
              "#7201a8"
             ],
             [
              0.3333333333333333,
              "#9c179e"
             ],
             [
              0.4444444444444444,
              "#bd3786"
             ],
             [
              0.5555555555555556,
              "#d8576b"
             ],
             [
              0.6666666666666666,
              "#ed7953"
             ],
             [
              0.7777777777777778,
              "#fb9f3a"
             ],
             [
              0.8888888888888888,
              "#fdca26"
             ],
             [
              1,
              "#f0f921"
             ]
            ],
            "type": "histogram2d"
           }
          ],
          "histogram2dcontour": [
           {
            "colorbar": {
             "outlinewidth": 0,
             "ticks": ""
            },
            "colorscale": [
             [
              0,
              "#0d0887"
             ],
             [
              0.1111111111111111,
              "#46039f"
             ],
             [
              0.2222222222222222,
              "#7201a8"
             ],
             [
              0.3333333333333333,
              "#9c179e"
             ],
             [
              0.4444444444444444,
              "#bd3786"
             ],
             [
              0.5555555555555556,
              "#d8576b"
             ],
             [
              0.6666666666666666,
              "#ed7953"
             ],
             [
              0.7777777777777778,
              "#fb9f3a"
             ],
             [
              0.8888888888888888,
              "#fdca26"
             ],
             [
              1,
              "#f0f921"
             ]
            ],
            "type": "histogram2dcontour"
           }
          ],
          "mesh3d": [
           {
            "colorbar": {
             "outlinewidth": 0,
             "ticks": ""
            },
            "type": "mesh3d"
           }
          ],
          "parcoords": [
           {
            "line": {
             "colorbar": {
              "outlinewidth": 0,
              "ticks": ""
             }
            },
            "type": "parcoords"
           }
          ],
          "pie": [
           {
            "automargin": true,
            "type": "pie"
           }
          ],
          "scatter": [
           {
            "marker": {
             "line": {
              "color": "#283442"
             }
            },
            "type": "scatter"
           }
          ],
          "scatter3d": [
           {
            "line": {
             "colorbar": {
              "outlinewidth": 0,
              "ticks": ""
             }
            },
            "marker": {
             "colorbar": {
              "outlinewidth": 0,
              "ticks": ""
             }
            },
            "type": "scatter3d"
           }
          ],
          "scattercarpet": [
           {
            "marker": {
             "colorbar": {
              "outlinewidth": 0,
              "ticks": ""
             }
            },
            "type": "scattercarpet"
           }
          ],
          "scattergeo": [
           {
            "marker": {
             "colorbar": {
              "outlinewidth": 0,
              "ticks": ""
             }
            },
            "type": "scattergeo"
           }
          ],
          "scattergl": [
           {
            "marker": {
             "line": {
              "color": "#283442"
             }
            },
            "type": "scattergl"
           }
          ],
          "scattermapbox": [
           {
            "marker": {
             "colorbar": {
              "outlinewidth": 0,
              "ticks": ""
             }
            },
            "type": "scattermapbox"
           }
          ],
          "scatterpolar": [
           {
            "marker": {
             "colorbar": {
              "outlinewidth": 0,
              "ticks": ""
             }
            },
            "type": "scatterpolar"
           }
          ],
          "scatterpolargl": [
           {
            "marker": {
             "colorbar": {
              "outlinewidth": 0,
              "ticks": ""
             }
            },
            "type": "scatterpolargl"
           }
          ],
          "scatterternary": [
           {
            "marker": {
             "colorbar": {
              "outlinewidth": 0,
              "ticks": ""
             }
            },
            "type": "scatterternary"
           }
          ],
          "surface": [
           {
            "colorbar": {
             "outlinewidth": 0,
             "ticks": ""
            },
            "colorscale": [
             [
              0,
              "#0d0887"
             ],
             [
              0.1111111111111111,
              "#46039f"
             ],
             [
              0.2222222222222222,
              "#7201a8"
             ],
             [
              0.3333333333333333,
              "#9c179e"
             ],
             [
              0.4444444444444444,
              "#bd3786"
             ],
             [
              0.5555555555555556,
              "#d8576b"
             ],
             [
              0.6666666666666666,
              "#ed7953"
             ],
             [
              0.7777777777777778,
              "#fb9f3a"
             ],
             [
              0.8888888888888888,
              "#fdca26"
             ],
             [
              1,
              "#f0f921"
             ]
            ],
            "type": "surface"
           }
          ],
          "table": [
           {
            "cells": {
             "fill": {
              "color": "#506784"
             },
             "line": {
              "color": "rgb(17,17,17)"
             }
            },
            "header": {
             "fill": {
              "color": "#2a3f5f"
             },
             "line": {
              "color": "rgb(17,17,17)"
             }
            },
            "type": "table"
           }
          ]
         },
         "layout": {
          "annotationdefaults": {
           "arrowcolor": "#f2f5fa",
           "arrowhead": 0,
           "arrowwidth": 1
          },
          "autotypenumbers": "strict",
          "coloraxis": {
           "colorbar": {
            "outlinewidth": 0,
            "ticks": ""
           }
          },
          "colorscale": {
           "diverging": [
            [
             0,
             "#8e0152"
            ],
            [
             0.1,
             "#c51b7d"
            ],
            [
             0.2,
             "#de77ae"
            ],
            [
             0.3,
             "#f1b6da"
            ],
            [
             0.4,
             "#fde0ef"
            ],
            [
             0.5,
             "#f7f7f7"
            ],
            [
             0.6,
             "#e6f5d0"
            ],
            [
             0.7,
             "#b8e186"
            ],
            [
             0.8,
             "#7fbc41"
            ],
            [
             0.9,
             "#4d9221"
            ],
            [
             1,
             "#276419"
            ]
           ],
           "sequential": [
            [
             0,
             "#0d0887"
            ],
            [
             0.1111111111111111,
             "#46039f"
            ],
            [
             0.2222222222222222,
             "#7201a8"
            ],
            [
             0.3333333333333333,
             "#9c179e"
            ],
            [
             0.4444444444444444,
             "#bd3786"
            ],
            [
             0.5555555555555556,
             "#d8576b"
            ],
            [
             0.6666666666666666,
             "#ed7953"
            ],
            [
             0.7777777777777778,
             "#fb9f3a"
            ],
            [
             0.8888888888888888,
             "#fdca26"
            ],
            [
             1,
             "#f0f921"
            ]
           ],
           "sequentialminus": [
            [
             0,
             "#0d0887"
            ],
            [
             0.1111111111111111,
             "#46039f"
            ],
            [
             0.2222222222222222,
             "#7201a8"
            ],
            [
             0.3333333333333333,
             "#9c179e"
            ],
            [
             0.4444444444444444,
             "#bd3786"
            ],
            [
             0.5555555555555556,
             "#d8576b"
            ],
            [
             0.6666666666666666,
             "#ed7953"
            ],
            [
             0.7777777777777778,
             "#fb9f3a"
            ],
            [
             0.8888888888888888,
             "#fdca26"
            ],
            [
             1,
             "#f0f921"
            ]
           ]
          },
          "colorway": [
           "#636efa",
           "#EF553B",
           "#00cc96",
           "#ab63fa",
           "#FFA15A",
           "#19d3f3",
           "#FF6692",
           "#B6E880",
           "#FF97FF",
           "#FECB52"
          ],
          "font": {
           "color": "#f2f5fa"
          },
          "geo": {
           "bgcolor": "rgb(17,17,17)",
           "lakecolor": "rgb(17,17,17)",
           "landcolor": "rgb(17,17,17)",
           "showlakes": true,
           "showland": true,
           "subunitcolor": "#506784"
          },
          "hoverlabel": {
           "align": "left"
          },
          "hovermode": "closest",
          "mapbox": {
           "style": "dark"
          },
          "paper_bgcolor": "rgb(17,17,17)",
          "plot_bgcolor": "rgb(17,17,17)",
          "polar": {
           "angularaxis": {
            "gridcolor": "#506784",
            "linecolor": "#506784",
            "ticks": ""
           },
           "bgcolor": "rgb(17,17,17)",
           "radialaxis": {
            "gridcolor": "#506784",
            "linecolor": "#506784",
            "ticks": ""
           }
          },
          "scene": {
           "xaxis": {
            "backgroundcolor": "rgb(17,17,17)",
            "gridcolor": "#506784",
            "gridwidth": 2,
            "linecolor": "#506784",
            "showbackground": true,
            "ticks": "",
            "zerolinecolor": "#C8D4E3"
           },
           "yaxis": {
            "backgroundcolor": "rgb(17,17,17)",
            "gridcolor": "#506784",
            "gridwidth": 2,
            "linecolor": "#506784",
            "showbackground": true,
            "ticks": "",
            "zerolinecolor": "#C8D4E3"
           },
           "zaxis": {
            "backgroundcolor": "rgb(17,17,17)",
            "gridcolor": "#506784",
            "gridwidth": 2,
            "linecolor": "#506784",
            "showbackground": true,
            "ticks": "",
            "zerolinecolor": "#C8D4E3"
           }
          },
          "shapedefaults": {
           "line": {
            "color": "#f2f5fa"
           }
          },
          "sliderdefaults": {
           "bgcolor": "#C8D4E3",
           "bordercolor": "rgb(17,17,17)",
           "borderwidth": 1,
           "tickwidth": 0
          },
          "ternary": {
           "aaxis": {
            "gridcolor": "#506784",
            "linecolor": "#506784",
            "ticks": ""
           },
           "baxis": {
            "gridcolor": "#506784",
            "linecolor": "#506784",
            "ticks": ""
           },
           "bgcolor": "rgb(17,17,17)",
           "caxis": {
            "gridcolor": "#506784",
            "linecolor": "#506784",
            "ticks": ""
           }
          },
          "title": {
           "x": 0.05
          },
          "updatemenudefaults": {
           "bgcolor": "#506784",
           "borderwidth": 0
          },
          "xaxis": {
           "automargin": true,
           "gridcolor": "#283442",
           "linecolor": "#506784",
           "ticks": "",
           "title": {
            "standoff": 15
           },
           "zerolinecolor": "#283442",
           "zerolinewidth": 2
          },
          "yaxis": {
           "automargin": true,
           "gridcolor": "#283442",
           "linecolor": "#506784",
           "ticks": "",
           "title": {
            "standoff": 15
           },
           "zerolinecolor": "#283442",
           "zerolinewidth": 2
          }
         }
        },
        "title": {
         "text": "LLM requests across time"
        },
        "xaxis": {
         "hoverformat": "%H:%M:%S.%2f",
         "tickformat": "%H:%M:%S",
         "title": {
          "text": "Time stamp"
         },
         "type": "date"
        },
        "yaxis": {
         "title": {
          "text": "Request index"
         }
        }
       }
      }
     },
     "metadata": {},
     "output_type": "display_data"
    }
   ],
   "source": [
    "fig = plot_requests_gantt_chart(df_user.head(100))\n",
    "fig.show()"
   ]
  },
  {
   "cell_type": "code",
   "execution_count": 48,
   "id": "4ccd9154",
   "metadata": {},
   "outputs": [],
   "source": [
    "fig.write_html(\"my_interactive_plot-3.html\") "
   ]
  },
  {
   "cell_type": "code",
   "execution_count": 6,
   "id": "245f0e36",
   "metadata": {},
   "outputs": [
    {
     "data": {
      "image/png": "[encoded data removed]",
      "text/plain": [
       "<Figure size 1000x600 with 1 Axes>"
      ]
     },
     "metadata": {},
     "output_type": "display_data"
    }
   ],
   "source": [
    "def plot_client_vs_server_scatter(df: pd.DataFrame) -> None:\n",
    "    \"\"\"\n",
    "    Plots scatter plot for client vs server TTFT from a DataFrame.\n",
    "\n",
    "    Args:\n",
    "        df (pd.DataFrame): The DataFrame containing the data to plot.\n",
    "    \"\"\"\n",
    "    from matplotlib import pyplot as plt\n",
    "    # Convert start_time to datetime\n",
    "    df[\"start_time\"] = pd.to_datetime(df[\"start_time\"])\n",
    "\n",
    "    # Plot\n",
    "    plt.figure(figsize=(10, 6))\n",
    "    plt.scatter(df[\"start_time\"], df[\"client_ttft_s\"]-df[\"server_ttft_s\"], color='blue', label='Client - Server TTFT (s)')\n",
    "\n",
    "    # Labels and legend\n",
    "    plt.title(\"Client - Server TTFT over Time\")\n",
    "    plt.xlabel(\"Start Time\")\n",
    "    plt.ylabel(\"Client - Server Time (seconds)\")\n",
    "    plt.legend()\n",
    "    plt.grid(True, linestyle='--', alpha=0.6)\n",
    "    plt.tight_layout()\n",
    "    \n",
    "    plt.gca().xaxis.set_major_formatter(plt.matplotlib.dates.DateFormatter(\"%H:%M:%S\"))\n",
    "\n",
    "    plt.show()\n",
    "    \n",
    "plot_client_vs_server_scatter(df_user)"
   ]
  },
  {
   "cell_type": "code",
   "execution_count": null,
   "id": "f8db4fb2",
   "metadata": {},
   "outputs": [],
   "source": []
  }
 ],
 "metadata": {
  "kernelspec": {
   "display_name": "benchmarking_venv",
   "language": "python",
   "name": "benchmarking_venv"
  },
  "language_info": {
   "codemirror_mode": {
    "name": "ipython",
    "version": 3
   },
   "file_extension": ".py",
   "mimetype": "text/x-python",
   "name": "python",
   "nbconvert_exporter": "python",
   "pygments_lexer": "ipython3",
   "version": "3.11.3"
  }
 },
 "nbformat": 4,
 "nbformat_minor": 5
}
