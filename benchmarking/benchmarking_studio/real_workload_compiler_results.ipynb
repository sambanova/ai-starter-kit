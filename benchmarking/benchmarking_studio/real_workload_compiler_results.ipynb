{
 "cells": [
  {
   "cell_type": "code",
   "execution_count": null,
   "metadata": {},
   "outputs": [],
   "source": [
    "import json\n",
    "import os\n",
    "import sys\n",
    "\n",
    "sys.path.append('../')\n",
    "sys.path.append('../../')\n",
    "sys.path.append('../src')\n",
    "sys.path.append('../prompts')\n",
    "sys.path.append('../src/llmperf')\n",
    "\n",
    "import pandas as pd"
   ]
  },
  {
   "cell_type": "markdown",
   "metadata": {},
   "source": [
    "# Real workload - Consolidate results\n"
   ]
  },
  {
   "cell_type": "code",
   "execution_count": null,
   "metadata": {},
   "outputs": [],
   "source": [
    "def read_json_files(folder_path):\n",
    "    data = []\n",
    "    \n",
    "    # Iterate through all files in the folder\n",
    "    for filename in os.listdir(folder_path):\n",
    "        # Check if the file ends with 'individual_responses.json'\n",
    "        if filename.endswith('individual_responses.json'):\n",
    "            file_path = os.path.join(folder_path, filename)\n",
    "            \n",
    "            # Open and load the JSON file\n",
    "            with open(file_path, 'r') as file:\n",
    "                try:\n",
    "                    json_data = json.load(file)\n",
    "                    # Reading responses but skipping the ones that have an error code\n",
    "                    json_data = [{**request_response, 'filename': filename} for request_response in json_data if request_response['error_code'] is None]\n",
    "                    data.append(json_data)\n",
    "                except json.JSONDecodeError as e:\n",
    "                    print(f\"Error reading {file_path}: {e}\")\n",
    "    return data"
   ]
  },
  {
   "cell_type": "code",
   "execution_count": null,
   "metadata": {},
   "outputs": [],
   "source": [
    "results_dir = '../data/results/path/'\n",
    "all_responses = read_json_files(results_dir)\n",
    "print(f'Number of files found {len(all_responses[0])}')"
   ]
  },
  {
   "cell_type": "code",
   "execution_count": null,
   "metadata": {},
   "outputs": [],
   "source": [
    "run_stats = []\n",
    "for run in all_responses:\n",
    "    metrics = {\n",
    "        'filename': [],\n",
    "        'input_tokens': [],\n",
    "        'output_tokens': [],\n",
    "        'qps': [], \n",
    "        'server_number_input_tokens': [],\n",
    "        'server_number_output_tokens': [],\n",
    "        'server_ttft_s': [], \n",
    "        'server_output_token_per_s_per_request': [],\n",
    "        'server_end_to_end_latency_s': [],\n",
    "        'client_ttft_s': [], \n",
    "        'client_output_token_per_s_per_request': [], \n",
    "        'client_end_to_end_latency_s': []\n",
    "    }\n",
    "    for request_metrics in run:        \n",
    "        # It will skip the requests that have an error message\n",
    "        if len(request_metrics['error_msg'])==0:\n",
    "            metrics['filename'].append(request_metrics['filename'])\n",
    "            \n",
    "            input_tokens = int(request_metrics['filename'].split('_')[4])\n",
    "            output_tokens = int(request_metrics['filename'].split('_')[5])\n",
    "            qps = float(request_metrics['filename'].split('_')[5].replace('-','.'))\n",
    "            metrics['input_tokens'].append(input_tokens)\n",
    "            metrics['output_tokens'].append(output_tokens)\n",
    "            metrics['qps'].append(qps)\n",
    "            \n",
    "            metrics['server_number_input_tokens'].append(request_metrics['server_number_input_tokens'])\n",
    "            metrics['server_number_output_tokens'].append(request_metrics['server_number_output_tokens'])\n",
    "            metrics['server_ttft_s'].append(request_metrics['server_ttft_s'])\n",
    "            metrics['server_output_token_per_s_per_request'].append(request_metrics['server_output_token_per_s_per_request'])\n",
    "            metrics['server_end_to_end_latency_s'].append(request_metrics['server_end_to_end_latency_s'])\n",
    "            metrics['client_ttft_s'].append(request_metrics['client_ttft_s'])\n",
    "            metrics['client_output_token_per_s_per_request'].append(request_metrics['client_output_token_per_s_per_request'])\n",
    "            metrics['client_end_to_end_latency_s'].append(request_metrics['client_end_to_end_latency_s'])\n",
    "    df_metrics =  pd.DataFrame(metrics)\n",
    "    df_metric_stats = df_metrics.groupby(by='filename')[['server_ttft_s','server_output_token_per_s_per_request','server_end_to_end_latency_s','client_ttft_s','client_output_token_per_s_per_request','client_end_to_end_latency_s']].agg(['median','std'])\n",
    "    df_metric_stats.style.format(\"{:,.3f}\")\n",
    "    df_parameters = df_metrics.groupby(by='filename')[['input_tokens','output_tokens','qps']].agg(['first'])    \n",
    "    df_parameters['request_count'] = df_metrics.shape[0]\n",
    "    df_parameters.style.format(\"{:,.0f}\")\n",
    "    df = pd.concat([df_parameters, df_metric_stats], axis=1)\n",
    "    run_stats.append(df)\n",
    "results = pd.concat(run_stats)\n",
    "results.columns = ['_'.join(col).strip() for col in results.columns.values]\n",
    "results"
   ]
  },
  {
   "cell_type": "code",
   "execution_count": null,
   "metadata": {},
   "outputs": [],
   "source": []
  }
 ],
 "metadata": {
  "kernelspec": {
   "display_name": "benchmark_venv",
   "language": "python",
   "name": "benchmark_venv"
  },
  "language_info": {
   "codemirror_mode": {
    "name": "ipython",
    "version": 3
   },
   "file_extension": ".py",
   "mimetype": "text/x-python",
   "name": "python",
   "nbconvert_exporter": "python",
   "pygments_lexer": "ipython3",
   "version": "3.11.3"
  }
 },
 "nbformat": 4,
 "nbformat_minor": 2
}
