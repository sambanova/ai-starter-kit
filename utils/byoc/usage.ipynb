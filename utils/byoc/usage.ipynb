{
 "cells": [
  {
   "cell_type": "markdown",
   "metadata": {},
   "source": [
    "# Bring Your Own Checkpoint (BYOC) to SamabaStudio "
   ]
  },
  {
   "cell_type": "markdown",
   "metadata": {},
   "source": [
    "Example checkpoint download from Huggingface"
   ]
  },
  {
   "cell_type": "code",
   "execution_count": null,
   "metadata": {},
   "outputs": [],
   "source": [
    "import os\n",
    "import sys\n",
    "current_dir = os.getcwd()\n",
    "utils_dir = os.path.abspath(os.path.join(current_dir, \"..\"))\n",
    "repo_dir = os.path.abspath(os.path.join(utils_dir, \"..\"))\n",
    "\n",
    "sys.path.append(utils_dir)\n",
    "sys.path.append(repo_dir)\n",
    "\n",
    "from huggingface_hub import hf_hub_download, HfApi\n",
    "\n",
    "model_name = \"NousResearch/Hermes-2-Theta-Llama-3-8B\"  # Replace with your desired model\n",
    "\n",
    "target_dir = os.path.join(current_dir, \"models\")  \n",
    "os.makedirs(target_dir, exist_ok=True)\n",
    "\n",
    "repo_files = HfApi().list_repo_files(model_name)\n",
    "\n",
    "for file_name in repo_files:\n",
    "    hf_hub_download(repo_id=model_name, filename=file_name, cache_dir=target_dir)"
   ]
  },
  {
   "cell_type": "markdown",
   "metadata": {},
   "source": [
    "After download, modify [config.yaml](./config.yaml) file with the snapshot of the model and required parameters\n",
    "\n",
    "check at the `chat_template` key in the [tokenizer_config.json](./models/models--NousResearch--Hermes-2-Theta-Llama-3-8B/snapshots/57a73110702e7b05ba3f39fef36297454c680725/tokenizer_config.json) file inside the model snapshot and modify it to follow a chat jinja template like this:\n",
    "\n",
    "```json\n",
    "  \"chat_template\": \"{% for message in messages %}{% set content = '<|im_start|>' + message['role'] + '\\n' + message['content'] | trim + '<|im_end|>'+'\\n' %}{% if loop.index0 == 0 %}{% set content = bos_token + content %}{% endif %}{{ content }}{% endfor %}<|im_start|>assistant\\n\"\n",
    "```"
   ]
  },
  {
   "cell_type": "code",
   "execution_count": null,
   "metadata": {},
   "outputs": [],
   "source": [
    "from dedicated_env.snsdk_wrapper import SnsdkWrapper\n",
    "byoc = SnsdkWrapper(\"./config.yaml\")"
   ]
  },
  {
   "cell_type": "markdown",
   "metadata": {},
   "source": [
    "Check your jinja chat template"
   ]
  },
  {
   "cell_type": "code",
   "execution_count": null,
   "metadata": {},
   "outputs": [],
   "source": [
    "test_messages = [\n",
    "    {\"role\": \"system\", \"content\": \"This is a system prompt.\"},\n",
    "    {\"role\": \"user\", \"content\": \"This is a user prompt.\"},\n",
    "    {\"role\": \"assistant\", \"content\": \"This is a response from the assistant.\"},\n",
    "    {\"role\": \"user\", \"content\": \"This is an user follow up\"}\n",
    "    ]\n",
    "byoc.check_chat_templates(test_messages)"
   ]
  },
  {
   "cell_type": "markdown",
   "metadata": {},
   "source": [
    "Set BYOC object with checkpoints to upload config"
   ]
  },
  {
   "cell_type": "markdown",
   "metadata": {},
   "source": [
    "Get params from checkpoints paths set in [config.yaml](./config.yaml) file"
   ]
  },
  {
   "cell_type": "code",
   "execution_count": null,
   "metadata": {},
   "outputs": [],
   "source": [
    "byoc.find_config_params(update_config_file=True)"
   ]
  },
  {
   "cell_type": "markdown",
   "metadata": {},
   "source": [
    "Find suitable SambaStudio apps for your checkpoints"
   ]
  },
  {
   "cell_type": "code",
   "execution_count": null,
   "metadata": {},
   "outputs": [],
   "source": [
    "byoc.get_suitable_apps()"
   ]
  },
  {
   "cell_type": "markdown",
   "metadata": {},
   "source": [
    "Set in the `app_id` key of your checkpoint in the [config.yaml](./config.yaml) file the desired app_id of your checkpoints"
   ]
  },
  {
   "cell_type": "markdown",
   "metadata": {},
   "source": [
    "Upload the checkpoints in your [config.yaml](./config.yaml) file to SambaStudio (this could take from minutes to hours depending on the size of your checkpoints)"
   ]
  },
  {
   "cell_type": "code",
   "execution_count": null,
   "metadata": {},
   "outputs": [],
   "source": [
    "#load the updated config.yaml file including app ids and model params\n",
    "byoc = SnsdkWrapper(\"./config.yaml\")"
   ]
  },
  {
   "cell_type": "code",
   "execution_count": null,
   "metadata": {},
   "outputs": [],
   "source": [
    "byoc.upload_checkpoints()"
   ]
  },
  {
   "cell_type": "markdown",
   "metadata": {},
   "source": [
    "You can check the status of the checkpoints after the upload process"
   ]
  },
  {
   "cell_type": "code",
   "execution_count": null,
   "metadata": {},
   "outputs": [],
   "source": [
    "byoc.get_checkpoints_status()"
   ]
  },
  {
   "cell_type": "markdown",
   "metadata": {},
   "source": [
    "We can create a bundle model including uploaded and existing checkpoints in sambastudio setting `composite_model` params in [config.yaml](./config.yaml) file"
   ]
  },
  {
   "cell_type": "code",
   "execution_count": null,
   "metadata": {},
   "outputs": [],
   "source": [
    "byoc.create_composite_model()"
   ]
  },
  {
   "cell_type": "markdown",
   "metadata": {},
   "source": [
    "Then we can deploy the bundle model, setting `deployement` params in [config.yaml](./config.yaml) file"
   ]
  },
  {
   "cell_type": "code",
   "execution_count": null,
   "metadata": {},
   "outputs": [],
   "source": [
    "# create project\n",
    "byoc.create_project()"
   ]
  },
  {
   "cell_type": "code",
   "execution_count": null,
   "metadata": {},
   "outputs": [],
   "source": [
    "# deploy your model in an endpoint\n",
    "byoc.create_endpoint()"
   ]
  },
  {
   "cell_type": "code",
   "execution_count": null,
   "metadata": {},
   "outputs": [],
   "source": [
    "# get endpoint details\n",
    "byoc.get_endpoint_details()"
   ]
  },
  {
   "cell_type": "markdown",
   "metadata": {},
   "source": [
    "Use the models"
   ]
  },
  {
   "cell_type": "code",
   "execution_count": null,
   "metadata": {},
   "outputs": [],
   "source": [
    "from langchain_sambanova import ChatSambaStudio\n",
    "\n",
    "endpoint_details = byoc.get_endpoint_details()\n",
    "endpoint_url = endpoint_details[\"langchain_wrapper_env\"].get(\"SAMBASTUDIO_URL\")\n",
    "endpoint_api_key = endpoint_details[\"langchain_wrapper_env\"].get(\"SAMBASTUDIO_API_KEY\")\n",
    "\n",
    "llm = ChatSambaStudio(\n",
    "    sambastudio_url=endpoint_url,\n",
    "    sambastudio_api_key=endpoint_api_key,\n",
    "    do_sample= True, \n",
    "    temperature= 0.01,\n",
    "    max_tokens= 512,\n",
    "    top_p= 1.0,\n",
    "    top_k= 50,\n",
    "    process_prompt=False,\n",
    "    model= \"HermesProInstructV10\"\n",
    ")\n",
    "print(llm.invoke(\"tell me a joke\").content)"
   ]
  }
 ],
 "metadata": {
  "kernelspec": {
   "display_name": "finetuningenv",
   "language": "python",
   "name": "python3"
  },
  "language_info": {
   "codemirror_mode": {
    "name": "ipython",
    "version": 3
   },
   "file_extension": ".py",
   "mimetype": "text/x-python",
   "name": "python",
   "nbconvert_exporter": "python",
   "pygments_lexer": "ipython3",
   "version": "3.11.3"
  }
 },
 "nbformat": 4,
 "nbformat_minor": 2
}
