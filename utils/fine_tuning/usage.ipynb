{
 "cells": [
  {
   "cell_type": "markdown",
   "metadata": {},
   "source": [
    "# SNSDK Wrapper usage"
   ]
  },
  {
   "cell_type": "code",
   "execution_count": null,
   "metadata": {},
   "outputs": [],
   "source": [
    "import os\n",
    "import sys\n",
    "from src import sambastudio_utils\n",
    "from src.snsdk_wrapper import SnsdkWrapper\n",
    "current_dir = os.getcwd()\n",
    "utils_dir = os.path.abspath(os.path.join(current_dir, \"..\"))\n",
    "repo_dir = os.path.abspath(os.path.join(utils_dir, \"..\"))\n",
    "\n",
    "sys.path.append(utils_dir)\n",
    "sys.path.append(repo_dir)"
   ]
  },
  {
   "cell_type": "markdown",
   "metadata": {},
   "source": [
    "## Wrapper usage with config file"
   ]
  },
  {
   "cell_type": "code",
   "execution_count": null,
   "metadata": {},
   "outputs": [],
   "source": [
    "sambastudio_wrapper = SnsdkWrapper(config_path=os.path.join(current_dir,\"config.yaml\"))"
   ]
  },
  {
   "cell_type": "markdown",
   "metadata": {},
   "source": [
    "### Dataset preparation"
   ]
  },
  {
   "cell_type": "code",
   "execution_count": null,
   "metadata": {},
   "outputs": [],
   "source": [
    "sambastudio_utils.gen_data_prep_pipeline(\n",
    "    input_files = os.path.join(repo_dir, \"fine_tuning_sql\", \"data\" , \"pre-training\", \"pretrain-squad-smol-sql.jsonl\"), # set with your jsonl path or list of jsonl file paths\n",
    "    output_path = os.path.join(current_dir,\"sambastudio_fine_tuning_dataset\"),\n",
    "    tokenizer = \"meta-llama/Llama-2-7b-hf\",\n",
    "    max_seq_length = 4096,\n",
    "    shuffle = 'on_RAM',\n",
    "    input_packing_config = 'full',\n",
    "    prompt_keyword = 'prompt',\n",
    "    completion_keyword = 'completion',\n",
    "    apply_chat_template = False,\n",
    "    )"
   ]
  },
  {
   "cell_type": "markdown",
   "metadata": {},
   "source": [
    "## List Available Apps"
   ]
  },
  {
   "cell_type": "code",
   "execution_count": null,
   "metadata": {},
   "outputs": [],
   "source": [
    "sambastudio_wrapper.list_apps()"
   ]
  },
  {
   "cell_type": "markdown",
   "metadata": {},
   "source": [
    "### Dataset Upload"
   ]
  },
  {
   "cell_type": "code",
   "execution_count": null,
   "metadata": {},
   "outputs": [],
   "source": [
    "sambastudio_wrapper.create_dataset()"
   ]
  },
  {
   "cell_type": "code",
   "execution_count": null,
   "metadata": {},
   "outputs": [],
   "source": [
    "sambastudio_wrapper.list_datasets()"
   ]
  },
  {
   "cell_type": "code",
   "execution_count": null,
   "metadata": {},
   "outputs": [],
   "source": [
    "# sambastudio_wrapper.delete_dataset()"
   ]
  },
  {
   "cell_type": "markdown",
   "metadata": {},
   "source": [
    "### Project creation"
   ]
  },
  {
   "cell_type": "code",
   "execution_count": null,
   "metadata": {},
   "outputs": [],
   "source": [
    "sambastudio_wrapper.create_project()"
   ]
  },
  {
   "cell_type": "code",
   "execution_count": null,
   "metadata": {},
   "outputs": [],
   "source": [
    "sambastudio_wrapper.list_projects()"
   ]
  },
  {
   "cell_type": "code",
   "execution_count": null,
   "metadata": {},
   "outputs": [],
   "source": [
    "# sambastudio_wrapper.delete_project()"
   ]
  },
  {
   "cell_type": "markdown",
   "metadata": {},
   "source": [
    "### Training Job creation"
   ]
  },
  {
   "cell_type": "code",
   "execution_count": null,
   "metadata": {},
   "outputs": [],
   "source": [
    "sambastudio_wrapper.list_models(filter_job_types=[\"train\",\"deploy\"])"
   ]
  },
  {
   "cell_type": "code",
   "execution_count": null,
   "metadata": {},
   "outputs": [],
   "source": [
    "sambastudio_wrapper.get_default_hyperparms()"
   ]
  },
  {
   "cell_type": "code",
   "execution_count": null,
   "metadata": {},
   "outputs": [],
   "source": [
    "sambastudio_wrapper.run_training_job()"
   ]
  },
  {
   "cell_type": "code",
   "execution_count": null,
   "metadata": {},
   "outputs": [],
   "source": [
    "sambastudio_wrapper.check_job_progress()"
   ]
  },
  {
   "cell_type": "code",
   "execution_count": null,
   "metadata": {},
   "outputs": [],
   "source": [
    "sambastudio_wrapper.check_job_progress()"
   ]
  },
  {
   "cell_type": "code",
   "execution_count": null,
   "metadata": {},
   "outputs": [],
   "source": [
    "sambastudio_wrapper.check_job_progress(wait=False)"
   ]
  },
  {
   "cell_type": "markdown",
   "metadata": {},
   "source": [
    "### Model Checkpoint promotion"
   ]
  },
  {
   "cell_type": "code",
   "execution_count": null,
   "metadata": {},
   "outputs": [],
   "source": [
    "checkpoints = sambastudio_wrapper.list_checkpoints(verbose=True, sort = True)\n",
    "checkpoints"
   ]
  },
  {
   "cell_type": "code",
   "execution_count": null,
   "metadata": {},
   "outputs": [],
   "source": [
    "sambastudio_wrapper.promote_checkpoint(checkpoint_name=checkpoints[0]['checkpoint_name'])"
   ]
  },
  {
   "cell_type": "code",
   "execution_count": null,
   "metadata": {},
   "outputs": [],
   "source": [
    "sambastudio_wrapper.list_models(filter_job_types=[\"deploy\"])"
   ]
  },
  {
   "cell_type": "code",
   "execution_count": null,
   "metadata": {},
   "outputs": [],
   "source": [
    "#for checkpoint in checkpoints:\n",
    "#    sambastudio_wrapper.delete_checkpoint(checkpoint[\"checkpoint_name\"])"
   ]
  },
  {
   "cell_type": "code",
   "execution_count": null,
   "metadata": {},
   "outputs": [],
   "source": [
    "# sambastudio_wrapper.delete_model()"
   ]
  },
  {
   "cell_type": "markdown",
   "metadata": {},
   "source": [
    "### Endpoint creation"
   ]
  },
  {
   "cell_type": "code",
   "execution_count": null,
   "metadata": {},
   "outputs": [],
   "source": [
    "sambastudio_wrapper.create_endpoint()"
   ]
  },
  {
   "cell_type": "code",
   "execution_count": null,
   "metadata": {},
   "outputs": [],
   "source": [
    "sambastudio_wrapper.get_endpoint_details()"
   ]
  },
  {
   "cell_type": "markdown",
   "metadata": {},
   "source": [
    "## Wrapper usage without config file"
   ]
  },
  {
   "cell_type": "code",
   "execution_count": null,
   "metadata": {},
   "outputs": [],
   "source": [
    "sambastudio_wrapper = SnsdkWrapper()"
   ]
  },
  {
   "cell_type": "markdown",
   "metadata": {},
   "source": [
    "### Dataset preparation"
   ]
  },
  {
   "cell_type": "code",
   "execution_count": null,
   "metadata": {},
   "outputs": [],
   "source": [
    "dataset_path =sambastudio_utils.gen_data_prep_pipeline(\n",
    "    input_files = os.path.join(repo_dir, \"fine_tuning_sql\", \"data\" , \"pre-training\", \"pretrain-squad-smol-sql.jsonl\"), # set with your jsonl path or list of jsonl file paths\n",
    "    output_path = os.path.join(current_dir,\"sambastudio_fine_tuning_dataset\"),\n",
    "    tokenizer = \"meta-llama/Llama-2-7b-hf\",\n",
    "    max_seq_length = 4096,\n",
    "    )"
   ]
  },
  {
   "cell_type": "markdown",
   "metadata": {},
   "source": [
    "### Dataset Upload"
   ]
  },
  {
   "cell_type": "code",
   "execution_count": null,
   "metadata": {},
   "outputs": [],
   "source": [
    "sambastudio_wrapper.create_dataset(\n",
    "    dataset_name = \"smol_sql_pretraining_mm\",\n",
    "    dataset_description = \"test_dataset for sql finetuning\",\n",
    "    dataset_path = dataset_path,\n",
    "    dataset_job_types = [\"evaluation\", \"train\"],\n",
    "    dataset_apps_availability = ['Mistral', 'Llama 3', 'Llama 2 with dynamic batching', 'Llama 2 7B', 'Llama 2 70B with dynamic batching', 'Llama 2 70B', 'Llama 2 13B'],\n",
    "    dataset_source_type = \"localMachine\",\n",
    "    dataset_language = \"english\",\n",
    "    dataset_filetype = \"hdf5\",\n",
    "    dataset_url = \"\",\n",
    "    dataset_metadata={\n",
    "        \"labels_file\": \"\",\n",
    "        \"train_filepath\": \"\",\n",
    "        \"validation_filepath\": \"\",\n",
    "        \"test_filepath\": \"\"\n",
    "    }\n",
    ")"
   ]
  },
  {
   "cell_type": "code",
   "execution_count": null,
   "metadata": {},
   "outputs": [],
   "source": [
    "sambastudio_wrapper.list_datasets()"
   ]
  },
  {
   "cell_type": "markdown",
   "metadata": {},
   "source": [
    "### Project creation"
   ]
  },
  {
   "cell_type": "code",
   "execution_count": null,
   "metadata": {},
   "outputs": [],
   "source": [
    "sambastudio_wrapper.create_project(\n",
    "    project_name = \"example project\",\n",
    "    project_description = \"this project will be used to test the Finetuning e2e pipeline implementation\"\n",
    ")"
   ]
  },
  {
   "cell_type": "code",
   "execution_count": null,
   "metadata": {},
   "outputs": [],
   "source": [
    "sambastudio_wrapper.list_projects()"
   ]
  },
  {
   "cell_type": "markdown",
   "metadata": {},
   "source": [
    "### Training Job creation"
   ]
  },
  {
   "cell_type": "markdown",
   "metadata": {},
   "source": [
    "#### List trainable models "
   ]
  },
  {
   "cell_type": "code",
   "execution_count": null,
   "metadata": {},
   "outputs": [],
   "source": [
    "sambastudio_wrapper.list_models(filter_job_types=[\"train\",\"deploy\"])"
   ]
  },
  {
   "cell_type": "markdown",
   "metadata": {},
   "source": [
    "#### List available datasets"
   ]
  },
  {
   "cell_type": "code",
   "execution_count": null,
   "metadata": {},
   "outputs": [],
   "source": [
    "sambastudio_wrapper.list_datasets()"
   ]
  },
  {
   "cell_type": "markdown",
   "metadata": {},
   "source": [
    "#### Create training job"
   ]
  },
  {
   "cell_type": "code",
   "execution_count": null,
   "metadata": {},
   "outputs": [],
   "source": [
    "#chek availebale hyperparams\n",
    "sambastudio_wrapper.get_default_hyperparms(\n",
    "    model_name=\"Llama-2-7b-chat-hf\",\n",
    "    job_type=\"train\"\n",
    "    )"
   ]
  },
  {
   "cell_type": "markdown",
   "metadata": {},
   "source": [
    "### Checkpoint promotion"
   ]
  },
  {
   "cell_type": "code",
   "execution_count": null,
   "metadata": {},
   "outputs": [],
   "source": [
    "checkpoints = sambastudio_wrapper.list_checkpoints(\n",
    "    project_name=\"example project\",\n",
    "    job_name=\"snsdk_test_job\"\n",
    ")"
   ]
  },
  {
   "cell_type": "code",
   "execution_count": null,
   "metadata": {},
   "outputs": [],
   "source": [
    "checkpoint_name = checkpoints[0]['checkpoint_name']\n",
    "sambastudio_wrapper.promote_checkpoint(\n",
    "    checkpoint_name = checkpoint_name,\n",
    "    project_name=\"example project\",\n",
    "    job_name=\"snsdk_test_job\",\n",
    "    model_name=\"llama2_7b_fine_tuned,\n",
    "    model_description=\"finetuned llama2_7b model\",\n",
    "    model_type=\"finetuned\"\n",
    ")"
   ]
  },
  {
   "cell_type": "code",
   "execution_count": null,
   "metadata": {},
   "outputs": [],
   "source": [
    "sambastudio_wrapper.list_models(filter_job_types=[\"deploy\"])"
   ]
  },
  {
   "cell_type": "code",
   "execution_count": null,
   "metadata": {},
   "outputs": [],
   "source": [
    "for checkpoint in checkpoints:\n",
    "    sambastudio_wrapper.delete_checkpoint(checkpoint[\"checkpoint_name\"])"
   ]
  },
  {
   "cell_type": "markdown",
   "metadata": {},
   "source": [
    "### Endpoint creation"
   ]
  },
  {
   "cell_type": "code",
   "execution_count": null,
   "metadata": {},
   "outputs": [],
   "source": [
    "sambastudio_wrapper.create_endpoint(\n",
    "    project_name=\"example project\",\n",
    "    endpoint_name=\"test-endpoint-sql\",\n",
    "    endpoint_description=\"endpoint of finetuned sql model llama2 7b\",\n",
    "    model_name=\"llama2_7b_fine_tuned_nstext2sql\",\n",
    "    model_version=\"1\",\n",
    "    instances=1,\n",
    "    rdu_arch=\"SN40L-8\",\n",
    "    hyperparams={}\n",
    ")"
   ]
  },
  {
   "cell_type": "code",
   "execution_count": null,
   "metadata": {},
   "outputs": [],
   "source": [
    "sambastudio_wrapper.get_endpoint_details(\n",
    "    project_name=\"example project\",\n",
    "    endpoint_name=\"test-endpoint-sql\"\n",
    ")"
   ]
  },
  {
   "cell_type": "markdown",
   "metadata": {},
   "source": [
    "## Deployed endpoint usage"
   ]
  },
  {
   "cell_type": "code",
   "execution_count": null,
   "metadata": {},
   "outputs": [],
   "source": [
    "from langchain_community.llms import SambaStudio\n",
    "\n",
    "endpoint_env = sambastudio_wrapper.get_endpoint_details(\n",
    "    project_name=\"example project\",\n",
    "    endpoint_name=\"test-endpoint-sql\"\n",
    "    )[\"langchain_wrapper_env\"]\n",
    "\n",
    "llm = SambaStudio(\n",
    "    sambastudio_url=endpoint_env.get(\"SAMBASTUDIO_URL\"),\n",
    "    sambastudio_api_key=endpoint_env.get(\"SAMBASTUDIO_API_KEY\"),\n",
    "    model_kwargs = {\n",
    "        \"do_sample\": True, \n",
    "        \"temperature\": 0.01,\n",
    "        \"max_tokens_to_generate\": 512\n",
    "    }\n",
    ")"
   ]
  },
  {
   "cell_type": "code",
   "execution_count": null,
   "metadata": {},
   "outputs": [],
   "source": [
    "prompt = \"\"\"[INST]<<SYS>>\n",
    "    Generate a query using valid SQLite to answer the following questions for the summarized tables schemas provided bellow.\n",
    "    Do not assume the values on the database tables before generating the SQL query, always generate a SQL that query what is asked. \n",
    "    The query must be in the format: ```sql\n",
    "query\n",
    "```\n",
    "    \n",
    "    Example:\n",
    "    \n",
    "    ```sql\n",
    "    SELECT * FROM mainTable;\n",
    "    ```\n",
    "    <</SYS>>\n",
    "        \n",
    "    \n",
    "CREATE TABLE \"Album\" (\n",
    "\t\"AlbumId\" INTEGER NOT NULL, \n",
    "\t\"Title\" NVARCHAR(160) NOT NULL, \n",
    "\t\"ArtistId\" INTEGER NOT NULL, \n",
    "\tPRIMARY KEY (\"AlbumId\"), \n",
    "\tFOREIGN KEY(\"ArtistId\") REFERENCES \"Artist\" (\"ArtistId\")\n",
    ")\n",
    "\n",
    "/*\n",
    "3 rows from Album table:\n",
    "AlbumId\tTitle\tArtistId\n",
    "1\tFor Those About To Rock We Salute You\t1\n",
    "2\tBalls to the Wall\t2\n",
    "3\tRestless and Wild\t2\n",
    "*/\n",
    "\n",
    "\n",
    "CREATE TABLE \"Artist\" (\n",
    "\t\"ArtistId\" INTEGER NOT NULL, \n",
    "\t\"Name\" NVARCHAR(120), \n",
    "\tPRIMARY KEY (\"ArtistId\")\n",
    ")\n",
    "\n",
    "/*\n",
    "3 rows from Artist table:\n",
    "ArtistId\tName\n",
    "1\tAC/DC\n",
    "2\tAccept\n",
    "3\tAerosmith\n",
    "*/\n",
    "\n",
    "\n",
    "CREATE TABLE \"Customer\" (\n",
    "\t\"CustomerId\" INTEGER NOT NULL, \n",
    "\t\"FirstName\" NVARCHAR(40) NOT NULL, \n",
    "\t\"LastName\" NVARCHAR(20) NOT NULL, \n",
    "\t\"Company\" NVARCHAR(80), \n",
    "\t\"Address\" NVARCHAR(70), \n",
    "\t\"City\" NVARCHAR(40), \n",
    "\t\"State\" NVARCHAR(40), \n",
    "\t\"Country\" NVARCHAR(40), \n",
    "\t\"PostalCode\" NVARCHAR(10), \n",
    "\t\"Phone\" NVARCHAR(24), \n",
    "\t\"Fax\" NVARCHAR(24), \n",
    "\t\"Email\" NVARCHAR(60) NOT NULL, \n",
    "\t\"SupportRepId\" INTEGER, \n",
    "\tPRIMARY KEY (\"CustomerId\"), \n",
    "\tFOREIGN KEY(\"SupportRepId\") REFERENCES \"Employee\" (\"EmployeeId\")\n",
    ")\n",
    "\n",
    "/*\n",
    "3 rows from Customer table:\n",
    "CustomerId\tFirstName\tLastName\tCompany\tAddress\tCity\tState\tCountry\tPostalCode\tPhone\tFax\tEmail\tSupportRepId\n",
    "1\tLuís\tGonçalves\tEmbraer - Empresa Brasileira de Aeronáutica S.A.\tAv. Brigadeiro Faria Lima, 2170\tSão José dos Campos\tSP\tBrazil\t12227-000\t+55 (12) 3923-5555\t+55 (12) 3923-5566\tluisg@embraer.com.br\t3\n",
    "2\tLeonie\tKöhler\tNone\tTheodor-Heuss-Straße 34\tStuttgart\tNone\tGermany\t70174\t+49 0711 2842222\tNone\tleonekohler@surfeu.de\t5\n",
    "3\tFrançois\tTremblay\tNone\t1498 rue Bélanger\tMontréal\tQC\tCanada\tH2G 1A7\t+1 (514) 721-4711\tNone\tftremblay@gmail.com\t3\n",
    "*/\n",
    "\n",
    "\n",
    "CREATE TABLE \"Employee\" (\n",
    "\t\"EmployeeId\" INTEGER NOT NULL, \n",
    "\t\"LastName\" NVARCHAR(20) NOT NULL, \n",
    "\t\"FirstName\" NVARCHAR(20) NOT NULL, \n",
    "\t\"Title\" NVARCHAR(30), \n",
    "\t\"ReportsTo\" INTEGER, \n",
    "\t\"BirthDate\" DATETIME, \n",
    "\t\"HireDate\" DATETIME, \n",
    "\t\"Address\" NVARCHAR(70), \n",
    "\t\"City\" NVARCHAR(40), \n",
    "\t\"State\" NVARCHAR(40), \n",
    "\t\"Country\" NVARCHAR(40), \n",
    "\t\"PostalCode\" NVARCHAR(10), \n",
    "\t\"Phone\" NVARCHAR(24), \n",
    "\t\"Fax\" NVARCHAR(24), \n",
    "\t\"Email\" NVARCHAR(60), \n",
    "\tPRIMARY KEY (\"EmployeeId\"), \n",
    "\tFOREIGN KEY(\"ReportsTo\") REFERENCES \"Employee\" (\"EmployeeId\")\n",
    ")\n",
    "\n",
    "/*\n",
    "3 rows from Employee table:\n",
    "EmployeeId\tLastName\tFirstName\tTitle\tReportsTo\tBirthDate\tHireDate\tAddress\tCity\tState\tCountry\tPostalCode\tPhone\tFax\tEmail\n",
    "1\tAdams\tAndrew\tGeneral Manager\tNone\t1962-02-18 00:00:00\t2002-08-14 00:00:00\t11120 Jasper Ave NW\tEdmonton\tAB\tCanada\tT5K 2N1\t+1 (780) 428-9482\t+1 (780) 428-3457\tandrew@chinookcorp.com\n",
    "2\tEdwards\tNancy\tSales Manager\t1\t1958-12-08 00:00:00\t2002-05-01 00:00:00\t825 8 Ave SW\tCalgary\tAB\tCanada\tT2P 2T3\t+1 (403) 262-3443\t+1 (403) 262-3322\tnancy@chinookcorp.com\n",
    "3\tPeacock\tJane\tSales Support Agent\t2\t1973-08-29 00:00:00\t2002-04-01 00:00:00\t1111 6 Ave SW\tCalgary\tAB\tCanada\tT2P 5M5\t+1 (403) 262-3443\t+1 (403) 262-6712\tjane@chinookcorp.com\n",
    "*/\n",
    "\n",
    "\n",
    "CREATE TABLE \"Genre\" (\n",
    "\t\"GenreId\" INTEGER NOT NULL, \n",
    "\t\"Name\" NVARCHAR(120), \n",
    "\tPRIMARY KEY (\"GenreId\")\n",
    ")\n",
    "\n",
    "/*\n",
    "3 rows from Genre table:\n",
    "GenreId\tName\n",
    "1\tRock\n",
    "2\tJazz\n",
    "3\tMetal\n",
    "*/\n",
    "\n",
    "\n",
    "CREATE TABLE \"Invoice\" (\n",
    "\t\"InvoiceId\" INTEGER NOT NULL, \n",
    "\t\"CustomerId\" INTEGER NOT NULL, \n",
    "\t\"InvoiceDate\" DATETIME NOT NULL, \n",
    "\t\"BillingAddress\" NVARCHAR(70), \n",
    "\t\"BillingCity\" NVARCHAR(40), \n",
    "\t\"BillingState\" NVARCHAR(40), \n",
    "\t\"BillingCountry\" NVARCHAR(40), \n",
    "\t\"BillingPostalCode\" NVARCHAR(10), \n",
    "\t\"Total\" NUMERIC(10, 2) NOT NULL, \n",
    "\tPRIMARY KEY (\"InvoiceId\"), \n",
    "\tFOREIGN KEY(\"CustomerId\") REFERENCES \"Customer\" (\"CustomerId\")\n",
    ")\n",
    "\n",
    "/*\n",
    "3 rows from Invoice table:\n",
    "InvoiceId\tCustomerId\tInvoiceDate\tBillingAddress\tBillingCity\tBillingState\tBillingCountry\tBillingPostalCode\tTotal\n",
    "1\t2\t2021-01-01 00:00:00\tTheodor-Heuss-Straße 34\tStuttgart\tNone\tGermany\t70174\t1.98\n",
    "2\t4\t2021-01-02 00:00:00\tUllevålsveien 14\tOslo\tNone\tNorway\t0171\t3.96\n",
    "3\t8\t2021-01-03 00:00:00\tGrétrystraat 63\tBrussels\tNone\tBelgium\t1000\t5.94\n",
    "*/\n",
    "\n",
    "\n",
    "CREATE TABLE \"InvoiceLine\" (\n",
    "\t\"InvoiceLineId\" INTEGER NOT NULL, \n",
    "\t\"InvoiceId\" INTEGER NOT NULL, \n",
    "\t\"TrackId\" INTEGER NOT NULL, \n",
    "\t\"UnitPrice\" NUMERIC(10, 2) NOT NULL, \n",
    "\t\"Quantity\" INTEGER NOT NULL, \n",
    "\tPRIMARY KEY (\"InvoiceLineId\"), \n",
    "\tFOREIGN KEY(\"TrackId\") REFERENCES \"Track\" (\"TrackId\"), \n",
    "\tFOREIGN KEY(\"InvoiceId\") REFERENCES \"Invoice\" (\"InvoiceId\")\n",
    ")\n",
    "\n",
    "/*\n",
    "3 rows from InvoiceLine table:\n",
    "InvoiceLineId\tInvoiceId\tTrackId\tUnitPrice\tQuantity\n",
    "1\t1\t2\t0.99\t1\n",
    "2\t1\t4\t0.99\t1\n",
    "3\t2\t6\t0.99\t1\n",
    "*/\n",
    "\n",
    "\n",
    "CREATE TABLE \"MediaType\" (\n",
    "\t\"MediaTypeId\" INTEGER NOT NULL, \n",
    "\t\"Name\" NVARCHAR(120), \n",
    "\tPRIMARY KEY (\"MediaTypeId\")\n",
    ")\n",
    "\n",
    "/*\n",
    "3 rows from MediaType table:\n",
    "MediaTypeId\tName\n",
    "1\tMPEG audio file\n",
    "2\tProtected AAC audio file\n",
    "3\tProtected MPEG-4 video file\n",
    "*/\n",
    "\n",
    "\n",
    "CREATE TABLE \"Playlist\" (\n",
    "\t\"PlaylistId\" INTEGER NOT NULL, \n",
    "\t\"Name\" NVARCHAR(120), \n",
    "\tPRIMARY KEY (\"PlaylistId\")\n",
    ")\n",
    "\n",
    "/*\n",
    "3 rows from Playlist table:\n",
    "PlaylistId\tName\n",
    "1\tMusic\n",
    "2\tMovies\n",
    "3\tTV Shows\n",
    "*/\n",
    "\n",
    "\n",
    "CREATE TABLE \"PlaylistTrack\" (\n",
    "\t\"PlaylistId\" INTEGER NOT NULL, \n",
    "\t\"TrackId\" INTEGER NOT NULL, \n",
    "\tPRIMARY KEY (\"PlaylistId\", \"TrackId\"), \n",
    "\tFOREIGN KEY(\"TrackId\") REFERENCES \"Track\" (\"TrackId\"), \n",
    "\tFOREIGN KEY(\"PlaylistId\") REFERENCES \"Playlist\" (\"PlaylistId\")\n",
    ")\n",
    "\n",
    "/*\n",
    "3 rows from PlaylistTrack table:\n",
    "PlaylistId\tTrackId\n",
    "1\t3402\n",
    "1\t3389\n",
    "1\t3390\n",
    "*/\n",
    "\n",
    "\n",
    "CREATE TABLE \"Track\" (\n",
    "\t\"TrackId\" INTEGER NOT NULL, \n",
    "\t\"Name\" NVARCHAR(200) NOT NULL, \n",
    "\t\"AlbumId\" INTEGER, \n",
    "\t\"MediaTypeId\" INTEGER NOT NULL, \n",
    "\t\"GenreId\" INTEGER, \n",
    "\t\"Composer\" NVARCHAR(220), \n",
    "\t\"Milliseconds\" INTEGER NOT NULL, \n",
    "\t\"Bytes\" INTEGER, \n",
    "\t\"UnitPrice\" NUMERIC(10, 2) NOT NULL, \n",
    "\tPRIMARY KEY (\"TrackId\"), \n",
    "\tFOREIGN KEY(\"MediaTypeId\") REFERENCES \"MediaType\" (\"MediaTypeId\"), \n",
    "\tFOREIGN KEY(\"GenreId\") REFERENCES \"Genre\" (\"GenreId\"), \n",
    "\tFOREIGN KEY(\"AlbumId\") REFERENCES \"Album\" (\"AlbumId\")\n",
    ")\n",
    "\n",
    "/*\n",
    "3 rows from Track table:\n",
    "TrackId\tName\tAlbumId\tMediaTypeId\tGenreId\tComposer\tMilliseconds\tBytes\tUnitPrice\n",
    "1\tFor Those About To Rock (We Salute You)\t1\t1\t1\tAngus Young, Malcolm Young, Brian Johnson\t343719\t11170334\t0.99\n",
    "2\tBalls to the Wall\t2\t2\t1\tU. Dirkschneider, W. Hoffmann, H. Frank, P. Baltes, S. Kaufmann, G. Hoffmann\t342562\t5510424\t0.99\n",
    "3\tFast As a Shark\t3\t2\t1\tF. Baltes, S. Kaufman, U. Dirkscneider & W. Hoffman\t230619\t3990994\t0.99\n",
    "*/\n",
    "        \n",
    "    how many music genres are in the db?\n",
    "    [/INST]\"\"\""
   ]
  },
  {
   "cell_type": "code",
   "execution_count": null,
   "metadata": {},
   "outputs": [],
   "source": [
    "llm.invoke(prompt)"
   ]
  }
 ],
 "metadata": {
  "kernelspec": {
   "display_name": "snapienv",
   "language": "python",
   "name": "python3"
  },
  "language_info": {
   "codemirror_mode": {
    "name": "ipython",
    "version": 3
   },
   "file_extension": ".py",
   "mimetype": "text/x-python",
   "name": "python",
   "nbconvert_exporter": "python",
   "pygments_lexer": "ipython3",
   "version": "3.11.3"
  }
 },
 "nbformat": 4,
 "nbformat_minor": 2
}
