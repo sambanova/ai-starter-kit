{
 "cells": [
  {
   "cell_type": "code",
   "execution_count": null,
   "metadata": {},
   "outputs": [],
   "source": [
    "import os\n",
    "import sys\n",
    "import random\n",
    "from langchain_community.vectorstores import Chroma\n",
    "from IPython.display import display, Markdown\n",
    "\n",
    "current_dir = os.getcwd()\n",
    "kit_dir = os.path.abspath(os.path.join(current_dir, \"..\"))\n",
    "repo_dir = os.path.abspath(os.path.join(kit_dir, \"..\"))\n",
    "\n",
    "sys.path.append(kit_dir)\n",
    "sys.path.append(repo_dir)\n",
    "\n",
    "from complex_rag.src.document_retrieval import DocumentRetrieval\n",
    "from complex_rag.src.rag import COMPLEXRAG\n",
    "\n",
    "CONFIG_PATH = os.path.join(kit_dir, \"config.yaml\")\n",
    "PROMPTS_PATH = os.path.join(kit_dir, \"prompts\")\n",
    "\n",
    "from datasets import load_dataset\n",
    "\n",
    "rag_dataset = load_dataset(\"neural-bridge/rag-dataset-12000\")\n",
    "random.seed(123)\n",
    "questions = rag_dataset[\"train\"][\"question\"][:100]\n",
    "answers = rag_dataset[\"train\"][\"answer\"][:100]"
   ]
  },
  {
   "cell_type": "code",
   "execution_count": null,
   "metadata": {},
   "outputs": [],
   "source": [
    "documentRetrieval = DocumentRetrieval()\n",
    "*_, embedding_model_info, retrieval_info, _ = documentRetrieval.get_config_info()\n",
    "embeddings = documentRetrieval.load_embedding_model()"
   ]
  },
  {
   "cell_type": "code",
   "execution_count": null,
   "metadata": {},
   "outputs": [],
   "source": [
    "vectorstore = Chroma(\n",
    "    persist_directory=kit_dir\n",
    "    + \"/data/rag_dataset_12000_train_100samples_1000_100.chromadb\",\n",
    "    embedding_function=embeddings,\n",
    ")"
   ]
  },
  {
   "cell_type": "code",
   "execution_count": null,
   "metadata": {},
   "outputs": [],
   "source": [
    "# instantiate rag\n",
    "rag = COMPLEXRAG(\n",
    "    config=CONFIG_PATH,\n",
    "    prompts_path=PROMPTS_PATH,\n",
    "    embeddings=embeddings,\n",
    "    vectorstore=vectorstore,\n",
    ")\n",
    "\n",
    "# Initialize chains\n",
    "rag.initialize()\n",
    "\n",
    "# Build nodes\n",
    "workflow = rag.create_rag_nodes()\n",
    "print(workflow)\n",
    "\n",
    "# Build graph\n",
    "app = rag.build_rag_graph(workflow)"
   ]
  },
  {
   "cell_type": "code",
   "execution_count": null,
   "metadata": {},
   "outputs": [],
   "source": [
    "rag.display_graph(app)"
   ]
  },
  {
   "cell_type": "code",
   "execution_count": null,
   "metadata": {},
   "outputs": [],
   "source": [
    "idx = random.randint(0, len(questions))\n",
    "\n",
    "response = rag.call_rag(app, question=questions[idx])\n",
    "\n",
    "display(Markdown(\"---Response---\"))\n",
    "display(Markdown(response[\"answer\"]))\n",
    "display(Markdown(\"---Groud Truth---\"))\n",
    "display(Markdown(answers[idx]))"
   ]
  },
  {
   "cell_type": "code",
   "execution_count": null,
   "metadata": {},
   "outputs": [],
   "source": [
    "idx = random.randint(0, len(questions))\n",
    "\n",
    "response = rag.call_rag(app, question=questions[idx])\n",
    "\n",
    "display(Markdown(\"---Response---\"))\n",
    "display(Markdown(response[\"answer\"]))\n",
    "display(Markdown(\"---Groud Truth---\"))\n",
    "display(Markdown(answers[idx]))"
   ]
  },
  {
   "cell_type": "code",
   "execution_count": null,
   "metadata": {},
   "outputs": [],
   "source": [
    "idx = random.randint(0, len(questions))\n",
    "\n",
    "response = rag.call_rag(app, question=questions[idx])\n",
    "\n",
    "display(Markdown(\"---Response---\"))\n",
    "display(Markdown(response[\"answer\"]))\n",
    "display(Markdown(\"---Groud Truth---\"))\n",
    "display(Markdown(answers[idx]))"
   ]
  },
  {
   "cell_type": "code",
   "execution_count": null,
   "metadata": {},
   "outputs": [],
   "source": [
    "response = rag.call_rag(app, question=\"Why is there a monster truck in my driveway?\")\n",
    "\n",
    "display(Markdown(\"---Response---\"))\n",
    "display(Markdown(response[\"answer\"]))"
   ]
  },
  {
   "cell_type": "code",
   "execution_count": null,
   "metadata": {},
   "outputs": [],
   "source": []
  }
 ],
 "metadata": {
  "kernelspec": {
   "display_name": "lgenv",
   "language": "python",
   "name": "python3"
  },
  "language_info": {
   "codemirror_mode": {
    "name": "ipython",
    "version": 3
   },
   "file_extension": ".py",
   "mimetype": "text/x-python",
   "name": "python",
   "nbconvert_exporter": "python",
   "pygments_lexer": "ipython3",
   "version": "3.11.6"
  }
 },
 "nbformat": 4,
 "nbformat_minor": 2
}
