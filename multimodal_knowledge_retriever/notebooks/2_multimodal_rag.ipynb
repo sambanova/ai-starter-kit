{
 "cells": [
  {
   "cell_type": "markdown",
   "metadata": {},
   "source": [
    "# Multimodal RAG"
   ]
  },
  {
   "cell_type": "markdown",
   "metadata": {},
   "source": [
    "This notebook goes over how to build a RAG system that can leverage Image+Text Capabilities of the SambaNova Multimodal models "
   ]
  },
  {
   "cell_type": "code",
   "execution_count": 1,
   "metadata": {},
   "outputs": [],
   "source": [
    "import os\n",
    "import sys\n",
    "import glob\n",
    "\n",
    "current_dir = os.getcwd()\n",
    "kit_dir = os.path.abspath(os.path.join(current_dir, '..'))\n",
    "repo_dir = os.path.abspath(os.path.join(kit_dir, '..'))\n",
    "\n",
    "sys.path.append(kit_dir)\n",
    "sys.path.append(repo_dir)\n",
    "\n",
    "from dotenv import load_dotenv\n",
    "\n",
    "load_dotenv(os.path.join(repo_dir, '.env'), override=True)\n",
    "\n",
    "import requests\n",
    "import json\n",
    "import base64\n",
    "from pprint import pprint"
   ]
  },
  {
   "cell_type": "markdown",
   "metadata": {},
   "source": [
    "## Multimodal call"
   ]
  },
  {
   "cell_type": "code",
   "execution_count": null,
   "metadata": {},
   "outputs": [],
   "source": [
    "from utils.model_wrappers.multimodal_models import SambastudioMultimodal\n",
    "\n",
    "lvlm=SambastudioMultimodal(\n",
    "    api_key = os.environ.get('SAMBANOVA_API_KEY'),\n",
    "    temperature = 0.01,\n",
    "    max_tokens_to_generate = 1024,\n",
    "    model = \"Llama-3.2-11B-Vision-Instruct\",\n",
    ")"
   ]
  },
  {
   "cell_type": "markdown",
   "metadata": {},
   "source": [
    "### QA Call"
   ]
  },
  {
   "cell_type": "code",
   "execution_count": null,
   "metadata": {},
   "outputs": [
    {
     "data": {
      "text/plain": [
       "'**Analysis of Bird Count at 4pm**\\n\\nBased on the provided graph, we can observe the number of birds present at different times of the day. The x-axis represents the time of day, ranging from 6 AM to 4 PM, while the y-axis indicates the number of birds.\\n\\n**Observations:**\\n\\n* At 4 PM, the graph shows a significant decrease in the number of birds compared to other times of the day.\\n* The highest number of birds is observed at 2 PM, with approximately 40 birds.\\n* The lowest number of birds is recorded at 4 PM, with around 10 birds.\\n\\n**Conclusion:**\\n\\nGiven the data presented in the graph, it is evident that there are approximately **10 birds** at 4 PM.'"
      ]
     },
     "execution_count": 3,
     "metadata": {},
     "output_type": "execute_result"
    }
   ],
   "source": [
    "prompt = 'how many birds could you find at 4pm:'\n",
    "image_path = os.path.join(kit_dir, 'data', 'sample_docs', 'sample.png')\n",
    "lvlm.invoke(prompt, image_path)"
   ]
  },
  {
   "cell_type": "markdown",
   "metadata": {},
   "source": [
    "### Summary call"
   ]
  },
  {
   "cell_type": "code",
   "execution_count": 4,
   "metadata": {},
   "outputs": [
    {
     "data": {
      "text/plain": [
       "'The image presents a scatter plot illustrating the relationship between the number of birds on a tree and the time of day. The x-axis represents the time of day, ranging from 6 AM to 4 PM, while the y-axis represents the number of birds, spanning from 0 to 40.\\n\\n**Key Features:**\\n\\n*   **Scatter Plot:** The graph features a scatter plot with orange dots representing the number of birds at each time interval.\\n*   **Time Intervals:** The x-axis is divided into hourly intervals, starting from 6 AM and ending at 4 PM.\\n*   **Number of Birds:** The y-axis displays the number of birds, ranging from 0 to 40.\\n*   **Data Points:** Each orange dot on the graph corresponds to a specific time interval and the number of birds observed during that time.\\n*   **Trend:** The graph reveals a general downward trend in the number of birds as the time of day progresses from morning to afternoon.\\n*   **Peak:** The highest number of birds is observed at 8 AM, with approximately 40 birds present.\\n*   **Lowest:** The lowest number of birds is recorded at 4 PM, with around 10 birds present.\\n\\n**Conclusion:**\\n\\nThe scatter plot effectively illustrates the relationship between the number of birds on a tree and the time of day. The data suggests that the number of birds peaks in the morning and decreases as the day progresses. This information can be useful for understanding bird behavior and potentially informing conservation efforts or wildlife management strategies.'"
      ]
     },
     "execution_count": 4,
     "metadata": {},
     "output_type": "execute_result"
    }
   ],
   "source": [
    "prompt = 'A chat between a curious human and an artificial intelligence assistant. The assistant gives helpful, detailed, and polite answers to the humans question. USER: <image>\\nDescribe the image in detail. Be specific about graphs, such as bar plots, scatter plots, or others. ASSISTANT:'\n",
    "lvlm.invoke(prompt, image_path)"
   ]
  },
  {
   "cell_type": "markdown",
   "metadata": {},
   "source": [
    "## Doc Extraction"
   ]
  },
  {
   "cell_type": "markdown",
   "metadata": {},
   "source": [
    "### Unstructured PDF extraction"
   ]
  },
  {
   "cell_type": "code",
   "execution_count": 5,
   "metadata": {},
   "outputs": [
    {
     "name": "stderr",
     "output_type": "stream",
     "text": [
      "Some weights of the model checkpoint at microsoft/table-transformer-structure-recognition were not used when initializing TableTransformerForObjectDetection: ['model.backbone.conv_encoder.model.layer2.0.downsample.1.num_batches_tracked', 'model.backbone.conv_encoder.model.layer3.0.downsample.1.num_batches_tracked', 'model.backbone.conv_encoder.model.layer4.0.downsample.1.num_batches_tracked']\n",
      "- This IS expected if you are initializing TableTransformerForObjectDetection from the checkpoint of a model trained on another task or with another architecture (e.g. initializing a BertForSequenceClassification model from a BertForPreTraining model).\n",
      "- This IS NOT expected if you are initializing TableTransformerForObjectDetection from the checkpoint of a model that you expect to be exactly identical (initializing a BertForSequenceClassification model from a BertForSequenceClassification model).\n"
     ]
    }
   ],
   "source": [
    "from unstructured.partition.pdf import partition_pdf\n",
    "\n",
    "# Path to save images\n",
    "file_path = os.path.join(kit_dir, 'data', 'sample_docs', 'invoicesample.pdf')\n",
    "output_path = os.path.splitext(file_path)[0]\n",
    "\n",
    "# Get elements\n",
    "raw_pdf_elements = partition_pdf(\n",
    "    filename=file_path,\n",
    "    extract_images_in_pdf=True,\n",
    "    strategy='hi_res',\n",
    "    hi_res_model_name='yolox',\n",
    "    # Use layout model (YOLOX) to get bounding boxes (for tables) and find titles\n",
    "    # Titles are any sub-section of the document\n",
    "    infer_table_structure=True,\n",
    "    chunking_strategy='by_title',\n",
    "    max_characters=1000,\n",
    "    new_after_n_chars=800,\n",
    "    combine_text_under_n_chars=500,\n",
    "    extract_image_block_output_dir=output_path,\n",
    ")"
   ]
  },
  {
   "cell_type": "markdown",
   "metadata": {},
   "source": [
    "### View Elements"
   ]
  },
  {
   "cell_type": "code",
   "execution_count": 6,
   "metadata": {},
   "outputs": [
    {
     "name": "stdout",
     "output_type": "stream",
     "text": [
      "\u001b[95m ELEMENT 0\u001b[00m\n",
      "TYPE: <class 'unstructured.documents.elements.CompositeElement'>\n",
      "META: {'filetype': 'application/pdf', 'languages': ['eng'], 'last_modified': '2025-03-06T15:35:28', 'page_number': 1, 'orig_elements': 'eJy9Vttu3DYQ/RVB7UMLLCXeL34LmqIwijgpvOmLYSwocbimo8tC4tpxgv57KWlTpMkmQBZYP56jGYo8Z2bIm485NNBCFzfB5RdZXmnKia8YskQaxDXFyGLDEQDTRjnvmCX5KstbiNbZaFPOx7zu+8GFzkYYZ9zYp34fN3cQtncxMZQxk3IO9GNw8S6xRAqW2F0fujjl3dwYQwuxygjnBb9dZZ8wJbIQEyYCq4IeIZaMxOTj0xihnU7yJryH5npna8j/SR8cRKhj6LtN3dhx3OyGvkphuKCSCZkCfGggPu1gzn3zKp833G33djuf6iaHbpvfzuwYN23vgg8wa0YxFQgzhOWaiAsmLqiesncpc9Pt2wqG6bTTJiK8n/TIX6zXv1+tL19fZevXU+in/65DbObtfmkL11gqqgxitCaIM65QRUEgZi0GiYnmWJ3NFqJEoZLqAhdkVn3BUoiCTVgTPtn0JV7iTzNFM/kNT0I7ybqz817z8u0Iw1juIA79fVu+7Ov9pFpiEk5Lj+WL6z/L9PNded8PWyhtQGO0Q4QBvQuxbPdNDMlL22zedf1jAy4tPqTVAjzAUE5SlqNtdw1sXF+PZege+lDDQpU+bPcDIIJIcb/bnrViPq+Sy0mCY1UiidegoUaaekDcM4+srTEigjliauIxk+erEkzmsmCULWXwHyFloWeCcVmYY8Sccmr7UiyeuX1fQtc9ZX/sO/tou8+dubLDYGN4gPUUecQhJTmmtQJkOJdpvJoKGYIBWWO4NdQJyd05HdIFWWVcJtkODs2EYPxgGaNiat2viCXlNIeYpua5ByylJPtrD9Bl1zF7BU3V74cOsr8vf8sYxviHPPOSyYpVqcspT1cieIsqriyy2jrhtGLen+9KlLTAq0xRs1x4C9TJFDVfkImnX+Ml/MR+MoI+s1mEsuy6b+HxDgZIhq2OOJb9gtmvWYrkmZBK/5CBxlQ198Ii4cEhrlL72coqpLT3GtfOEE3P13REqGnGSa0PQ+9AKMMKPBNcyYIdIZaU79r4nDb9zEwh/9c6b7s66bPth/AB3LfUl7VwgCuLuLEU8QqrNPKYRIxY4rzxWns4m/rpCZLiDEmKT8oeoCDL/OOKFfwInsNPax+u0oX0zMZcLo+S7Gr+epH9RDFhmGH+nS65/Rej1H/e', 'file_directory': '/Users/petrojm/Documents/projects/ASK/temp/jorge/ai-starter-kit/multimodal_knowledge_retriever/data/sample_docs', 'filename': 'invoicesample.pdf'}\n",
      "TEXT: ATTENTION TO\n",
      "\n",
      "Denny Gunawan\n",
      "\n",
      "221 Queen St Melbourne VIC 3000\n",
      "\n",
      "123 Somewhere St, Melbourne VIC 3000 (03) 1234 5678\n",
      "\n",
      "$39.60\n",
      "\n",
      "Invoice Number: #20130304\n",
      "\n",
      "\n",
      "##########\n",
      "\n",
      "\u001b[95m ELEMENT 1\u001b[00m\n",
      "TYPE: <class 'unstructured.documents.elements.Table'>\n",
      "META: {'last_modified': '2025-03-06T15:35:28', 'text_as_html': '<table><tr><td>Apple</td><td>$5.00</td><td>1</td><td>$5.00</td></tr><tr><td>Orange</td><td>$1.99</td><td>2</td><td>$3.98</td></tr><tr><td>Watermelon</td><td>$1.69</td><td>3</td><td>$5.07</td></tr><tr><td>Mango</td><td>$9.56</td><td>2</td><td>$19.12</td></tr><tr><td>Peach</td><td>$2.99</td><td>1</td><td>$2.99</td></tr></table>', 'table_as_cells': [{'x': 0, 'y': 0, 'w': 1, 'h': 1, 'content': 'Apple'}, {'x': 0, 'y': 1, 'w': 1, 'h': 1, 'content': 'Orange'}, {'x': 0, 'y': 2, 'w': 1, 'h': 1, 'content': 'Watermelon'}, {'x': 0, 'y': 3, 'w': 1, 'h': 1, 'content': 'Mango'}, {'x': 0, 'y': 4, 'w': 1, 'h': 1, 'content': 'Peach'}, {'x': 1, 'y': 0, 'w': 1, 'h': 1, 'content': '$5.00'}, {'x': 1, 'y': 1, 'w': 1, 'h': 1, 'content': '$1.99'}, {'x': 1, 'y': 2, 'w': 1, 'h': 1, 'content': '$1.69'}, {'x': 1, 'y': 3, 'w': 1, 'h': 1, 'content': '$9.56'}, {'x': 1, 'y': 4, 'w': 1, 'h': 1, 'content': '$2.99'}, {'x': 2, 'y': 0, 'w': 1, 'h': 1, 'content': '1'}, {'x': 2, 'y': 1, 'w': 1, 'h': 1, 'content': '2'}, {'x': 2, 'y': 2, 'w': 1, 'h': 1, 'content': '3'}, {'x': 2, 'y': 3, 'w': 1, 'h': 1, 'content': '2'}, {'x': 2, 'y': 4, 'w': 1, 'h': 1, 'content': '1'}, {'x': 3, 'y': 0, 'w': 1, 'h': 1, 'content': '$5.00'}, {'x': 3, 'y': 1, 'w': 1, 'h': 1, 'content': '$3.98'}, {'x': 3, 'y': 2, 'w': 1, 'h': 1, 'content': '$5.07'}, {'x': 3, 'y': 3, 'w': 1, 'h': 1, 'content': '$19.12'}, {'x': 3, 'y': 4, 'w': 1, 'h': 1, 'content': '$2.99'}], 'filetype': 'application/pdf', 'languages': ['eng'], 'page_number': 1, 'orig_elements': 'eJyVld+PojAQx/+VhvhwlwjSFlCM2eQe72FzXnaTezCGVKjQLL8CNavZ7P9+7aCyK7K9ezB1hn46M1+G6ebN4jkveCkjkVhLZIU8XlAfBzaeu4nthcneZgRj21skfrz3vb3nudYUWQWXLGGSKebNiquqSUTJJG/BztmpOsgo4yLNpPIQSkPFnN2vIpGZ8uLAp8pbV6KUmttssBs6/hSF4dxZbKfoYmMvJI4LDp9Sx7vn6RjlsdpTK3mha1mLI8+fahZz6109SLjksRRVGcU5a9uobqqd2uY6AfWJer4XOZenmgO6frQg4zI9sBTK2li8TK0teFsZFVUi9oKDaMQlvu1S2w2esb+k/pIsNF0rMioPxY43ulzlkWyX84i1UczzHA7V4pVS6a/P+VHXOddkdt7/el6POk+1nvSqavlE/WpUlkYM32J/1OtqCp5XpQklt+ijCliZKHpLrTmLMxPl3VIT33HdMQqPaTLBThiaqIEkigqM1ECNiWrSwEQN1JiQf8hwoAYeI8iYEsREDFSgJmKggDHGoHpjHf/XB3S0D6gTLkzUsA9UrLmJGvYBDh08KgUdk+LLRqBXOfTgkfwo9fTIZJFrdAXz5GElG/VLHmB8rGbqn7ZAsKuF7/lnAHZwN0X6XfoDulqk92tBh3Q/TD6eEPQn0E/x58MTYKb0m/Q3dS88aDykYbb0u8jH5PE9P8CzTj+4HbS23TRNWSli9FNdIi1aNyLms5cUgbYItEOdVAgkQn3lCCpGUAiCAhCkhSAs+n1gpRTy9O0l/Y6eDjtZSZYjfD6TIFAWUbDn2oZS9YZLg1wup2edtfW+/QtzuQU2', 'file_directory': '/Users/petrojm/Documents/projects/ASK/temp/jorge/ai-starter-kit/multimodal_knowledge_retriever/data/sample_docs', 'filename': 'invoicesample.pdf'}\n",
      "TEXT: Organic Items Price/kg Apple $5.00 Orange $1.99 Watermelon $1.69 Mango $9.56 Peach $2.99 Quantity(kg) Subtotal 1 $5.00 2 $3.98 3 $5.07 2 $19.12 1 $2.99\n",
      "\n",
      "\n",
      "##########\n",
      "\n",
      "\u001b[95m ELEMENT 2\u001b[00m\n",
      "TYPE: <class 'unstructured.documents.elements.CompositeElement'>\n",
      "META: {'filetype': 'application/pdf', 'languages': ['eng'], 'last_modified': '2025-03-06T15:35:28', 'page_number': 1, 'orig_elements': 'eJzNVltv2zYY/SuEsALbYBK8X/LWpw3YlhWI+zAEgcGbHAKy5ErU1qzrfx8ly62xem1WwFmeBB7xiOQ55/uo23dVbOIutnmTQnUFquBMra0XkMtQQx4EhY6wADE3NVOeR6xptQLVLmYbbLaF867yXdeH1Noch3nc2IduzJv7mLb3uSCUMVM4C/xHCvm+oEQKVtB9l9o88W5vpUJlHjGCIH63AsuYYqUOY60Y0meAhVGQangYctxNJ3mV3sbmZm99rN6XFyHm6HPq2o1v7DBs9n3nyjSMpGFYlQl1amJ+2MeZ++qXat5wux3tdj7VbRXbbXU3o0Pe7LqQ6hRnzSimAmIGsVwTccXEFdUTe1+Ym3bcudhPp502kePbSY9q/ePL65/Ab7++nuYdF12n3Mx7/acnJnKisKqhjpYXT7yBVjoGqWGE8kCklP5ingiKSJGcEIzMJPlxbCSiswXSIH4WmBlf54mhmNMn9uR78HPXxx1I+2HcgdA1XQ+GlIEtsq6A79qh7DXmsQc2pH0afGq3IDYpI/CySW9GuwNDF2wTBxDsPrlxAHXsJxvHHQLXY+tPiCuws9vWgiEGMPhid5+GN2MEfuyHcViB2NsMmrLg+PFrY9/a1cyorU9NGtJQpnQgjAnEfNg3Og3Ute3LZ9LvcT0d8UywrHI2RFaSpImF3HoNtWAUEuw49q42yuGLBcsQhfBUu9NzCs4CUMLMASDE6PPIQvpsuJ4yOzejy122DfgLrKfno8qaaK491gEyiTXkNQ/QuLIstVZoyoShtbyY+gQTPRUyKaV2KOyPiKRIflBbn0foF4v7/9D/Ubpj7anz3MG6JrTcc5xBp4yBUinpsVEh1PwJdDcEqVPdKWbscKuVpk4QPYcsrGej+w83a/AtwS++OxX+deuLTNuuT3/G8G+thxgnXS0ENNSqYoJg0AitIXEUB8qsLlZc3ASKtVqCfUQINYdrjBA6R/0McmA9GxMe33E4VdYzTiC2JfRcMAONNh5KZ6iuRY29VZcTnWmK1NI72CzoB0SSpQdxoxA7j8ysZyP6N0wijP9z7LGQhDsSoWYUQ26YgoZHA2tHa09orUvJX84BjhkSSxchB3UPSOk0FOlTvT9FFtYzcgDJrzAgqkiNVxA7Uy5dKnz55dEeUkwEKT/a2shLloDgS9+hxxJYEML40uqPBnyKHFjPyADzZQfu/gZnkCWy', 'file_directory': '/Users/petrojm/Documents/projects/ASK/temp/jorge/ai-starter-kit/multimodal_knowledge_retriever/data/sample_docs', 'filename': 'invoicesample.pdf'}\n",
      "TEXT: THANK YOU\n",
      "\n",
      "* Lorem ipsum dolor sit amet, consectetur adipiscing elit. Aliquam sodales dapibus fermentum. Nunc adipiscing, magna sed scelerisque cursus, erat lectus dapibus urna, sed facilisis leo dui et ipsum.\n",
      "\n",
      "Subtotal | Total\n",
      "\n",
      "Subtotal\n",
      "\n",
      "GST (10%)\n",
      "\n",
      "Total\n",
      "\n",
      "$36.00\n",
      "\n",
      "$3.60\n",
      "\n",
      "$39.60\n",
      "\n",
      "\n",
      "##########\n",
      "\n"
     ]
    }
   ],
   "source": [
    "for i, element in enumerate(raw_pdf_elements):\n",
    "    print(f'\\033[95m ELEMENT {i}\\033[00m')\n",
    "    print(f'TYPE: {type(element)}')\n",
    "    print(f'META: {element.metadata.to_dict()}')\n",
    "    print(f'TEXT: {element.text}')\n",
    "    print('\\n\\n##########\\n')"
   ]
  },
  {
   "cell_type": "code",
   "execution_count": 7,
   "metadata": {},
   "outputs": [
    {
     "data": {
      "text/plain": [
       "{\"<class 'unstructured.documents.elements.CompositeElement'>\": 2,\n",
       " \"<class 'unstructured.documents.elements.Table'>\": 1}"
      ]
     },
     "execution_count": 7,
     "metadata": {},
     "output_type": "execute_result"
    }
   ],
   "source": [
    "# Create a dictionary to store counts of each type\n",
    "category_counts = {}\n",
    "\n",
    "for element in raw_pdf_elements:\n",
    "    category = str(type(element))\n",
    "    if category in category_counts:\n",
    "        category_counts[category] += 1\n",
    "    else:\n",
    "        category_counts[category] = 1\n",
    "\n",
    "# Unique_categories will have unique elements\n",
    "# TableChunk if Table > max chars set above\n",
    "unique_categories = set(category_counts.keys())\n",
    "category_counts"
   ]
  },
  {
   "cell_type": "code",
   "execution_count": 8,
   "metadata": {},
   "outputs": [
    {
     "name": "stdout",
     "output_type": "stream",
     "text": [
      "1\n",
      "2\n"
     ]
    }
   ],
   "source": [
    "from langchain.schema import Document\n",
    "\n",
    "\n",
    "# Categorize by type\n",
    "categorized_elements = []\n",
    "for element in raw_pdf_elements:\n",
    "    if 'unstructured.documents.elements.Table' in str(type(element)):\n",
    "        meta = element.metadata.to_dict()\n",
    "        meta['type'] = 'table'\n",
    "        categorized_elements.append(Document(page_content=element.metadata.text_as_html, metadata=meta))\n",
    "    elif 'unstructured.documents.elements.CompositeElement' in str(type(element)):\n",
    "        meta = element.metadata.to_dict()\n",
    "        meta['type'] = 'text'\n",
    "        categorized_elements.append(Document(page_content=str(element), metadata=meta))\n",
    "\n",
    "# Tables\n",
    "table_docs = [e for e in categorized_elements if e.metadata['type'] == 'table']\n",
    "print(len(table_docs))\n",
    "\n",
    "# Text\n",
    "text_docs = [e for e in categorized_elements if e.metadata['type'] == 'text']\n",
    "print(len(text_docs))"
   ]
  },
  {
   "cell_type": "markdown",
   "metadata": {},
   "source": [
    "### Text and table summaries"
   ]
  },
  {
   "cell_type": "code",
   "execution_count": 9,
   "metadata": {},
   "outputs": [],
   "source": [
    "from utils.model_wrappers.langchain_llms import SambaNovaCloud, SambaStudio\n",
    "from langchain_core.output_parsers import StrOutputParser\n",
    "from langchain_core.prompts import load_prompt"
   ]
  },
  {
   "cell_type": "code",
   "execution_count": 10,
   "metadata": {},
   "outputs": [],
   "source": [
    "text_prompt = load_prompt(os.path.join(kit_dir, 'prompts', 'llama3-text_summary.yaml'))\n",
    "table_prompt = load_prompt(os.path.join(kit_dir, 'prompts', 'llama3-table_summary.yaml'))\n",
    "\n",
    "# Summary chain\n",
    "model = SambaNovaCloud(\n",
    "    max_tokens=500,\n",
    "    model='Meta-Llama-3.1-8B-Instruct',\n",
    ")\n",
    "\n",
    "# model = SambaStudio(\n",
    "#     model_kwargs={\n",
    "#         'do_sample': False,\n",
    "#         'temperature': 0.01,\n",
    "#         'max_tokens: 256,\n",
    "#         'process_prompt': False,\n",
    "#         'model': 'Meta-Llama-3-70B-Instruct-4096',\n",
    "#     },\n",
    "# )\n",
    "\n",
    "text_summarize_chain = {'element': lambda x: x} | text_prompt | model | StrOutputParser()\n",
    "table_summarize_chain = {'element': lambda x: x} | table_prompt | model | StrOutputParser()"
   ]
  },
  {
   "cell_type": "markdown",
   "metadata": {},
   "source": [
    "### Text Summaries"
   ]
  },
  {
   "cell_type": "code",
   "execution_count": 11,
   "metadata": {},
   "outputs": [],
   "source": [
    "# Apply to text\n",
    "texts = [i.page_content for i in text_docs if i.page_content != '']\n",
    "if texts:\n",
    "    text_summaries = text_summarize_chain.batch(texts, {'max_concurrency': 1})"
   ]
  },
  {
   "cell_type": "code",
   "execution_count": 12,
   "metadata": {},
   "outputs": [
    {
     "data": {
      "text/plain": [
       "['The text appears to be an invoice from Denny Gunawan, with the following details:\\n\\n- Address: 221 Queen St, Melbourne VIC 3000 (also listed as 123 Somewhere St, Melbourne VIC 3000)\\n- Phone number: (03) 1234 5678\\n- Total amount: $39.60\\n- Invoice number: #20130304',\n",
       " 'A receipt summary: A subtotal of $36.00 was calculated, followed by an additional 10% GST (Goods and Services Tax), resulting in a total of $39.60.']"
      ]
     },
     "execution_count": 12,
     "metadata": {},
     "output_type": "execute_result"
    }
   ],
   "source": [
    "text_summaries"
   ]
  },
  {
   "cell_type": "markdown",
   "metadata": {},
   "source": [
    "### Table summaries"
   ]
  },
  {
   "cell_type": "code",
   "execution_count": 13,
   "metadata": {},
   "outputs": [],
   "source": [
    "# Apply to tables\n",
    "tables = [i.page_content for i in table_docs]\n",
    "if tables:\n",
    "    table_summaries = table_summarize_chain.batch(tables, {'max_concurrency': 1})"
   ]
  },
  {
   "cell_type": "code",
   "execution_count": 14,
   "metadata": {},
   "outputs": [
    {
     "data": {
      "text/plain": [
       "[\"The table contains a list of fruits, their prices, quantities, and total costs. Here's a concise summary:\\n\\n- Total items: 7\\n- Total revenue: $46.77\\n- Average price per item: $6.71\"]"
      ]
     },
     "execution_count": 14,
     "metadata": {},
     "output_type": "execute_result"
    }
   ],
   "source": [
    "table_summaries"
   ]
  },
  {
   "cell_type": "markdown",
   "metadata": {},
   "source": [
    "### Image summary"
   ]
  },
  {
   "cell_type": "code",
   "execution_count": 15,
   "metadata": {},
   "outputs": [],
   "source": [
    "prompt = 'Describe the image in detail. Be specific about graphs include name of axis, labels, legends and important numerical information'\n",
    "image_paths = []\n",
    "image_paths.extend(glob.glob(os.path.join(output_path, '*.jpg')))\n",
    "image_paths.extend(glob.glob(os.path.join(output_path, '*.png')))\n",
    "\n",
    "image_summaries = []\n",
    "image_docs = []\n",
    "\n",
    "for image_path in image_paths:\n",
    "    result = lvlm.invoke(prompt, image_path)\n",
    "    image_summaries.append(result)\n",
    "    image_docs.append(\n",
    "        Document(\n",
    "            page_content=result,\n",
    "            metadata={\n",
    "                'type': 'image',\n",
    "                'file_directory': os.path.dirname(image_path),\n",
    "                'filename': os.path.basename(image_path),\n",
    "            },\n",
    "        )\n",
    "    )"
   ]
  },
  {
   "cell_type": "code",
   "execution_count": 16,
   "metadata": {},
   "outputs": [
    {
     "data": {
      "text/plain": [
       "['The image is a logo for Sunny Farm, an Australian fresh produce farm. The logo features a circular design with a gold border and a green and yellow sunburst in the center. The sunburst is surrounded by a green field with trees on either side.\\n\\n*   **Circular Design:**\\n    *   The circular design is the main element of the logo.\\n    *   It has a gold border with a thin white outline.\\n    *   The circle is divided into two sections: the top half features the sunburst, while the bottom half features the green field and trees.\\n*   **Sunburst:**\\n    *   The sunburst is a yellow and green graphic that represents the sun.\\n    *   It is positioned at the top of the circle, above the green field.\\n    *   The sunburst is surrounded by a thin white outline.\\n*   **Green Field:**\\n    *   The green field is a graphic representation of a field of crops.\\n    *   It is positioned below the sunburst, taking up the bottom half of the circle.\\n    *   The field is depicted in various shades of green, with some areas appearing lighter or darker than others.\\n*   **Trees:**\\n    *   Two trees are depicted on either side of the green field.\\n    *   They are represented by green graphics with brown trunks and branches.\\n    *   The trees are positioned near the edges of the circle, with their branches extending outward.\\n*   **Text:**\\n    *   The text \"SUNNY FARM\" is written in white letters across the center of the circle.\\n    *   The text \"AUSTRALIA FRESH PRODUCE\" is written in smaller white letters above the sunburst.\\n    *   The text \"VICTORIA\" is written in small white letters below the green field.\\n*   **Color Scheme:**\\n    *   The logo features a predominantly gold and green color scheme, with accents of yellow and brown.\\n    *   The gold color is used for the border and text, while the green color is used for the field and trees.\\n    *   The yellow color is used for the sunburst, and the brown color is used for the tree trunks and branches.\\n\\nOverall, the logo effectively conveys the theme of a sunny farm in Australia, with a focus on fresh produce. The use of a circular design and a sunburst graphic creates a sense of warmth and energy, while the green field and trees add a natural and organic feel to the logo.']"
      ]
     },
     "execution_count": 16,
     "metadata": {},
     "output_type": "execute_result"
    }
   ],
   "source": [
    "image_summaries"
   ]
  },
  {
   "cell_type": "code",
   "execution_count": 17,
   "metadata": {},
   "outputs": [
    {
     "data": {
      "text/plain": [
       "[Document(metadata={'type': 'image', 'file_directory': '/Users/petrojm/Documents/projects/ASK/temp/jorge/ai-starter-kit/multimodal_knowledge_retriever/data/sample_docs/invoicesample', 'filename': 'figure-1-1.jpg'}, page_content='The image is a logo for Sunny Farm, an Australian fresh produce farm. The logo features a circular design with a gold border and a green and yellow sunburst in the center. The sunburst is surrounded by a green field with trees on either side.\\n\\n*   **Circular Design:**\\n    *   The circular design is the main element of the logo.\\n    *   It has a gold border with a thin white outline.\\n    *   The circle is divided into two sections: the top half features the sunburst, while the bottom half features the green field and trees.\\n*   **Sunburst:**\\n    *   The sunburst is a yellow and green graphic that represents the sun.\\n    *   It is positioned at the top of the circle, above the green field.\\n    *   The sunburst is surrounded by a thin white outline.\\n*   **Green Field:**\\n    *   The green field is a graphic representation of a field of crops.\\n    *   It is positioned below the sunburst, taking up the bottom half of the circle.\\n    *   The field is depicted in various shades of green, with some areas appearing lighter or darker than others.\\n*   **Trees:**\\n    *   Two trees are depicted on either side of the green field.\\n    *   They are represented by green graphics with brown trunks and branches.\\n    *   The trees are positioned near the edges of the circle, with their branches extending outward.\\n*   **Text:**\\n    *   The text \"SUNNY FARM\" is written in white letters across the center of the circle.\\n    *   The text \"AUSTRALIA FRESH PRODUCE\" is written in smaller white letters above the sunburst.\\n    *   The text \"VICTORIA\" is written in small white letters below the green field.\\n*   **Color Scheme:**\\n    *   The logo features a predominantly gold and green color scheme, with accents of yellow and brown.\\n    *   The gold color is used for the border and text, while the green color is used for the field and trees.\\n    *   The yellow color is used for the sunburst, and the brown color is used for the tree trunks and branches.\\n\\nOverall, the logo effectively conveys the theme of a sunny farm in Australia, with a focus on fresh produce. The use of a circular design and a sunburst graphic creates a sense of warmth and energy, while the green field and trees add a natural and organic feel to the logo.')]"
      ]
     },
     "execution_count": 17,
     "metadata": {},
     "output_type": "execute_result"
    }
   ],
   "source": [
    "image_docs"
   ]
  },
  {
   "cell_type": "markdown",
   "metadata": {},
   "source": [
    "### add to vectorstore"
   ]
  },
  {
   "cell_type": "code",
   "execution_count": 18,
   "metadata": {},
   "outputs": [
    {
     "name": "stderr",
     "output_type": "stream",
     "text": [
      "/Users/petrojm/Documents/projects/ASK/temp/petro/ai-starter-kit/multimodal_knowledge_retriever/multimodal_knowledge_env/lib/python3.11/site-packages/pydantic/_internal/_fields.py:132: UserWarning: Field \"model_kwargs\" in SambaStudioEmbeddings has conflict with protected namespace \"model_\".\n",
      "\n",
      "You may be able to resolve this warning by setting `model_config['protected_namespaces'] = ()`.\n",
      "  warnings.warn(\n",
      "/var/folders/0k/7cb6_tns211fmsww7g3ls1jw0000gp/T/ipykernel_28072/4160724992.py:10: LangChainDeprecationWarning: The class `Chroma` was deprecated in LangChain 0.2.9 and will be removed in 1.0. An updated version of the class exists in the :class:`~langchain-chroma package and should be used instead. To use it run `pip install -U :class:`~langchain-chroma` and import as `from :class:`~langchain_chroma import Chroma``.\n",
      "  vectorstore = Chroma(\n",
      "2025-03-06 15:46:58,379 [INFO] - Anonymized telemetry enabled. See                     https://docs.trychroma.com/telemetry for more information.\n"
     ]
    }
   ],
   "source": [
    "import uuid\n",
    "\n",
    "from langchain.retrievers.multi_vector import MultiVectorRetriever\n",
    "from langchain.storage import InMemoryByteStore\n",
    "from utils.model_wrappers.api_gateway import APIGateway\n",
    "from langchain_community.vectorstores import Chroma\n",
    "from langchain_core.documents import Document\n",
    "\n",
    "# The vectorstore to use to index the child chunks\n",
    "vectorstore = Chroma(\n",
    "    collection_name='summaries',\n",
    "    embedding_function=APIGateway.load_embedding_model(\n",
    "        type='sambastudio', batch_size=1, bundle=False, select_expert='e5-mistral-7b-instruct-8192'\n",
    "    ),\n",
    ")\n",
    "\n",
    "# The storage layer for the parent documents\n",
    "store = InMemoryByteStore()\n",
    "id_key = 'doc_id'\n",
    "\n",
    "# The retriever (empty to start)\n",
    "retriever = MultiVectorRetriever(vectorstore=vectorstore, docstore=store, id_key=id_key, search_kwargs={'k': 2})"
   ]
  },
  {
   "cell_type": "code",
   "execution_count": 19,
   "metadata": {},
   "outputs": [],
   "source": [
    "# Add texts\n",
    "if texts:\n",
    "    doc_ids = [str(uuid.uuid4()) for _ in text_docs]\n",
    "    summary_texts = [Document(page_content=s, metadata={id_key: doc_ids[i]}) for i, s in enumerate(text_summaries)]\n",
    "    retriever.vectorstore.add_documents(summary_texts)\n",
    "    retriever.docstore.mset(list(zip(doc_ids, text_docs)))\n",
    "\n",
    "# Add tables\n",
    "if tables:\n",
    "    table_ids = [str(uuid.uuid4()) for _ in table_docs]\n",
    "    summary_tables = [Document(page_content=s, metadata={id_key: table_ids[i]}) for i, s in enumerate(table_summaries)]\n",
    "    retriever.vectorstore.add_documents(summary_tables)\n",
    "    retriever.docstore.mset(list(zip(table_ids, table_docs)))\n",
    "\n",
    "# Add images\n",
    "if image_summaries:\n",
    "    img_ids = [str(uuid.uuid4()) for _ in image_summaries]\n",
    "    summary_img = [Document(page_content=s, metadata={id_key: img_ids[i]}) for i, s in enumerate(image_summaries)]\n",
    "    retriever.vectorstore.add_documents(summary_img)\n",
    "    retriever.docstore.mset(list(zip(img_ids, image_docs)))  # Store the image summary as the raw document"
   ]
  },
  {
   "cell_type": "code",
   "execution_count": 20,
   "metadata": {},
   "outputs": [
    {
     "data": {
      "text/plain": [
       "[Document(metadata={'filetype': 'application/pdf', 'languages': ['eng'], 'last_modified': '2025-03-06T15:35:28', 'page_number': 1, 'orig_elements': 'eJy9Vttu3DYQ/RVB7UMLLCXeL34LmqIwijgpvOmLYSxIcbSmo8tC4tpxgv57KWlTpMkmQBZYP56jGYo8Z2bIm485NNBCFzfB5xdZ7oi32tEKMWk04q4myClPETFgMTUEgIp8leUtROtttCnnY171/eBDZyOMM27sU7+PmzsI27uYGMqYSTkH+jH4eJdYIgVL7K4PXZzybm6MoYVYZYTzgt+usk+YElmICROBVUGPEEtGYvLxaYzQTid5E95Dc72zFeT/pA8eIlQx9N2mauw4bnZD71IYLqhkQqaAOjQQn3Yw5755lc8b7rZ7u51PdZNDt81vZ3aMm7b3oQ4wa0YxFQgzhOWaiAsmLqiesncpc9PtWwfDdNppExHeT3rkL9br36/Wl6+vsvXrKfTTf9chNvN2v7TFeOGNZDVyTEvEqfPIVpwjbA04rKzj/ny2ECUKlVQXuCCz6guWQhRswprwyaYv8RJ/mimayW94EtpJ1p2d95qXb0cYxnIHcejv2/JlX+0n1RKTcFp6LF9c/1mmn+/K+37YQmkDGqMdIgzoXYhlu29iSF7aZvOu6x8b8GnxIa0W4AGGcpKyHG27a2Dj+2osQ/fQhwoWqqzDdj8AIogU97vtWSvm8yq5nCQ4ViUClOZEc8Sl9YjryiKnfY2scsZTZoiA+nxVgslcFoyypQz+I6Qs9EwwLgtzjJhTTm1fisUzt+9L6Lqn7I99Zx9t97kzV3YYbAwPsJ4ijzikFTEVlxVyFa4Rx7pCtuYCKZwmLeZK1+aMfYyJLsgq4zLJdnBoJgTjB8sYFVPrfkUsKac5xDQ1zz1gKSXZX3uALruO2StoXL8fOsj+vvwtYxjjH/JMgq7BWIMMeJtmL3ikK+wQcQQq61S6pc7nmaQFXmWKmuXCW6BOpqj5gkw8/Rov4Sf2kxH0mc0ilGXXfQuPdzBAMmx1xLHsF8x+zVIkz4RU+ocMBODOekeRr1QysEr707xSSBuHoWI1Vcqfr+mIUNOMk1ofht6BUIYVeCa4kgU7Qiwp37XxOW36mZlC/q913nZV0mfbD+ED+G+p7zRTxBKOKEAaeZJ75AzlyENd19KZ9LqkZ1M/PUFSnCFJ8UnZAxRkmX9csYIfwXP4ae3DVbqQntmYy+VRkl3NXy+ynygmDDPMv9Mlt/8CiRSC4Q==', 'file_directory': '/Users/petrojm/Documents/projects/ASK/temp/jorge/ai-starter-kit/multimodal_knowledge_retriever/data/sample_docs', 'filename': 'invoicesample.pdf', 'type': 'text'}, page_content='ATTENTION TO\\n\\nDenny Gunawan\\n\\n221 Queen St Melbourne VIC 3000\\n\\n123 Somewhere St, Melbourne VIC 3000 (03) 1234 5678\\n\\n$39.60\\n\\nInvoice Number: #20130304'),\n",
       " Document(metadata={'filetype': 'application/pdf', 'languages': ['eng'], 'last_modified': '2025-03-06T15:35:28', 'page_number': 1, 'orig_elements': 'eJzNV11v2zYU/SuEsALbYAq8/JKYtz5twLasQNyHIQgMUrxyCMiSK1Fbs27/fZQstwHitekAZ36SecwjkeeceyndfsiwwR22cRN8dkUyo42ttAAKHCoqfclpqT2nWGGlPJeVVDZbkWyH0XobbeJ8yKqu631obcRhHjf2oRvj5h7D9j4mhAthEmeB/wg+3icUtBIJ3XehjRPv9lYXeZoHRkEu71ZkGXNWFIdxWYi8PAEsjIRkw8MQcTft5E14j83N3laY/Z3+8BixiqFrN1Vjh2Gz7zuXprFcG8GKNKEODcaHPc7cN79k84Lb7Wi3865uM2y32d2MDnGz63yoA86accYVZYIyvQZ1JdQVLyf2PjE37bhz2E+7nRYR8f2kR7b+8fX1T+S3X99O844PXYfYzGt94omViDVHWlbaUGlKoMYrTRmX2hgPgLw4myeK55AkB2C5mSQ/jo3O+WyBNrk8CcyM/+aJ4UzyF/bke/Jz1+OOhP0w7ojvmq4nQ4jEJllXpOraIa0V49gT68M+DFVotwSbEHPyugnvRrsjQ+dtgwPxdh/cOJAa+8nGcZeT67GtHhFXZGe3rSUDejJUye4+DO9GJNXYD+OwItjbSJr0wPHT3ca+tauZUdsqNGEIQ5rSET8GgvGw7vxxoK5tn24Tfsf1tMUTwfJQaKsco+hqlYIFgjqrOPVW15WxyioPZwuWgSJnU+1O1yk4C8BBmAMAYMrTyEL6bLheMjs3o4tdtA35i6yn67PKGhVT0mESXutJfSGoZehS51VSCWWBoT6b+sCgnAoZUqkdCvsTonmuP6pdnkb4F4v7/9D/Wbqn863w4BR1oDmV3DNaQiHSL1cqFOCZLV9AdwN58Vh3zoQ4nGrAJeT8FLKwLkb3H27W5Ftgr757LPzbtkoybbs+/In+31oPMsG850CllUWqAKFoaQpJPa+VQOFB1ucPP2dlsQT7iAA3h2MMgM9RP4EcWBdjwvM7jrDGOOSWOulS8pVOrxQOkLpClxoYE9aer9+DKHleLL1DzIJ+RDQsPUiaIhenkZl1MaJ/I3TO2FfH3kupjMEkua9Tx6lNcqAwbjpxvSgrWQPj53NAMpGrpYvAQd0DkjoNz8vHej9FFtYFOZDrrzfAGV8yl4LvuOTT942l1ktIZ4EQYIVXddrK+UpAyaXv8GMJLAgIubT6owFPkQPrggwwX3bg7h+4OCiX', 'file_directory': '/Users/petrojm/Documents/projects/ASK/temp/jorge/ai-starter-kit/multimodal_knowledge_retriever/data/sample_docs', 'filename': 'invoicesample.pdf', 'type': 'text'}, page_content='THANK YOU\\n\\n* Lorem ipsum dolor sit amet, consectetur adipiscing elit. Aliquam sodales dapibus fermentum. Nunc adipiscing, magna sed scelerisque cursus, erat lectus dapibus urna, sed facilisis leo dui et ipsum.\\n\\nSubtotal | Total\\n\\nSubtotal\\n\\nGST (10%)\\n\\nTotal\\n\\n$36.00\\n\\n$3.60\\n\\n$39.60')]"
      ]
     },
     "execution_count": 20,
     "metadata": {},
     "output_type": "execute_result"
    }
   ],
   "source": [
    "retriever.invoke('what is the final price in the invoice?')"
   ]
  },
  {
   "cell_type": "code",
   "execution_count": 21,
   "metadata": {},
   "outputs": [
    {
     "data": {
      "text/plain": [
       "[Document(metadata={'type': 'image', 'file_directory': '/Users/petrojm/Documents/projects/ASK/temp/jorge/ai-starter-kit/multimodal_knowledge_retriever/data/sample_docs/invoicesample', 'filename': 'figure-1-1.jpg'}, page_content='The image is a logo for Sunny Farm, an Australian fresh produce farm. The logo features a circular design with a gold border and a green and yellow sunburst in the center. The sunburst is surrounded by a green field with trees on either side.\\n\\n*   **Circular Design:**\\n    *   The circular design is the main element of the logo.\\n    *   It has a gold border with a thin white outline.\\n    *   The circle is divided into two sections: the top half features the sunburst, while the bottom half features the green field and trees.\\n*   **Sunburst:**\\n    *   The sunburst is a yellow and green graphic that represents the sun.\\n    *   It is positioned at the top of the circle, above the green field.\\n    *   The sunburst is surrounded by a thin white outline.\\n*   **Green Field:**\\n    *   The green field is a graphic representation of a field of crops.\\n    *   It is positioned below the sunburst, taking up the bottom half of the circle.\\n    *   The field is depicted in various shades of green, with some areas appearing lighter or darker than others.\\n*   **Trees:**\\n    *   Two trees are depicted on either side of the green field.\\n    *   They are represented by green graphics with brown trunks and branches.\\n    *   The trees are positioned near the edges of the circle, with their branches extending outward.\\n*   **Text:**\\n    *   The text \"SUNNY FARM\" is written in white letters across the center of the circle.\\n    *   The text \"AUSTRALIA FRESH PRODUCE\" is written in smaller white letters above the sunburst.\\n    *   The text \"VICTORIA\" is written in small white letters below the green field.\\n*   **Color Scheme:**\\n    *   The logo features a predominantly gold and green color scheme, with accents of yellow and brown.\\n    *   The gold color is used for the border and text, while the green color is used for the field and trees.\\n    *   The yellow color is used for the sunburst, and the brown color is used for the tree trunks and branches.\\n\\nOverall, the logo effectively conveys the theme of a sunny farm in Australia, with a focus on fresh produce. The use of a circular design and a sunburst graphic creates a sense of warmth and energy, while the green field and trees add a natural and organic feel to the logo.'),\n",
       " Document(metadata={'filetype': 'application/pdf', 'languages': ['eng'], 'last_modified': '2025-03-06T15:35:28', 'page_number': 1, 'orig_elements': 'eJy9Vttu3DYQ/RVB7UMLLCXeL34LmqIwijgpvOmLYSxIcbSmo8tC4tpxgv57KWlTpMkmQBZYP56jGYo8Z2bIm485NNBCFzfB5xdZ7oi32tEKMWk04q4myClPETFgMTUEgIp8leUtROtttCnnY171/eBDZyOMM27sU7+PmzsI27uYGMqYSTkH+jH4eJdYIgVL7K4PXZzybm6MoYVYZYTzgt+usk+YElmICROBVUGPEEtGYvLxaYzQTid5E95Dc72zFeT/pA8eIlQx9N2mauw4bnZD71IYLqhkQqaAOjQQn3Yw5755lc8b7rZ7u51PdZNDt81vZ3aMm7b3oQ4wa0YxFQgzhOWaiAsmLqiesncpc9PtWwfDdNppExHeT3rkL9br36/Wl6+vsvXrKfTTf9chNvN2v7TFeOGNZDVyTEvEqfPIVpwjbA04rKzj/ny2ECUKlVQXuCCz6guWQhRswprwyaYv8RJ/mimayW94EtpJ1p2d95qXb0cYxnIHcejv2/JlX+0n1RKTcFp6LF9c/1mmn+/K+37YQmkDGqMdIgzoXYhlu29iSF7aZvOu6x8b8GnxIa0W4AGGcpKyHG27a2Dj+2osQ/fQhwoWqqzDdj8AIogU97vtWSvm8yq5nCQ4ViUClOZEc8Sl9YjryiKnfY2scsZTZoiA+nxVgslcFoyypQz+I6Qs9EwwLgtzjJhTTm1fisUzt+9L6Lqn7I99Zx9t97kzV3YYbAwPsJ4ijzikFTEVlxVyFa4Rx7pCtuYCKZwmLeZK1+aMfYyJLsgq4zLJdnBoJgTjB8sYFVPrfkUsKac5xDQ1zz1gKSXZX3uALruO2StoXL8fOsj+vvwtYxjjH/JMgq7BWIMMeJtmL3ikK+wQcQQq61S6pc7nmaQFXmWKmuXCW6BOpqj5gkw8/Rov4Sf2kxH0mc0ilGXXfQuPdzBAMmx1xLHsF8x+zVIkz4RU+ocMBODOekeRr1QysEr707xSSBuHoWI1Vcqfr+mIUNOMk1ofht6BUIYVeCa4kgU7Qiwp37XxOW36mZlC/q913nZV0mfbD+ED+G+p7zRTxBKOKEAaeZJ75AzlyENd19KZ9LqkZ1M/PUFSnCFJ8UnZAxRkmX9csYIfwXP4ae3DVbqQntmYy+VRkl3NXy+ynygmDDPMv9Mlt/8CiRSC4Q==', 'file_directory': '/Users/petrojm/Documents/projects/ASK/temp/jorge/ai-starter-kit/multimodal_knowledge_retriever/data/sample_docs', 'filename': 'invoicesample.pdf', 'type': 'text'}, page_content='ATTENTION TO\\n\\nDenny Gunawan\\n\\n221 Queen St Melbourne VIC 3000\\n\\n123 Somewhere St, Melbourne VIC 3000 (03) 1234 5678\\n\\n$39.60\\n\\nInvoice Number: #20130304')]"
      ]
     },
     "execution_count": 21,
     "metadata": {},
     "output_type": "execute_result"
    }
   ],
   "source": [
    "retriever.invoke('what is the logo of the company')"
   ]
  },
  {
   "cell_type": "markdown",
   "metadata": {},
   "source": [
    "## Retrieval with raw text, raw tables and image summaries"
   ]
  },
  {
   "cell_type": "code",
   "execution_count": 22,
   "metadata": {},
   "outputs": [],
   "source": [
    "from langchain.chains import RetrievalQA\n",
    "\n",
    "prompt = load_prompt(os.path.join(kit_dir, 'prompts', 'llama3-knowledge_retriever_custom_qa_prompt.yaml'))\n",
    "\n",
    "chain = RetrievalQA.from_llm(\n",
    "    llm=model, retriever=retriever, return_source_documents=True, input_key='question', output_key='answer'\n",
    ")\n",
    "chain.combine_documents_chain.llm_chain.prompt = prompt"
   ]
  },
  {
   "cell_type": "code",
   "execution_count": 23,
   "metadata": {},
   "outputs": [
    {
     "data": {
      "text/plain": [
       "{'question': 'what is the final price in the invoice?',\n",
       " 'answer': 'The final price in the invoice is $39.60.',\n",
       " 'source_documents': [Document(metadata={'filetype': 'application/pdf', 'languages': ['eng'], 'last_modified': '2025-03-06T15:35:28', 'page_number': 1, 'orig_elements': 'eJy9Vttu3DYQ/RVB7UMLLCXeL34LmqIwijgpvOmLYSxIcbSmo8tC4tpxgv57KWlTpMkmQBZYP56jGYo8Z2bIm485NNBCFzfB5xdZ7oi32tEKMWk04q4myClPETFgMTUEgIp8leUtROtttCnnY171/eBDZyOMM27sU7+PmzsI27uYGMqYSTkH+jH4eJdYIgVL7K4PXZzybm6MoYVYZYTzgt+usk+YElmICROBVUGPEEtGYvLxaYzQTid5E95Dc72zFeT/pA8eIlQx9N2mauw4bnZD71IYLqhkQqaAOjQQn3Yw5755lc8b7rZ7u51PdZNDt81vZ3aMm7b3oQ4wa0YxFQgzhOWaiAsmLqiesncpc9PtWwfDdNppExHeT3rkL9br36/Wl6+vsvXrKfTTf9chNvN2v7TFeOGNZDVyTEvEqfPIVpwjbA04rKzj/ny2ECUKlVQXuCCz6guWQhRswprwyaYv8RJ/mimayW94EtpJ1p2d95qXb0cYxnIHcejv2/JlX+0n1RKTcFp6LF9c/1mmn+/K+37YQmkDGqMdIgzoXYhlu29iSF7aZvOu6x8b8GnxIa0W4AGGcpKyHG27a2Dj+2osQ/fQhwoWqqzDdj8AIogU97vtWSvm8yq5nCQ4ViUClOZEc8Sl9YjryiKnfY2scsZTZoiA+nxVgslcFoyypQz+I6Qs9EwwLgtzjJhTTm1fisUzt+9L6Lqn7I99Zx9t97kzV3YYbAwPsJ4ijzikFTEVlxVyFa4Rx7pCtuYCKZwmLeZK1+aMfYyJLsgq4zLJdnBoJgTjB8sYFVPrfkUsKac5xDQ1zz1gKSXZX3uALruO2StoXL8fOsj+vvwtYxjjH/JMgq7BWIMMeJtmL3ikK+wQcQQq61S6pc7nmaQFXmWKmuXCW6BOpqj5gkw8/Rov4Sf2kxH0mc0ilGXXfQuPdzBAMmx1xLHsF8x+zVIkz4RU+ocMBODOekeRr1QysEr707xSSBuHoWI1Vcqfr+mIUNOMk1ofht6BUIYVeCa4kgU7Qiwp37XxOW36mZlC/q913nZV0mfbD+ED+G+p7zRTxBKOKEAaeZJ75AzlyENd19KZ9LqkZ1M/PUFSnCFJ8UnZAxRkmX9csYIfwXP4ae3DVbqQntmYy+VRkl3NXy+ynygmDDPMv9Mlt/8CiRSC4Q==', 'file_directory': '/Users/petrojm/Documents/projects/ASK/temp/jorge/ai-starter-kit/multimodal_knowledge_retriever/data/sample_docs', 'filename': 'invoicesample.pdf', 'type': 'text'}, page_content='ATTENTION TO\\n\\nDenny Gunawan\\n\\n221 Queen St Melbourne VIC 3000\\n\\n123 Somewhere St, Melbourne VIC 3000 (03) 1234 5678\\n\\n$39.60\\n\\nInvoice Number: #20130304'),\n",
       "  Document(metadata={'filetype': 'application/pdf', 'languages': ['eng'], 'last_modified': '2025-03-06T15:35:28', 'page_number': 1, 'orig_elements': 'eJzNV11v2zYU/SuEsALbYAq8/JKYtz5twLasQNyHIQgMUrxyCMiSK1Fbs27/fZQstwHitekAZ36SecwjkeeceyndfsiwwR22cRN8dkUyo42ttAAKHCoqfclpqT2nWGGlPJeVVDZbkWyH0XobbeJ8yKqu631obcRhHjf2oRvj5h7D9j4mhAthEmeB/wg+3icUtBIJ3XehjRPv9lYXeZoHRkEu71ZkGXNWFIdxWYi8PAEsjIRkw8MQcTft5E14j83N3laY/Z3+8BixiqFrN1Vjh2Gz7zuXprFcG8GKNKEODcaHPc7cN79k84Lb7Wi3865uM2y32d2MDnGz63yoA86accYVZYIyvQZ1JdQVLyf2PjE37bhz2E+7nRYR8f2kR7b+8fX1T+S3X99O844PXYfYzGt94omViDVHWlbaUGlKoMYrTRmX2hgPgLw4myeK55AkB2C5mSQ/jo3O+WyBNrk8CcyM/+aJ4UzyF/bke/Jz1+OOhP0w7ojvmq4nQ4jEJllXpOraIa0V49gT68M+DFVotwSbEHPyugnvRrsjQ+dtgwPxdh/cOJAa+8nGcZeT67GtHhFXZGe3rSUDejJUye4+DO9GJNXYD+OwItjbSJr0wPHT3ca+tauZUdsqNGEIQ5rSET8GgvGw7vxxoK5tn24Tfsf1tMUTwfJQaKsco+hqlYIFgjqrOPVW15WxyioPZwuWgSJnU+1O1yk4C8BBmAMAYMrTyEL6bLheMjs3o4tdtA35i6yn67PKGhVT0mESXutJfSGoZehS51VSCWWBoT6b+sCgnAoZUqkdCvsTonmuP6pdnkb4F4v7/9D/Wbqn863w4BR1oDmV3DNaQiHSL1cqFOCZLV9AdwN58Vh3zoQ4nGrAJeT8FLKwLkb3H27W5Ftgr757LPzbtkoybbs+/In+31oPMsG850CllUWqAKFoaQpJPa+VQOFB1ucPP2dlsQT7iAA3h2MMgM9RP4EcWBdjwvM7jrDGOOSWOulS8pVOrxQOkLpClxoYE9aer9+DKHleLL1DzIJ+RDQsPUiaIhenkZl1MaJ/I3TO2FfH3kupjMEkua9Tx6lNcqAwbjpxvSgrWQPj53NAMpGrpYvAQd0DkjoNz8vHej9FFtYFOZDrrzfAGV8yl4LvuOTT942l1ktIZ4EQYIVXddrK+UpAyaXv8GMJLAgIubT6owFPkQPrggwwX3bg7h+4OCiX', 'file_directory': '/Users/petrojm/Documents/projects/ASK/temp/jorge/ai-starter-kit/multimodal_knowledge_retriever/data/sample_docs', 'filename': 'invoicesample.pdf', 'type': 'text'}, page_content='THANK YOU\\n\\n* Lorem ipsum dolor sit amet, consectetur adipiscing elit. Aliquam sodales dapibus fermentum. Nunc adipiscing, magna sed scelerisque cursus, erat lectus dapibus urna, sed facilisis leo dui et ipsum.\\n\\nSubtotal | Total\\n\\nSubtotal\\n\\nGST (10%)\\n\\nTotal\\n\\n$36.00\\n\\n$3.60\\n\\n$39.60')]}"
      ]
     },
     "execution_count": 23,
     "metadata": {},
     "output_type": "execute_result"
    }
   ],
   "source": [
    "chain.invoke({'question': 'what is the final price in the invoice?'})"
   ]
  },
  {
   "cell_type": "code",
   "execution_count": 24,
   "metadata": {},
   "outputs": [
    {
     "data": {
      "text/plain": [
       "{'question': 'what is the logo of the company',\n",
       " 'answer': 'The logo of the company is a circular design with a gold border and a green and yellow sunburst in the center. The sunburst is surrounded by a green field with trees on either side. It features the text \"SUNNY FARM\" in white letters across the center of the circle and the text \"AUSTRALIA FRESH PRODUCE\" written in smaller white letters above the sunburst.',\n",
       " 'source_documents': [Document(metadata={'type': 'image', 'file_directory': '/Users/petrojm/Documents/projects/ASK/temp/jorge/ai-starter-kit/multimodal_knowledge_retriever/data/sample_docs/invoicesample', 'filename': 'figure-1-1.jpg'}, page_content='The image is a logo for Sunny Farm, an Australian fresh produce farm. The logo features a circular design with a gold border and a green and yellow sunburst in the center. The sunburst is surrounded by a green field with trees on either side.\\n\\n*   **Circular Design:**\\n    *   The circular design is the main element of the logo.\\n    *   It has a gold border with a thin white outline.\\n    *   The circle is divided into two sections: the top half features the sunburst, while the bottom half features the green field and trees.\\n*   **Sunburst:**\\n    *   The sunburst is a yellow and green graphic that represents the sun.\\n    *   It is positioned at the top of the circle, above the green field.\\n    *   The sunburst is surrounded by a thin white outline.\\n*   **Green Field:**\\n    *   The green field is a graphic representation of a field of crops.\\n    *   It is positioned below the sunburst, taking up the bottom half of the circle.\\n    *   The field is depicted in various shades of green, with some areas appearing lighter or darker than others.\\n*   **Trees:**\\n    *   Two trees are depicted on either side of the green field.\\n    *   They are represented by green graphics with brown trunks and branches.\\n    *   The trees are positioned near the edges of the circle, with their branches extending outward.\\n*   **Text:**\\n    *   The text \"SUNNY FARM\" is written in white letters across the center of the circle.\\n    *   The text \"AUSTRALIA FRESH PRODUCE\" is written in smaller white letters above the sunburst.\\n    *   The text \"VICTORIA\" is written in small white letters below the green field.\\n*   **Color Scheme:**\\n    *   The logo features a predominantly gold and green color scheme, with accents of yellow and brown.\\n    *   The gold color is used for the border and text, while the green color is used for the field and trees.\\n    *   The yellow color is used for the sunburst, and the brown color is used for the tree trunks and branches.\\n\\nOverall, the logo effectively conveys the theme of a sunny farm in Australia, with a focus on fresh produce. The use of a circular design and a sunburst graphic creates a sense of warmth and energy, while the green field and trees add a natural and organic feel to the logo.'),\n",
       "  Document(metadata={'filetype': 'application/pdf', 'languages': ['eng'], 'last_modified': '2025-03-06T15:35:28', 'page_number': 1, 'orig_elements': 'eJy9Vttu3DYQ/RVB7UMLLCXeL34LmqIwijgpvOmLYSxIcbSmo8tC4tpxgv57KWlTpMkmQBZYP56jGYo8Z2bIm485NNBCFzfB5xdZ7oi32tEKMWk04q4myClPETFgMTUEgIp8leUtROtttCnnY171/eBDZyOMM27sU7+PmzsI27uYGMqYSTkH+jH4eJdYIgVL7K4PXZzybm6MoYVYZYTzgt+usk+YElmICROBVUGPEEtGYvLxaYzQTid5E95Dc72zFeT/pA8eIlQx9N2mauw4bnZD71IYLqhkQqaAOjQQn3Yw5755lc8b7rZ7u51PdZNDt81vZ3aMm7b3oQ4wa0YxFQgzhOWaiAsmLqiesncpc9PtWwfDdNppExHeT3rkL9br36/Wl6+vsvXrKfTTf9chNvN2v7TFeOGNZDVyTEvEqfPIVpwjbA04rKzj/ny2ECUKlVQXuCCz6guWQhRswprwyaYv8RJ/mimayW94EtpJ1p2d95qXb0cYxnIHcejv2/JlX+0n1RKTcFp6LF9c/1mmn+/K+37YQmkDGqMdIgzoXYhlu29iSF7aZvOu6x8b8GnxIa0W4AGGcpKyHG27a2Dj+2osQ/fQhwoWqqzDdj8AIogU97vtWSvm8yq5nCQ4ViUClOZEc8Sl9YjryiKnfY2scsZTZoiA+nxVgslcFoyypQz+I6Qs9EwwLgtzjJhTTm1fisUzt+9L6Lqn7I99Zx9t97kzV3YYbAwPsJ4ijzikFTEVlxVyFa4Rx7pCtuYCKZwmLeZK1+aMfYyJLsgq4zLJdnBoJgTjB8sYFVPrfkUsKac5xDQ1zz1gKSXZX3uALruO2StoXL8fOsj+vvwtYxjjH/JMgq7BWIMMeJtmL3ikK+wQcQQq61S6pc7nmaQFXmWKmuXCW6BOpqj5gkw8/Rov4Sf2kxH0mc0ilGXXfQuPdzBAMmx1xLHsF8x+zVIkz4RU+ocMBODOekeRr1QysEr707xSSBuHoWI1Vcqfr+mIUNOMk1ofht6BUIYVeCa4kgU7Qiwp37XxOW36mZlC/q913nZV0mfbD+ED+G+p7zRTxBKOKEAaeZJ75AzlyENd19KZ9LqkZ1M/PUFSnCFJ8UnZAxRkmX9csYIfwXP4ae3DVbqQntmYy+VRkl3NXy+ynygmDDPMv9Mlt/8CiRSC4Q==', 'file_directory': '/Users/petrojm/Documents/projects/ASK/temp/jorge/ai-starter-kit/multimodal_knowledge_retriever/data/sample_docs', 'filename': 'invoicesample.pdf', 'type': 'text'}, page_content='ATTENTION TO\\n\\nDenny Gunawan\\n\\n221 Queen St Melbourne VIC 3000\\n\\n123 Somewhere St, Melbourne VIC 3000 (03) 1234 5678\\n\\n$39.60\\n\\nInvoice Number: #20130304')]}"
      ]
     },
     "execution_count": 24,
     "metadata": {},
     "output_type": "execute_result"
    }
   ],
   "source": [
    "chain.invoke('what is the logo of the company')"
   ]
  },
  {
   "cell_type": "markdown",
   "metadata": {},
   "source": [
    "## Retrieval with raw text, raw tables and raw images"
   ]
  },
  {
   "cell_type": "code",
   "execution_count": 25,
   "metadata": {},
   "outputs": [],
   "source": [
    "query = 'what is the logo of the company?'"
   ]
  },
  {
   "cell_type": "code",
   "execution_count": 26,
   "metadata": {},
   "outputs": [
    {
     "data": {
      "text/plain": [
       "[Document(metadata={'type': 'image', 'file_directory': '/Users/petrojm/Documents/projects/ASK/temp/jorge/ai-starter-kit/multimodal_knowledge_retriever/data/sample_docs/invoicesample', 'filename': 'figure-1-1.jpg'}, page_content='The image is a logo for Sunny Farm, an Australian fresh produce farm. The logo features a circular design with a gold border and a green and yellow sunburst in the center. The sunburst is surrounded by a green field with trees on either side.\\n\\n*   **Circular Design:**\\n    *   The circular design is the main element of the logo.\\n    *   It has a gold border with a thin white outline.\\n    *   The circle is divided into two sections: the top half features the sunburst, while the bottom half features the green field and trees.\\n*   **Sunburst:**\\n    *   The sunburst is a yellow and green graphic that represents the sun.\\n    *   It is positioned at the top of the circle, above the green field.\\n    *   The sunburst is surrounded by a thin white outline.\\n*   **Green Field:**\\n    *   The green field is a graphic representation of a field of crops.\\n    *   It is positioned below the sunburst, taking up the bottom half of the circle.\\n    *   The field is depicted in various shades of green, with some areas appearing lighter or darker than others.\\n*   **Trees:**\\n    *   Two trees are depicted on either side of the green field.\\n    *   They are represented by green graphics with brown trunks and branches.\\n    *   The trees are positioned near the edges of the circle, with their branches extending outward.\\n*   **Text:**\\n    *   The text \"SUNNY FARM\" is written in white letters across the center of the circle.\\n    *   The text \"AUSTRALIA FRESH PRODUCE\" is written in smaller white letters above the sunburst.\\n    *   The text \"VICTORIA\" is written in small white letters below the green field.\\n*   **Color Scheme:**\\n    *   The logo features a predominantly gold and green color scheme, with accents of yellow and brown.\\n    *   The gold color is used for the border and text, while the green color is used for the field and trees.\\n    *   The yellow color is used for the sunburst, and the brown color is used for the tree trunks and branches.\\n\\nOverall, the logo effectively conveys the theme of a sunny farm in Australia, with a focus on fresh produce. The use of a circular design and a sunburst graphic creates a sense of warmth and energy, while the green field and trees add a natural and organic feel to the logo.'),\n",
       " Document(metadata={'filetype': 'application/pdf', 'languages': ['eng'], 'last_modified': '2025-03-06T15:35:28', 'page_number': 1, 'orig_elements': 'eJy9Vttu3DYQ/RVB7UMLLCXeL34LmqIwijgpvOmLYSxIcbSmo8tC4tpxgv57KWlTpMkmQBZYP56jGYo8Z2bIm485NNBCFzfB5xdZ7oi32tEKMWk04q4myClPETFgMTUEgIp8leUtROtttCnnY171/eBDZyOMM27sU7+PmzsI27uYGMqYSTkH+jH4eJdYIgVL7K4PXZzybm6MoYVYZYTzgt+usk+YElmICROBVUGPEEtGYvLxaYzQTid5E95Dc72zFeT/pA8eIlQx9N2mauw4bnZD71IYLqhkQqaAOjQQn3Yw5755lc8b7rZ7u51PdZNDt81vZ3aMm7b3oQ4wa0YxFQgzhOWaiAsmLqiesncpc9PtWwfDdNppExHeT3rkL9br36/Wl6+vsvXrKfTTf9chNvN2v7TFeOGNZDVyTEvEqfPIVpwjbA04rKzj/ny2ECUKlVQXuCCz6guWQhRswprwyaYv8RJ/mimayW94EtpJ1p2d95qXb0cYxnIHcejv2/JlX+0n1RKTcFp6LF9c/1mmn+/K+37YQmkDGqMdIgzoXYhlu29iSF7aZvOu6x8b8GnxIa0W4AGGcpKyHG27a2Dj+2osQ/fQhwoWqqzDdj8AIogU97vtWSvm8yq5nCQ4ViUClOZEc8Sl9YjryiKnfY2scsZTZoiA+nxVgslcFoyypQz+I6Qs9EwwLgtzjJhTTm1fisUzt+9L6Lqn7I99Zx9t97kzV3YYbAwPsJ4ijzikFTEVlxVyFa4Rx7pCtuYCKZwmLeZK1+aMfYyJLsgq4zLJdnBoJgTjB8sYFVPrfkUsKac5xDQ1zz1gKSXZX3uALruO2StoXL8fOsj+vvwtYxjjH/JMgq7BWIMMeJtmL3ikK+wQcQQq61S6pc7nmaQFXmWKmuXCW6BOpqj5gkw8/Rov4Sf2kxH0mc0ilGXXfQuPdzBAMmx1xLHsF8x+zVIkz4RU+ocMBODOekeRr1QysEr707xSSBuHoWI1Vcqfr+mIUNOMk1ofht6BUIYVeCa4kgU7Qiwp37XxOW36mZlC/q913nZV0mfbD+ED+G+p7zRTxBKOKEAaeZJ75AzlyENd19KZ9LqkZ1M/PUFSnCFJ8UnZAxRkmX9csYIfwXP4ae3DVbqQntmYy+VRkl3NXy+ynygmDDPMv9Mlt/8CiRSC4Q==', 'file_directory': '/Users/petrojm/Documents/projects/ASK/temp/jorge/ai-starter-kit/multimodal_knowledge_retriever/data/sample_docs', 'filename': 'invoicesample.pdf', 'type': 'text'}, page_content='ATTENTION TO\\n\\nDenny Gunawan\\n\\n221 Queen St Melbourne VIC 3000\\n\\n123 Somewhere St, Melbourne VIC 3000 (03) 1234 5678\\n\\n$39.60\\n\\nInvoice Number: #20130304')]"
      ]
     },
     "execution_count": 26,
     "metadata": {},
     "output_type": "execute_result"
    }
   ],
   "source": [
    "retriever.invoke(query)"
   ]
  },
  {
   "cell_type": "code",
   "execution_count": 27,
   "metadata": {},
   "outputs": [
    {
     "data": {
      "text/plain": [
       "{'question': 'what is the logo of the company?',\n",
       " 'answer': 'The logo of the company is a circular design featuring a gold border and a green and yellow sunburst in the center. The sunburst is surrounded by a green field with trees on either side. The company name is written in white letters across the center of the circle, with additional text written in smaller white letters. The logo features a predominantly gold and green color scheme, with accents of yellow and brown, and represents the theme of a sunny farm in Australia, with a focus on fresh produce.',\n",
       " 'source_documents': [Document(metadata={'type': 'image', 'file_directory': '/Users/petrojm/Documents/projects/ASK/temp/jorge/ai-starter-kit/multimodal_knowledge_retriever/data/sample_docs/invoicesample', 'filename': 'figure-1-1.jpg'}, page_content='The image is a logo for Sunny Farm, an Australian fresh produce farm. The logo features a circular design with a gold border and a green and yellow sunburst in the center. The sunburst is surrounded by a green field with trees on either side.\\n\\n*   **Circular Design:**\\n    *   The circular design is the main element of the logo.\\n    *   It has a gold border with a thin white outline.\\n    *   The circle is divided into two sections: the top half features the sunburst, while the bottom half features the green field and trees.\\n*   **Sunburst:**\\n    *   The sunburst is a yellow and green graphic that represents the sun.\\n    *   It is positioned at the top of the circle, above the green field.\\n    *   The sunburst is surrounded by a thin white outline.\\n*   **Green Field:**\\n    *   The green field is a graphic representation of a field of crops.\\n    *   It is positioned below the sunburst, taking up the bottom half of the circle.\\n    *   The field is depicted in various shades of green, with some areas appearing lighter or darker than others.\\n*   **Trees:**\\n    *   Two trees are depicted on either side of the green field.\\n    *   They are represented by green graphics with brown trunks and branches.\\n    *   The trees are positioned near the edges of the circle, with their branches extending outward.\\n*   **Text:**\\n    *   The text \"SUNNY FARM\" is written in white letters across the center of the circle.\\n    *   The text \"AUSTRALIA FRESH PRODUCE\" is written in smaller white letters above the sunburst.\\n    *   The text \"VICTORIA\" is written in small white letters below the green field.\\n*   **Color Scheme:**\\n    *   The logo features a predominantly gold and green color scheme, with accents of yellow and brown.\\n    *   The gold color is used for the border and text, while the green color is used for the field and trees.\\n    *   The yellow color is used for the sunburst, and the brown color is used for the tree trunks and branches.\\n\\nOverall, the logo effectively conveys the theme of a sunny farm in Australia, with a focus on fresh produce. The use of a circular design and a sunburst graphic creates a sense of warmth and energy, while the green field and trees add a natural and organic feel to the logo.'),\n",
       "  Document(metadata={'filetype': 'application/pdf', 'languages': ['eng'], 'last_modified': '2025-03-06T15:35:28', 'page_number': 1, 'orig_elements': 'eJy9Vttu3DYQ/RVB7UMLLCXeL34LmqIwijgpvOmLYSxIcbSmo8tC4tpxgv57KWlTpMkmQBZYP56jGYo8Z2bIm485NNBCFzfB5xdZ7oi32tEKMWk04q4myClPETFgMTUEgIp8leUtROtttCnnY171/eBDZyOMM27sU7+PmzsI27uYGMqYSTkH+jH4eJdYIgVL7K4PXZzybm6MoYVYZYTzgt+usk+YElmICROBVUGPEEtGYvLxaYzQTid5E95Dc72zFeT/pA8eIlQx9N2mauw4bnZD71IYLqhkQqaAOjQQn3Yw5755lc8b7rZ7u51PdZNDt81vZ3aMm7b3oQ4wa0YxFQgzhOWaiAsmLqiesncpc9PtWwfDdNppExHeT3rkL9br36/Wl6+vsvXrKfTTf9chNvN2v7TFeOGNZDVyTEvEqfPIVpwjbA04rKzj/ny2ECUKlVQXuCCz6guWQhRswprwyaYv8RJ/mimayW94EtpJ1p2d95qXb0cYxnIHcejv2/JlX+0n1RKTcFp6LF9c/1mmn+/K+37YQmkDGqMdIgzoXYhlu29iSF7aZvOu6x8b8GnxIa0W4AGGcpKyHG27a2Dj+2osQ/fQhwoWqqzDdj8AIogU97vtWSvm8yq5nCQ4ViUClOZEc8Sl9YjryiKnfY2scsZTZoiA+nxVgslcFoyypQz+I6Qs9EwwLgtzjJhTTm1fisUzt+9L6Lqn7I99Zx9t97kzV3YYbAwPsJ4ijzikFTEVlxVyFa4Rx7pCtuYCKZwmLeZK1+aMfYyJLsgq4zLJdnBoJgTjB8sYFVPrfkUsKac5xDQ1zz1gKSXZX3uALruO2StoXL8fOsj+vvwtYxjjH/JMgq7BWIMMeJtmL3ikK+wQcQQq61S6pc7nmaQFXmWKmuXCW6BOpqj5gkw8/Rov4Sf2kxH0mc0ilGXXfQuPdzBAMmx1xLHsF8x+zVIkz4RU+ocMBODOekeRr1QysEr707xSSBuHoWI1Vcqfr+mIUNOMk1ofht6BUIYVeCa4kgU7Qiwp37XxOW36mZlC/q913nZV0mfbD+ED+G+p7zRTxBKOKEAaeZJ75AzlyENd19KZ9LqkZ1M/PUFSnCFJ8UnZAxRkmX9csYIfwXP4ae3DVbqQntmYy+VRkl3NXy+ynygmDDPMv9Mlt/8CiRSC4Q==', 'file_directory': '/Users/petrojm/Documents/projects/ASK/temp/jorge/ai-starter-kit/multimodal_knowledge_retriever/data/sample_docs', 'filename': 'invoicesample.pdf', 'type': 'text'}, page_content='ATTENTION TO\\n\\nDenny Gunawan\\n\\n221 Queen St Melbourne VIC 3000\\n\\n123 Somewhere St, Melbourne VIC 3000 (03) 1234 5678\\n\\n$39.60\\n\\nInvoice Number: #20130304')]}"
      ]
     },
     "execution_count": 27,
     "metadata": {},
     "output_type": "execute_result"
    }
   ],
   "source": [
    "chain.invoke({'question': query})"
   ]
  },
  {
   "cell_type": "markdown",
   "metadata": {},
   "source": [
    "### filter image results"
   ]
  },
  {
   "cell_type": "code",
   "execution_count": 28,
   "metadata": {},
   "outputs": [],
   "source": [
    "def get_retrieved_images(retriever, query):\n",
    "    results = retriever.invoke(query)\n",
    "    results = [result for result in results if result.metadata['type'] == 'image']\n",
    "    return results"
   ]
  },
  {
   "cell_type": "code",
   "execution_count": 29,
   "metadata": {},
   "outputs": [
    {
     "data": {
      "text/plain": [
       "[Document(metadata={'type': 'image', 'file_directory': '/Users/petrojm/Documents/projects/ASK/temp/jorge/ai-starter-kit/multimodal_knowledge_retriever/data/sample_docs/invoicesample', 'filename': 'figure-1-1.jpg'}, page_content='The image is a logo for Sunny Farm, an Australian fresh produce farm. The logo features a circular design with a gold border and a green and yellow sunburst in the center. The sunburst is surrounded by a green field with trees on either side.\\n\\n*   **Circular Design:**\\n    *   The circular design is the main element of the logo.\\n    *   It has a gold border with a thin white outline.\\n    *   The circle is divided into two sections: the top half features the sunburst, while the bottom half features the green field and trees.\\n*   **Sunburst:**\\n    *   The sunburst is a yellow and green graphic that represents the sun.\\n    *   It is positioned at the top of the circle, above the green field.\\n    *   The sunburst is surrounded by a thin white outline.\\n*   **Green Field:**\\n    *   The green field is a graphic representation of a field of crops.\\n    *   It is positioned below the sunburst, taking up the bottom half of the circle.\\n    *   The field is depicted in various shades of green, with some areas appearing lighter or darker than others.\\n*   **Trees:**\\n    *   Two trees are depicted on either side of the green field.\\n    *   They are represented by green graphics with brown trunks and branches.\\n    *   The trees are positioned near the edges of the circle, with their branches extending outward.\\n*   **Text:**\\n    *   The text \"SUNNY FARM\" is written in white letters across the center of the circle.\\n    *   The text \"AUSTRALIA FRESH PRODUCE\" is written in smaller white letters above the sunburst.\\n    *   The text \"VICTORIA\" is written in small white letters below the green field.\\n*   **Color Scheme:**\\n    *   The logo features a predominantly gold and green color scheme, with accents of yellow and brown.\\n    *   The gold color is used for the border and text, while the green color is used for the field and trees.\\n    *   The yellow color is used for the sunburst, and the brown color is used for the tree trunks and branches.\\n\\nOverall, the logo effectively conveys the theme of a sunny farm in Australia, with a focus on fresh produce. The use of a circular design and a sunburst graphic creates a sense of warmth and energy, while the green field and trees add a natural and organic feel to the logo.')]"
      ]
     },
     "execution_count": 29,
     "metadata": {},
     "output_type": "execute_result"
    }
   ],
   "source": [
    "retrieved_images = get_retrieved_images(retriever, query)\n",
    "retrieved_images"
   ]
  },
  {
   "cell_type": "markdown",
   "metadata": {},
   "source": [
    "### Generate response over retrieved raw images "
   ]
  },
  {
   "cell_type": "code",
   "execution_count": 30,
   "metadata": {},
   "outputs": [],
   "source": [
    "def get_image_answers(retrieved_image_docs, query):\n",
    "    image_answer_prompt_template = load_prompt(os.path.join(kit_dir, 'prompts', 'multimodal-qa.yaml'))\n",
    "    image_answer_prompt = image_answer_prompt_template.format(question=query)\n",
    "    answers = []\n",
    "    for doc in retrieved_image_docs:\n",
    "        image_path = os.path.join(doc.metadata['file_directory'], doc.metadata['filename'])\n",
    "        answers.append(lvlm.invoke(image_answer_prompt, image_path))\n",
    "    return answers"
   ]
  },
  {
   "cell_type": "code",
   "execution_count": 31,
   "metadata": {},
   "outputs": [
    {
     "data": {
      "text/plain": [
       "['The logo of the company is a circular emblem featuring a stylized sunburst design, accompanied by the text \"Australia Fresh Produce\" and \"Sunny Farm Victoria\". The logo\\'s color scheme is predominantly gold, with green accents and a white background. The overall design conveys a sense of warmth, freshness, and quality, suggesting that the company values its products and aims to convey a positive image to its customers.']"
      ]
     },
     "execution_count": 31,
     "metadata": {},
     "output_type": "execute_result"
    }
   ],
   "source": [
    "image_answers = get_image_answers(retrieved_images, query)\n",
    "image_answers"
   ]
  },
  {
   "cell_type": "code",
   "execution_count": 32,
   "metadata": {},
   "outputs": [],
   "source": [
    "def get_retrieved_docs(retriever, query):\n",
    "    results = retriever.invoke(query)\n",
    "    results = [result for result in results if result.metadata['type'] != 'image']\n",
    "    return results"
   ]
  },
  {
   "cell_type": "code",
   "execution_count": 33,
   "metadata": {},
   "outputs": [
    {
     "data": {
      "text/plain": [
       "[Document(metadata={'filetype': 'application/pdf', 'languages': ['eng'], 'last_modified': '2025-03-06T15:35:28', 'page_number': 1, 'orig_elements': 'eJy9Vttu3DYQ/RVB7UMLLCXeL34LmqIwijgpvOmLYSxIcbSmo8tC4tpxgv57KWlTpMkmQBZYP56jGYo8Z2bIm485NNBCFzfB5xdZ7oi32tEKMWk04q4myClPETFgMTUEgIp8leUtROtttCnnY171/eBDZyOMM27sU7+PmzsI27uYGMqYSTkH+jH4eJdYIgVL7K4PXZzybm6MoYVYZYTzgt+usk+YElmICROBVUGPEEtGYvLxaYzQTid5E95Dc72zFeT/pA8eIlQx9N2mauw4bnZD71IYLqhkQqaAOjQQn3Yw5755lc8b7rZ7u51PdZNDt81vZ3aMm7b3oQ4wa0YxFQgzhOWaiAsmLqiesncpc9PtWwfDdNppExHeT3rkL9br36/Wl6+vsvXrKfTTf9chNvN2v7TFeOGNZDVyTEvEqfPIVpwjbA04rKzj/ny2ECUKlVQXuCCz6guWQhRswprwyaYv8RJ/mimayW94EtpJ1p2d95qXb0cYxnIHcejv2/JlX+0n1RKTcFp6LF9c/1mmn+/K+37YQmkDGqMdIgzoXYhlu29iSF7aZvOu6x8b8GnxIa0W4AGGcpKyHG27a2Dj+2osQ/fQhwoWqqzDdj8AIogU97vtWSvm8yq5nCQ4ViUClOZEc8Sl9YjryiKnfY2scsZTZoiA+nxVgslcFoyypQz+I6Qs9EwwLgtzjJhTTm1fisUzt+9L6Lqn7I99Zx9t97kzV3YYbAwPsJ4ijzikFTEVlxVyFa4Rx7pCtuYCKZwmLeZK1+aMfYyJLsgq4zLJdnBoJgTjB8sYFVPrfkUsKac5xDQ1zz1gKSXZX3uALruO2StoXL8fOsj+vvwtYxjjH/JMgq7BWIMMeJtmL3ikK+wQcQQq61S6pc7nmaQFXmWKmuXCW6BOpqj5gkw8/Rov4Sf2kxH0mc0ilGXXfQuPdzBAMmx1xLHsF8x+zVIkz4RU+ocMBODOekeRr1QysEr707xSSBuHoWI1Vcqfr+mIUNOMk1ofht6BUIYVeCa4kgU7Qiwp37XxOW36mZlC/q913nZV0mfbD+ED+G+p7zRTxBKOKEAaeZJ75AzlyENd19KZ9LqkZ1M/PUFSnCFJ8UnZAxRkmX9csYIfwXP4ae3DVbqQntmYy+VRkl3NXy+ynygmDDPMv9Mlt/8CiRSC4Q==', 'file_directory': '/Users/petrojm/Documents/projects/ASK/temp/jorge/ai-starter-kit/multimodal_knowledge_retriever/data/sample_docs', 'filename': 'invoicesample.pdf', 'type': 'text'}, page_content='ATTENTION TO\\n\\nDenny Gunawan\\n\\n221 Queen St Melbourne VIC 3000\\n\\n123 Somewhere St, Melbourne VIC 3000 (03) 1234 5678\\n\\n$39.60\\n\\nInvoice Number: #20130304')]"
      ]
     },
     "execution_count": 33,
     "metadata": {},
     "output_type": "execute_result"
    }
   ],
   "source": [
    "context_docs = get_retrieved_docs(retriever, query)\n",
    "context_docs"
   ]
  },
  {
   "cell_type": "code",
   "execution_count": 35,
   "metadata": {},
   "outputs": [
    {
     "data": {
      "text/plain": [
       "'The logo of the company is a circular emblem featuring a stylized sunburst design, accompanied by the text \"Australia Fresh Produce\" and \"Sunny Farm Victoria\". The logo\\'s color scheme is predominantly gold, with green accents and a white background.'"
      ]
     },
     "execution_count": 35,
     "metadata": {},
     "output_type": "execute_result"
    }
   ],
   "source": [
    "prompt = load_prompt(os.path.join(kit_dir, 'prompts', 'llama3-knowledge_retriever_custom_qa_prompt.yaml'))\n",
    "text_contexts = [doc.page_content for doc in context_docs]\n",
    "full_context = '\\n\\n'.join(image_answers) + '\\n\\n' + '\\n\\n'.join(text_contexts)\n",
    "formated_prompt = prompt.format(context=full_context, question=query)\n",
    "formated_prompt\n",
    "model.invoke(formated_prompt)"
   ]
  },
  {
   "cell_type": "markdown",
   "metadata": {},
   "source": [
    "This example workflow is consolidated in the provided [multimodal rag src module](../src/multimodal.py) to see an usage example please refer to the [multimodal rag notebook](./3_multimodal_rag_usage.ipynb) "
   ]
  },
  {
   "cell_type": "markdown",
   "metadata": {},
   "source": []
  }
 ],
 "metadata": {
  "kernelspec": {
   "display_name": "multimodal_knowledge_env",
   "language": "python",
   "name": "python3"
  },
  "language_info": {
   "codemirror_mode": {
    "name": "ipython",
    "version": 3
   },
   "file_extension": ".py",
   "mimetype": "text/x-python",
   "name": "python",
   "nbconvert_exporter": "python",
   "pygments_lexer": "ipython3",
   "version": "3.11.9"
  }
 },
 "nbformat": 4,
 "nbformat_minor": 2
}
