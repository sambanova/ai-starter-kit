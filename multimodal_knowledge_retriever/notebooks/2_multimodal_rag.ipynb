{
 "cells": [
  {
   "cell_type": "markdown",
   "metadata": {},
   "source": [
    "# Multimodal RAG"
   ]
  },
  {
   "cell_type": "markdown",
   "metadata": {},
   "source": [
    "This notebook goes over how to build a RAG system that can leverage Image+Text Capabilities of the SambaNova Multimodal models "
   ]
  },
  {
   "cell_type": "code",
   "execution_count": 1,
   "metadata": {},
   "outputs": [],
   "source": [
    "import os\n",
    "import sys\n",
    "import glob\n",
    "\n",
    "current_dir = os.getcwd()\n",
    "kit_dir = os.path.abspath(os.path.join(current_dir, '..'))\n",
    "repo_dir = os.path.abspath(os.path.join(kit_dir, '..'))\n",
    "\n",
    "sys.path.append(kit_dir)\n",
    "sys.path.append(repo_dir)\n",
    "\n",
    "from dotenv import load_dotenv\n",
    "\n",
    "load_dotenv(os.path.join(repo_dir, '.env'), override=True)\n",
    "\n",
    "import requests\n",
    "import json\n",
    "import base64\n",
    "from pprint import pprint"
   ]
  },
  {
   "cell_type": "markdown",
   "metadata": {},
   "source": [
    "## Multimodal call"
   ]
  },
  {
   "cell_type": "code",
   "execution_count": 2,
   "metadata": {},
   "outputs": [],
   "source": [
    "from utils.model_wrappers.multimodal_models import SambastudioMultimodal\n",
    "\n",
    "lvlm=SambastudioMultimodal(\n",
    "    temperature = 0.01,\n",
    "    max_tokens_to_generate = 1024\n",
    ")"
   ]
  },
  {
   "cell_type": "markdown",
   "metadata": {},
   "source": [
    "### QA Llava Call"
   ]
  },
  {
   "cell_type": "code",
   "execution_count": 3,
   "metadata": {},
   "outputs": [
    {
     "data": {
      "text/plain": [
       "'At 4 pm, you could find approximately 12 birds in the image.'"
      ]
     },
     "execution_count": 3,
     "metadata": {},
     "output_type": "execute_result"
    }
   ],
   "source": [
    "prompt = 'how many birds could you find at 4pm:'\n",
    "image_path = os.path.join(kit_dir, 'data', 'sample_docs', 'sample.png')\n",
    "lvlm.invoke(prompt, image_path)"
   ]
  },
  {
   "cell_type": "markdown",
   "metadata": {},
   "source": [
    "### Summary Llava call"
   ]
  },
  {
   "cell_type": "code",
   "execution_count": 4,
   "metadata": {},
   "outputs": [
    {
     "data": {
      "text/plain": [
       "'The image displays a graph showing the number of birds on a tree at different times of the day. The graph is a line graph with a line that goes up and down, indicating the number of birds at various times. The x-axis represents the time of the day, while the y-axis shows the number of birds on the tree. The graph is labeled with the time of the day, such as 12:00, 1:00, 2:00, and so on. The data is presented in a clear and organized manner, making it easy to understand the trend of birds on the tree throughout the day.'"
      ]
     },
     "execution_count": 4,
     "metadata": {},
     "output_type": "execute_result"
    }
   ],
   "source": [
    "prompt = 'A chat between a curious human and an artificial intelligence assistant. The assistant gives helpful, detailed, and polite answers to the humans question. USER: <image>\\nDescribe the image in detail. Be specific about graphs, such as bar plots, scatter plots, or others. ASSISTANT:'\n",
    "lvlm.invoke(prompt, image_path)"
   ]
  },
  {
   "cell_type": "markdown",
   "metadata": {},
   "source": [
    "## Doc Extraction"
   ]
  },
  {
   "cell_type": "markdown",
   "metadata": {},
   "source": [
    "### Unstructured PDF extraction"
   ]
  },
  {
   "cell_type": "code",
   "execution_count": 5,
   "metadata": {},
   "outputs": [
    {
     "name": "stderr",
     "output_type": "stream",
     "text": [
      "Some weights of the model checkpoint at microsoft/table-transformer-structure-recognition were not used when initializing TableTransformerForObjectDetection: ['model.backbone.conv_encoder.model.layer2.0.downsample.1.num_batches_tracked', 'model.backbone.conv_encoder.model.layer3.0.downsample.1.num_batches_tracked', 'model.backbone.conv_encoder.model.layer4.0.downsample.1.num_batches_tracked']\n",
      "- This IS expected if you are initializing TableTransformerForObjectDetection from the checkpoint of a model trained on another task or with another architecture (e.g. initializing a BertForSequenceClassification model from a BertForPreTraining model).\n",
      "- This IS NOT expected if you are initializing TableTransformerForObjectDetection from the checkpoint of a model that you expect to be exactly identical (initializing a BertForSequenceClassification model from a BertForSequenceClassification model).\n"
     ]
    }
   ],
   "source": [
    "from unstructured.partition.pdf import partition_pdf\n",
    "\n",
    "# Path to save images\n",
    "file_path = os.path.join(kit_dir, 'data', 'sample_docs', 'invoicesample.pdf')\n",
    "output_path = os.path.splitext(file_path)[0]\n",
    "\n",
    "# Get elements\n",
    "raw_pdf_elements = partition_pdf(\n",
    "    filename=file_path,\n",
    "    extract_images_in_pdf=True,\n",
    "    strategy='hi_res',\n",
    "    hi_res_model_name='yolox',\n",
    "    # Use layout model (YOLOX) to get bounding boxes (for tables) and find titles\n",
    "    # Titles are any sub-section of the document\n",
    "    infer_table_structure=True,\n",
    "    chunking_strategy='by_title',\n",
    "    max_characters=1000,\n",
    "    new_after_n_chars=800,\n",
    "    combine_text_under_n_chars=500,\n",
    "    extract_image_block_output_dir=output_path,\n",
    ")"
   ]
  },
  {
   "cell_type": "markdown",
   "metadata": {},
   "source": [
    "### View Elements"
   ]
  },
  {
   "cell_type": "code",
   "execution_count": 6,
   "metadata": {},
   "outputs": [
    {
     "name": "stdout",
     "output_type": "stream",
     "text": [
      "\u001b[95m ELEMENT 0\u001b[00m\n",
      "TYPE: <class 'unstructured.documents.elements.CompositeElement'>\n",
      "META: {'filetype': 'application/pdf', 'languages': ['eng'], 'last_modified': '2024-09-09T08:43:38', 'page_number': 1, 'orig_elements': 'eJy9VtuO2zYQ/RVB7UMLmDLvl30rmqLYh2xSrNOXxcKgyJGXWVkSJHqdTdB/LyU5QS5OgBiwAT1ojmZs8pw5Q959yKGGLTRxHXx+leVCa+qAEuRLZRFXlCItMUWUKe+oFqryIl9k+Rai9TbaVPMhd23b+9DYCMMU1/a53cX1A4TNQ0wIZcykmgO8Dz4+JJRIwRLataGJY93dnTG0EIuMcF7w+0X2MaZEFmKMicCqoEeAuSIh+fA8RNiOO3kd3kF921kH+X/pg4cILoa2WbvaDsO669sypeGCSiZkSqhCDfG5g6n29ct8WnCz2dnNtKu7HJpNfj+hQ1xvWx+qABNnFFOOsEnPCusrzq6YHqu7VLludtsS+nG34yIivBv5yP9Yrf66WV2/uslWr8bUj/+7CrGelvu1LIYx70lZIWAAiAvvkHGaIQHWeEm1M4SfTRaiRKES6wIXZGJ9jqUQBRtjTfgo09fxnH+aKJrJ72gStiOtnZ3Wmi/fDNAPy7dtv4Fu+aJ1u5G0YWmHx3W3K+vg1u2+WdqAhmj7CD16DBGlxXTL7a6OIclo6/Vj0+5r8Ol3e4h9gCfolyOLy8FuuxrWvnXDMjRPbXAwQ8sqbHY9IIJI8bbbnLVZPm+Q63H3xxqkUq70BmukjeKIG61QSUud3pjWnlqR2vx8DYLJ1BGMsrkDPgFSFnoCGJeFOQZMJac6l2JxYee+gKZ5zv7eNXZvm8+VubF9b2N4gtWYeUQhji33UjJkTMUQp8nHmnuKDCNEYkwqX+JzKqQLssi4TLQdFJoAwfhBMkbF6NpvgLnkNIWYpubSs5VSkv2zA2iy25i9hLpsd30D2b/Xf2YMY/xTmlWaG2NViSohkmYYC2SIMogq7rHT2AhzvrEraYEXmaJmPuvmUCdR1HQ2Jpx+G8/pJ/rJCHphsQhl2W27hf0D9JAEWxxRLPsNs9+zlMkzIZX+KQE1YdphVia/mXRuMlch40uKpC8BqpJVVJfnMx0RapxxUuvD0DsAyrACTwBXsmBHgLnkhzJeUqZfmSnkF9Z507jEz6btw3vw32PfG4tL6SRSEmg6ioRKl0lnEWbEOiU9VWe8taTbR8pLdi3MyOwhFGSef1yxgh+Jp/TT7JMuy/LS/rmeLyXZzfT1KvuFYsIww/wHLrn/H/5NfQI=', 'file_directory': '/Users/jorgep/Documents/ask_public_own/ai-starter-kit-temp/multimodal_knowledge_retriever/data/sample_docs', 'filename': 'invoicesample.pdf'}\n",
      "TEXT: ATTENTION TO\n",
      "\n",
      "Denny Gunawan\n",
      "\n",
      "221 Queen St Melbourne VIC 3000\n",
      "\n",
      "123 Somewhere St, Melbourne VIC 3000 (03) 1234 5678\n",
      "\n",
      "$39.60\n",
      "\n",
      "Invoice Number: #20130304\n",
      "\n",
      "\n",
      "##########\n",
      "\n",
      "\u001b[95m ELEMENT 1\u001b[00m\n",
      "TYPE: <class 'unstructured.documents.elements.Table'>\n",
      "META: {'last_modified': '2024-09-09T08:43:38', 'text_as_html': '<table><tr><td>Apple</td><td>$5.00</td><td>1</td><td>$5.00</td></tr><tr><td>Orange</td><td>$1.99</td><td>2</td><td>$3.98</td></tr><tr><td>Watermelon</td><td>$1.69</td><td>3</td><td>$5.07</td></tr><tr><td>Mango</td><td>$9.56</td><td>2</td><td>$19.12</td></tr><tr><td>Peach</td><td>$2.99</td><td>1</td><td>$2.99</td></tr></table>', 'table_as_cells': [{'x': 0, 'y': 0, 'w': 1, 'h': 1, 'content': 'Apple'}, {'x': 0, 'y': 1, 'w': 1, 'h': 1, 'content': 'Orange'}, {'x': 0, 'y': 2, 'w': 1, 'h': 1, 'content': 'Watermelon'}, {'x': 0, 'y': 3, 'w': 1, 'h': 1, 'content': 'Mango'}, {'x': 0, 'y': 4, 'w': 1, 'h': 1, 'content': 'Peach'}, {'x': 1, 'y': 0, 'w': 1, 'h': 1, 'content': '$5.00'}, {'x': 1, 'y': 1, 'w': 1, 'h': 1, 'content': '$1.99'}, {'x': 1, 'y': 2, 'w': 1, 'h': 1, 'content': '$1.69'}, {'x': 1, 'y': 3, 'w': 1, 'h': 1, 'content': '$9.56'}, {'x': 1, 'y': 4, 'w': 1, 'h': 1, 'content': '$2.99'}, {'x': 2, 'y': 0, 'w': 1, 'h': 1, 'content': '1'}, {'x': 2, 'y': 1, 'w': 1, 'h': 1, 'content': '2'}, {'x': 2, 'y': 2, 'w': 1, 'h': 1, 'content': '3'}, {'x': 2, 'y': 3, 'w': 1, 'h': 1, 'content': '2'}, {'x': 2, 'y': 4, 'w': 1, 'h': 1, 'content': '1'}, {'x': 3, 'y': 0, 'w': 1, 'h': 1, 'content': '$5.00'}, {'x': 3, 'y': 1, 'w': 1, 'h': 1, 'content': '$3.98'}, {'x': 3, 'y': 2, 'w': 1, 'h': 1, 'content': '$5.07'}, {'x': 3, 'y': 3, 'w': 1, 'h': 1, 'content': '$19.12'}, {'x': 3, 'y': 4, 'w': 1, 'h': 1, 'content': '$2.99'}], 'filetype': 'application/pdf', 'languages': ['eng'], 'page_number': 1, 'orig_elements': 'eJyVlW2L4jAQx79KKL64A61NUh8qsnAv78VyHrtwL0RKbMcatk+0kVWW/e6XTNXuWru5AyXOdH7JzN/pZP3mQAoZ5CqUsbMgjjdlO6Cz7WjGdzDyI+qPxHw7HwH1WECp508odYbEyUCJWCihmTcnKooqlrlQUKOdilNxUOEeZLJX2sM4DzRzdr/KWO21l04nXHvLQubKcOs19QJ3MiRBMHPnmyG52NQPmOuhY8K569/zNIz2OPWpVpCZWlbyCOlTKSJw3vWDGBREShZ5GKWirsOyKrY6zHOnfML0851MQZ1KQHT16GDGeXIQCZa1diBPnA16axVmRSx3ElA05jF/5AX68+zNFz5f8LmhS02G+SHbQmXK1R4ltimEog4jSFPc1IiXK62/2edHWaZgyP05/vW8Hk2eej2ZVdfyifpV6SytGL3F/ui/q8ogLXIbym7RR31gYaP4LbUCEe1tlH9LDSau5/VRtE+TAXWDwEZ1JNHU1Ep11BjoJp3aqI4aA/YPGXbUoH0E61OC2YiOCtxGdBSwntGp3lrH//UB7+0D7gZzG9XtA33WzEZ1+4AGLu2VgvdJ8WUj8KscZvAoOCozPfYqSw26xHnysFSV/sYPOD6WY/3LWCjY1aL3/GMEG7iZIm2UeYGuFmv9RtAu3Q6TjztM2x34p/Nn3R1wprRB5p26dzxq3KVxtrRR7GPy9J4f4XGjH94ORttmmiYilxH5qS+RmqwqGcH4JSGoLUHtSCMVQYlIWznBigkWQrAAgmkRPJb8PohcSXX69pJ8J0+HrSqUSAk978kIKks42jNjY6km4NIgl8vp2WTtvG/+AqkGBPo=', 'file_directory': '/Users/jorgep/Documents/ask_public_own/ai-starter-kit-temp/multimodal_knowledge_retriever/data/sample_docs', 'filename': 'invoicesample.pdf'}\n",
      "TEXT: Organic Items Price/kg Apple $5.00 Orange $1.99 Watermelon $1.69 Mango $9.56 Peach $2.99 Quantity(kg) Subtotal 1 $5.00 2 $3.98 3 $5.07 2 $19.12 1 $2.99\n",
      "\n",
      "\n",
      "##########\n",
      "\n",
      "\u001b[95m ELEMENT 2\u001b[00m\n",
      "TYPE: <class 'unstructured.documents.elements.CompositeElement'>\n",
      "META: {'filetype': 'application/pdf', 'languages': ['eng'], 'last_modified': '2024-09-09T08:43:38', 'page_number': 1, 'orig_elements': 'eJzNV12L4zYU/SvCtNCWyOjTkuZtn1poO12Y7EMZhqCP64zAsbO23O50u/+9suPshG7anS1kOmBidKxjS+fce0Ru3xfQwA7atImhuEKFAUprKhkmNv8IKmpsPHWYaVZrwiTREIoVKnaQbLDJZs77wnddH2JrEwzzuLEP3Zg29xC39ykjjHOTOQv8ewzpPqO0kjyj+y62aeLd3laqzPOokbQUdyu0jBlR6jDWipf6DLAwMlIMD0OC3bST1/EdNDd766H4kB8ESOBT7NqNb+wwbPZ95/I0UlaGE5Un1LGB9LCHmfv652JecLsd7Xbe1W0B7ba4m9EhbXZdiHWEWTNGmMDE5GtN9JXgV1xP7H1mbtpx56CfdjstIsG7SY9i/cOr6x/Rr7+8meYdP7qOqZnX+ndPKmBCUA2YCiWyJ0CxdSRgwhznTFZCSXYxTyQraZacUlKaSfLj2FQlmy2oTCnOAjPjv3liGBHsmT35Dv3U9bBDcT+MOxS6puvREBOyWdYV8l075LVCGntkQ9zHwcd2i6CJqUSvmvh2tDs0dME2MKBg99GNA6qhn2wcdyW6Hlt/Qlyhnd22Fg0Q0OCz3X0c3o6A/NgP47BC0NuEmvzB8fFtY9/a1cyorY9NHOKQp3QojBFBOqy7PC2oa9vn18TfYD1t8UxhyQq4VpJgxapcWE5WWOdiw7WFEKRgOvDqYoVlqCrJ1LvTfSqcBWCUmwNAqdHnkYX0r8X1nLVzM7rUJdugP9F6uj+prbUFLpVTmHKdo5Zwhl2gArsaFNekyhZcLmopoXpqZJpb7dDYj0jFyuqj2vo8wj7b3P+H/k/S3QleKystpo7nqhfgsWO1wZJkO8BxZrR7Bt0NLdWp7oxwfjjVKBO0ZOeQhfVidP/+Zo2+oeTrb0+Ff9P6LNO26+MfEP4xeqh0ThDAjutsQiASGx0MrkzNBXNGenG5M+1Rcq2Wwj4ilJnDMUYpm0v9DHJgvRgTnp44FQ1ae5sTxxOLhakZNjbHjiSi1pTl2veXy/sp5Uq1ZAefBf2IVHTJIGFUyc8jM+vFiP4Vr0pCvrjsg3fEck9xLcHk7BE5e/JmMWgjiBdCO0kv50A+Y0q5pAg9qHtActKwUp/q/SmysF6QA2X15QZ4wxR3QDBYorDgymCXkwjX3Na1qn3+k1NfsAWkWHKHHVtgQSgXS9QfDfgUObBekAHm8w7c/QXjQieB', 'file_directory': '/Users/jorgep/Documents/ask_public_own/ai-starter-kit-temp/multimodal_knowledge_retriever/data/sample_docs', 'filename': 'invoicesample.pdf'}\n",
      "TEXT: THANK YOU\n",
      "\n",
      "* Lorem ipsum dolor sit amet, consectetur adipiscing elit. Aliquam sodales dapibus fermentum. Nunc adipiscing, magna sed scelerisque cursus, erat lectus dapibus urna, sed facilisis leo dui et ipsum.\n",
      "\n",
      "Subtotal | Total\n",
      "\n",
      "Subtotal\n",
      "\n",
      "GST (10%)\n",
      "\n",
      "Total\n",
      "\n",
      "$36.00\n",
      "\n",
      "$3.60\n",
      "\n",
      "$39.60\n",
      "\n",
      "\n",
      "##########\n",
      "\n"
     ]
    }
   ],
   "source": [
    "for i, element in enumerate(raw_pdf_elements):\n",
    "    print(f'\\033[95m ELEMENT {i}\\033[00m')\n",
    "    print(f'TYPE: {type(element)}')\n",
    "    print(f'META: {element.metadata.to_dict()}')\n",
    "    print(f'TEXT: {element.text}')\n",
    "    print('\\n\\n##########\\n')"
   ]
  },
  {
   "cell_type": "code",
   "execution_count": 8,
   "metadata": {},
   "outputs": [
    {
     "data": {
      "text/plain": [
       "{\"<class 'unstructured.documents.elements.CompositeElement'>\": 2,\n",
       " \"<class 'unstructured.documents.elements.Table'>\": 1}"
      ]
     },
     "execution_count": 8,
     "metadata": {},
     "output_type": "execute_result"
    }
   ],
   "source": [
    "# Create a dictionary to store counts of each type\n",
    "category_counts = {}\n",
    "\n",
    "for element in raw_pdf_elements:\n",
    "    category = str(type(element))\n",
    "    if category in category_counts:\n",
    "        category_counts[category] += 1\n",
    "    else:\n",
    "        category_counts[category] = 1\n",
    "\n",
    "# Unique_categories will have unique elements\n",
    "# TableChunk if Table > max chars set above\n",
    "unique_categories = set(category_counts.keys())\n",
    "category_counts"
   ]
  },
  {
   "cell_type": "code",
   "execution_count": 9,
   "metadata": {},
   "outputs": [
    {
     "name": "stdout",
     "output_type": "stream",
     "text": [
      "1\n",
      "2\n"
     ]
    }
   ],
   "source": [
    "from langchain.schema import Document\n",
    "\n",
    "\n",
    "# Categorize by type\n",
    "categorized_elements = []\n",
    "for element in raw_pdf_elements:\n",
    "    if 'unstructured.documents.elements.Table' in str(type(element)):\n",
    "        meta = element.metadata.to_dict()\n",
    "        meta['type'] = 'table'\n",
    "        categorized_elements.append(Document(page_content=element.metadata.text_as_html, metadata=meta))\n",
    "    elif 'unstructured.documents.elements.CompositeElement' in str(type(element)):\n",
    "        meta = element.metadata.to_dict()\n",
    "        meta['type'] = 'text'\n",
    "        categorized_elements.append(Document(page_content=str(element), metadata=meta))\n",
    "\n",
    "# Tables\n",
    "table_docs = [e for e in categorized_elements if e.metadata['type'] == 'table']\n",
    "print(len(table_docs))\n",
    "\n",
    "# Text\n",
    "text_docs = [e for e in categorized_elements if e.metadata['type'] == 'text']\n",
    "print(len(text_docs))"
   ]
  },
  {
   "cell_type": "markdown",
   "metadata": {},
   "source": [
    "### Text and table summaries"
   ]
  },
  {
   "cell_type": "code",
   "execution_count": 10,
   "metadata": {},
   "outputs": [],
   "source": [
    "from utils.model_wrappers.langchain_llms import SambaNovaCloud, SambaStudio\n",
    "from langchain_core.output_parsers import StrOutputParser\n",
    "from langchain_core.prompts import load_prompt"
   ]
  },
  {
   "cell_type": "code",
   "execution_count": 11,
   "metadata": {},
   "outputs": [],
   "source": [
    "text_prompt = load_prompt(os.path.join(kit_dir, 'prompts', 'llama70b-text_summary.yaml'))\n",
    "table_prompt = load_prompt(os.path.join(kit_dir, 'prompts', 'llama70b-table_summary.yaml'))\n",
    "\n",
    "# Summary chain\n",
    "model = SambaNovaCloud(\n",
    "    max_tokens=500,\n",
    "    model='llama3-8b',\n",
    ")\n",
    "\n",
    "# model = SambaStudio(\n",
    "#     streaming=False,\n",
    "#     model_kwargs={\n",
    "#         'do_sample': False,\n",
    "#         'temperature': 0.01,\n",
    "#         'max_tokens_to_generate': 256,\n",
    "#         'process_prompt': False,\n",
    "#         'select_expert': 'Meta-Llama-3-70B-Instruct-4096',\n",
    "#     },\n",
    "# )\n",
    "\n",
    "text_summarize_chain = {'element': lambda x: x} | text_prompt | model | StrOutputParser()\n",
    "table_summarize_chain = {'element': lambda x: x} | table_prompt | model | StrOutputParser()"
   ]
  },
  {
   "cell_type": "markdown",
   "metadata": {},
   "source": [
    "### Text Summaries"
   ]
  },
  {
   "cell_type": "code",
   "execution_count": 15,
   "metadata": {},
   "outputs": [],
   "source": [
    "# Apply to text\n",
    "texts = [i.page_content for i in text_docs if i.page_content != '']\n",
    "if texts:\n",
    "    text_summaries = text_summarize_chain.batch(texts, {'max_concurrency': 1})"
   ]
  },
  {
   "cell_type": "code",
   "execution_count": 16,
   "metadata": {},
   "outputs": [
    {
     "data": {
      "text/plain": [
       "['This is an invoice addressed to Denny Gunawan, with the following details:\\n\\n- Address: 221 Queen St, Melbourne VIC 3000\\n- Alternative contact: 123 Somewhere St, Melbourne VIC 3000, Phone: (03) 1234 5678\\n- Total amount due: $39.60\\n- Invoice number: #20130304',\n",
       " 'A receipt summary: \\n\\nA subtotal of $36.00 was calculated, then a 10% GST (Goods and Services Tax) was added, resulting in a total of $39.60.']"
      ]
     },
     "execution_count": 16,
     "metadata": {},
     "output_type": "execute_result"
    }
   ],
   "source": [
    "text_summaries"
   ]
  },
  {
   "cell_type": "markdown",
   "metadata": {},
   "source": [
    "### Table summaries"
   ]
  },
  {
   "cell_type": "code",
   "execution_count": 17,
   "metadata": {},
   "outputs": [],
   "source": [
    "# Apply to tables\n",
    "tables = [i.page_content for i in table_docs]\n",
    "if tables:\n",
    "    table_summaries = table_summarize_chain.batch(tables, {'max_concurrency': 1})"
   ]
  },
  {
   "cell_type": "code",
   "execution_count": 18,
   "metadata": {},
   "outputs": [
    {
     "data": {
      "text/plain": [
       "['**Summary of the Table:**\\n\\nThe table contains a list of 5 fruits with their prices and quantities. The total price for each fruit is also included.\\n\\n- **Average Price:** $5.51\\n- **Total Quantity:** 9\\n- **Total Revenue:** $51.27']"
      ]
     },
     "execution_count": 18,
     "metadata": {},
     "output_type": "execute_result"
    }
   ],
   "source": [
    "table_summaries"
   ]
  },
  {
   "cell_type": "markdown",
   "metadata": {},
   "source": [
    "### Image summary"
   ]
  },
  {
   "cell_type": "code",
   "execution_count": 19,
   "metadata": {},
   "outputs": [],
   "source": [
    "prompt = 'Describe the image in detail. Be specific about graphs include name of axis, labels, legends and important numerical information'\n",
    "image_paths = []\n",
    "image_paths.extend(glob.glob(os.path.join(output_path, '*.jpg')))\n",
    "image_paths.extend(glob.glob(os.path.join(output_path, '*.png')))\n",
    "\n",
    "image_summaries = []\n",
    "image_docs = []\n",
    "\n",
    "for image_path in image_paths:\n",
    "    result = lvlm.invoke(prompt, image_path)\n",
    "    image_summaries.append(result)\n",
    "    image_docs.append(\n",
    "        Document(\n",
    "            page_content=result,\n",
    "            metadata={\n",
    "                'type': 'image',\n",
    "                'file_directory': os.path.dirname(image_path),\n",
    "                'filename': os.path.basename(image_path),\n",
    "            },\n",
    "        )\n",
    "    )"
   ]
  },
  {
   "cell_type": "code",
   "execution_count": 20,
   "metadata": {},
   "outputs": [
    {
     "data": {
      "text/plain": [
       "[\"The image features a logo for Sunny Farm, a farm located in Victoria, Australia. The logo is a sun with a yellow background, and it is placed on a white background. The sun is positioned in the middle of the logo, with the rays extending outwards. The logo is likely used to represent the farm's fresh produce and commitment to quality.\"]"
      ]
     },
     "execution_count": 20,
     "metadata": {},
     "output_type": "execute_result"
    }
   ],
   "source": [
    "image_summaries"
   ]
  },
  {
   "cell_type": "code",
   "execution_count": 21,
   "metadata": {},
   "outputs": [
    {
     "data": {
      "text/plain": [
       "[Document(metadata={'type': 'image', 'file_directory': '/Users/jorgep/Documents/ask_public_own/ai-starter-kit-temp/multimodal_knowledge_retriever/data/sample_docs/invoicesample', 'filename': 'figure-1-1.jpg'}, page_content=\"The image features a logo for Sunny Farm, a farm located in Victoria, Australia. The logo is a sun with a yellow background, and it is placed on a white background. The sun is positioned in the middle of the logo, with the rays extending outwards. The logo is likely used to represent the farm's fresh produce and commitment to quality.\")]"
      ]
     },
     "execution_count": 21,
     "metadata": {},
     "output_type": "execute_result"
    }
   ],
   "source": [
    "image_docs"
   ]
  },
  {
   "cell_type": "markdown",
   "metadata": {},
   "source": [
    "### add to vectorstore"
   ]
  },
  {
   "cell_type": "code",
   "execution_count": 22,
   "metadata": {},
   "outputs": [
    {
     "name": "stderr",
     "output_type": "stream",
     "text": [
      "/var/folders/p4/y0q2kh796nx_k_yzfhxs57f00000gp/T/ipykernel_44740/4285747117.py:10: LangChainDeprecationWarning: The class `Chroma` was deprecated in LangChain 0.2.9 and will be removed in 1.0. An updated version of the class exists in the langchain-chroma package and should be used instead. To use it run `pip install -U langchain-chroma` and import as `from langchain_chroma import Chroma`.\n",
      "  vectorstore = Chroma(\n",
      "2024-09-19 11:01:53,588 [INFO] - Anonymized telemetry enabled. See                     https://docs.trychroma.com/telemetry for more information.\n"
     ]
    }
   ],
   "source": [
    "import uuid\n",
    "\n",
    "from langchain.retrievers.multi_vector import MultiVectorRetriever\n",
    "from langchain.storage import InMemoryByteStore\n",
    "from utils.model_wrappers.api_gateway import APIGateway\n",
    "from langchain_community.vectorstores import Chroma\n",
    "from langchain_core.documents import Document\n",
    "\n",
    "# The vectorstore to use to index the child chunks\n",
    "vectorstore = Chroma(\n",
    "    collection_name='summaries',\n",
    "    embedding_function=APIGateway.load_embedding_model(\n",
    "        type='sambastudio', batch_size=1, coe=True, select_expert='e5-mistral-7b-instruct-8192'\n",
    "    ),\n",
    ")\n",
    "\n",
    "# The storage layer for the parent documents\n",
    "store = InMemoryByteStore()\n",
    "id_key = 'doc_id'\n",
    "\n",
    "# The retriever (empty to start)\n",
    "retriever = MultiVectorRetriever(vectorstore=vectorstore, docstore=store, id_key=id_key, search_kwargs={'k': 2})"
   ]
  },
  {
   "cell_type": "code",
   "execution_count": 23,
   "metadata": {},
   "outputs": [],
   "source": [
    "# Add texts\n",
    "if texts:\n",
    "    doc_ids = [str(uuid.uuid4()) for _ in text_docs]\n",
    "    summary_texts = [Document(page_content=s, metadata={id_key: doc_ids[i]}) for i, s in enumerate(text_summaries)]\n",
    "    retriever.vectorstore.add_documents(summary_texts)\n",
    "    retriever.docstore.mset(list(zip(doc_ids, text_docs)))\n",
    "\n",
    "# Add tables\n",
    "if tables:\n",
    "    table_ids = [str(uuid.uuid4()) for _ in table_docs]\n",
    "    summary_tables = [Document(page_content=s, metadata={id_key: table_ids[i]}) for i, s in enumerate(table_summaries)]\n",
    "    retriever.vectorstore.add_documents(summary_tables)\n",
    "    retriever.docstore.mset(list(zip(table_ids, table_docs)))\n",
    "\n",
    "# Add images\n",
    "if image_summaries:\n",
    "    img_ids = [str(uuid.uuid4()) for _ in image_summaries]\n",
    "    summary_img = [Document(page_content=s, metadata={id_key: img_ids[i]}) for i, s in enumerate(image_summaries)]\n",
    "    retriever.vectorstore.add_documents(summary_img)\n",
    "    retriever.docstore.mset(list(zip(img_ids, image_docs)))  # Store the image summary as the raw document"
   ]
  },
  {
   "cell_type": "code",
   "execution_count": 24,
   "metadata": {},
   "outputs": [
    {
     "data": {
      "text/plain": [
       "[Document(metadata={'filetype': 'application/pdf', 'languages': ['eng'], 'last_modified': '2024-09-09T08:43:38', 'page_number': 1, 'orig_elements': 'eJzNVluL3DYY/SvCNNCWkdDd0r7lqYW228BOHsqyDLp5VuDLxJbbbNP898qXSYZmmmwKs10wGB3r2NI55/vk23dFqEMT2rSLvrgChaCKccooVLS0kGPloRFKwyAFl8wR5iktNqBoQjLeJJM57wrXdb2PrUlhmMe1eejGtLsPcX+fMkIZ05mzwn9En+4zSqRgGT10sU0T7/ZWlijPI1oQxO82YB1TXJbLWJUMqTPAyshIMTwMKTTTTl7Ft6G+ORgXivf5gQ8puBS7dudqMwy7Q9/ZPA0jqRku84Qq1iE9HMLMffVLMS+43Y9mP+/qtgjtvrib0SHtms7HKoZZM4oph1jna4vVFWdXTE3sQ2bu2rGxoZ92Oy0ihbeTHsX2x5fXP4Hffn09zTt+dBtTPa/1n554UcmqMgFKzzzkymiota0gNljZ0lTMcnkxTwRFJEtOCEZ6kvw41hLR2QKpET8LzIz/5ommmNMn9uR78HPXhwbEwzA2wHd114MhJmCyrBvgunbIaw1p7IHx8RAHF9s9CHVMCLys45vRNGDovKnDALw5RDsOoAr9ZOPYIHA9tu6EuAGN2bcGDMGDwWW7+zi8GQNwYz+MwwaE3iRQ5w+OH9829q3ZzIzKuFjHIQ55Sgf8GEFIy7rRaaCuTZ9fE38P22mLZ4IlrKCVNAQ6y3KxM66gDbaEVFfcYG8ZJ+piwdKkRHiq3ek+BWcFKGF6AQjR6jyykj4brqfMzs1oU5dMDf4C2+n+qLIOKjAjsIfEWw2z4AEqhjkUFfFKY+G89RdTn2CipkImudSWwv6ISIrkB7XVeYR+sbj/D/0fpTt1knMXBFSBiqy7ktBU3kHtMNUmaJyPwCfQXRNUnupOMWPLqUYoJ4ieQ1bWs9H9h5st+JbgF9+dCv+6dVmmfdfHP4P/t9YTFHEEUwstExXkWuYzjZEAGVNcU4N5KS5vAsWqXIN9RAjVyzFGCJ2jfgZZWM/GhMd3HFnlSClewSofzpBXSkCthIGqwr50TCl+wR8JwhRF5do72CzoB0SStQdxXSJ2HplZz0b0b5hEGH917F3FtVOCQJp9gNwbmnuPUdDwUuWgBczsBWPPMUNi7SJkUXdBciwoUqd6f4qsrGfkAJJfb4DMu/DYC+jV9C/tPM/p5wFiLqxlhNhswQVLQPC179BjCawIYXxt9UcDPkUW1jMyQH/Zgbu/AW0lKDA=', 'file_directory': '/Users/jorgep/Documents/ask_public_own/ai-starter-kit-temp/multimodal_knowledge_retriever/data/sample_docs', 'filename': 'invoicesample.pdf', 'type': 'text'}, page_content='THANK YOU\\n\\n* Lorem ipsum dolor sit amet, consectetur adipiscing elit. Aliquam sodales dapibus fermentum. Nunc adipiscing, magna sed scelerisque cursus, erat lectus dapibus urna, sed facilisis leo dui et ipsum.\\n\\nSubtotal | Total\\n\\nSubtotal\\n\\nGST (10%)\\n\\nTotal\\n\\n$36.00\\n\\n$3.60\\n\\n$39.60'),\n",
       " Document(metadata={'filetype': 'application/pdf', 'languages': ['eng'], 'last_modified': '2024-09-09T08:43:38', 'page_number': 1, 'orig_elements': 'eJy9ltuO2zYQhl9FUHvRAqbE82HviqYo9iKbFOv0ZrEQKHHkZVaWBIleZxP03UtJTpCDEyAGbMAXnt8zMvl/M6TuPqTQwBbaUHiXXiWprZ2pncOoloojzqsalSx+U5UAkMxi52i6StItBOtssLHmQ1p13eB8awOMc9zY524Xigfwm4cQFcqYiTUHee9deIgqkYJFte98G6a6uztjaCZWCeE84/er5GNMiczEFBOBVUaPCEtFVNLxeQywnXby2r+D5ra3FaT/xR8cBKiC79qiauw4Fv3QlTENZ1QyIWNC7RsIzz3Mta9fpvOC283ObuZd3aXQbtL7WR1Dse2crz3MnlFMOcImftZYX3F2xfRU3cfKot1tSxim3U6LCPBu8iP9Y73+62Z9/eomWb+aUj/+79qHZl7u11hKimvNsELasIildhTpUjhEOGFMayqlK8+GhSiRqei6wBmZXV9iKUTGplgTPmH6Ol7yT4OimfwOE7+dbO3tvNY0fzPCMOZvu2EDff6iq3aTaWNux8ei35WNr4pu3+bWozHYIcCAHn1AcTF9vt01wUeMtike227fgIvPHSAMHp5gyCcX89Fu+wYK11Vj7tunzlewSHntN7sBEEEke9tvztosnzfI9bT7Yw2iK6VLShQitYkNYkSFLOEMldxwCYxITMT5GiQ+fOoIRtnSAZ8EKTM9C4zLzBwT5pJTJ5diceHJfQFt+5z8vWvt3rafk7mxw2CDf4L1lHmEECW1roxSyBArEcdGI+2oQiB5xQWzgmF5TkI6I6uEy2jbgdAsCMYPyBgV09R+IywlpxFimppLn62UkuSfHUCb3IbkJTRltxtaSP69/jNhGOOfYmYcCGVBIka0Q7wEhjTHGClRY05rZqAkZ2MmaYZXiaJmueuWUEcoar4bo06/jZf0E+fJCHphWISy5Lbbwv4BBojAVkeIJb9h9nsSM3kipNI/BbAiNa5rWiOiaASouEE63pjIaVPJ0gml+BmPRSLUdMZJrQ+H3kFQhmV4FriSGTsiLCU/xHhJTL8yk8kvRudNW0V/Nt3g34P7nvuMRX9LF28hERHwOk6OZjVDlgMVwlbxPHRncz++fcQ8Q6Ljk7OHUJDl/OOKZfxIPKefNj5cxQvpwmCul5eS5Gb+9Sr5hWLCMMP8B1Ny/z9IhXzn', 'file_directory': '/Users/jorgep/Documents/ask_public_own/ai-starter-kit-temp/multimodal_knowledge_retriever/data/sample_docs', 'filename': 'invoicesample.pdf', 'type': 'text'}, page_content='ATTENTION TO\\n\\nDenny Gunawan\\n\\n221 Queen St Melbourne VIC 3000\\n\\n123 Somewhere St, Melbourne VIC 3000 (03) 1234 5678\\n\\n$39.60\\n\\nInvoice Number: #20130304')]"
      ]
     },
     "execution_count": 24,
     "metadata": {},
     "output_type": "execute_result"
    }
   ],
   "source": [
    "retriever.invoke('what is the final price in the invoice?')"
   ]
  },
  {
   "cell_type": "code",
   "execution_count": 25,
   "metadata": {},
   "outputs": [
    {
     "data": {
      "text/plain": [
       "[Document(metadata={'type': 'image', 'file_directory': '/Users/jorgep/Documents/ask_public_own/ai-starter-kit-temp/multimodal_knowledge_retriever/data/sample_docs/invoicesample', 'filename': 'figure-1-1.jpg'}, page_content=\"The image features a logo for Sunny Farm, a farm located in Victoria, Australia. The logo is a sun with a yellow background, and it is placed on a white background. The sun is positioned in the middle of the logo, with the rays extending outwards. The logo is likely used to represent the farm's fresh produce and commitment to quality.\"),\n",
       " Document(metadata={'filetype': 'application/pdf', 'languages': ['eng'], 'last_modified': '2024-09-09T08:43:38', 'page_number': 1, 'orig_elements': 'eJzNVluL3DYY/SvCNNCWkdDd0r7lqYW228BOHsqyDLp5VuDLxJbbbNP898qXSYZmmmwKs10wGB3r2NI55/vk23dFqEMT2rSLvrgChaCKccooVLS0kGPloRFKwyAFl8wR5iktNqBoQjLeJJM57wrXdb2PrUlhmMe1eejGtLsPcX+fMkIZ05mzwn9En+4zSqRgGT10sU0T7/ZWlijPI1oQxO82YB1TXJbLWJUMqTPAyshIMTwMKTTTTl7Ft6G+ORgXivf5gQ8puBS7dudqMwy7Q9/ZPA0jqRku84Qq1iE9HMLMffVLMS+43Y9mP+/qtgjtvrib0SHtms7HKoZZM4oph1jna4vVFWdXTE3sQ2bu2rGxoZ92Oy0ihbeTHsX2x5fXP4Hffn09zTt+dBtTPa/1n554UcmqMgFKzzzkymiota0gNljZ0lTMcnkxTwRFJEtOCEZ6kvw41hLR2QKpET8LzIz/5ommmNMn9uR78HPXhwbEwzA2wHd114MhJmCyrBvgunbIaw1p7IHx8RAHF9s9CHVMCLys45vRNGDovKnDALw5RDsOoAr9ZOPYIHA9tu6EuAGN2bcGDMGDwWW7+zi8GQNwYz+MwwaE3iRQ5w+OH9829q3ZzIzKuFjHIQ55Sgf8GEFIy7rRaaCuTZ9fE38P22mLZ4IlrKCVNAQ6y3KxM66gDbaEVFfcYG8ZJ+piwdKkRHiq3ek+BWcFKGF6AQjR6jyykj4brqfMzs1oU5dMDf4C2+n+qLIOKjAjsIfEWw2z4AEqhjkUFfFKY+G89RdTn2CipkImudSWwv6ISIrkB7XVeYR+sbj/D/0fpTt1knMXBFSBiqy7ktBU3kHtMNUmaJyPwCfQXRNUnupOMWPLqUYoJ4ieQ1bWs9H9h5st+JbgF9+dCv+6dVmmfdfHP4P/t9YTFHEEUwstExXkWuYzjZEAGVNcU4N5KS5vAsWqXIN9RAjVyzFGCJ2jfgZZWM/GhMd3HFnlSClewSofzpBXSkCthIGqwr50TCl+wR8JwhRF5do72CzoB0SStQdxXSJ2HplZz0b0b5hEGH917F3FtVOCQJp9gNwbmnuPUdDwUuWgBczsBWPPMUNi7SJkUXdBciwoUqd6f4qsrGfkAJJfb4DMu/DYC+jV9C/tPM/p5wFiLqxlhNhswQVLQPC179BjCawIYXxt9UcDPkUW1jMyQH/Zgbu/AW0lKDA=', 'file_directory': '/Users/jorgep/Documents/ask_public_own/ai-starter-kit-temp/multimodal_knowledge_retriever/data/sample_docs', 'filename': 'invoicesample.pdf', 'type': 'text'}, page_content='THANK YOU\\n\\n* Lorem ipsum dolor sit amet, consectetur adipiscing elit. Aliquam sodales dapibus fermentum. Nunc adipiscing, magna sed scelerisque cursus, erat lectus dapibus urna, sed facilisis leo dui et ipsum.\\n\\nSubtotal | Total\\n\\nSubtotal\\n\\nGST (10%)\\n\\nTotal\\n\\n$36.00\\n\\n$3.60\\n\\n$39.60')]"
      ]
     },
     "execution_count": 25,
     "metadata": {},
     "output_type": "execute_result"
    }
   ],
   "source": [
    "retriever.invoke('what is the logo of the company')"
   ]
  },
  {
   "cell_type": "markdown",
   "metadata": {},
   "source": [
    "## Retrieval with raw text, raw tables and image summaries"
   ]
  },
  {
   "cell_type": "code",
   "execution_count": 26,
   "metadata": {},
   "outputs": [],
   "source": [
    "from langchain.chains import RetrievalQA\n",
    "\n",
    "prompt = load_prompt(os.path.join(kit_dir, 'prompts', 'llama70b-knowledge_retriever_custom_qa_prompt.yaml'))\n",
    "\n",
    "chain = RetrievalQA.from_llm(\n",
    "    llm=model, retriever=retriever, return_source_documents=True, input_key='question', output_key='answer'\n",
    ")\n",
    "chain.combine_documents_chain.llm_chain.prompt = prompt"
   ]
  },
  {
   "cell_type": "code",
   "execution_count": 27,
   "metadata": {},
   "outputs": [
    {
     "data": {
      "text/plain": [
       "{'question': 'what is the final price in the invoice?',\n",
       " 'answer': 'Based on the provided context, I can see that the final price in the invoice is $39.60. This is clearly stated at the bottom of the invoice.',\n",
       " 'source_documents': [Document(metadata={'filetype': 'application/pdf', 'languages': ['eng'], 'last_modified': '2024-09-09T08:43:38', 'page_number': 1, 'orig_elements': 'eJzNVluL3DYY/SvCNNCWkdDd0r7lqYW228BOHsqyDLp5VuDLxJbbbNP898qXSYZmmmwKs10wGB3r2NI55/vk23dFqEMT2rSLvrgChaCKccooVLS0kGPloRFKwyAFl8wR5iktNqBoQjLeJJM57wrXdb2PrUlhmMe1eejGtLsPcX+fMkIZ05mzwn9En+4zSqRgGT10sU0T7/ZWlijPI1oQxO82YB1TXJbLWJUMqTPAyshIMTwMKTTTTl7Ft6G+ORgXivf5gQ8puBS7dudqMwy7Q9/ZPA0jqRku84Qq1iE9HMLMffVLMS+43Y9mP+/qtgjtvrib0SHtms7HKoZZM4oph1jna4vVFWdXTE3sQ2bu2rGxoZ92Oy0ihbeTHsX2x5fXP4Hffn09zTt+dBtTPa/1n554UcmqMgFKzzzkymiota0gNljZ0lTMcnkxTwRFJEtOCEZ6kvw41hLR2QKpET8LzIz/5ommmNMn9uR78HPXhwbEwzA2wHd114MhJmCyrBvgunbIaw1p7IHx8RAHF9s9CHVMCLys45vRNGDovKnDALw5RDsOoAr9ZOPYIHA9tu6EuAGN2bcGDMGDwWW7+zi8GQNwYz+MwwaE3iRQ5w+OH9829q3ZzIzKuFjHIQ55Sgf8GEFIy7rRaaCuTZ9fE38P22mLZ4IlrKCVNAQ6y3KxM66gDbaEVFfcYG8ZJ+piwdKkRHiq3ek+BWcFKGF6AQjR6jyykj4brqfMzs1oU5dMDf4C2+n+qLIOKjAjsIfEWw2z4AEqhjkUFfFKY+G89RdTn2CipkImudSWwv6ISIrkB7XVeYR+sbj/D/0fpTt1knMXBFSBiqy7ktBU3kHtMNUmaJyPwCfQXRNUnupOMWPLqUYoJ4ieQ1bWs9H9h5st+JbgF9+dCv+6dVmmfdfHP4P/t9YTFHEEUwstExXkWuYzjZEAGVNcU4N5KS5vAsWqXIN9RAjVyzFGCJ2jfgZZWM/GhMd3HFnlSClewSofzpBXSkCthIGqwr50TCl+wR8JwhRF5do72CzoB0SStQdxXSJ2HplZz0b0b5hEGH917F3FtVOCQJp9gNwbmnuPUdDwUuWgBczsBWPPMUNi7SJkUXdBciwoUqd6f4qsrGfkAJJfb4DMu/DYC+jV9C/tPM/p5wFiLqxlhNhswQVLQPC179BjCawIYXxt9UcDPkUW1jMyQH/Zgbu/AW0lKDA=', 'file_directory': '/Users/jorgep/Documents/ask_public_own/ai-starter-kit-temp/multimodal_knowledge_retriever/data/sample_docs', 'filename': 'invoicesample.pdf', 'type': 'text'}, page_content='THANK YOU\\n\\n* Lorem ipsum dolor sit amet, consectetur adipiscing elit. Aliquam sodales dapibus fermentum. Nunc adipiscing, magna sed scelerisque cursus, erat lectus dapibus urna, sed facilisis leo dui et ipsum.\\n\\nSubtotal | Total\\n\\nSubtotal\\n\\nGST (10%)\\n\\nTotal\\n\\n$36.00\\n\\n$3.60\\n\\n$39.60'),\n",
       "  Document(metadata={'filetype': 'application/pdf', 'languages': ['eng'], 'last_modified': '2024-09-09T08:43:38', 'page_number': 1, 'orig_elements': 'eJy9ltuO2zYQhl9FUHvRAqbE82HviqYo9iKbFOv0ZrEQKHHkZVaWBIleZxP03UtJTpCDEyAGbMAXnt8zMvl/M6TuPqTQwBbaUHiXXiWprZ2pncOoloojzqsalSx+U5UAkMxi52i6StItBOtssLHmQ1p13eB8awOMc9zY524Xigfwm4cQFcqYiTUHee9deIgqkYJFte98G6a6uztjaCZWCeE84/er5GNMiczEFBOBVUaPCEtFVNLxeQywnXby2r+D5ra3FaT/xR8cBKiC79qiauw4Fv3QlTENZ1QyIWNC7RsIzz3Mta9fpvOC283ObuZd3aXQbtL7WR1Dse2crz3MnlFMOcImftZYX3F2xfRU3cfKot1tSxim3U6LCPBu8iP9Y73+62Z9/eomWb+aUj/+79qHZl7u11hKimvNsELasIildhTpUjhEOGFMayqlK8+GhSiRqei6wBmZXV9iKUTGplgTPmH6Ol7yT4OimfwOE7+dbO3tvNY0fzPCMOZvu2EDff6iq3aTaWNux8ei35WNr4pu3+bWozHYIcCAHn1AcTF9vt01wUeMtike227fgIvPHSAMHp5gyCcX89Fu+wYK11Vj7tunzlewSHntN7sBEEEke9tvztosnzfI9bT7Yw2iK6VLShQitYkNYkSFLOEMldxwCYxITMT5GiQ+fOoIRtnSAZ8EKTM9C4zLzBwT5pJTJ5diceHJfQFt+5z8vWvt3rafk7mxw2CDf4L1lHmEECW1roxSyBArEcdGI+2oQiB5xQWzgmF5TkI6I6uEy2jbgdAsCMYPyBgV09R+IywlpxFimppLn62UkuSfHUCb3IbkJTRltxtaSP69/jNhGOOfYmYcCGVBIka0Q7wEhjTHGClRY05rZqAkZ2MmaYZXiaJmueuWUEcoar4bo06/jZf0E+fJCHphWISy5Lbbwv4BBojAVkeIJb9h9nsSM3kipNI/BbAiNa5rWiOiaASouEE63pjIaVPJ0gml+BmPRSLUdMZJrQ+H3kFQhmV4FriSGTsiLCU/xHhJTL8yk8kvRudNW0V/Nt3g34P7nvuMRX9LF28hERHwOk6OZjVDlgMVwlbxPHRncz++fcQ8Q6Ljk7OHUJDl/OOKZfxIPKefNj5cxQvpwmCul5eS5Gb+9Sr5hWLCMMP8B1Ny/z9IhXzn', 'file_directory': '/Users/jorgep/Documents/ask_public_own/ai-starter-kit-temp/multimodal_knowledge_retriever/data/sample_docs', 'filename': 'invoicesample.pdf', 'type': 'text'}, page_content='ATTENTION TO\\n\\nDenny Gunawan\\n\\n221 Queen St Melbourne VIC 3000\\n\\n123 Somewhere St, Melbourne VIC 3000 (03) 1234 5678\\n\\n$39.60\\n\\nInvoice Number: #20130304')]}"
      ]
     },
     "execution_count": 27,
     "metadata": {},
     "output_type": "execute_result"
    }
   ],
   "source": [
    "chain.invoke({'question': 'what is the final price in the invoice?'})"
   ]
  },
  {
   "cell_type": "code",
   "execution_count": 28,
   "metadata": {},
   "outputs": [
    {
     "data": {
      "text/plain": [
       "{'question': 'what is the logo of the company',\n",
       " 'answer': \"Based on the provided context, I can see that there is a mention of a logo for Sunny Farm, a farm located in Victoria, Australia. The description of the logo is a sun with a yellow background, placed on a white background. However, I don't see any further information about the logo in the context.\\n\\nThe second context appears to be a receipt or an invoice, with a subtotal, GST, and total amount. There is no mention of a company logo in this context.\\n\\nTherefore, I can only provide information about the logo of Sunny Farm based on the first context. The logo of Sunny Farm is a sun with a yellow background, placed on a white background.\",\n",
       " 'source_documents': [Document(metadata={'type': 'image', 'file_directory': '/Users/jorgep/Documents/ask_public_own/ai-starter-kit-temp/multimodal_knowledge_retriever/data/sample_docs/invoicesample', 'filename': 'figure-1-1.jpg'}, page_content=\"The image features a logo for Sunny Farm, a farm located in Victoria, Australia. The logo is a sun with a yellow background, and it is placed on a white background. The sun is positioned in the middle of the logo, with the rays extending outwards. The logo is likely used to represent the farm's fresh produce and commitment to quality.\"),\n",
       "  Document(metadata={'filetype': 'application/pdf', 'languages': ['eng'], 'last_modified': '2024-09-09T08:43:38', 'page_number': 1, 'orig_elements': 'eJzNVluL3DYY/SvCNNCWkdDd0r7lqYW228BOHsqyDLp5VuDLxJbbbNP898qXSYZmmmwKs10wGB3r2NI55/vk23dFqEMT2rSLvrgChaCKccooVLS0kGPloRFKwyAFl8wR5iktNqBoQjLeJJM57wrXdb2PrUlhmMe1eejGtLsPcX+fMkIZ05mzwn9En+4zSqRgGT10sU0T7/ZWlijPI1oQxO82YB1TXJbLWJUMqTPAyshIMTwMKTTTTl7Ft6G+ORgXivf5gQ8puBS7dudqMwy7Q9/ZPA0jqRku84Qq1iE9HMLMffVLMS+43Y9mP+/qtgjtvrib0SHtms7HKoZZM4oph1jna4vVFWdXTE3sQ2bu2rGxoZ92Oy0ihbeTHsX2x5fXP4Hffn09zTt+dBtTPa/1n554UcmqMgFKzzzkymiota0gNljZ0lTMcnkxTwRFJEtOCEZ6kvw41hLR2QKpET8LzIz/5ommmNMn9uR78HPXhwbEwzA2wHd114MhJmCyrBvgunbIaw1p7IHx8RAHF9s9CHVMCLys45vRNGDovKnDALw5RDsOoAr9ZOPYIHA9tu6EuAGN2bcGDMGDwWW7+zi8GQNwYz+MwwaE3iRQ5w+OH9829q3ZzIzKuFjHIQ55Sgf8GEFIy7rRaaCuTZ9fE38P22mLZ4IlrKCVNAQ6y3KxM66gDbaEVFfcYG8ZJ+piwdKkRHiq3ek+BWcFKGF6AQjR6jyykj4brqfMzs1oU5dMDf4C2+n+qLIOKjAjsIfEWw2z4AEqhjkUFfFKY+G89RdTn2CipkImudSWwv6ISIrkB7XVeYR+sbj/D/0fpTt1knMXBFSBiqy7ktBU3kHtMNUmaJyPwCfQXRNUnupOMWPLqUYoJ4ieQ1bWs9H9h5st+JbgF9+dCv+6dVmmfdfHP4P/t9YTFHEEUwstExXkWuYzjZEAGVNcU4N5KS5vAsWqXIN9RAjVyzFGCJ2jfgZZWM/GhMd3HFnlSClewSofzpBXSkCthIGqwr50TCl+wR8JwhRF5do72CzoB0SStQdxXSJ2HplZz0b0b5hEGH917F3FtVOCQJp9gNwbmnuPUdDwUuWgBczsBWPPMUNi7SJkUXdBciwoUqd6f4qsrGfkAJJfb4DMu/DYC+jV9C/tPM/p5wFiLqxlhNhswQVLQPC179BjCawIYXxt9UcDPkUW1jMyQH/Zgbu/AW0lKDA=', 'file_directory': '/Users/jorgep/Documents/ask_public_own/ai-starter-kit-temp/multimodal_knowledge_retriever/data/sample_docs', 'filename': 'invoicesample.pdf', 'type': 'text'}, page_content='THANK YOU\\n\\n* Lorem ipsum dolor sit amet, consectetur adipiscing elit. Aliquam sodales dapibus fermentum. Nunc adipiscing, magna sed scelerisque cursus, erat lectus dapibus urna, sed facilisis leo dui et ipsum.\\n\\nSubtotal | Total\\n\\nSubtotal\\n\\nGST (10%)\\n\\nTotal\\n\\n$36.00\\n\\n$3.60\\n\\n$39.60')]}"
      ]
     },
     "execution_count": 28,
     "metadata": {},
     "output_type": "execute_result"
    }
   ],
   "source": [
    "chain.invoke('what is the logo of the company')"
   ]
  },
  {
   "cell_type": "markdown",
   "metadata": {},
   "source": [
    "## Retrieval with raw text, raw tables and raw images"
   ]
  },
  {
   "cell_type": "code",
   "execution_count": 39,
   "metadata": {},
   "outputs": [],
   "source": [
    "query = 'what is the logo of the company?'"
   ]
  },
  {
   "cell_type": "code",
   "execution_count": 40,
   "metadata": {},
   "outputs": [
    {
     "data": {
      "text/plain": [
       "[Document(metadata={'type': 'image', 'file_directory': '/Users/jorgep/Documents/ask_public_own/ai-starter-kit-temp/multimodal_knowledge_retriever/data/sample_docs/invoicesample', 'filename': 'figure-1-1.jpg'}, page_content=\"The image features a logo for Sunny Farm, a farm located in Victoria, Australia. The logo is a sun with a yellow background, and it is placed on a white background. The sun is positioned in the middle of the logo, with the rays extending outwards. The logo is likely used to represent the farm's fresh produce and commitment to quality.\"),\n",
       " Document(metadata={'filetype': 'application/pdf', 'languages': ['eng'], 'last_modified': '2024-09-09T08:43:38', 'page_number': 1, 'orig_elements': 'eJzNVluL3DYY/SvCNNCWkdDd0r7lqYW228BOHsqyDLp5VuDLxJbbbNP898qXSYZmmmwKs10wGB3r2NI55/vk23dFqEMT2rSLvrgChaCKccooVLS0kGPloRFKwyAFl8wR5iktNqBoQjLeJJM57wrXdb2PrUlhmMe1eejGtLsPcX+fMkIZ05mzwn9En+4zSqRgGT10sU0T7/ZWlijPI1oQxO82YB1TXJbLWJUMqTPAyshIMTwMKTTTTl7Ft6G+ORgXivf5gQ8puBS7dudqMwy7Q9/ZPA0jqRku84Qq1iE9HMLMffVLMS+43Y9mP+/qtgjtvrib0SHtms7HKoZZM4oph1jna4vVFWdXTE3sQ2bu2rGxoZ92Oy0ihbeTHsX2x5fXP4Hffn09zTt+dBtTPa/1n554UcmqMgFKzzzkymiota0gNljZ0lTMcnkxTwRFJEtOCEZ6kvw41hLR2QKpET8LzIz/5ommmNMn9uR78HPXhwbEwzA2wHd114MhJmCyrBvgunbIaw1p7IHx8RAHF9s9CHVMCLys45vRNGDovKnDALw5RDsOoAr9ZOPYIHA9tu6EuAGN2bcGDMGDwWW7+zi8GQNwYz+MwwaE3iRQ5w+OH9829q3ZzIzKuFjHIQ55Sgf8GEFIy7rRaaCuTZ9fE38P22mLZ4IlrKCVNAQ6y3KxM66gDbaEVFfcYG8ZJ+piwdKkRHiq3ek+BWcFKGF6AQjR6jyykj4brqfMzs1oU5dMDf4C2+n+qLIOKjAjsIfEWw2z4AEqhjkUFfFKY+G89RdTn2CipkImudSWwv6ISIrkB7XVeYR+sbj/D/0fpTt1knMXBFSBiqy7ktBU3kHtMNUmaJyPwCfQXRNUnupOMWPLqUYoJ4ieQ1bWs9H9h5st+JbgF9+dCv+6dVmmfdfHP4P/t9YTFHEEUwstExXkWuYzjZEAGVNcU4N5KS5vAsWqXIN9RAjVyzFGCJ2jfgZZWM/GhMd3HFnlSClewSofzpBXSkCthIGqwr50TCl+wR8JwhRF5do72CzoB0SStQdxXSJ2HplZz0b0b5hEGH917F3FtVOCQJp9gNwbmnuPUdDwUuWgBczsBWPPMUNi7SJkUXdBciwoUqd6f4qsrGfkAJJfb4DMu/DYC+jV9C/tPM/p5wFiLqxlhNhswQVLQPC179BjCawIYXxt9UcDPkUW1jMyQH/Zgbu/AW0lKDA=', 'file_directory': '/Users/jorgep/Documents/ask_public_own/ai-starter-kit-temp/multimodal_knowledge_retriever/data/sample_docs', 'filename': 'invoicesample.pdf', 'type': 'text'}, page_content='THANK YOU\\n\\n* Lorem ipsum dolor sit amet, consectetur adipiscing elit. Aliquam sodales dapibus fermentum. Nunc adipiscing, magna sed scelerisque cursus, erat lectus dapibus urna, sed facilisis leo dui et ipsum.\\n\\nSubtotal | Total\\n\\nSubtotal\\n\\nGST (10%)\\n\\nTotal\\n\\n$36.00\\n\\n$3.60\\n\\n$39.60')]"
      ]
     },
     "execution_count": 40,
     "metadata": {},
     "output_type": "execute_result"
    }
   ],
   "source": [
    "retriever.invoke(query)"
   ]
  },
  {
   "cell_type": "code",
   "execution_count": 41,
   "metadata": {},
   "outputs": [
    {
     "data": {
      "text/plain": [
       "{'question': 'what is the logo of the company?',\n",
       " 'answer': 'Based on the provided context, I can see that there are two separate pieces of information. The first context describes a logo for Sunny Farm, a farm located in Victoria, Australia. The logo features a sun with a yellow background on a white background.\\n\\nThe second context appears to be a receipt or an invoice with a subtotal, GST, and total amount. There is no mention of a company logo in this context.\\n\\nTherefore, I can answer your question based on the first context. The logo of the company is a sun with a yellow background on a white background.',\n",
       " 'source_documents': [Document(metadata={'type': 'image', 'file_directory': '/Users/jorgep/Documents/ask_public_own/ai-starter-kit-temp/multimodal_knowledge_retriever/data/sample_docs/invoicesample', 'filename': 'figure-1-1.jpg'}, page_content=\"The image features a logo for Sunny Farm, a farm located in Victoria, Australia. The logo is a sun with a yellow background, and it is placed on a white background. The sun is positioned in the middle of the logo, with the rays extending outwards. The logo is likely used to represent the farm's fresh produce and commitment to quality.\"),\n",
       "  Document(metadata={'filetype': 'application/pdf', 'languages': ['eng'], 'last_modified': '2024-09-09T08:43:38', 'page_number': 1, 'orig_elements': 'eJzNVluL3DYY/SvCNNCWkdDd0r7lqYW228BOHsqyDLp5VuDLxJbbbNP898qXSYZmmmwKs10wGB3r2NI55/vk23dFqEMT2rSLvrgChaCKccooVLS0kGPloRFKwyAFl8wR5iktNqBoQjLeJJM57wrXdb2PrUlhmMe1eejGtLsPcX+fMkIZ05mzwn9En+4zSqRgGT10sU0T7/ZWlijPI1oQxO82YB1TXJbLWJUMqTPAyshIMTwMKTTTTl7Ft6G+ORgXivf5gQ8puBS7dudqMwy7Q9/ZPA0jqRku84Qq1iE9HMLMffVLMS+43Y9mP+/qtgjtvrib0SHtms7HKoZZM4oph1jna4vVFWdXTE3sQ2bu2rGxoZ92Oy0ihbeTHsX2x5fXP4Hffn09zTt+dBtTPa/1n554UcmqMgFKzzzkymiota0gNljZ0lTMcnkxTwRFJEtOCEZ6kvw41hLR2QKpET8LzIz/5ommmNMn9uR78HPXhwbEwzA2wHd114MhJmCyrBvgunbIaw1p7IHx8RAHF9s9CHVMCLys45vRNGDovKnDALw5RDsOoAr9ZOPYIHA9tu6EuAGN2bcGDMGDwWW7+zi8GQNwYz+MwwaE3iRQ5w+OH9829q3ZzIzKuFjHIQ55Sgf8GEFIy7rRaaCuTZ9fE38P22mLZ4IlrKCVNAQ6y3KxM66gDbaEVFfcYG8ZJ+piwdKkRHiq3ek+BWcFKGF6AQjR6jyykj4brqfMzs1oU5dMDf4C2+n+qLIOKjAjsIfEWw2z4AEqhjkUFfFKY+G89RdTn2CipkImudSWwv6ISIrkB7XVeYR+sbj/D/0fpTt1knMXBFSBiqy7ktBU3kHtMNUmaJyPwCfQXRNUnupOMWPLqUYoJ4ieQ1bWs9H9h5st+JbgF9+dCv+6dVmmfdfHP4P/t9YTFHEEUwstExXkWuYzjZEAGVNcU4N5KS5vAsWqXIN9RAjVyzFGCJ2jfgZZWM/GhMd3HFnlSClewSofzpBXSkCthIGqwr50TCl+wR8JwhRF5do72CzoB0SStQdxXSJ2HplZz0b0b5hEGH917F3FtVOCQJp9gNwbmnuPUdDwUuWgBczsBWPPMUNi7SJkUXdBciwoUqd6f4qsrGfkAJJfb4DMu/DYC+jV9C/tPM/p5wFiLqxlhNhswQVLQPC179BjCawIYXxt9UcDPkUW1jMyQH/Zgbu/AW0lKDA=', 'file_directory': '/Users/jorgep/Documents/ask_public_own/ai-starter-kit-temp/multimodal_knowledge_retriever/data/sample_docs', 'filename': 'invoicesample.pdf', 'type': 'text'}, page_content='THANK YOU\\n\\n* Lorem ipsum dolor sit amet, consectetur adipiscing elit. Aliquam sodales dapibus fermentum. Nunc adipiscing, magna sed scelerisque cursus, erat lectus dapibus urna, sed facilisis leo dui et ipsum.\\n\\nSubtotal | Total\\n\\nSubtotal\\n\\nGST (10%)\\n\\nTotal\\n\\n$36.00\\n\\n$3.60\\n\\n$39.60')]}"
      ]
     },
     "execution_count": 41,
     "metadata": {},
     "output_type": "execute_result"
    }
   ],
   "source": [
    "chain.invoke({'question': query})"
   ]
  },
  {
   "cell_type": "markdown",
   "metadata": {},
   "source": [
    "### filter image results"
   ]
  },
  {
   "cell_type": "code",
   "execution_count": 42,
   "metadata": {},
   "outputs": [],
   "source": [
    "def get_retrieved_images(retriever, query):\n",
    "    results = retriever.invoke(query)\n",
    "    results = [result for result in results if result.metadata['type'] == 'image']\n",
    "    return results"
   ]
  },
  {
   "cell_type": "code",
   "execution_count": 43,
   "metadata": {},
   "outputs": [
    {
     "data": {
      "text/plain": [
       "[Document(metadata={'type': 'image', 'file_directory': '/Users/jorgep/Documents/ask_public_own/ai-starter-kit-temp/multimodal_knowledge_retriever/data/sample_docs/invoicesample', 'filename': 'figure-1-1.jpg'}, page_content=\"The image features a logo for Sunny Farm, a farm located in Victoria, Australia. The logo is a sun with a yellow background, and it is placed on a white background. The sun is positioned in the middle of the logo, with the rays extending outwards. The logo is likely used to represent the farm's fresh produce and commitment to quality.\")]"
      ]
     },
     "execution_count": 43,
     "metadata": {},
     "output_type": "execute_result"
    }
   ],
   "source": [
    "retrieved_images = get_retrieved_images(retriever, query)\n",
    "retrieved_images"
   ]
  },
  {
   "cell_type": "markdown",
   "metadata": {},
   "source": [
    "### Generate response over retrieved raw images "
   ]
  },
  {
   "cell_type": "code",
   "execution_count": 44,
   "metadata": {},
   "outputs": [],
   "source": [
    "def get_image_answers(retrieved_image_docs, query):\n",
    "    image_answer_prompt_template = load_prompt(os.path.join(kit_dir, 'prompts', 'multimodal-qa.yaml'))\n",
    "    image_answer_prompt = image_answer_prompt_template.format(question=query)\n",
    "    answers = []\n",
    "    for doc in retrieved_image_docs:\n",
    "        image_path = os.path.join(doc.metadata['file_directory'], doc.metadata['filename'])\n",
    "        answers.append(lvlm.invoke(image_answer_prompt, image_path))\n",
    "    return answers"
   ]
  },
  {
   "cell_type": "code",
   "execution_count": 45,
   "metadata": {},
   "outputs": [
    {
     "data": {
      "text/plain": [
       "['The logo of the company is a sunny farm.']"
      ]
     },
     "execution_count": 45,
     "metadata": {},
     "output_type": "execute_result"
    }
   ],
   "source": [
    "image_answers = get_image_answers(retrieved_images, query)\n",
    "image_answers"
   ]
  },
  {
   "cell_type": "code",
   "execution_count": 46,
   "metadata": {},
   "outputs": [],
   "source": [
    "def get_retrieved_docs(retriever, query):\n",
    "    results = retriever.invoke(query)\n",
    "    results = [result for result in results if result.metadata['type'] != 'image']\n",
    "    return results"
   ]
  },
  {
   "cell_type": "code",
   "execution_count": 47,
   "metadata": {},
   "outputs": [
    {
     "data": {
      "text/plain": [
       "[Document(metadata={'filetype': 'application/pdf', 'languages': ['eng'], 'last_modified': '2024-09-09T08:43:38', 'page_number': 1, 'orig_elements': 'eJzNVluL3DYY/SvCNNCWkdDd0r7lqYW228BOHsqyDLp5VuDLxJbbbNP898qXSYZmmmwKs10wGB3r2NI55/vk23dFqEMT2rSLvrgChaCKccooVLS0kGPloRFKwyAFl8wR5iktNqBoQjLeJJM57wrXdb2PrUlhmMe1eejGtLsPcX+fMkIZ05mzwn9En+4zSqRgGT10sU0T7/ZWlijPI1oQxO82YB1TXJbLWJUMqTPAyshIMTwMKTTTTl7Ft6G+ORgXivf5gQ8puBS7dudqMwy7Q9/ZPA0jqRku84Qq1iE9HMLMffVLMS+43Y9mP+/qtgjtvrib0SHtms7HKoZZM4oph1jna4vVFWdXTE3sQ2bu2rGxoZ92Oy0ihbeTHsX2x5fXP4Hffn09zTt+dBtTPa/1n554UcmqMgFKzzzkymiota0gNljZ0lTMcnkxTwRFJEtOCEZ6kvw41hLR2QKpET8LzIz/5ommmNMn9uR78HPXhwbEwzA2wHd114MhJmCyrBvgunbIaw1p7IHx8RAHF9s9CHVMCLys45vRNGDovKnDALw5RDsOoAr9ZOPYIHA9tu6EuAGN2bcGDMGDwWW7+zi8GQNwYz+MwwaE3iRQ5w+OH9829q3ZzIzKuFjHIQ55Sgf8GEFIy7rRaaCuTZ9fE38P22mLZ4IlrKCVNAQ6y3KxM66gDbaEVFfcYG8ZJ+piwdKkRHiq3ek+BWcFKGF6AQjR6jyykj4brqfMzs1oU5dMDf4C2+n+qLIOKjAjsIfEWw2z4AEqhjkUFfFKY+G89RdTn2CipkImudSWwv6ISIrkB7XVeYR+sbj/D/0fpTt1knMXBFSBiqy7ktBU3kHtMNUmaJyPwCfQXRNUnupOMWPLqUYoJ4ieQ1bWs9H9h5st+JbgF9+dCv+6dVmmfdfHP4P/t9YTFHEEUwstExXkWuYzjZEAGVNcU4N5KS5vAsWqXIN9RAjVyzFGCJ2jfgZZWM/GhMd3HFnlSClewSofzpBXSkCthIGqwr50TCl+wR8JwhRF5do72CzoB0SStQdxXSJ2HplZz0b0b5hEGH917F3FtVOCQJp9gNwbmnuPUdDwUuWgBczsBWPPMUNi7SJkUXdBciwoUqd6f4qsrGfkAJJfb4DMu/DYC+jV9C/tPM/p5wFiLqxlhNhswQVLQPC179BjCawIYXxt9UcDPkUW1jMyQH/Zgbu/AW0lKDA=', 'file_directory': '/Users/jorgep/Documents/ask_public_own/ai-starter-kit-temp/multimodal_knowledge_retriever/data/sample_docs', 'filename': 'invoicesample.pdf', 'type': 'text'}, page_content='THANK YOU\\n\\n* Lorem ipsum dolor sit amet, consectetur adipiscing elit. Aliquam sodales dapibus fermentum. Nunc adipiscing, magna sed scelerisque cursus, erat lectus dapibus urna, sed facilisis leo dui et ipsum.\\n\\nSubtotal | Total\\n\\nSubtotal\\n\\nGST (10%)\\n\\nTotal\\n\\n$36.00\\n\\n$3.60\\n\\n$39.60')]"
      ]
     },
     "execution_count": 47,
     "metadata": {},
     "output_type": "execute_result"
    }
   ],
   "source": [
    "context_docs = get_retrieved_docs(retriever, query)\n",
    "context_docs"
   ]
  },
  {
   "cell_type": "code",
   "execution_count": 48,
   "metadata": {},
   "outputs": [
    {
     "data": {
      "text/plain": [
       "'Based on the provided context, I can tell you that the logo of the company is a sunny farm.'"
      ]
     },
     "execution_count": 48,
     "metadata": {},
     "output_type": "execute_result"
    }
   ],
   "source": [
    "prompt = load_prompt(os.path.join(kit_dir, 'prompts', 'llama70b-knowledge_retriever_custom_qa_prompt.yaml'))\n",
    "text_contexts = [doc.page_content for doc in context_docs]\n",
    "full_context = '\\n\\n'.join(image_answers) + '\\n\\n' + '\\n\\n'.join(text_contexts)\n",
    "formated_prompt = prompt.format(context=full_context, question=query)\n",
    "formated_prompt\n",
    "model.invoke(formated_prompt)"
   ]
  },
  {
   "cell_type": "markdown",
   "metadata": {},
   "source": [
    "This example workflow is consolidated in the provided [multimodal rag src module](../src/multimodal.py) to see an usage example please refer to the [multimodal rag notebook](./3_multimodal_rag_usage.ipynb) "
   ]
  },
  {
   "cell_type": "markdown",
   "metadata": {},
   "source": []
  }
 ],
 "metadata": {
  "kernelspec": {
   "display_name": "multimodalenv",
   "language": "python",
   "name": "python3"
  },
  "language_info": {
   "codemirror_mode": {
    "name": "ipython",
    "version": 3
   },
   "file_extension": ".py",
   "mimetype": "text/x-python",
   "name": "python",
   "nbconvert_exporter": "python",
   "pygments_lexer": "ipython3",
   "version": "3.11.3"
  }
 },
 "nbformat": 4,
 "nbformat_minor": 2
}
