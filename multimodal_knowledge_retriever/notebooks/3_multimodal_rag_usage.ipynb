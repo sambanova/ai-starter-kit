{
 "cells": [
  {
   "cell_type": "markdown",
   "metadata": {},
   "source": [
    "# Multimodal RAG usage\n",
    "\n",
    "This notebooks, goes over the usage of the provided [multimodal rag src module](../src/multimodal.py) amd some query examples, to understand the details of the implementation please refer to the [multimodal rag notebook](./2_multimodal_rag.ipynb) "
   ]
  },
  {
   "cell_type": "code",
   "execution_count": 16,
   "metadata": {},
   "outputs": [],
   "source": [
    "import os\n",
    "import sys\n",
    "\n",
    "current_dir = os.getcwd()\n",
    "kit_dir = os.path.abspath(os.path.join(current_dir, \"..\"))\n",
    "repo_dir = os.path.abspath(os.path.join(kit_dir, \"..\"))\n",
    "\n",
    "sys.path.append(kit_dir)\n",
    "sys.path.append(repo_dir)\n",
    "\n",
    "from src.multimodal_rag import MultimodalRetrieval"
   ]
  },
  {
   "cell_type": "markdown",
   "metadata": {},
   "source": [
    "## Instantiate the MultimodalRetrieval module"
   ]
  },
  {
   "cell_type": "code",
   "execution_count": 2,
   "metadata": {},
   "outputs": [],
   "source": [
    "multimodal = MultimodalRetrieval()"
   ]
  },
  {
   "cell_type": "markdown",
   "metadata": {},
   "source": [
    "## Parse input document"
   ]
  },
  {
   "cell_type": "code",
   "execution_count": null,
   "metadata": {},
   "outputs": [],
   "source": [
    "filepath = os.path.join(kit_dir,\"data/sample_docs/invoicesample.pdf\")\n",
    "raw_pdf_elements, output_path = multimodal.extract_pdf(filepath)"
   ]
  },
  {
   "cell_type": "markdown",
   "metadata": {},
   "source": [
    "## Process parsing outputs"
   ]
  },
  {
   "cell_type": "code",
   "execution_count": 4,
   "metadata": {},
   "outputs": [],
   "source": [
    "text_docs, table_docs, image_paths = multimodal.process_raw_elements(raw_pdf_elements, output_path)"
   ]
  },
  {
   "cell_type": "markdown",
   "metadata": {},
   "source": [
    "## Create a vectorstore"
   ]
  },
  {
   "cell_type": "code",
   "execution_count": 5,
   "metadata": {},
   "outputs": [
    {
     "name": "stderr",
     "output_type": "stream",
     "text": [
      "2024-09-23 16:23:22,519 [INFO] - Load pretrained SentenceTransformer: intfloat/e5-large-v2\n"
     ]
    },
    {
     "name": "stdout",
     "output_type": "stream",
     "text": [
      "load INSTRUCTOR_Transformer\n"
     ]
    },
    {
     "name": "stderr",
     "output_type": "stream",
     "text": [
      "2024-09-23 16:23:25,351 [INFO] - Use pytorch device: cpu\n"
     ]
    },
    {
     "name": "stdout",
     "output_type": "stream",
     "text": [
      "max_seq_length  512\n"
     ]
    },
    {
     "name": "stderr",
     "output_type": "stream",
     "text": [
      "/Users/jorgep/Documents/ask_public_own/ai-starter-kit/multimodal_knowledge_retriever/src/multimodal_rag.py:236: LangChainDeprecationWarning: The class `Chroma` was deprecated in LangChain 0.2.9 and will be removed in 1.0. An updated version of the class exists in the langchain-chroma package and should be used instead. To use it run `pip install -U langchain-chroma` and import as `from langchain_chroma import Chroma`.\n",
      "  vectorstore = Chroma(\n"
     ]
    }
   ],
   "source": [
    "retriever = multimodal.create_vectorstore()"
   ]
  },
  {
   "cell_type": "code",
   "execution_count": 6,
   "metadata": {},
   "outputs": [],
   "source": [
    "retriever = multimodal.vectorstore_ingest(retriever, text_docs, table_docs, image_paths, summarize_texts=True, summarize_tables=True)"
   ]
  },
  {
   "cell_type": "markdown",
   "metadata": {},
   "source": [
    "## Using summaries of images to get a final response"
   ]
  },
  {
   "cell_type": "code",
   "execution_count": 7,
   "metadata": {},
   "outputs": [],
   "source": [
    "qachain = multimodal.get_retrieval_chain(retriever, image_retrieval_type=\"summary\")"
   ]
  },
  {
   "cell_type": "code",
   "execution_count": 8,
   "metadata": {},
   "outputs": [
    {
     "data": {
      "text/plain": [
       "{'question': 'how many apples they bought',\n",
       " 'answer': '\\n\\nAccording to the provided context, they bought 1 apple.',\n",
       " 'source_documents': [Document(metadata={'filetype': 'application/pdf', 'languages': ['eng'], 'last_modified': '2024-09-09T08:43:38', 'page_number': 1, 'orig_elements': 'eJzNV1uL3DYY/SvCtNCWkdHNuuxbnlpouw1k8lCWZdHl06zAY09suc02zX+v7PEmSzNtNoXZLgwYndGxpXO+78i+eldBC3vo8k0K1QWqGho0815jAoRhEV2DjYoSA+Miek5BAq02qNpDtsFmWzjvKt/3Q0idzTAu49be9VO+uYW0u80FYZybwlnh31PItwWlsuEFPfSpyzPv6kqqusyjpqG1uN6gdcyIUsexVrzWJ4CVUZBqvBsz7OedvExvoX11sB6q9+WPABl8Tn1341s7jjeHoXdlGqml4USVCTG1kO8OsHBf/lwtC+52k90tu7qqoNtV1ws65pt9H1JMsGjGCBOYmPLbEn0h+AXXM/tQmDfdtHcwzLudF5Hh7axHtf3hxeWP6NdfXs/z7h+6Tbld1vp3TwRRoXGiwZYFgUUxAVsSAibEKaU1UEf42TxpWE2L5JSS2syS34+NrNligTS1OAksjP/miWFEsCf25Dv0Uz/AHqXDOO1R6Nt+QGPKyBZZN8j33VjWCnkakA3pkEafuh2CNuUavWjTm8nu0dgH28KIgj0kN40owjDbOO1rdDl1/gFxg/Z211k0QkCjL3YPaXwzAfLTME7jBsFgM2rLA6ePd5uGzm4WRrQ+tWlMY5nSozAlBPm47vphQV3aodwm/QbbeYsnCosqp6kQDCtnSmERJ7BphMcsisY445k5Y7Mbqmoy9+58nQtnBRjl5ghQavRpZCX9a3E9Ze28mlzus23Rn2g7Xx/X1o6YQCGUgBUSC3AMaxoNbgINLkYiufdnU58SqudGpqXVjo39EZGslh/U1qcR9tnm/j/0f5TuRkYN0RfJbYhFd8axE9BgZqkyURCwvnkC3Q2t1UPdGeH8eKpRJmjNTiEr69no/v2rLfqGkq+/fSj8684XmXb9kP6A8E/RIzUBiJxhb4TGggqHXWMNll5EZY3jJMazm8CIVmth3yOUmeMxRilbSv0EcmQ9GxMenzjlaOZUGIuZ0QoLJcuLhHIeN8y5pgnRxsjOJzrXrFZrdvBF0A+IpGsGCaNqfhpZWM9G9K+4rAn54rJ3xHIlpcc2lrgXpjSAtcpi4SwIqxsPEc7ngCC8btYUoUd1j0hJGlbrh3p/iqysZ+RALb/cgKi1lVFqTHnDywnANTaGlM8dGWRJJCm8DGdsgUasucPuW2BFKBdr1N8b8ClyZD0jA8znHbj+C8PyKoQ=', 'file_directory': '/Users/jorgep/Documents/ask_public_own/ai-starter-kit/multimodal_knowledge_retriever/data/sample_docs', 'filename': 'invoicesample.pdf', 'type': 'text'}, page_content='THANK YOU\\n\\n* Lorem ipsum dolor sit amet, consectetur adipiscing elit. Aliquam sodales dapibus fermentum. Nunc adipiscing, magna sed scelerisque cursus, erat lectus dapibus urna, sed facilisis leo dui et ipsum.\\n\\nSubtotal | Total\\n\\nSubtotal\\n\\nGST (10%)\\n\\nTotal\\n\\n$36.00\\n\\n$3.60\\n\\n$39.60'),\n",
       "  Document(metadata={'last_modified': '2024-09-09T08:43:38', 'text_as_html': '<table><tr><td>Apple</td><td>$5.00</td><td>1</td><td>$5.00</td></tr><tr><td>Orange</td><td>$1.99</td><td>2</td><td>$3.98</td></tr><tr><td>Watermelon</td><td>$1.69</td><td>3</td><td>$5.07</td></tr><tr><td>Mango</td><td>$9.56</td><td>2</td><td>$19.12</td></tr><tr><td>Peach</td><td>$2.99</td><td>1</td><td>$2.99</td></tr></table>', 'table_as_cells': [{'x': 0, 'y': 0, 'w': 1, 'h': 1, 'content': 'Apple'}, {'x': 0, 'y': 1, 'w': 1, 'h': 1, 'content': 'Orange'}, {'x': 0, 'y': 2, 'w': 1, 'h': 1, 'content': 'Watermelon'}, {'x': 0, 'y': 3, 'w': 1, 'h': 1, 'content': 'Mango'}, {'x': 0, 'y': 4, 'w': 1, 'h': 1, 'content': 'Peach'}, {'x': 1, 'y': 0, 'w': 1, 'h': 1, 'content': '$5.00'}, {'x': 1, 'y': 1, 'w': 1, 'h': 1, 'content': '$1.99'}, {'x': 1, 'y': 2, 'w': 1, 'h': 1, 'content': '$1.69'}, {'x': 1, 'y': 3, 'w': 1, 'h': 1, 'content': '$9.56'}, {'x': 1, 'y': 4, 'w': 1, 'h': 1, 'content': '$2.99'}, {'x': 2, 'y': 0, 'w': 1, 'h': 1, 'content': '1'}, {'x': 2, 'y': 1, 'w': 1, 'h': 1, 'content': '2'}, {'x': 2, 'y': 2, 'w': 1, 'h': 1, 'content': '3'}, {'x': 2, 'y': 3, 'w': 1, 'h': 1, 'content': '2'}, {'x': 2, 'y': 4, 'w': 1, 'h': 1, 'content': '1'}, {'x': 3, 'y': 0, 'w': 1, 'h': 1, 'content': '$5.00'}, {'x': 3, 'y': 1, 'w': 1, 'h': 1, 'content': '$3.98'}, {'x': 3, 'y': 2, 'w': 1, 'h': 1, 'content': '$5.07'}, {'x': 3, 'y': 3, 'w': 1, 'h': 1, 'content': '$19.12'}, {'x': 3, 'y': 4, 'w': 1, 'h': 1, 'content': '$2.99'}], 'filetype': 'application/pdf', 'languages': ['eng'], 'page_number': 1, 'orig_elements': 'eJyVld9r2zAQx/8VYfKwQeNYVmzHpRT2uIeyjA72EIqR7Ysj6l/YCm0o/d93uqR1G8fTBgnKne8j3X1zPm1eHCihglonKneumZOlPM3SPJwDF8F8Gft8HudRMJdRDnG0TLeht3WumFOBlrnUEpkXJ2uaLle11NCTXcpDs9fJDlSx0+jxhYiRObmfVK536OVhINDbNqrWhttsuBe7wRWL48hdPVyxN5tjGq5HjkAId3nJc2TQ4/SHXkNlalmrZyjvW5mB84oPctCQadXUSVbKvk/arkkxzHNDEfj4fKtK0IcWCF3fOZRxXexlQWVtHKgL54G8vU6qJldbBSSa7/nLuRfj55e3ul6Ka7EydItkUu+rFDpTLnq0TEtIZJ9kUJa0qRGv1qi/2edb25ZgyN0p/um0Pps8cT2YFWv5RP3oMEsrxs+x3/h3dRWUTW1D/XP0Dg9sbJQ4p9Ygs52NWp5Ts8D1vCmKT2ky424c26iRJEiFVmqkxgybNLRRIzVm/j9kOFKDTxH+lBK+jRipIGzESAHrGaPqrXX8Xx+IyT4QbryyUeM+wLMiGzXuAx67fFIKMSXFXxtBvMthBo+GZ22mx05XpUFvaJ7c3ugOv/ktjY+bBf4yFgn2bvFL/gWBR/g4RYYo8wK9W/7gN4KO6WGYfNwhHHYQn86PxjvQTBmCzDt16XjSeEzTbBmi/I/J80t+ghdH/eh2MNoep2kha5Wx73iJ9GzdqQwWjwUjbRlpx45SMZKIDZUzqphRIYwKYJQWo2PZz72stdKHL4/FV3a/T3WjZcn4aU+fkbJMkB0Zm0o1AW8N8nY5/TJZO68PfwB7VwYC', 'file_directory': '/Users/jorgep/Documents/ask_public_own/ai-starter-kit/multimodal_knowledge_retriever/data/sample_docs', 'filename': 'invoicesample.pdf', 'type': 'table'}, page_content='<table><tr><td>Apple</td><td>$5.00</td><td>1</td><td>$5.00</td></tr><tr><td>Orange</td><td>$1.99</td><td>2</td><td>$3.98</td></tr><tr><td>Watermelon</td><td>$1.69</td><td>3</td><td>$5.07</td></tr><tr><td>Mango</td><td>$9.56</td><td>2</td><td>$19.12</td></tr><tr><td>Peach</td><td>$2.99</td><td>1</td><td>$2.99</td></tr></table>'),\n",
       "  Document(metadata={'filetype': 'application/pdf', 'languages': ['eng'], 'last_modified': '2024-09-09T08:43:38', 'page_number': 1, 'orig_elements': 'eJy9lttu3DYQhl9FUHvRAkuJZ5G+K5qi8EWcFN70xjAEShytGesEifLGCfrupaRNkMMmQBbYBXQzv2Yk8v84JO8+xFBDA63PnY2volhSbnhFAHEpDOI0o0iXBUGYS4DCVszqMt5EcQPeWONNqPkQl103WNcaD+MS1+a5m3z+AG734INCGdOh5iDvnfUPQSVSsKD2nWv9XHd3pzVNxCYinCf8fhN9jCmRiZhjInCW0CPCWhGUeHwePTTzTF67d1Df9qaE+L/wwoKH0ruuzcvajGPeD10R0nBCJRMyJFSuBv/cw1L7+mW8DLjdTWa3zOouhnYX3y/q6POms65ysHhGMeUI6/Bssbri7IqpuboPlXk7NQUM82znQXh4N/sR/7Hd/nWzvX51E21fzakf/7t1vl6G+zUWTWhRZaBQBUwhDjhgkWCRNEZRYyqsDDsbFpKJJAuuC5yQxfU1lkIkbI4V4TOmr+M1/zQoisnvMHHNbGtvlrHG6ZsRhjF92w076NMXXTnNpo2pGR/zfipqV+bdvk2NQ6M3g4cBPTqfNlPtXSBo6vyx7fY12PDJAfzg4AmGdDYwHU3T15DbrhxT1z51roRVSiu3mwZABJHkbb876zr5fG1czxM/tjaIIdpIYIgVKrSsKARSmcwQw9QyjC1YBedbG5gsi4FRtsL/JEiZqEVgXCb6mLCUnNq0FIsLN+0LaNvn6O+pNXvTfk7mxgyD8e4JtnPmEUJAhVS0YKgSmCCuNEaa8hIxQm2ly8pWFT4nIZWQTcRlsO1AaBEE4wdkjIq5Yb8R1pLTCDFF9aW3VUpJ9M8E0Ea3PnoJddFNQwvRv9d/RqER8E8xo1LSinKNjDYZ4qWgyFimAzicKWqp5ZqfjZmkCd5EGdXrMbeGKkDJlmMx6PTbeE0/sZ+0oBeGRSiLbrsG9g8wQAC2OUIs+g2z36OQySMhM/VTADMlMISTEkkreLjOMIOMUKH9DMaQaQ2lFedrOiKyeY+TSh02vYOQaZbgReCZTNgRYS35IcZLYvqV6UR+0Tpv2jL4s+sG9x7s99yXRoNRDILnZbhMmnCFVAWniIY5cEEUrtT53A8Xj5CnSXB8dvYQCrLufzxjCT8SL+mntQ/PwoF0YTDX66UkulneXkW/UEwYZpj/oEvu/wdaJHy5', 'file_directory': '/Users/jorgep/Documents/ask_public_own/ai-starter-kit/multimodal_knowledge_retriever/data/sample_docs', 'filename': 'invoicesample.pdf', 'type': 'text'}, page_content='ATTENTION TO\\n\\nDenny Gunawan\\n\\n221 Queen St Melbourne VIC 3000\\n\\n123 Somewhere St, Melbourne VIC 3000 (03) 1234 5678\\n\\n$39.60\\n\\nInvoice Number: #20130304'),\n",
       "  Document(metadata={'type': 'image', 'file_directory': '/Users/jorgep/Documents/ask_public_own/ai-starter-kit/multimodal_knowledge_retriever/data/sample_docs/invoicesample', 'filename': 'figure-1-1.jpg'}, page_content='The image features a logo for Sunny Farm, a company that specializes in fresh produce. The logo is a gold and yellow color scheme, with a sun in the center. The sun is surrounded by a green field, giving the impression of a sunny day. The logo is placed on a white background, making it stand out.')]}"
      ]
     },
     "execution_count": 8,
     "metadata": {},
     "output_type": "execute_result"
    }
   ],
   "source": [
    "qachain(\"how many apples they bought\")"
   ]
  },
  {
   "cell_type": "code",
   "execution_count": 9,
   "metadata": {},
   "outputs": [
    {
     "data": {
      "text/plain": [
       "{'question': 'whats the address of the store',\n",
       " 'answer': '\\n\\nAccording to the provided context, the address of the store is 123 Somewhere St, Melbourne VIC 3000.',\n",
       " 'source_documents': [Document(metadata={'filetype': 'application/pdf', 'languages': ['eng'], 'last_modified': '2024-09-09T08:43:38', 'page_number': 1, 'orig_elements': 'eJzNV1uL3DYY/SvCtNCWkdHNuuxbnlpouw1k8lCWZdHl06zAY09suc02zX+v7PEmSzNtNoXZLgwYndGxpXO+78i+eldBC3vo8k0K1QWqGho0815jAoRhEV2DjYoSA+Miek5BAq02qNpDtsFmWzjvKt/3Q0idzTAu49be9VO+uYW0u80FYZybwlnh31PItwWlsuEFPfSpyzPv6kqqusyjpqG1uN6gdcyIUsexVrzWJ4CVUZBqvBsz7OedvExvoX11sB6q9+WPABl8Tn1341s7jjeHoXdlGqml4USVCTG1kO8OsHBf/lwtC+52k90tu7qqoNtV1ws65pt9H1JMsGjGCBOYmPLbEn0h+AXXM/tQmDfdtHcwzLudF5Hh7axHtf3hxeWP6NdfXs/z7h+6Tbld1vp3TwRRoXGiwZYFgUUxAVsSAibEKaU1UEf42TxpWE2L5JSS2syS34+NrNligTS1OAksjP/miWFEsCf25Dv0Uz/AHqXDOO1R6Nt+QGPKyBZZN8j33VjWCnkakA3pkEafuh2CNuUavWjTm8nu0dgH28KIgj0kN40owjDbOO1rdDl1/gFxg/Z211k0QkCjL3YPaXwzAfLTME7jBsFgM2rLA6ePd5uGzm4WRrQ+tWlMY5nSozAlBPm47vphQV3aodwm/QbbeYsnCosqp6kQDCtnSmERJ7BphMcsisY445k5Y7Mbqmoy9+58nQtnBRjl5ghQavRpZCX9a3E9Ze28mlzus23Rn2g7Xx/X1o6YQCGUgBUSC3AMaxoNbgINLkYiufdnU58SqudGpqXVjo39EZGslh/U1qcR9tnm/j/0f5TuRkYN0RfJbYhFd8axE9BgZqkyURCwvnkC3Q2t1UPdGeH8eKpRJmjNTiEr69no/v2rLfqGkq+/fSj8684XmXb9kP6A8E/RIzUBiJxhb4TGggqHXWMNll5EZY3jJMazm8CIVmth3yOUmeMxRilbSv0EcmQ9GxMenzjlaOZUGIuZ0QoLJcuLhHIeN8y5pgnRxsjOJzrXrFZrdvBF0A+IpGsGCaNqfhpZWM9G9K+4rAn54rJ3xHIlpcc2lrgXpjSAtcpi4SwIqxsPEc7ngCC8btYUoUd1j0hJGlbrh3p/iqysZ+RALb/cgKi1lVFqTHnDywnANTaGlM8dGWRJJCm8DGdsgUasucPuW2BFKBdr1N8b8ClyZD0jA8znHbj+C8PyKoQ=', 'file_directory': '/Users/jorgep/Documents/ask_public_own/ai-starter-kit/multimodal_knowledge_retriever/data/sample_docs', 'filename': 'invoicesample.pdf', 'type': 'text'}, page_content='THANK YOU\\n\\n* Lorem ipsum dolor sit amet, consectetur adipiscing elit. Aliquam sodales dapibus fermentum. Nunc adipiscing, magna sed scelerisque cursus, erat lectus dapibus urna, sed facilisis leo dui et ipsum.\\n\\nSubtotal | Total\\n\\nSubtotal\\n\\nGST (10%)\\n\\nTotal\\n\\n$36.00\\n\\n$3.60\\n\\n$39.60'),\n",
       "  Document(metadata={'filetype': 'application/pdf', 'languages': ['eng'], 'last_modified': '2024-09-09T08:43:38', 'page_number': 1, 'orig_elements': 'eJy9lttu3DYQhl9FUHvRAkuJZ5G+K5qi8EWcFN70xjAEShytGesEifLGCfrupaRNkMMmQBbYBXQzv2Yk8v84JO8+xFBDA63PnY2volhSbnhFAHEpDOI0o0iXBUGYS4DCVszqMt5EcQPeWONNqPkQl103WNcaD+MS1+a5m3z+AG734INCGdOh5iDvnfUPQSVSsKD2nWv9XHd3pzVNxCYinCf8fhN9jCmRiZhjInCW0CPCWhGUeHwePTTzTF67d1Df9qaE+L/wwoKH0ruuzcvajGPeD10R0nBCJRMyJFSuBv/cw1L7+mW8DLjdTWa3zOouhnYX3y/q6POms65ysHhGMeUI6/Bssbri7IqpuboPlXk7NQUM82znQXh4N/sR/7Hd/nWzvX51E21fzakf/7t1vl6G+zUWTWhRZaBQBUwhDjhgkWCRNEZRYyqsDDsbFpKJJAuuC5yQxfU1lkIkbI4V4TOmr+M1/zQoisnvMHHNbGtvlrHG6ZsRhjF92w076NMXXTnNpo2pGR/zfipqV+bdvk2NQ6M3g4cBPTqfNlPtXSBo6vyx7fY12PDJAfzg4AmGdDYwHU3T15DbrhxT1z51roRVSiu3mwZABJHkbb876zr5fG1czxM/tjaIIdpIYIgVKrSsKARSmcwQw9QyjC1YBedbG5gsi4FRtsL/JEiZqEVgXCb6mLCUnNq0FIsLN+0LaNvn6O+pNXvTfk7mxgyD8e4JtnPmEUJAhVS0YKgSmCCuNEaa8hIxQm2ly8pWFT4nIZWQTcRlsO1AaBEE4wdkjIq5Yb8R1pLTCDFF9aW3VUpJ9M8E0Ea3PnoJddFNQwvRv9d/RqER8E8xo1LSinKNjDYZ4qWgyFimAzicKWqp5ZqfjZmkCd5EGdXrMbeGKkDJlmMx6PTbeE0/sZ+0oBeGRSiLbrsG9g8wQAC2OUIs+g2z36OQySMhM/VTADMlMISTEkkreLjOMIOMUKH9DMaQaQ2lFedrOiKyeY+TSh02vYOQaZbgReCZTNgRYS35IcZLYvqV6UR+0Tpv2jL4s+sG9x7s99yXRoNRDILnZbhMmnCFVAWniIY5cEEUrtT53A8Xj5CnSXB8dvYQCrLufzxjCT8SL+mntQ/PwoF0YTDX66UkulneXkW/UEwYZpj/oEvu/wdaJHy5', 'file_directory': '/Users/jorgep/Documents/ask_public_own/ai-starter-kit/multimodal_knowledge_retriever/data/sample_docs', 'filename': 'invoicesample.pdf', 'type': 'text'}, page_content='ATTENTION TO\\n\\nDenny Gunawan\\n\\n221 Queen St Melbourne VIC 3000\\n\\n123 Somewhere St, Melbourne VIC 3000 (03) 1234 5678\\n\\n$39.60\\n\\nInvoice Number: #20130304'),\n",
       "  Document(metadata={'last_modified': '2024-09-09T08:43:38', 'text_as_html': '<table><tr><td>Apple</td><td>$5.00</td><td>1</td><td>$5.00</td></tr><tr><td>Orange</td><td>$1.99</td><td>2</td><td>$3.98</td></tr><tr><td>Watermelon</td><td>$1.69</td><td>3</td><td>$5.07</td></tr><tr><td>Mango</td><td>$9.56</td><td>2</td><td>$19.12</td></tr><tr><td>Peach</td><td>$2.99</td><td>1</td><td>$2.99</td></tr></table>', 'table_as_cells': [{'x': 0, 'y': 0, 'w': 1, 'h': 1, 'content': 'Apple'}, {'x': 0, 'y': 1, 'w': 1, 'h': 1, 'content': 'Orange'}, {'x': 0, 'y': 2, 'w': 1, 'h': 1, 'content': 'Watermelon'}, {'x': 0, 'y': 3, 'w': 1, 'h': 1, 'content': 'Mango'}, {'x': 0, 'y': 4, 'w': 1, 'h': 1, 'content': 'Peach'}, {'x': 1, 'y': 0, 'w': 1, 'h': 1, 'content': '$5.00'}, {'x': 1, 'y': 1, 'w': 1, 'h': 1, 'content': '$1.99'}, {'x': 1, 'y': 2, 'w': 1, 'h': 1, 'content': '$1.69'}, {'x': 1, 'y': 3, 'w': 1, 'h': 1, 'content': '$9.56'}, {'x': 1, 'y': 4, 'w': 1, 'h': 1, 'content': '$2.99'}, {'x': 2, 'y': 0, 'w': 1, 'h': 1, 'content': '1'}, {'x': 2, 'y': 1, 'w': 1, 'h': 1, 'content': '2'}, {'x': 2, 'y': 2, 'w': 1, 'h': 1, 'content': '3'}, {'x': 2, 'y': 3, 'w': 1, 'h': 1, 'content': '2'}, {'x': 2, 'y': 4, 'w': 1, 'h': 1, 'content': '1'}, {'x': 3, 'y': 0, 'w': 1, 'h': 1, 'content': '$5.00'}, {'x': 3, 'y': 1, 'w': 1, 'h': 1, 'content': '$3.98'}, {'x': 3, 'y': 2, 'w': 1, 'h': 1, 'content': '$5.07'}, {'x': 3, 'y': 3, 'w': 1, 'h': 1, 'content': '$19.12'}, {'x': 3, 'y': 4, 'w': 1, 'h': 1, 'content': '$2.99'}], 'filetype': 'application/pdf', 'languages': ['eng'], 'page_number': 1, 'orig_elements': 'eJyVld9r2zAQx/8VYfKwQeNYVmzHpRT2uIeyjA72EIqR7Ysj6l/YCm0o/d93uqR1G8fTBgnKne8j3X1zPm1eHCihglonKneumZOlPM3SPJwDF8F8Gft8HudRMJdRDnG0TLeht3WumFOBlrnUEpkXJ2uaLle11NCTXcpDs9fJDlSx0+jxhYiRObmfVK536OVhINDbNqrWhttsuBe7wRWL48hdPVyxN5tjGq5HjkAId3nJc2TQ4/SHXkNlalmrZyjvW5mB84oPctCQadXUSVbKvk/arkkxzHNDEfj4fKtK0IcWCF3fOZRxXexlQWVtHKgL54G8vU6qJldbBSSa7/nLuRfj55e3ul6Ka7EydItkUu+rFDpTLnq0TEtIZJ9kUJa0qRGv1qi/2edb25ZgyN0p/um0Pps8cT2YFWv5RP3oMEsrxs+x3/h3dRWUTW1D/XP0Dg9sbJQ4p9Ygs52NWp5Ts8D1vCmKT2ky424c26iRJEiFVmqkxgybNLRRIzVm/j9kOFKDTxH+lBK+jRipIGzESAHrGaPqrXX8Xx+IyT4QbryyUeM+wLMiGzXuAx67fFIKMSXFXxtBvMthBo+GZ22mx05XpUFvaJ7c3ugOv/ktjY+bBf4yFgn2bvFL/gWBR/g4RYYo8wK9W/7gN4KO6WGYfNwhHHYQn86PxjvQTBmCzDt16XjSeEzTbBmi/I/J80t+ghdH/eh2MNoep2kha5Wx73iJ9GzdqQwWjwUjbRlpx45SMZKIDZUzqphRIYwKYJQWo2PZz72stdKHL4/FV3a/T3WjZcn4aU+fkbJMkB0Zm0o1AW8N8nY5/TJZO68PfwB7VwYC', 'file_directory': '/Users/jorgep/Documents/ask_public_own/ai-starter-kit/multimodal_knowledge_retriever/data/sample_docs', 'filename': 'invoicesample.pdf', 'type': 'table'}, page_content='<table><tr><td>Apple</td><td>$5.00</td><td>1</td><td>$5.00</td></tr><tr><td>Orange</td><td>$1.99</td><td>2</td><td>$3.98</td></tr><tr><td>Watermelon</td><td>$1.69</td><td>3</td><td>$5.07</td></tr><tr><td>Mango</td><td>$9.56</td><td>2</td><td>$19.12</td></tr><tr><td>Peach</td><td>$2.99</td><td>1</td><td>$2.99</td></tr></table>'),\n",
       "  Document(metadata={'type': 'image', 'file_directory': '/Users/jorgep/Documents/ask_public_own/ai-starter-kit/multimodal_knowledge_retriever/data/sample_docs/invoicesample', 'filename': 'figure-1-1.jpg'}, page_content='The image features a logo for Sunny Farm, a company that specializes in fresh produce. The logo is a gold and yellow color scheme, with a sun in the center. The sun is surrounded by a green field, giving the impression of a sunny day. The logo is placed on a white background, making it stand out.')]}"
      ]
     },
     "execution_count": 9,
     "metadata": {},
     "output_type": "execute_result"
    }
   ],
   "source": [
    "qachain(\"whats the address of the store\")"
   ]
  },
  {
   "cell_type": "code",
   "execution_count": 10,
   "metadata": {},
   "outputs": [
    {
     "data": {
      "text/plain": [
       "{'question': 'what is the main color in the business logo',\n",
       " 'answer': '\\n\\nAccording to the context, the main colors in the Sunny Farm business logo are gold and yellow.',\n",
       " 'source_documents': [Document(metadata={'type': 'image', 'file_directory': '/Users/jorgep/Documents/ask_public_own/ai-starter-kit/multimodal_knowledge_retriever/data/sample_docs/invoicesample', 'filename': 'figure-1-1.jpg'}, page_content='The image features a logo for Sunny Farm, a company that specializes in fresh produce. The logo is a gold and yellow color scheme, with a sun in the center. The sun is surrounded by a green field, giving the impression of a sunny day. The logo is placed on a white background, making it stand out.'),\n",
       "  Document(metadata={'filetype': 'application/pdf', 'languages': ['eng'], 'last_modified': '2024-09-09T08:43:38', 'page_number': 1, 'orig_elements': 'eJzNV1uL3DYY/SvCtNCWkdHNuuxbnlpouw1k8lCWZdHl06zAY09suc02zX+v7PEmSzNtNoXZLgwYndGxpXO+78i+eldBC3vo8k0K1QWqGho0815jAoRhEV2DjYoSA+Miek5BAq02qNpDtsFmWzjvKt/3Q0idzTAu49be9VO+uYW0u80FYZybwlnh31PItwWlsuEFPfSpyzPv6kqqusyjpqG1uN6gdcyIUsexVrzWJ4CVUZBqvBsz7OedvExvoX11sB6q9+WPABl8Tn1341s7jjeHoXdlGqml4USVCTG1kO8OsHBf/lwtC+52k90tu7qqoNtV1ws65pt9H1JMsGjGCBOYmPLbEn0h+AXXM/tQmDfdtHcwzLudF5Hh7axHtf3hxeWP6NdfXs/z7h+6Tbld1vp3TwRRoXGiwZYFgUUxAVsSAibEKaU1UEf42TxpWE2L5JSS2syS34+NrNligTS1OAksjP/miWFEsCf25Dv0Uz/AHqXDOO1R6Nt+QGPKyBZZN8j33VjWCnkakA3pkEafuh2CNuUavWjTm8nu0dgH28KIgj0kN40owjDbOO1rdDl1/gFxg/Z211k0QkCjL3YPaXwzAfLTME7jBsFgM2rLA6ePd5uGzm4WRrQ+tWlMY5nSozAlBPm47vphQV3aodwm/QbbeYsnCosqp6kQDCtnSmERJ7BphMcsisY445k5Y7Mbqmoy9+58nQtnBRjl5ghQavRpZCX9a3E9Ze28mlzus23Rn2g7Xx/X1o6YQCGUgBUSC3AMaxoNbgINLkYiufdnU58SqudGpqXVjo39EZGslh/U1qcR9tnm/j/0f5TuRkYN0RfJbYhFd8axE9BgZqkyURCwvnkC3Q2t1UPdGeH8eKpRJmjNTiEr69no/v2rLfqGkq+/fSj8684XmXb9kP6A8E/RIzUBiJxhb4TGggqHXWMNll5EZY3jJMazm8CIVmth3yOUmeMxRilbSv0EcmQ9GxMenzjlaOZUGIuZ0QoLJcuLhHIeN8y5pgnRxsjOJzrXrFZrdvBF0A+IpGsGCaNqfhpZWM9G9K+4rAn54rJ3xHIlpcc2lrgXpjSAtcpi4SwIqxsPEc7ngCC8btYUoUd1j0hJGlbrh3p/iqysZ+RALb/cgKi1lVFqTHnDywnANTaGlM8dGWRJJCm8DGdsgUasucPuW2BFKBdr1N8b8ClyZD0jA8znHbj+C8PyKoQ=', 'file_directory': '/Users/jorgep/Documents/ask_public_own/ai-starter-kit/multimodal_knowledge_retriever/data/sample_docs', 'filename': 'invoicesample.pdf', 'type': 'text'}, page_content='THANK YOU\\n\\n* Lorem ipsum dolor sit amet, consectetur adipiscing elit. Aliquam sodales dapibus fermentum. Nunc adipiscing, magna sed scelerisque cursus, erat lectus dapibus urna, sed facilisis leo dui et ipsum.\\n\\nSubtotal | Total\\n\\nSubtotal\\n\\nGST (10%)\\n\\nTotal\\n\\n$36.00\\n\\n$3.60\\n\\n$39.60'),\n",
       "  Document(metadata={'filetype': 'application/pdf', 'languages': ['eng'], 'last_modified': '2024-09-09T08:43:38', 'page_number': 1, 'orig_elements': 'eJy9lttu3DYQhl9FUHvRAkuJZ5G+K5qi8EWcFN70xjAEShytGesEifLGCfrupaRNkMMmQBbYBXQzv2Yk8v84JO8+xFBDA63PnY2volhSbnhFAHEpDOI0o0iXBUGYS4DCVszqMt5EcQPeWONNqPkQl103WNcaD+MS1+a5m3z+AG734INCGdOh5iDvnfUPQSVSsKD2nWv9XHd3pzVNxCYinCf8fhN9jCmRiZhjInCW0CPCWhGUeHwePTTzTF67d1Df9qaE+L/wwoKH0ruuzcvajGPeD10R0nBCJRMyJFSuBv/cw1L7+mW8DLjdTWa3zOouhnYX3y/q6POms65ysHhGMeUI6/Bssbri7IqpuboPlXk7NQUM82znQXh4N/sR/7Hd/nWzvX51E21fzakf/7t1vl6G+zUWTWhRZaBQBUwhDjhgkWCRNEZRYyqsDDsbFpKJJAuuC5yQxfU1lkIkbI4V4TOmr+M1/zQoisnvMHHNbGtvlrHG6ZsRhjF92w076NMXXTnNpo2pGR/zfipqV+bdvk2NQ6M3g4cBPTqfNlPtXSBo6vyx7fY12PDJAfzg4AmGdDYwHU3T15DbrhxT1z51roRVSiu3mwZABJHkbb876zr5fG1czxM/tjaIIdpIYIgVKrSsKARSmcwQw9QyjC1YBedbG5gsi4FRtsL/JEiZqEVgXCb6mLCUnNq0FIsLN+0LaNvn6O+pNXvTfk7mxgyD8e4JtnPmEUJAhVS0YKgSmCCuNEaa8hIxQm2ly8pWFT4nIZWQTcRlsO1AaBEE4wdkjIq5Yb8R1pLTCDFF9aW3VUpJ9M8E0Ea3PnoJddFNQwvRv9d/RqER8E8xo1LSinKNjDYZ4qWgyFimAzicKWqp5ZqfjZmkCd5EGdXrMbeGKkDJlmMx6PTbeE0/sZ+0oBeGRSiLbrsG9g8wQAC2OUIs+g2z36OQySMhM/VTADMlMISTEkkreLjOMIOMUKH9DMaQaQ2lFedrOiKyeY+TSh02vYOQaZbgReCZTNgRYS35IcZLYvqV6UR+0Tpv2jL4s+sG9x7s99yXRoNRDILnZbhMmnCFVAWniIY5cEEUrtT53A8Xj5CnSXB8dvYQCrLufzxjCT8SL+mntQ/PwoF0YTDX66UkulneXkW/UEwYZpj/oEvu/wdaJHy5', 'file_directory': '/Users/jorgep/Documents/ask_public_own/ai-starter-kit/multimodal_knowledge_retriever/data/sample_docs', 'filename': 'invoicesample.pdf', 'type': 'text'}, page_content='ATTENTION TO\\n\\nDenny Gunawan\\n\\n221 Queen St Melbourne VIC 3000\\n\\n123 Somewhere St, Melbourne VIC 3000 (03) 1234 5678\\n\\n$39.60\\n\\nInvoice Number: #20130304'),\n",
       "  Document(metadata={'last_modified': '2024-09-09T08:43:38', 'text_as_html': '<table><tr><td>Apple</td><td>$5.00</td><td>1</td><td>$5.00</td></tr><tr><td>Orange</td><td>$1.99</td><td>2</td><td>$3.98</td></tr><tr><td>Watermelon</td><td>$1.69</td><td>3</td><td>$5.07</td></tr><tr><td>Mango</td><td>$9.56</td><td>2</td><td>$19.12</td></tr><tr><td>Peach</td><td>$2.99</td><td>1</td><td>$2.99</td></tr></table>', 'table_as_cells': [{'x': 0, 'y': 0, 'w': 1, 'h': 1, 'content': 'Apple'}, {'x': 0, 'y': 1, 'w': 1, 'h': 1, 'content': 'Orange'}, {'x': 0, 'y': 2, 'w': 1, 'h': 1, 'content': 'Watermelon'}, {'x': 0, 'y': 3, 'w': 1, 'h': 1, 'content': 'Mango'}, {'x': 0, 'y': 4, 'w': 1, 'h': 1, 'content': 'Peach'}, {'x': 1, 'y': 0, 'w': 1, 'h': 1, 'content': '$5.00'}, {'x': 1, 'y': 1, 'w': 1, 'h': 1, 'content': '$1.99'}, {'x': 1, 'y': 2, 'w': 1, 'h': 1, 'content': '$1.69'}, {'x': 1, 'y': 3, 'w': 1, 'h': 1, 'content': '$9.56'}, {'x': 1, 'y': 4, 'w': 1, 'h': 1, 'content': '$2.99'}, {'x': 2, 'y': 0, 'w': 1, 'h': 1, 'content': '1'}, {'x': 2, 'y': 1, 'w': 1, 'h': 1, 'content': '2'}, {'x': 2, 'y': 2, 'w': 1, 'h': 1, 'content': '3'}, {'x': 2, 'y': 3, 'w': 1, 'h': 1, 'content': '2'}, {'x': 2, 'y': 4, 'w': 1, 'h': 1, 'content': '1'}, {'x': 3, 'y': 0, 'w': 1, 'h': 1, 'content': '$5.00'}, {'x': 3, 'y': 1, 'w': 1, 'h': 1, 'content': '$3.98'}, {'x': 3, 'y': 2, 'w': 1, 'h': 1, 'content': '$5.07'}, {'x': 3, 'y': 3, 'w': 1, 'h': 1, 'content': '$19.12'}, {'x': 3, 'y': 4, 'w': 1, 'h': 1, 'content': '$2.99'}], 'filetype': 'application/pdf', 'languages': ['eng'], 'page_number': 1, 'orig_elements': 'eJyVld9r2zAQx/8VYfKwQeNYVmzHpRT2uIeyjA72EIqR7Ysj6l/YCm0o/d93uqR1G8fTBgnKne8j3X1zPm1eHCihglonKneumZOlPM3SPJwDF8F8Gft8HudRMJdRDnG0TLeht3WumFOBlrnUEpkXJ2uaLle11NCTXcpDs9fJDlSx0+jxhYiRObmfVK536OVhINDbNqrWhttsuBe7wRWL48hdPVyxN5tjGq5HjkAId3nJc2TQ4/SHXkNlalmrZyjvW5mB84oPctCQadXUSVbKvk/arkkxzHNDEfj4fKtK0IcWCF3fOZRxXexlQWVtHKgL54G8vU6qJldbBSSa7/nLuRfj55e3ul6Ka7EydItkUu+rFDpTLnq0TEtIZJ9kUJa0qRGv1qi/2edb25ZgyN0p/um0Pps8cT2YFWv5RP3oMEsrxs+x3/h3dRWUTW1D/XP0Dg9sbJQ4p9Ygs52NWp5Ts8D1vCmKT2ky424c26iRJEiFVmqkxgybNLRRIzVm/j9kOFKDTxH+lBK+jRipIGzESAHrGaPqrXX8Xx+IyT4QbryyUeM+wLMiGzXuAx67fFIKMSXFXxtBvMthBo+GZ22mx05XpUFvaJ7c3ugOv/ktjY+bBf4yFgn2bvFL/gWBR/g4RYYo8wK9W/7gN4KO6WGYfNwhHHYQn86PxjvQTBmCzDt16XjSeEzTbBmi/I/J80t+ghdH/eh2MNoep2kha5Wx73iJ9GzdqQwWjwUjbRlpx45SMZKIDZUzqphRIYwKYJQWo2PZz72stdKHL4/FV3a/T3WjZcn4aU+fkbJMkB0Zm0o1AW8N8nY5/TJZO68PfwB7VwYC', 'file_directory': '/Users/jorgep/Documents/ask_public_own/ai-starter-kit/multimodal_knowledge_retriever/data/sample_docs', 'filename': 'invoicesample.pdf', 'type': 'table'}, page_content='<table><tr><td>Apple</td><td>$5.00</td><td>1</td><td>$5.00</td></tr><tr><td>Orange</td><td>$1.99</td><td>2</td><td>$3.98</td></tr><tr><td>Watermelon</td><td>$1.69</td><td>3</td><td>$5.07</td></tr><tr><td>Mango</td><td>$9.56</td><td>2</td><td>$19.12</td></tr><tr><td>Peach</td><td>$2.99</td><td>1</td><td>$2.99</td></tr></table>')]}"
      ]
     },
     "execution_count": 10,
     "metadata": {},
     "output_type": "execute_result"
    }
   ],
   "source": [
    "qachain(\"what is the main color in the business logo\")"
   ]
  },
  {
   "cell_type": "code",
   "execution_count": 11,
   "metadata": {},
   "outputs": [
    {
     "data": {
      "text/plain": [
       "{'question': 'what is written in the logo',\n",
       " 'answer': '\\n\\nI do not have information regarding this. The context only describes the design and colors of the logo, but it does not mention what is written in the logo.',\n",
       " 'source_documents': [Document(metadata={'filetype': 'application/pdf', 'languages': ['eng'], 'last_modified': '2024-09-09T08:43:38', 'page_number': 1, 'orig_elements': 'eJzNV1uL3DYY/SvCtNCWkdHNuuxbnlpouw1k8lCWZdHl06zAY09suc02zX+v7PEmSzNtNoXZLgwYndGxpXO+78i+eldBC3vo8k0K1QWqGho0815jAoRhEV2DjYoSA+Miek5BAq02qNpDtsFmWzjvKt/3Q0idzTAu49be9VO+uYW0u80FYZybwlnh31PItwWlsuEFPfSpyzPv6kqqusyjpqG1uN6gdcyIUsexVrzWJ4CVUZBqvBsz7OedvExvoX11sB6q9+WPABl8Tn1341s7jjeHoXdlGqml4USVCTG1kO8OsHBf/lwtC+52k90tu7qqoNtV1ws65pt9H1JMsGjGCBOYmPLbEn0h+AXXM/tQmDfdtHcwzLudF5Hh7axHtf3hxeWP6NdfXs/z7h+6Tbld1vp3TwRRoXGiwZYFgUUxAVsSAibEKaU1UEf42TxpWE2L5JSS2syS34+NrNligTS1OAksjP/miWFEsCf25Dv0Uz/AHqXDOO1R6Nt+QGPKyBZZN8j33VjWCnkakA3pkEafuh2CNuUavWjTm8nu0dgH28KIgj0kN40owjDbOO1rdDl1/gFxg/Z211k0QkCjL3YPaXwzAfLTME7jBsFgM2rLA6ePd5uGzm4WRrQ+tWlMY5nSozAlBPm47vphQV3aodwm/QbbeYsnCosqp6kQDCtnSmERJ7BphMcsisY445k5Y7Mbqmoy9+58nQtnBRjl5ghQavRpZCX9a3E9Ze28mlzus23Rn2g7Xx/X1o6YQCGUgBUSC3AMaxoNbgINLkYiufdnU58SqudGpqXVjo39EZGslh/U1qcR9tnm/j/0f5TuRkYN0RfJbYhFd8axE9BgZqkyURCwvnkC3Q2t1UPdGeH8eKpRJmjNTiEr69no/v2rLfqGkq+/fSj8684XmXb9kP6A8E/RIzUBiJxhb4TGggqHXWMNll5EZY3jJMazm8CIVmth3yOUmeMxRilbSv0EcmQ9GxMenzjlaOZUGIuZ0QoLJcuLhHIeN8y5pgnRxsjOJzrXrFZrdvBF0A+IpGsGCaNqfhpZWM9G9K+4rAn54rJ3xHIlpcc2lrgXpjSAtcpi4SwIqxsPEc7ngCC8btYUoUd1j0hJGlbrh3p/iqysZ+RALb/cgKi1lVFqTHnDywnANTaGlM8dGWRJJCm8DGdsgUasucPuW2BFKBdr1N8b8ClyZD0jA8znHbj+C8PyKoQ=', 'file_directory': '/Users/jorgep/Documents/ask_public_own/ai-starter-kit/multimodal_knowledge_retriever/data/sample_docs', 'filename': 'invoicesample.pdf', 'type': 'text'}, page_content='THANK YOU\\n\\n* Lorem ipsum dolor sit amet, consectetur adipiscing elit. Aliquam sodales dapibus fermentum. Nunc adipiscing, magna sed scelerisque cursus, erat lectus dapibus urna, sed facilisis leo dui et ipsum.\\n\\nSubtotal | Total\\n\\nSubtotal\\n\\nGST (10%)\\n\\nTotal\\n\\n$36.00\\n\\n$3.60\\n\\n$39.60'),\n",
       "  Document(metadata={'type': 'image', 'file_directory': '/Users/jorgep/Documents/ask_public_own/ai-starter-kit/multimodal_knowledge_retriever/data/sample_docs/invoicesample', 'filename': 'figure-1-1.jpg'}, page_content='The image features a logo for Sunny Farm, a company that specializes in fresh produce. The logo is a gold and yellow color scheme, with a sun in the center. The sun is surrounded by a green field, giving the impression of a sunny day. The logo is placed on a white background, making it stand out.'),\n",
       "  Document(metadata={'filetype': 'application/pdf', 'languages': ['eng'], 'last_modified': '2024-09-09T08:43:38', 'page_number': 1, 'orig_elements': 'eJy9lttu3DYQhl9FUHvRAkuJZ5G+K5qi8EWcFN70xjAEShytGesEifLGCfrupaRNkMMmQBbYBXQzv2Yk8v84JO8+xFBDA63PnY2volhSbnhFAHEpDOI0o0iXBUGYS4DCVszqMt5EcQPeWONNqPkQl103WNcaD+MS1+a5m3z+AG734INCGdOh5iDvnfUPQSVSsKD2nWv9XHd3pzVNxCYinCf8fhN9jCmRiZhjInCW0CPCWhGUeHwePTTzTF67d1Df9qaE+L/wwoKH0ruuzcvajGPeD10R0nBCJRMyJFSuBv/cw1L7+mW8DLjdTWa3zOouhnYX3y/q6POms65ysHhGMeUI6/Bssbri7IqpuboPlXk7NQUM82znQXh4N/sR/7Hd/nWzvX51E21fzakf/7t1vl6G+zUWTWhRZaBQBUwhDjhgkWCRNEZRYyqsDDsbFpKJJAuuC5yQxfU1lkIkbI4V4TOmr+M1/zQoisnvMHHNbGtvlrHG6ZsRhjF92w076NMXXTnNpo2pGR/zfipqV+bdvk2NQ6M3g4cBPTqfNlPtXSBo6vyx7fY12PDJAfzg4AmGdDYwHU3T15DbrhxT1z51roRVSiu3mwZABJHkbb876zr5fG1czxM/tjaIIdpIYIgVKrSsKARSmcwQw9QyjC1YBedbG5gsi4FRtsL/JEiZqEVgXCb6mLCUnNq0FIsLN+0LaNvn6O+pNXvTfk7mxgyD8e4JtnPmEUJAhVS0YKgSmCCuNEaa8hIxQm2ly8pWFT4nIZWQTcRlsO1AaBEE4wdkjIq5Yb8R1pLTCDFF9aW3VUpJ9M8E0Ea3PnoJddFNQwvRv9d/RqER8E8xo1LSinKNjDYZ4qWgyFimAzicKWqp5ZqfjZmkCd5EGdXrMbeGKkDJlmMx6PTbeE0/sZ+0oBeGRSiLbrsG9g8wQAC2OUIs+g2z36OQySMhM/VTADMlMISTEkkreLjOMIOMUKH9DMaQaQ2lFedrOiKyeY+TSh02vYOQaZbgReCZTNgRYS35IcZLYvqV6UR+0Tpv2jL4s+sG9x7s99yXRoNRDILnZbhMmnCFVAWniIY5cEEUrtT53A8Xj5CnSXB8dvYQCrLufzxjCT8SL+mntQ/PwoF0YTDX66UkulneXkW/UEwYZpj/oEvu/wdaJHy5', 'file_directory': '/Users/jorgep/Documents/ask_public_own/ai-starter-kit/multimodal_knowledge_retriever/data/sample_docs', 'filename': 'invoicesample.pdf', 'type': 'text'}, page_content='ATTENTION TO\\n\\nDenny Gunawan\\n\\n221 Queen St Melbourne VIC 3000\\n\\n123 Somewhere St, Melbourne VIC 3000 (03) 1234 5678\\n\\n$39.60\\n\\nInvoice Number: #20130304'),\n",
       "  Document(metadata={'last_modified': '2024-09-09T08:43:38', 'text_as_html': '<table><tr><td>Apple</td><td>$5.00</td><td>1</td><td>$5.00</td></tr><tr><td>Orange</td><td>$1.99</td><td>2</td><td>$3.98</td></tr><tr><td>Watermelon</td><td>$1.69</td><td>3</td><td>$5.07</td></tr><tr><td>Mango</td><td>$9.56</td><td>2</td><td>$19.12</td></tr><tr><td>Peach</td><td>$2.99</td><td>1</td><td>$2.99</td></tr></table>', 'table_as_cells': [{'x': 0, 'y': 0, 'w': 1, 'h': 1, 'content': 'Apple'}, {'x': 0, 'y': 1, 'w': 1, 'h': 1, 'content': 'Orange'}, {'x': 0, 'y': 2, 'w': 1, 'h': 1, 'content': 'Watermelon'}, {'x': 0, 'y': 3, 'w': 1, 'h': 1, 'content': 'Mango'}, {'x': 0, 'y': 4, 'w': 1, 'h': 1, 'content': 'Peach'}, {'x': 1, 'y': 0, 'w': 1, 'h': 1, 'content': '$5.00'}, {'x': 1, 'y': 1, 'w': 1, 'h': 1, 'content': '$1.99'}, {'x': 1, 'y': 2, 'w': 1, 'h': 1, 'content': '$1.69'}, {'x': 1, 'y': 3, 'w': 1, 'h': 1, 'content': '$9.56'}, {'x': 1, 'y': 4, 'w': 1, 'h': 1, 'content': '$2.99'}, {'x': 2, 'y': 0, 'w': 1, 'h': 1, 'content': '1'}, {'x': 2, 'y': 1, 'w': 1, 'h': 1, 'content': '2'}, {'x': 2, 'y': 2, 'w': 1, 'h': 1, 'content': '3'}, {'x': 2, 'y': 3, 'w': 1, 'h': 1, 'content': '2'}, {'x': 2, 'y': 4, 'w': 1, 'h': 1, 'content': '1'}, {'x': 3, 'y': 0, 'w': 1, 'h': 1, 'content': '$5.00'}, {'x': 3, 'y': 1, 'w': 1, 'h': 1, 'content': '$3.98'}, {'x': 3, 'y': 2, 'w': 1, 'h': 1, 'content': '$5.07'}, {'x': 3, 'y': 3, 'w': 1, 'h': 1, 'content': '$19.12'}, {'x': 3, 'y': 4, 'w': 1, 'h': 1, 'content': '$2.99'}], 'filetype': 'application/pdf', 'languages': ['eng'], 'page_number': 1, 'orig_elements': 'eJyVld9r2zAQx/8VYfKwQeNYVmzHpRT2uIeyjA72EIqR7Ysj6l/YCm0o/d93uqR1G8fTBgnKne8j3X1zPm1eHCihglonKneumZOlPM3SPJwDF8F8Gft8HudRMJdRDnG0TLeht3WumFOBlrnUEpkXJ2uaLle11NCTXcpDs9fJDlSx0+jxhYiRObmfVK536OVhINDbNqrWhttsuBe7wRWL48hdPVyxN5tjGq5HjkAId3nJc2TQ4/SHXkNlalmrZyjvW5mB84oPctCQadXUSVbKvk/arkkxzHNDEfj4fKtK0IcWCF3fOZRxXexlQWVtHKgL54G8vU6qJldbBSSa7/nLuRfj55e3ul6Ka7EydItkUu+rFDpTLnq0TEtIZJ9kUJa0qRGv1qi/2edb25ZgyN0p/um0Pps8cT2YFWv5RP3oMEsrxs+x3/h3dRWUTW1D/XP0Dg9sbJQ4p9Ygs52NWp5Ts8D1vCmKT2ky424c26iRJEiFVmqkxgybNLRRIzVm/j9kOFKDTxH+lBK+jRipIGzESAHrGaPqrXX8Xx+IyT4QbryyUeM+wLMiGzXuAx67fFIKMSXFXxtBvMthBo+GZ22mx05XpUFvaJ7c3ugOv/ktjY+bBf4yFgn2bvFL/gWBR/g4RYYo8wK9W/7gN4KO6WGYfNwhHHYQn86PxjvQTBmCzDt16XjSeEzTbBmi/I/J80t+ghdH/eh2MNoep2kha5Wx73iJ9GzdqQwWjwUjbRlpx45SMZKIDZUzqphRIYwKYJQWo2PZz72stdKHL4/FV3a/T3WjZcn4aU+fkbJMkB0Zm0o1AW8N8nY5/TJZO68PfwB7VwYC', 'file_directory': '/Users/jorgep/Documents/ask_public_own/ai-starter-kit/multimodal_knowledge_retriever/data/sample_docs', 'filename': 'invoicesample.pdf', 'type': 'table'}, page_content='<table><tr><td>Apple</td><td>$5.00</td><td>1</td><td>$5.00</td></tr><tr><td>Orange</td><td>$1.99</td><td>2</td><td>$3.98</td></tr><tr><td>Watermelon</td><td>$1.69</td><td>3</td><td>$5.07</td></tr><tr><td>Mango</td><td>$9.56</td><td>2</td><td>$19.12</td></tr><tr><td>Peach</td><td>$2.99</td><td>1</td><td>$2.99</td></tr></table>')]}"
      ]
     },
     "execution_count": 11,
     "metadata": {},
     "output_type": "execute_result"
    }
   ],
   "source": [
    "qachain(\"what is written in the logo\")"
   ]
  },
  {
   "cell_type": "markdown",
   "metadata": {},
   "source": [
    "## Using raw images to get a final response"
   ]
  },
  {
   "cell_type": "code",
   "execution_count": 12,
   "metadata": {},
   "outputs": [],
   "source": [
    "qachain = multimodal.get_retrieval_chain(retriever, image_retrieval_type=\"raw\")"
   ]
  },
  {
   "cell_type": "code",
   "execution_count": 13,
   "metadata": {},
   "outputs": [
    {
     "data": {
      "text/plain": [
       "{'question': 'how many apples they bought',\n",
       " 'answer': '\\n\\nAccording to the provided context, they bought 1 apple.',\n",
       " 'source_documents': [Document(metadata={'type': 'image', 'file_directory': '/Users/jorgep/Documents/ask_public_own/ai-starter-kit/multimodal_knowledge_retriever/data/sample_docs/invoicesample', 'filename': 'figure-1-1.jpg'}, page_content='The image features a logo for Sunny Farm, a company that specializes in fresh produce. The logo is a gold and yellow color scheme, with a sun in the center. The sun is surrounded by a green field, giving the impression of a sunny day. The logo is placed on a white background, making it stand out.'),\n",
       "  Document(metadata={'filetype': 'application/pdf', 'languages': ['eng'], 'last_modified': '2024-09-09T08:43:38', 'page_number': 1, 'orig_elements': 'eJzNV1uL3DYY/SvCtNCWkdHNuuxbnlpouw1k8lCWZdHl06zAY09suc02zX+v7PEmSzNtNoXZLgwYndGxpXO+78i+eldBC3vo8k0K1QWqGho0815jAoRhEV2DjYoSA+Miek5BAq02qNpDtsFmWzjvKt/3Q0idzTAu49be9VO+uYW0u80FYZybwlnh31PItwWlsuEFPfSpyzPv6kqqusyjpqG1uN6gdcyIUsexVrzWJ4CVUZBqvBsz7OedvExvoX11sB6q9+WPABl8Tn1341s7jjeHoXdlGqml4USVCTG1kO8OsHBf/lwtC+52k90tu7qqoNtV1ws65pt9H1JMsGjGCBOYmPLbEn0h+AXXM/tQmDfdtHcwzLudF5Hh7axHtf3hxeWP6NdfXs/z7h+6Tbld1vp3TwRRoXGiwZYFgUUxAVsSAibEKaU1UEf42TxpWE2L5JSS2syS34+NrNligTS1OAksjP/miWFEsCf25Dv0Uz/AHqXDOO1R6Nt+QGPKyBZZN8j33VjWCnkakA3pkEafuh2CNuUavWjTm8nu0dgH28KIgj0kN40owjDbOO1rdDl1/gFxg/Z211k0QkCjL3YPaXwzAfLTME7jBsFgM2rLA6ePd5uGzm4WRrQ+tWlMY5nSozAlBPm47vphQV3aodwm/QbbeYsnCosqp6kQDCtnSmERJ7BphMcsisY445k5Y7Mbqmoy9+58nQtnBRjl5ghQavRpZCX9a3E9Ze28mlzus23Rn2g7Xx/X1o6YQCGUgBUSC3AMaxoNbgINLkYiufdnU58SqudGpqXVjo39EZGslh/U1qcR9tnm/j/0f5TuRkYN0RfJbYhFd8axE9BgZqkyURCwvnkC3Q2t1UPdGeH8eKpRJmjNTiEr69no/v2rLfqGkq+/fSj8684XmXb9kP6A8E/RIzUBiJxhb4TGggqHXWMNll5EZY3jJMazm8CIVmth3yOUmeMxRilbSv0EcmQ9GxMenzjlaOZUGIuZ0QoLJcuLhHIeN8y5pgnRxsjOJzrXrFZrdvBF0A+IpGsGCaNqfhpZWM9G9K+4rAn54rJ3xHIlpcc2lrgXpjSAtcpi4SwIqxsPEc7ngCC8btYUoUd1j0hJGlbrh3p/iqysZ+RALb/cgKi1lVFqTHnDywnANTaGlM8dGWRJJCm8DGdsgUasucPuW2BFKBdr1N8b8ClyZD0jA8znHbj+C8PyKoQ=', 'file_directory': '/Users/jorgep/Documents/ask_public_own/ai-starter-kit/multimodal_knowledge_retriever/data/sample_docs', 'filename': 'invoicesample.pdf', 'type': 'text'}, page_content='THANK YOU\\n\\n* Lorem ipsum dolor sit amet, consectetur adipiscing elit. Aliquam sodales dapibus fermentum. Nunc adipiscing, magna sed scelerisque cursus, erat lectus dapibus urna, sed facilisis leo dui et ipsum.\\n\\nSubtotal | Total\\n\\nSubtotal\\n\\nGST (10%)\\n\\nTotal\\n\\n$36.00\\n\\n$3.60\\n\\n$39.60'),\n",
       "  Document(metadata={'last_modified': '2024-09-09T08:43:38', 'text_as_html': '<table><tr><td>Apple</td><td>$5.00</td><td>1</td><td>$5.00</td></tr><tr><td>Orange</td><td>$1.99</td><td>2</td><td>$3.98</td></tr><tr><td>Watermelon</td><td>$1.69</td><td>3</td><td>$5.07</td></tr><tr><td>Mango</td><td>$9.56</td><td>2</td><td>$19.12</td></tr><tr><td>Peach</td><td>$2.99</td><td>1</td><td>$2.99</td></tr></table>', 'table_as_cells': [{'x': 0, 'y': 0, 'w': 1, 'h': 1, 'content': 'Apple'}, {'x': 0, 'y': 1, 'w': 1, 'h': 1, 'content': 'Orange'}, {'x': 0, 'y': 2, 'w': 1, 'h': 1, 'content': 'Watermelon'}, {'x': 0, 'y': 3, 'w': 1, 'h': 1, 'content': 'Mango'}, {'x': 0, 'y': 4, 'w': 1, 'h': 1, 'content': 'Peach'}, {'x': 1, 'y': 0, 'w': 1, 'h': 1, 'content': '$5.00'}, {'x': 1, 'y': 1, 'w': 1, 'h': 1, 'content': '$1.99'}, {'x': 1, 'y': 2, 'w': 1, 'h': 1, 'content': '$1.69'}, {'x': 1, 'y': 3, 'w': 1, 'h': 1, 'content': '$9.56'}, {'x': 1, 'y': 4, 'w': 1, 'h': 1, 'content': '$2.99'}, {'x': 2, 'y': 0, 'w': 1, 'h': 1, 'content': '1'}, {'x': 2, 'y': 1, 'w': 1, 'h': 1, 'content': '2'}, {'x': 2, 'y': 2, 'w': 1, 'h': 1, 'content': '3'}, {'x': 2, 'y': 3, 'w': 1, 'h': 1, 'content': '2'}, {'x': 2, 'y': 4, 'w': 1, 'h': 1, 'content': '1'}, {'x': 3, 'y': 0, 'w': 1, 'h': 1, 'content': '$5.00'}, {'x': 3, 'y': 1, 'w': 1, 'h': 1, 'content': '$3.98'}, {'x': 3, 'y': 2, 'w': 1, 'h': 1, 'content': '$5.07'}, {'x': 3, 'y': 3, 'w': 1, 'h': 1, 'content': '$19.12'}, {'x': 3, 'y': 4, 'w': 1, 'h': 1, 'content': '$2.99'}], 'filetype': 'application/pdf', 'languages': ['eng'], 'page_number': 1, 'orig_elements': 'eJyVld9r2zAQx/8VYfKwQeNYVmzHpRT2uIeyjA72EIqR7Ysj6l/YCm0o/d93uqR1G8fTBgnKne8j3X1zPm1eHCihglonKneumZOlPM3SPJwDF8F8Gft8HudRMJdRDnG0TLeht3WumFOBlrnUEpkXJ2uaLle11NCTXcpDs9fJDlSx0+jxhYiRObmfVK536OVhINDbNqrWhttsuBe7wRWL48hdPVyxN5tjGq5HjkAId3nJc2TQ4/SHXkNlalmrZyjvW5mB84oPctCQadXUSVbKvk/arkkxzHNDEfj4fKtK0IcWCF3fOZRxXexlQWVtHKgL54G8vU6qJldbBSSa7/nLuRfj55e3ul6Ka7EydItkUu+rFDpTLnq0TEtIZJ9kUJa0qRGv1qi/2edb25ZgyN0p/um0Pps8cT2YFWv5RP3oMEsrxs+x3/h3dRWUTW1D/XP0Dg9sbJQ4p9Ygs52NWp5Ts8D1vCmKT2ky424c26iRJEiFVmqkxgybNLRRIzVm/j9kOFKDTxH+lBK+jRipIGzESAHrGaPqrXX8Xx+IyT4QbryyUeM+wLMiGzXuAx67fFIKMSXFXxtBvMthBo+GZ22mx05XpUFvaJ7c3ugOv/ktjY+bBf4yFgn2bvFL/gWBR/g4RYYo8wK9W/7gN4KO6WGYfNwhHHYQn86PxjvQTBmCzDt16XjSeEzTbBmi/I/J80t+ghdH/eh2MNoep2kha5Wx73iJ9GzdqQwWjwUjbRlpx45SMZKIDZUzqphRIYwKYJQWo2PZz72stdKHL4/FV3a/T3WjZcn4aU+fkbJMkB0Zm0o1AW8N8nY5/TJZO68PfwB7VwYC', 'file_directory': '/Users/jorgep/Documents/ask_public_own/ai-starter-kit/multimodal_knowledge_retriever/data/sample_docs', 'filename': 'invoicesample.pdf', 'type': 'table'}, page_content='<table><tr><td>Apple</td><td>$5.00</td><td>1</td><td>$5.00</td></tr><tr><td>Orange</td><td>$1.99</td><td>2</td><td>$3.98</td></tr><tr><td>Watermelon</td><td>$1.69</td><td>3</td><td>$5.07</td></tr><tr><td>Mango</td><td>$9.56</td><td>2</td><td>$19.12</td></tr><tr><td>Peach</td><td>$2.99</td><td>1</td><td>$2.99</td></tr></table>'),\n",
       "  Document(metadata={'filetype': 'application/pdf', 'languages': ['eng'], 'last_modified': '2024-09-09T08:43:38', 'page_number': 1, 'orig_elements': 'eJy9lttu3DYQhl9FUHvRAkuJZ5G+K5qi8EWcFN70xjAEShytGesEifLGCfrupaRNkMMmQBbYBXQzv2Yk8v84JO8+xFBDA63PnY2volhSbnhFAHEpDOI0o0iXBUGYS4DCVszqMt5EcQPeWONNqPkQl103WNcaD+MS1+a5m3z+AG734INCGdOh5iDvnfUPQSVSsKD2nWv9XHd3pzVNxCYinCf8fhN9jCmRiZhjInCW0CPCWhGUeHwePTTzTF67d1Df9qaE+L/wwoKH0ruuzcvajGPeD10R0nBCJRMyJFSuBv/cw1L7+mW8DLjdTWa3zOouhnYX3y/q6POms65ysHhGMeUI6/Bssbri7IqpuboPlXk7NQUM82znQXh4N/sR/7Hd/nWzvX51E21fzakf/7t1vl6G+zUWTWhRZaBQBUwhDjhgkWCRNEZRYyqsDDsbFpKJJAuuC5yQxfU1lkIkbI4V4TOmr+M1/zQoisnvMHHNbGtvlrHG6ZsRhjF92w076NMXXTnNpo2pGR/zfipqV+bdvk2NQ6M3g4cBPTqfNlPtXSBo6vyx7fY12PDJAfzg4AmGdDYwHU3T15DbrhxT1z51roRVSiu3mwZABJHkbb876zr5fG1czxM/tjaIIdpIYIgVKrSsKARSmcwQw9QyjC1YBedbG5gsi4FRtsL/JEiZqEVgXCb6mLCUnNq0FIsLN+0LaNvn6O+pNXvTfk7mxgyD8e4JtnPmEUJAhVS0YKgSmCCuNEaa8hIxQm2ly8pWFT4nIZWQTcRlsO1AaBEE4wdkjIq5Yb8R1pLTCDFF9aW3VUpJ9M8E0Ea3PnoJddFNQwvRv9d/RqER8E8xo1LSinKNjDYZ4qWgyFimAzicKWqp5ZqfjZmkCd5EGdXrMbeGKkDJlmMx6PTbeE0/sZ+0oBeGRSiLbrsG9g8wQAC2OUIs+g2z36OQySMhM/VTADMlMISTEkkreLjOMIOMUKH9DMaQaQ2lFedrOiKyeY+TSh02vYOQaZbgReCZTNgRYS35IcZLYvqV6UR+0Tpv2jL4s+sG9x7s99yXRoNRDILnZbhMmnCFVAWniIY5cEEUrtT53A8Xj5CnSXB8dvYQCrLufzxjCT8SL+mntQ/PwoF0YTDX66UkulneXkW/UEwYZpj/oEvu/wdaJHy5', 'file_directory': '/Users/jorgep/Documents/ask_public_own/ai-starter-kit/multimodal_knowledge_retriever/data/sample_docs', 'filename': 'invoicesample.pdf', 'type': 'text'}, page_content='ATTENTION TO\\n\\nDenny Gunawan\\n\\n221 Queen St Melbourne VIC 3000\\n\\n123 Somewhere St, Melbourne VIC 3000 (03) 1234 5678\\n\\n$39.60\\n\\nInvoice Number: #20130304')]}"
      ]
     },
     "execution_count": 13,
     "metadata": {},
     "output_type": "execute_result"
    }
   ],
   "source": [
    "qachain(\"how many apples they bought\")"
   ]
  },
  {
   "cell_type": "code",
   "execution_count": 14,
   "metadata": {},
   "outputs": [
    {
     "data": {
      "text/plain": [
       "{'question': 'what is the main color in the business logo',\n",
       " 'answer': '\\n\\nThe main color in the business logo is yellow.',\n",
       " 'source_documents': [Document(metadata={'type': 'image', 'file_directory': '/Users/jorgep/Documents/ask_public_own/ai-starter-kit/multimodal_knowledge_retriever/data/sample_docs/invoicesample', 'filename': 'figure-1-1.jpg'}, page_content='The image features a logo for Sunny Farm, a company that specializes in fresh produce. The logo is a gold and yellow color scheme, with a sun in the center. The sun is surrounded by a green field, giving the impression of a sunny day. The logo is placed on a white background, making it stand out.'),\n",
       "  Document(metadata={'filetype': 'application/pdf', 'languages': ['eng'], 'last_modified': '2024-09-09T08:43:38', 'page_number': 1, 'orig_elements': 'eJzNV1uL3DYY/SvCtNCWkdHNuuxbnlpouw1k8lCWZdHl06zAY09suc02zX+v7PEmSzNtNoXZLgwYndGxpXO+78i+eldBC3vo8k0K1QWqGho0815jAoRhEV2DjYoSA+Miek5BAq02qNpDtsFmWzjvKt/3Q0idzTAu49be9VO+uYW0u80FYZybwlnh31PItwWlsuEFPfSpyzPv6kqqusyjpqG1uN6gdcyIUsexVrzWJ4CVUZBqvBsz7OedvExvoX11sB6q9+WPABl8Tn1341s7jjeHoXdlGqml4USVCTG1kO8OsHBf/lwtC+52k90tu7qqoNtV1ws65pt9H1JMsGjGCBOYmPLbEn0h+AXXM/tQmDfdtHcwzLudF5Hh7axHtf3hxeWP6NdfXs/z7h+6Tbld1vp3TwRRoXGiwZYFgUUxAVsSAibEKaU1UEf42TxpWE2L5JSS2syS34+NrNligTS1OAksjP/miWFEsCf25Dv0Uz/AHqXDOO1R6Nt+QGPKyBZZN8j33VjWCnkakA3pkEafuh2CNuUavWjTm8nu0dgH28KIgj0kN40owjDbOO1rdDl1/gFxg/Z211k0QkCjL3YPaXwzAfLTME7jBsFgM2rLA6ePd5uGzm4WRrQ+tWlMY5nSozAlBPm47vphQV3aodwm/QbbeYsnCosqp6kQDCtnSmERJ7BphMcsisY445k5Y7Mbqmoy9+58nQtnBRjl5ghQavRpZCX9a3E9Ze28mlzus23Rn2g7Xx/X1o6YQCGUgBUSC3AMaxoNbgINLkYiufdnU58SqudGpqXVjo39EZGslh/U1qcR9tnm/j/0f5TuRkYN0RfJbYhFd8axE9BgZqkyURCwvnkC3Q2t1UPdGeH8eKpRJmjNTiEr69no/v2rLfqGkq+/fSj8684XmXb9kP6A8E/RIzUBiJxhb4TGggqHXWMNll5EZY3jJMazm8CIVmth3yOUmeMxRilbSv0EcmQ9GxMenzjlaOZUGIuZ0QoLJcuLhHIeN8y5pgnRxsjOJzrXrFZrdvBF0A+IpGsGCaNqfhpZWM9G9K+4rAn54rJ3xHIlpcc2lrgXpjSAtcpi4SwIqxsPEc7ngCC8btYUoUd1j0hJGlbrh3p/iqysZ+RALb/cgKi1lVFqTHnDywnANTaGlM8dGWRJJCm8DGdsgUasucPuW2BFKBdr1N8b8ClyZD0jA8znHbj+C8PyKoQ=', 'file_directory': '/Users/jorgep/Documents/ask_public_own/ai-starter-kit/multimodal_knowledge_retriever/data/sample_docs', 'filename': 'invoicesample.pdf', 'type': 'text'}, page_content='THANK YOU\\n\\n* Lorem ipsum dolor sit amet, consectetur adipiscing elit. Aliquam sodales dapibus fermentum. Nunc adipiscing, magna sed scelerisque cursus, erat lectus dapibus urna, sed facilisis leo dui et ipsum.\\n\\nSubtotal | Total\\n\\nSubtotal\\n\\nGST (10%)\\n\\nTotal\\n\\n$36.00\\n\\n$3.60\\n\\n$39.60'),\n",
       "  Document(metadata={'filetype': 'application/pdf', 'languages': ['eng'], 'last_modified': '2024-09-09T08:43:38', 'page_number': 1, 'orig_elements': 'eJy9lttu3DYQhl9FUHvRAkuJZ5G+K5qi8EWcFN70xjAEShytGesEifLGCfrupaRNkMMmQBbYBXQzv2Yk8v84JO8+xFBDA63PnY2volhSbnhFAHEpDOI0o0iXBUGYS4DCVszqMt5EcQPeWONNqPkQl103WNcaD+MS1+a5m3z+AG734INCGdOh5iDvnfUPQSVSsKD2nWv9XHd3pzVNxCYinCf8fhN9jCmRiZhjInCW0CPCWhGUeHwePTTzTF67d1Df9qaE+L/wwoKH0ruuzcvajGPeD10R0nBCJRMyJFSuBv/cw1L7+mW8DLjdTWa3zOouhnYX3y/q6POms65ysHhGMeUI6/Bssbri7IqpuboPlXk7NQUM82znQXh4N/sR/7Hd/nWzvX51E21fzakf/7t1vl6G+zUWTWhRZaBQBUwhDjhgkWCRNEZRYyqsDDsbFpKJJAuuC5yQxfU1lkIkbI4V4TOmr+M1/zQoisnvMHHNbGtvlrHG6ZsRhjF92w076NMXXTnNpo2pGR/zfipqV+bdvk2NQ6M3g4cBPTqfNlPtXSBo6vyx7fY12PDJAfzg4AmGdDYwHU3T15DbrhxT1z51roRVSiu3mwZABJHkbb876zr5fG1czxM/tjaIIdpIYIgVKrSsKARSmcwQw9QyjC1YBedbG5gsi4FRtsL/JEiZqEVgXCb6mLCUnNq0FIsLN+0LaNvn6O+pNXvTfk7mxgyD8e4JtnPmEUJAhVS0YKgSmCCuNEaa8hIxQm2ly8pWFT4nIZWQTcRlsO1AaBEE4wdkjIq5Yb8R1pLTCDFF9aW3VUpJ9M8E0Ea3PnoJddFNQwvRv9d/RqER8E8xo1LSinKNjDYZ4qWgyFimAzicKWqp5ZqfjZmkCd5EGdXrMbeGKkDJlmMx6PTbeE0/sZ+0oBeGRSiLbrsG9g8wQAC2OUIs+g2z36OQySMhM/VTADMlMISTEkkreLjOMIOMUKH9DMaQaQ2lFedrOiKyeY+TSh02vYOQaZbgReCZTNgRYS35IcZLYvqV6UR+0Tpv2jL4s+sG9x7s99yXRoNRDILnZbhMmnCFVAWniIY5cEEUrtT53A8Xj5CnSXB8dvYQCrLufzxjCT8SL+mntQ/PwoF0YTDX66UkulneXkW/UEwYZpj/oEvu/wdaJHy5', 'file_directory': '/Users/jorgep/Documents/ask_public_own/ai-starter-kit/multimodal_knowledge_retriever/data/sample_docs', 'filename': 'invoicesample.pdf', 'type': 'text'}, page_content='ATTENTION TO\\n\\nDenny Gunawan\\n\\n221 Queen St Melbourne VIC 3000\\n\\n123 Somewhere St, Melbourne VIC 3000 (03) 1234 5678\\n\\n$39.60\\n\\nInvoice Number: #20130304'),\n",
       "  Document(metadata={'last_modified': '2024-09-09T08:43:38', 'text_as_html': '<table><tr><td>Apple</td><td>$5.00</td><td>1</td><td>$5.00</td></tr><tr><td>Orange</td><td>$1.99</td><td>2</td><td>$3.98</td></tr><tr><td>Watermelon</td><td>$1.69</td><td>3</td><td>$5.07</td></tr><tr><td>Mango</td><td>$9.56</td><td>2</td><td>$19.12</td></tr><tr><td>Peach</td><td>$2.99</td><td>1</td><td>$2.99</td></tr></table>', 'table_as_cells': [{'x': 0, 'y': 0, 'w': 1, 'h': 1, 'content': 'Apple'}, {'x': 0, 'y': 1, 'w': 1, 'h': 1, 'content': 'Orange'}, {'x': 0, 'y': 2, 'w': 1, 'h': 1, 'content': 'Watermelon'}, {'x': 0, 'y': 3, 'w': 1, 'h': 1, 'content': 'Mango'}, {'x': 0, 'y': 4, 'w': 1, 'h': 1, 'content': 'Peach'}, {'x': 1, 'y': 0, 'w': 1, 'h': 1, 'content': '$5.00'}, {'x': 1, 'y': 1, 'w': 1, 'h': 1, 'content': '$1.99'}, {'x': 1, 'y': 2, 'w': 1, 'h': 1, 'content': '$1.69'}, {'x': 1, 'y': 3, 'w': 1, 'h': 1, 'content': '$9.56'}, {'x': 1, 'y': 4, 'w': 1, 'h': 1, 'content': '$2.99'}, {'x': 2, 'y': 0, 'w': 1, 'h': 1, 'content': '1'}, {'x': 2, 'y': 1, 'w': 1, 'h': 1, 'content': '2'}, {'x': 2, 'y': 2, 'w': 1, 'h': 1, 'content': '3'}, {'x': 2, 'y': 3, 'w': 1, 'h': 1, 'content': '2'}, {'x': 2, 'y': 4, 'w': 1, 'h': 1, 'content': '1'}, {'x': 3, 'y': 0, 'w': 1, 'h': 1, 'content': '$5.00'}, {'x': 3, 'y': 1, 'w': 1, 'h': 1, 'content': '$3.98'}, {'x': 3, 'y': 2, 'w': 1, 'h': 1, 'content': '$5.07'}, {'x': 3, 'y': 3, 'w': 1, 'h': 1, 'content': '$19.12'}, {'x': 3, 'y': 4, 'w': 1, 'h': 1, 'content': '$2.99'}], 'filetype': 'application/pdf', 'languages': ['eng'], 'page_number': 1, 'orig_elements': 'eJyVld9r2zAQx/8VYfKwQeNYVmzHpRT2uIeyjA72EIqR7Ysj6l/YCm0o/d93uqR1G8fTBgnKne8j3X1zPm1eHCihglonKneumZOlPM3SPJwDF8F8Gft8HudRMJdRDnG0TLeht3WumFOBlrnUEpkXJ2uaLle11NCTXcpDs9fJDlSx0+jxhYiRObmfVK536OVhINDbNqrWhttsuBe7wRWL48hdPVyxN5tjGq5HjkAId3nJc2TQ4/SHXkNlalmrZyjvW5mB84oPctCQadXUSVbKvk/arkkxzHNDEfj4fKtK0IcWCF3fOZRxXexlQWVtHKgL54G8vU6qJldbBSSa7/nLuRfj55e3ul6Ka7EydItkUu+rFDpTLnq0TEtIZJ9kUJa0qRGv1qi/2edb25ZgyN0p/um0Pps8cT2YFWv5RP3oMEsrxs+x3/h3dRWUTW1D/XP0Dg9sbJQ4p9Ygs52NWp5Ts8D1vCmKT2ky424c26iRJEiFVmqkxgybNLRRIzVm/j9kOFKDTxH+lBK+jRipIGzESAHrGaPqrXX8Xx+IyT4QbryyUeM+wLMiGzXuAx67fFIKMSXFXxtBvMthBo+GZ22mx05XpUFvaJ7c3ugOv/ktjY+bBf4yFgn2bvFL/gWBR/g4RYYo8wK9W/7gN4KO6WGYfNwhHHYQn86PxjvQTBmCzDt16XjSeEzTbBmi/I/J80t+ghdH/eh2MNoep2kha5Wx73iJ9GzdqQwWjwUjbRlpx45SMZKIDZUzqphRIYwKYJQWo2PZz72stdKHL4/FV3a/T3WjZcn4aU+fkbJMkB0Zm0o1AW8N8nY5/TJZO68PfwB7VwYC', 'file_directory': '/Users/jorgep/Documents/ask_public_own/ai-starter-kit/multimodal_knowledge_retriever/data/sample_docs', 'filename': 'invoicesample.pdf', 'type': 'table'}, page_content='<table><tr><td>Apple</td><td>$5.00</td><td>1</td><td>$5.00</td></tr><tr><td>Orange</td><td>$1.99</td><td>2</td><td>$3.98</td></tr><tr><td>Watermelon</td><td>$1.69</td><td>3</td><td>$5.07</td></tr><tr><td>Mango</td><td>$9.56</td><td>2</td><td>$19.12</td></tr><tr><td>Peach</td><td>$2.99</td><td>1</td><td>$2.99</td></tr></table>')]}"
      ]
     },
     "execution_count": 14,
     "metadata": {},
     "output_type": "execute_result"
    }
   ],
   "source": [
    "qachain(\"what is the main color in the business logo\")"
   ]
  },
  {
   "cell_type": "code",
   "execution_count": 15,
   "metadata": {},
   "outputs": [
    {
     "data": {
      "text/plain": [
       "{'question': 'what is written in the logo',\n",
       " 'answer': '\\n\\nThe logo says \"Sunny Farm Victoria.\"',\n",
       " 'source_documents': [Document(metadata={'type': 'image', 'file_directory': '/Users/jorgep/Documents/ask_public_own/ai-starter-kit/multimodal_knowledge_retriever/data/sample_docs/invoicesample', 'filename': 'figure-1-1.jpg'}, page_content='The image features a logo for Sunny Farm, a company that specializes in fresh produce. The logo is a gold and yellow color scheme, with a sun in the center. The sun is surrounded by a green field, giving the impression of a sunny day. The logo is placed on a white background, making it stand out.'),\n",
       "  Document(metadata={'filetype': 'application/pdf', 'languages': ['eng'], 'last_modified': '2024-09-09T08:43:38', 'page_number': 1, 'orig_elements': 'eJzNV1uL3DYY/SvCtNCWkdHNuuxbnlpouw1k8lCWZdHl06zAY09suc02zX+v7PEmSzNtNoXZLgwYndGxpXO+78i+eldBC3vo8k0K1QWqGho0815jAoRhEV2DjYoSA+Miek5BAq02qNpDtsFmWzjvKt/3Q0idzTAu49be9VO+uYW0u80FYZybwlnh31PItwWlsuEFPfSpyzPv6kqqusyjpqG1uN6gdcyIUsexVrzWJ4CVUZBqvBsz7OedvExvoX11sB6q9+WPABl8Tn1341s7jjeHoXdlGqml4USVCTG1kO8OsHBf/lwtC+52k90tu7qqoNtV1ws65pt9H1JMsGjGCBOYmPLbEn0h+AXXM/tQmDfdtHcwzLudF5Hh7axHtf3hxeWP6NdfXs/z7h+6Tbld1vp3TwRRoXGiwZYFgUUxAVsSAibEKaU1UEf42TxpWE2L5JSS2syS34+NrNligTS1OAksjP/miWFEsCf25Dv0Uz/AHqXDOO1R6Nt+QGPKyBZZN8j33VjWCnkakA3pkEafuh2CNuUavWjTm8nu0dgH28KIgj0kN40owjDbOO1rdDl1/gFxg/Z211k0QkCjL3YPaXwzAfLTME7jBsFgM2rLA6ePd5uGzm4WRrQ+tWlMY5nSozAlBPm47vphQV3aodwm/QbbeYsnCosqp6kQDCtnSmERJ7BphMcsisY445k5Y7Mbqmoy9+58nQtnBRjl5ghQavRpZCX9a3E9Ze28mlzus23Rn2g7Xx/X1o6YQCGUgBUSC3AMaxoNbgINLkYiufdnU58SqudGpqXVjo39EZGslh/U1qcR9tnm/j/0f5TuRkYN0RfJbYhFd8axE9BgZqkyURCwvnkC3Q2t1UPdGeH8eKpRJmjNTiEr69no/v2rLfqGkq+/fSj8684XmXb9kP6A8E/RIzUBiJxhb4TGggqHXWMNll5EZY3jJMazm8CIVmth3yOUmeMxRilbSv0EcmQ9GxMenzjlaOZUGIuZ0QoLJcuLhHIeN8y5pgnRxsjOJzrXrFZrdvBF0A+IpGsGCaNqfhpZWM9G9K+4rAn54rJ3xHIlpcc2lrgXpjSAtcpi4SwIqxsPEc7ngCC8btYUoUd1j0hJGlbrh3p/iqysZ+RALb/cgKi1lVFqTHnDywnANTaGlM8dGWRJJCm8DGdsgUasucPuW2BFKBdr1N8b8ClyZD0jA8znHbj+C8PyKoQ=', 'file_directory': '/Users/jorgep/Documents/ask_public_own/ai-starter-kit/multimodal_knowledge_retriever/data/sample_docs', 'filename': 'invoicesample.pdf', 'type': 'text'}, page_content='THANK YOU\\n\\n* Lorem ipsum dolor sit amet, consectetur adipiscing elit. Aliquam sodales dapibus fermentum. Nunc adipiscing, magna sed scelerisque cursus, erat lectus dapibus urna, sed facilisis leo dui et ipsum.\\n\\nSubtotal | Total\\n\\nSubtotal\\n\\nGST (10%)\\n\\nTotal\\n\\n$36.00\\n\\n$3.60\\n\\n$39.60'),\n",
       "  Document(metadata={'filetype': 'application/pdf', 'languages': ['eng'], 'last_modified': '2024-09-09T08:43:38', 'page_number': 1, 'orig_elements': 'eJy9lttu3DYQhl9FUHvRAkuJZ5G+K5qi8EWcFN70xjAEShytGesEifLGCfrupaRNkMMmQBbYBXQzv2Yk8v84JO8+xFBDA63PnY2volhSbnhFAHEpDOI0o0iXBUGYS4DCVszqMt5EcQPeWONNqPkQl103WNcaD+MS1+a5m3z+AG734INCGdOh5iDvnfUPQSVSsKD2nWv9XHd3pzVNxCYinCf8fhN9jCmRiZhjInCW0CPCWhGUeHwePTTzTF67d1Df9qaE+L/wwoKH0ruuzcvajGPeD10R0nBCJRMyJFSuBv/cw1L7+mW8DLjdTWa3zOouhnYX3y/q6POms65ysHhGMeUI6/Bssbri7IqpuboPlXk7NQUM82znQXh4N/sR/7Hd/nWzvX51E21fzakf/7t1vl6G+zUWTWhRZaBQBUwhDjhgkWCRNEZRYyqsDDsbFpKJJAuuC5yQxfU1lkIkbI4V4TOmr+M1/zQoisnvMHHNbGtvlrHG6ZsRhjF92w076NMXXTnNpo2pGR/zfipqV+bdvk2NQ6M3g4cBPTqfNlPtXSBo6vyx7fY12PDJAfzg4AmGdDYwHU3T15DbrhxT1z51roRVSiu3mwZABJHkbb876zr5fG1czxM/tjaIIdpIYIgVKrSsKARSmcwQw9QyjC1YBedbG5gsi4FRtsL/JEiZqEVgXCb6mLCUnNq0FIsLN+0LaNvn6O+pNXvTfk7mxgyD8e4JtnPmEUJAhVS0YKgSmCCuNEaa8hIxQm2ly8pWFT4nIZWQTcRlsO1AaBEE4wdkjIq5Yb8R1pLTCDFF9aW3VUpJ9M8E0Ea3PnoJddFNQwvRv9d/RqER8E8xo1LSinKNjDYZ4qWgyFimAzicKWqp5ZqfjZmkCd5EGdXrMbeGKkDJlmMx6PTbeE0/sZ+0oBeGRSiLbrsG9g8wQAC2OUIs+g2z36OQySMhM/VTADMlMISTEkkreLjOMIOMUKH9DMaQaQ2lFedrOiKyeY+TSh02vYOQaZbgReCZTNgRYS35IcZLYvqV6UR+0Tpv2jL4s+sG9x7s99yXRoNRDILnZbhMmnCFVAWniIY5cEEUrtT53A8Xj5CnSXB8dvYQCrLufzxjCT8SL+mntQ/PwoF0YTDX66UkulneXkW/UEwYZpj/oEvu/wdaJHy5', 'file_directory': '/Users/jorgep/Documents/ask_public_own/ai-starter-kit/multimodal_knowledge_retriever/data/sample_docs', 'filename': 'invoicesample.pdf', 'type': 'text'}, page_content='ATTENTION TO\\n\\nDenny Gunawan\\n\\n221 Queen St Melbourne VIC 3000\\n\\n123 Somewhere St, Melbourne VIC 3000 (03) 1234 5678\\n\\n$39.60\\n\\nInvoice Number: #20130304'),\n",
       "  Document(metadata={'last_modified': '2024-09-09T08:43:38', 'text_as_html': '<table><tr><td>Apple</td><td>$5.00</td><td>1</td><td>$5.00</td></tr><tr><td>Orange</td><td>$1.99</td><td>2</td><td>$3.98</td></tr><tr><td>Watermelon</td><td>$1.69</td><td>3</td><td>$5.07</td></tr><tr><td>Mango</td><td>$9.56</td><td>2</td><td>$19.12</td></tr><tr><td>Peach</td><td>$2.99</td><td>1</td><td>$2.99</td></tr></table>', 'table_as_cells': [{'x': 0, 'y': 0, 'w': 1, 'h': 1, 'content': 'Apple'}, {'x': 0, 'y': 1, 'w': 1, 'h': 1, 'content': 'Orange'}, {'x': 0, 'y': 2, 'w': 1, 'h': 1, 'content': 'Watermelon'}, {'x': 0, 'y': 3, 'w': 1, 'h': 1, 'content': 'Mango'}, {'x': 0, 'y': 4, 'w': 1, 'h': 1, 'content': 'Peach'}, {'x': 1, 'y': 0, 'w': 1, 'h': 1, 'content': '$5.00'}, {'x': 1, 'y': 1, 'w': 1, 'h': 1, 'content': '$1.99'}, {'x': 1, 'y': 2, 'w': 1, 'h': 1, 'content': '$1.69'}, {'x': 1, 'y': 3, 'w': 1, 'h': 1, 'content': '$9.56'}, {'x': 1, 'y': 4, 'w': 1, 'h': 1, 'content': '$2.99'}, {'x': 2, 'y': 0, 'w': 1, 'h': 1, 'content': '1'}, {'x': 2, 'y': 1, 'w': 1, 'h': 1, 'content': '2'}, {'x': 2, 'y': 2, 'w': 1, 'h': 1, 'content': '3'}, {'x': 2, 'y': 3, 'w': 1, 'h': 1, 'content': '2'}, {'x': 2, 'y': 4, 'w': 1, 'h': 1, 'content': '1'}, {'x': 3, 'y': 0, 'w': 1, 'h': 1, 'content': '$5.00'}, {'x': 3, 'y': 1, 'w': 1, 'h': 1, 'content': '$3.98'}, {'x': 3, 'y': 2, 'w': 1, 'h': 1, 'content': '$5.07'}, {'x': 3, 'y': 3, 'w': 1, 'h': 1, 'content': '$19.12'}, {'x': 3, 'y': 4, 'w': 1, 'h': 1, 'content': '$2.99'}], 'filetype': 'application/pdf', 'languages': ['eng'], 'page_number': 1, 'orig_elements': 'eJyVld9r2zAQx/8VYfKwQeNYVmzHpRT2uIeyjA72EIqR7Ysj6l/YCm0o/d93uqR1G8fTBgnKne8j3X1zPm1eHCihglonKneumZOlPM3SPJwDF8F8Gft8HudRMJdRDnG0TLeht3WumFOBlrnUEpkXJ2uaLle11NCTXcpDs9fJDlSx0+jxhYiRObmfVK536OVhINDbNqrWhttsuBe7wRWL48hdPVyxN5tjGq5HjkAId3nJc2TQ4/SHXkNlalmrZyjvW5mB84oPctCQadXUSVbKvk/arkkxzHNDEfj4fKtK0IcWCF3fOZRxXexlQWVtHKgL54G8vU6qJldbBSSa7/nLuRfj55e3ul6Ka7EydItkUu+rFDpTLnq0TEtIZJ9kUJa0qRGv1qi/2edb25ZgyN0p/um0Pps8cT2YFWv5RP3oMEsrxs+x3/h3dRWUTW1D/XP0Dg9sbJQ4p9Ygs52NWp5Ts8D1vCmKT2ky424c26iRJEiFVmqkxgybNLRRIzVm/j9kOFKDTxH+lBK+jRipIGzESAHrGaPqrXX8Xx+IyT4QbryyUeM+wLMiGzXuAx67fFIKMSXFXxtBvMthBo+GZ22mx05XpUFvaJ7c3ugOv/ktjY+bBf4yFgn2bvFL/gWBR/g4RYYo8wK9W/7gN4KO6WGYfNwhHHYQn86PxjvQTBmCzDt16XjSeEzTbBmi/I/J80t+ghdH/eh2MNoep2kha5Wx73iJ9GzdqQwWjwUjbRlpx45SMZKIDZUzqphRIYwKYJQWo2PZz72stdKHL4/FV3a/T3WjZcn4aU+fkbJMkB0Zm0o1AW8N8nY5/TJZO68PfwB7VwYC', 'file_directory': '/Users/jorgep/Documents/ask_public_own/ai-starter-kit/multimodal_knowledge_retriever/data/sample_docs', 'filename': 'invoicesample.pdf', 'type': 'table'}, page_content='<table><tr><td>Apple</td><td>$5.00</td><td>1</td><td>$5.00</td></tr><tr><td>Orange</td><td>$1.99</td><td>2</td><td>$3.98</td></tr><tr><td>Watermelon</td><td>$1.69</td><td>3</td><td>$5.07</td></tr><tr><td>Mango</td><td>$9.56</td><td>2</td><td>$19.12</td></tr><tr><td>Peach</td><td>$2.99</td><td>1</td><td>$2.99</td></tr></table>')]}"
      ]
     },
     "execution_count": 15,
     "metadata": {},
     "output_type": "execute_result"
    }
   ],
   "source": [
    "qachain(\"what is written in the logo\")"
   ]
  },
  {
   "cell_type": "code",
   "execution_count": null,
   "metadata": {},
   "outputs": [],
   "source": []
  }
 ],
 "metadata": {
  "kernelspec": {
   "display_name": "multimodalenv",
   "language": "python",
   "name": "python3"
  },
  "language_info": {
   "codemirror_mode": {
    "name": "ipython",
    "version": 3
   },
   "file_extension": ".py",
   "mimetype": "text/x-python",
   "name": "python",
   "nbconvert_exporter": "python",
   "pygments_lexer": "ipython3",
   "version": "3.11.3"
  }
 },
 "nbformat": 4,
 "nbformat_minor": 2
}
