{
 "cells": [
  {
   "cell_type": "markdown",
   "metadata": {
    "vscode": {
     "languageId": "plaintext"
    }
   },
   "source": [
    "#  Deployment and inference"
   ]
  },
  {
   "cell_type": "code",
   "execution_count": 1,
   "metadata": {},
   "outputs": [],
   "source": [
    "import os\n",
    "import sys\n",
    "\n",
    "current_dir = os.getcwd()\n",
    "kit_dir =  os.path.abspath(os.path.join(current_dir, '..'))\n",
    "repo_dir = os.path.abspath(os.path.join(kit_dir, '..'))\n",
    "sys.path.append(repo_dir)\n",
    "\n",
    "from utils.fine_tuning.src.snsdk_wrapper import SnsdkWrapper"
   ]
  },
  {
   "cell_type": "markdown",
   "metadata": {},
   "source": [
    "## Step by Step / Manual setting\n",
    "\n",
    "First instantiate the SambaStudio client "
   ]
  },
  {
   "cell_type": "code",
   "execution_count": 2,
   "metadata": {},
   "outputs": [
    {
     "name": "stderr",
     "output_type": "stream",
     "text": [
      "2024-11-25 16:13:38,830 [INFO] Using variables from Snapi config to set up Snsdk.\n"
     ]
    }
   ],
   "source": [
    "sambastudio_client = SnsdkWrapper()"
   ]
  },
  {
   "cell_type": "markdown",
   "metadata": {},
   "source": [
    "### Create Project"
   ]
  },
  {
   "cell_type": "markdown",
   "metadata": {},
   "source": [
    "#### Set Project configs"
   ]
  },
  {
   "cell_type": "code",
   "execution_count": 3,
   "metadata": {},
   "outputs": [],
   "source": [
    "project = {\n",
    "    'project_name': 'byoc fine-tuning project',\n",
    "    'project_description': 'this project will be used to test the BYOC and Fine-tuning e2e pipeline implementation'\n",
    "}"
   ]
  },
  {
   "cell_type": "code",
   "execution_count": 8,
   "metadata": {},
   "outputs": [
    {
     "name": "stderr",
     "output_type": "stream",
     "text": [
      "2024-11-25 16:10:34,332 [INFO] Project with name 'byoc fine-tuning project' found with id b11867e6-7ca8-45bd-b09b-41cbc7ba73ce\n",
      "2024-11-25 16:10:34,332 [INFO] Project with name 'byoc fine-tuning project' already exists with id 'b11867e6-7ca8-45bd-b09b-41cbc7ba73ce', using it\n"
     ]
    },
    {
     "data": {
      "text/plain": [
       "'b11867e6-7ca8-45bd-b09b-41cbc7ba73ce'"
      ]
     },
     "execution_count": 8,
     "metadata": {},
     "output_type": "execute_result"
    }
   ],
   "source": [
    "# Execute the create project method from client with project parameters\n",
    "sambastudio_client.create_project(\n",
    "    project_name = project['project_name'],\n",
    "    project_description = project['project_description']\n",
    ")"
   ]
  },
  {
   "cell_type": "markdown",
   "metadata": {},
   "source": [
    "### Create a Bundle model"
   ]
  },
  {
   "cell_type": "markdown",
   "metadata": {},
   "source": [
    "#### Set bundle model config "
   ]
  },
  {
   "cell_type": "code",
   "execution_count": 4,
   "metadata": {},
   "outputs": [],
   "source": [
    "composite_model= {\n",
    "    'model_name':  'Suzume-Llama-3-8B-Multilingual-Bundle',\n",
    "    'description': 'Bundle including base and public health fine-tuned Suzume-Llama-3-8B-Multilingual',\n",
    "    'rdu_required': 8,\n",
    "    'model_version': '1',\n",
    "    'model_list': [\n",
    "        'Suzume-Llama-3-8B-Multilingual',\n",
    "        'Suzume-Llama-3-8B-Multilingual-Publichealth'\n",
    "    ]\n",
    "}"
   ]
  },
  {
   "cell_type": "code",
   "execution_count": 11,
   "metadata": {},
   "outputs": [
    {
     "name": "stderr",
     "output_type": "stream",
     "text": [
      "2024-11-25 16:10:57,701 [INFO] Model with name 'Suzume-Llama-3-8B-Multilingual-Bundle' not found\n",
      "2024-11-25 16:10:57,971 [INFO] Model with name 'Suzume-Llama-3-8B-Multilingual' found with id b2bb7c02-3b18-4ef4-bd58-1b19669bce15\n",
      "2024-11-25 16:10:58,214 [INFO] Model with name 'Suzume-Llama-3-8B-Multilingual-Publichealth' found with id c867b392-2d02-453d-9fd8-e14016e39153\n",
      "2024-11-25 16:10:58,214 [INFO] Models to include in composite found with ids '[('Suzume-Llama-3-8B-Multilingual', 'b2bb7c02-3b18-4ef4-bd58-1b19669bce15'), ('Suzume-Llama-3-8B-Multilingual-Publichealth', 'c867b392-2d02-453d-9fd8-e14016e39153')]\n",
      "2024-11-25 16:10:58,815 [INFO] Composite model with name Suzume-Llama-3-8B-Multilingual-Bundle created with id 47a71ddb-04d9-459f-9314-198e6f78458d\n"
     ]
    },
    {
     "data": {
      "text/plain": [
       "'47a71ddb-04d9-459f-9314-198e6f78458d'"
      ]
     },
     "execution_count": 11,
     "metadata": {},
     "output_type": "execute_result"
    }
   ],
   "source": [
    "# Execute the create composite model method from client with composite model parameters\n",
    "sambastudio_client.create_composite_model(       \n",
    "        model_name = composite_model['model_name'],\n",
    "        description = composite_model['description'],\n",
    "        model_list = composite_model['model_list'],\n",
    "        rdu_required = composite_model['rdu_required']\n",
    ")"
   ]
  },
  {
   "cell_type": "markdown",
   "metadata": {},
   "source": [
    "### Create Endpoint"
   ]
  },
  {
   "cell_type": "markdown",
   "metadata": {},
   "source": [
    "#### Set endpoint config "
   ]
  },
  {
   "cell_type": "code",
   "execution_count": 5,
   "metadata": {},
   "outputs": [],
   "source": [
    "endpoint = {\n",
    "  'endpoint_name': 'suzume-multilingual-endpoint',\n",
    "  'endpoint_description': 'endpoint for suzume multilingual bundle',\n",
    "  'endpoint_instances': 1,\n",
    "  'hyperparams': {}\n",
    "}"
   ]
  },
  {
   "cell_type": "code",
   "execution_count": 6,
   "metadata": {},
   "outputs": [
    {
     "name": "stderr",
     "output_type": "stream",
     "text": [
      "2024-11-25 16:13:52,787 [INFO] Project with name 'byoc fine-tuning project' found with id b11867e6-7ca8-45bd-b09b-41cbc7ba73ce\n",
      "2024-11-25 16:13:53,119 [INFO] Model with name 'Suzume-Llama-3-8B-Multilingual-Bundle' found with id 47a71ddb-04d9-459f-9314-198e6f78458d\n",
      "2024-11-25 16:13:53,335 [INFO] Endpoint with name 'suzume-multilingual-endpoint' not found in project 'b11867e6-7ca8-45bd-b09b-41cbc7ba73ce'\n",
      "2024-11-25 16:13:53,836 [INFO] Endpoint 'suzume-multilingual-endpoint' created\n"
     ]
    },
    {
     "data": {
      "text/plain": [
       "'b035b70f-a96a-49ed-82c1-50f2d3502f76'"
      ]
     },
     "execution_count": 6,
     "metadata": {},
     "output_type": "execute_result"
    }
   ],
   "source": [
    "# Execute the create endpoint method from client with endpoint parameters\n",
    "sambastudio_client.create_endpoint(\n",
    "    project_name=project['project_name'],\n",
    "    endpoint_name=endpoint['endpoint_name'],\n",
    "    endpoint_description=endpoint['endpoint_description'],\n",
    "    model_name=composite_model['model_name'],\n",
    "    model_version=composite_model['model_version'],\n",
    "    instances=endpoint['endpoint_instances'],\n",
    "    hyperparams=endpoint['hyperparams'],\n",
    "    rdu_arch=\"SN40L-8\",\n",
    ")"
   ]
  },
  {
   "cell_type": "code",
   "execution_count": null,
   "metadata": {},
   "outputs": [],
   "source": [
    "#get endpoint details, including api key and envs\n",
    "sambastudio_client.get_endpoint_details(\n",
    "    project_name=project['project_name'],\n",
    "    endpoint_name=endpoint['endpoint_name']\n",
    ")"
   ]
  },
  {
   "cell_type": "markdown",
   "metadata": {},
   "source": [
    "### Inference"
   ]
  },
  {
   "cell_type": "markdown",
   "metadata": {},
   "source": [
    "#### Get endpoint details"
   ]
  },
  {
   "cell_type": "code",
   "execution_count": 10,
   "metadata": {},
   "outputs": [
    {
     "name": "stderr",
     "output_type": "stream",
     "text": [
      "2024-11-25 16:15:01,078 [INFO] Project with name 'byoc fine-tuning project' found with id b11867e6-7ca8-45bd-b09b-41cbc7ba73ce\n"
     ]
    }
   ],
   "source": [
    "# store envs\n",
    "endpoint_env = sambastudio_client.get_endpoint_details(\n",
    "    project_name=project['project_name'],\n",
    "    endpoint_name=endpoint['endpoint_name']\n",
    "    )['langchain_wrapper_env']"
   ]
  },
  {
   "cell_type": "code",
   "execution_count": null,
   "metadata": {},
   "outputs": [],
   "source": [
    "# instantiate langchain chat models to test inference \n",
    "\n",
    "from langchain_community.chat_models import ChatSambaStudio\n",
    "\n",
    "multilingual_llm = ChatSambaStudio(\n",
    "    sambastudio_url=endpoint_env.get(\"SAMBASTUDIO_URL\"),\n",
    "    sambastudio_api_key=endpoint_env.get(\"SAMBASTUDIO_API_KEY\"),\n",
    "    temperature = 0.01,\n",
    "    max_tokens = 1024,\n",
    "    top_p = 0.1,\n",
    "    top_k = 1,\n",
    "    do_sample = False,\n",
    "    process_prompt = False,\n",
    "    model = \"Suzume-Llama-3-8B-Multilingual\"\n",
    ")\n",
    "\n",
    "multilingual_health_llm = ChatSambaStudio(\n",
    "    sambastudio_url=endpoint_env.get(\"SAMBASTUDIO_URL\"),\n",
    "    sambastudio_api_key=endpoint_env.get(\"SAMBASTUDIO_API_KEY\"),\n",
    "    temperature = 0.01,\n",
    "    max_tokens = 1024,\n",
    "    top_p = 0.1,\n",
    "    top_k = 1,\n",
    "    do_sample = False,\n",
    "    process_prompt = False,\n",
    "    model = \"Suzume-Llama-3-8B-Multilingual-Publichealth\"\n",
    ")"
   ]
  },
  {
   "cell_type": "code",
   "execution_count": null,
   "metadata": {},
   "outputs": [],
   "source": [
    "multilingual_llm.invoke(\"which are the best habits to improve my mental capabilities\")"
   ]
  },
  {
   "cell_type": "code",
   "execution_count": null,
   "metadata": {},
   "outputs": [],
   "source": [
    "multilingual_health_llm.invoke(\"Why im felling mental fatigue, can be covid related\")"
   ]
  },
  {
   "cell_type": "markdown",
   "metadata": {},
   "source": [
    "## Streamlined Execution\n",
    "\n",
    "The bundle model creation and endpoint deployment can be done in a streamlined way setting all the composite model and endpoint parameters in a config file like in the [deploy_config.yaml](../deploy_config.yaml) example, and executing:"
   ]
  },
  {
   "cell_type": "code",
   "execution_count": null,
   "metadata": {},
   "outputs": [],
   "source": [
    "config_file = os.path.join(kit_dir, 'deploy_config.yaml')\n",
    "sambastudio_client = SnsdkWrapper(config_file)\n",
    "sambastudio_client.create_project()\n",
    "sambastudio_client.create_composite_model()\n",
    "sambastudio_client.create_endpoint()\n",
    "endpoint_env = sambastudio_client.get_endpoint_details()"
   ]
  },
  {
   "cell_type": "code",
   "execution_count": null,
   "metadata": {},
   "outputs": [],
   "source": []
  }
 ],
 "metadata": {
  "kernelspec": {
   "display_name": "finetuning_env",
   "language": "python",
   "name": "python3"
  },
  "language_info": {
   "codemirror_mode": {
    "name": "ipython",
    "version": 3
   },
   "file_extension": ".py",
   "mimetype": "text/x-python",
   "name": "python",
   "nbconvert_exporter": "python",
   "pygments_lexer": "ipython3",
   "version": "3.11.3"
  }
 },
 "nbformat": 4,
 "nbformat_minor": 2
}
