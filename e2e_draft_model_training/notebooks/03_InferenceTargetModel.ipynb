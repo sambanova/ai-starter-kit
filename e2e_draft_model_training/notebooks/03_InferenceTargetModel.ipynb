{
 "cells": [
  {
   "cell_type": "markdown",
   "metadata": {
    "vscode": {
     "languageId": "plaintext"
    }
   },
   "source": [
    "#  Deployment and inference"
   ]
  },
  {
   "cell_type": "code",
   "execution_count": 29,
   "metadata": {},
   "outputs": [],
   "source": [
    "import os\n",
    "import sys\n",
    "\n",
    "current_dir = os.getcwd()\n",
    "kit_dir =  os.path.abspath(os.path.join(current_dir, '..'))\n",
    "repo_dir = os.path.abspath(os.path.join(kit_dir, '..'))\n",
    "sys.path.append(repo_dir)\n",
    "\n",
    "from utils.fine_tuning.src.snsdk_wrapper import SnsdkWrapper"
   ]
  },
  {
   "cell_type": "markdown",
   "metadata": {},
   "source": [
    "## Step by Step / Manual setting\n",
    "\n",
    "First instantiate the SambaStudio client "
   ]
  },
  {
   "cell_type": "code",
   "execution_count": 30,
   "metadata": {},
   "outputs": [
    {
     "name": "stderr",
     "output_type": "stream",
     "text": [
      "2025-03-31 22:44:27,721 [INFO] Using variables from .snapi config to set up Snsdk.\n"
     ]
    }
   ],
   "source": [
    "sambastudio_client = SnsdkWrapper()"
   ]
  },
  {
   "cell_type": "markdown",
   "metadata": {},
   "source": [
    "### Create Project"
   ]
  },
  {
   "cell_type": "markdown",
   "metadata": {},
   "source": [
    "#### Set Project configs"
   ]
  },
  {
   "cell_type": "code",
   "execution_count": 31,
   "metadata": {},
   "outputs": [],
   "source": [
    "project = {\n",
    "    'project_name': 'e2e-draft-model-training-project',\n",
    "    'project_description': 'this project will be used to test the E2E Draft Model Training pipeline implementation'\n",
    "}"
   ]
  },
  {
   "cell_type": "code",
   "execution_count": 32,
   "metadata": {},
   "outputs": [
    {
     "name": "stderr",
     "output_type": "stream",
     "text": [
      "2025-03-31 22:44:38,122 [INFO] Project with name 'e2e-draft-model-training-project' found with id 0b4bf4f5-5e29-409c-8a40-7a2e4183ec95\n",
      "2025-03-31 22:44:38,124 [INFO] Project with name 'e2e-draft-model-training-project' already exists with id '0b4bf4f5-5e29-409c-8a40-7a2e4183ec95', using it\n"
     ]
    },
    {
     "data": {
      "text/plain": [
       "'0b4bf4f5-5e29-409c-8a40-7a2e4183ec95'"
      ]
     },
     "execution_count": 32,
     "metadata": {},
     "output_type": "execute_result"
    }
   ],
   "source": [
    "# Execute the create project method from client with project parameters\n",
    "sambastudio_client.create_project(\n",
    "    project_name = project['project_name'],\n",
    "    project_description = project['project_description']\n",
    ")"
   ]
  },
  {
   "cell_type": "markdown",
   "metadata": {},
   "source": [
    "### Create Endpoint"
   ]
  },
  {
   "cell_type": "markdown",
   "metadata": {},
   "source": [
    "#### Set endpoint config "
   ]
  },
  {
   "cell_type": "code",
   "execution_count": 33,
   "metadata": {},
   "outputs": [],
   "source": [
    "\n",
    "# xxx\n",
    "# endpoint = {\n",
    "#   'endpoint_name': 'llama3-openbiollm-8b-endpoint',\n",
    "#   'endpoint_description': 'Endpoint for Llama3-OpenBioLLM-8B',\n",
    "#   'endpoint_instances': 1,\n",
    "#   'hyperparams': {}\n",
    "# }\n",
    "endpoint = {\n",
    "  'endpoint_name': 'llama-3.1-8b-instruct',\n",
    "  'endpoint_description': 'Endpoint for Llama-3.1-8B-Instruct',\n",
    "  'endpoint_instances': 1,\n",
    "  'hyperparams': {}\n",
    "}"
   ]
  },
  {
   "cell_type": "code",
   "execution_count": 34,
   "metadata": {},
   "outputs": [
    {
     "name": "stderr",
     "output_type": "stream",
     "text": [
      "2025-03-31 22:52:28,479 [INFO] Project with name 'e2e-draft-model-training-project' found with id 0b4bf4f5-5e29-409c-8a40-7a2e4183ec95\n",
      "2025-03-31 22:52:28,722 [INFO] Model with name 'Llama-3.1-8B-Instruct' found with id b11219b8-84ba-4c5a-833b-edd6ffd5c0d6\n",
      "2025-03-31 22:52:28,937 [INFO] Endpoint with name 'llama-3.1-8b-instruct' not found in project '0b4bf4f5-5e29-409c-8a40-7a2e4183ec95'\n",
      "2025-03-31 22:52:29,279 [INFO] Endpoint 'llama-3.1-8b-instruct' created\n"
     ]
    },
    {
     "data": {
      "text/plain": [
       "'54e113d6-495f-44e9-b6b0-01bc43852806'"
      ]
     },
     "execution_count": 34,
     "metadata": {},
     "output_type": "execute_result"
    }
   ],
   "source": [
    "# Execute the create endpoint method from client with endpoint parameters\n",
    "sambastudio_client.create_endpoint(\n",
    "    project_name=project['project_name'],\n",
    "    endpoint_name=endpoint['endpoint_name'],\n",
    "    endpoint_description=endpoint['endpoint_description'],\n",
    "    model_name='Llama-3.1-8B-Instruct',\n",
    "    model_version=1,\n",
    "    instances=endpoint['endpoint_instances'],\n",
    "    hyperparams=endpoint['hyperparams'],\n",
    "    rdu_arch=\"SN40L-8\",\n",
    ")"
   ]
  },
  {
   "cell_type": "code",
   "execution_count": 35,
   "metadata": {},
   "outputs": [
    {
     "name": "stderr",
     "output_type": "stream",
     "text": [
      "2025-03-31 22:52:31,742 [INFO] Project with name 'e2e-draft-model-training-project' found with id 0b4bf4f5-5e29-409c-8a40-7a2e4183ec95\n"
     ]
    },
    {
     "data": {
      "text/plain": [
       "{'status': 'SettingUp',\n",
       " 'url': '/api/predict/generic/0b4bf4f5-5e29-409c-8a40-7a2e4183ec95/54e113d6-495f-44e9-b6b0-01bc43852806',\n",
       " 'langchain_wrapper_env': {'SAMBASTUDIO_URL': 'https://sjc3-demo2.sambanova.net/api/predict/generic/0b4bf4f5-5e29-409c-8a40-7a2e4183ec95/54e113d6-495f-44e9-b6b0-01bc43852806',\n",
       "  'SAMBASTUDIO_API_KEY': '509c194e-6026-47b7-9c73-dca8ffed6994'}}"
      ]
     },
     "execution_count": 35,
     "metadata": {},
     "output_type": "execute_result"
    }
   ],
   "source": [
    "#get endpoint details, including api key and envs\n",
    "sambastudio_client.get_endpoint_details(\n",
    "    project_name=project['project_name'],\n",
    "    endpoint_name=endpoint['endpoint_name'],\n",
    ")"
   ]
  },
  {
   "cell_type": "markdown",
   "metadata": {},
   "source": [
    "### Inference"
   ]
  },
  {
   "cell_type": "markdown",
   "metadata": {},
   "source": [
    "#### Get endpoint details"
   ]
  },
  {
   "cell_type": "code",
   "execution_count": 36,
   "metadata": {},
   "outputs": [
    {
     "name": "stderr",
     "output_type": "stream",
     "text": [
      "2025-03-31 22:52:35,185 [INFO] Project with name 'e2e-draft-model-training-project' found with id 0b4bf4f5-5e29-409c-8a40-7a2e4183ec95\n"
     ]
    }
   ],
   "source": [
    "# store envs\n",
    "endpoint_env = sambastudio_client.get_endpoint_details(\n",
    "    project_name=project['project_name'],\n",
    "    endpoint_name=endpoint['endpoint_name']\n",
    "    )['langchain_wrapper_env']"
   ]
  },
  {
   "cell_type": "code",
   "execution_count": 37,
   "metadata": {},
   "outputs": [
    {
     "data": {
      "text/plain": [
       "{'SAMBASTUDIO_URL': 'https://sjc3-demo2.sambanova.net/api/predict/generic/0b4bf4f5-5e29-409c-8a40-7a2e4183ec95/54e113d6-495f-44e9-b6b0-01bc43852806',\n",
       " 'SAMBASTUDIO_API_KEY': '509c194e-6026-47b7-9c73-dca8ffed6994'}"
      ]
     },
     "execution_count": 37,
     "metadata": {},
     "output_type": "execute_result"
    }
   ],
   "source": [
    "endpoint_env"
   ]
  },
  {
   "cell_type": "code",
   "execution_count": 38,
   "metadata": {},
   "outputs": [],
   "source": [
    "# instantiate langchain chat models to test inference \n",
    "\n",
    "from langchain_sambanova import ChatSambaStudio\n",
    "\n",
    "llm = ChatSambaStudio(\n",
    "    sambastudio_url=endpoint_env.get(\"SAMBASTUDIO_URL\"),\n",
    "    sambastudio_api_key=endpoint_env.get(\"SAMBASTUDIO_API_KEY\"),\n",
    "    temperature = 0.01,\n",
    "    max_tokens = 1024,\n",
    "    top_p = 0.1,\n",
    "    do_sample = False\n",
    ")\n"
   ]
  },
  {
   "cell_type": "code",
   "execution_count": 41,
   "metadata": {},
   "outputs": [],
   "source": [
    "messages = [\n",
    "    (\"system\", \"You are an expert and experienced from the healthcare and biomedical domain with extensive medical knowledge and practical experience. Your name is OpenBioLLM, and you were developed by Saama AI Labs. who's willing to help answer the user's query with explanation. In your explanation, leverage your deep medical expertise such as relevant anatomical structures, physiological processes, diagnostic criteria, treatment guidelines, or other pertinent medical concepts. Use precise medical terminology while still aiming to make the explanation clear and accessible to a general audience.\"),\n",
    "    (\"human\", \"What are the morphological characteristics of a particular organism that determine its correct genus classification in the Taxonomy system? Identify the key features that indicate the proper classification for a given species and explain how they are used in Taxonomy\")\n",
    "]"
   ]
  },
  {
   "cell_type": "code",
   "execution_count": 44,
   "metadata": {},
   "outputs": [
    {
     "data": {
      "text/plain": [
       "'As OpenBioLLM, I\\'d be happy to explain the morphological characteristics that determine the correct genus classification in the Taxonomy system.\\n\\nIn Taxonomy, the classification of organisms is based on their shared characteristics, which are used to group them into hierarchical categories. The genus classification is a critical level in this hierarchy, as it represents a group of related species that share common characteristics.\\n\\nTo determine the correct genus classification, taxonomists examine the following key morphological characteristics:\\n\\n1. **Body shape and size**: The overall shape and size of the organism, including its proportions, can be indicative of its genus classification. For example, the shape of the body, the presence of appendages, and the size of the organism can be used to distinguish between different genera.\\n2. **Skeletal system**: The structure and composition of the skeletal system, including the presence of bones, cartilage, or other supporting tissues, can be a key characteristic for genus classification. For example, the presence of a vertebral column or the absence of a backbone can be used to distinguish between different genera.\\n3. **Muscular system**: The arrangement and structure of muscles can also be used to determine genus classification. For example, the presence of a specific type of muscle or the arrangement of muscles in a particular pattern can be indicative of a particular genus.\\n4. **Circulatory system**: The structure and function of the circulatory system, including the presence of a heart, blood vessels, and blood cells, can be used to distinguish between different genera.\\n5. **Respiratory system**: The structure and function of the respiratory system, including the presence of lungs, gills, or other respiratory organs, can be used to determine genus classification.\\n6. **Nervous system**: The structure and function of the nervous system, including the presence of a brain, spinal cord, and nerves, can be used to distinguish between different genera.\\n7. **Reproductive system**: The structure and function of the reproductive system, including the presence of sex organs, gametes, and fertilization mechanisms, can be used to determine genus classification.\\n8. **Morphology of specific organs**: The shape, size, and structure of specific organs, such as the eyes, ears, or limbs, can be used to distinguish between different genera.\\n9. **Developmental biology**: The developmental biology of an organism, including its embryonic development and larval stages, can be used to determine genus classification.\\n10. **Molecular characteristics**: In recent years, molecular characteristics, such as DNA and protein sequences, have become increasingly important in determining genus classification.\\n\\nThese morphological characteristics are used in Taxonomy through a process called **phylogenetic analysis**, which involves comparing the characteristics of different organisms to determine their evolutionary relationships. By analyzing these characteristics, taxonomists can reconstruct the evolutionary history of an organism and determine its correct genus classification.\\n\\nIn the Taxonomy system, the genus classification is typically represented by a two-part name, consisting of a genus name and a species name. For example, the genus name \"Homo\" and the species name \"sapiens\" would be used to classify the human species as \"Homo sapiens\".\\n\\nIn summary, the morphological characteristics that determine the correct genus classification in the Taxonomy system include body shape and size, skeletal system, muscular system, circulatory system, respiratory system, nervous system, reproductive system, morphology of specific organs, developmental biology, and molecular characteristics. These characteristics are used in phylogenetic analysis to determine the evolutionary relationships between organisms and to assign them to their correct genus classification.'"
      ]
     },
     "execution_count": 44,
     "metadata": {},
     "output_type": "execute_result"
    }
   ],
   "source": [
    "llm.invoke(messages).content"
   ]
  },
  {
   "cell_type": "code",
   "execution_count": 57,
   "metadata": {},
   "outputs": [
    {
     "name": "stdout",
     "output_type": "stream",
     "text": [
      "Successfully processed 3 entries and saved to ../data/datasets/bio_train_completions/bio_train_completions.jsonl.\n"
     ]
    }
   ],
   "source": [
    "import json\n",
    "\n",
    "# Path to the input JSONL file\n",
    "input_filename = \"../data/datasets/bio_train_completions/bio_train_formatted.jsonl\"\n",
    "# Path to the output JSONL file\n",
    "output_filename = \"../data/datasets/bio_train_completions/bio_train_completions.jsonl\"\n",
    "\n",
    "# Assuming llm is already defined in your environment with an invoke() method.\n",
    "# For example:\n",
    "# def dummy_invoke(messages):\n",
    "#     # This dummy function simulates an LLM response\n",
    "#     return type(\"LLMResponse\", (object,), {\"content\": \"This is a dummy answer.\"})()\n",
    "# llm = type(\"DummyLLM\", (object,), {\"invoke\": dummy_invoke})()\n",
    "\n",
    "output_lines = []\n",
    "\n",
    "with open(input_filename, \"r\", encoding=\"utf-8\") as infile:\n",
    "    for line in infile:\n",
    "        # Each line should be a valid JSON string\n",
    "        data = json.loads(line)\n",
    "        \n",
    "        # Extract the system prompt and the human instruction\n",
    "        system_msg = data[\"system_prompt\"]\n",
    "        human_msg = data[\"instruction\"]\n",
    "\n",
    "        # Construct the messages list as required\n",
    "        messages = [\n",
    "            (\"system\", system_msg),\n",
    "            (\"human\", human_msg)\n",
    "        ]\n",
    "\n",
    "        # Invoke the LLM with the messages list and get the content of the response\n",
    "        # Here we call the llm.invoke() and access its 'content' attribute.\n",
    "        response = llm.invoke(messages)\n",
    "        completion = response.content\n",
    "\n",
    "        # Create a new dictionary (triple) with the keys system, prompt, and completion.\n",
    "        new_entry = {\n",
    "            \"system\": system_msg,\n",
    "            \"prompt\": human_msg,\n",
    "            \"completion\": completion\n",
    "        }\n",
    "        output_lines.append(new_entry)\n",
    "\n",
    "# Write the transformed entries into the output JSONL file\n",
    "with open(output_filename, \"w\", encoding=\"utf-8\") as outfile:\n",
    "    for entry in output_lines:\n",
    "        json.dump(entry, outfile)\n",
    "        outfile.write(\"\\n\")\n",
    "\n",
    "print(f\"Successfully processed {len(output_lines)} entries and saved to {output_filename}.\")"
   ]
  },
  {
   "cell_type": "markdown",
   "metadata": {},
   "source": [
    "## Streamlined Execution\n",
    "\n",
    "The bundle model creation and endpoint deployment can be done in a streamlined way setting all the composite model and endpoint parameters in a config file like in the [deploy_config.yaml](../deploy_config.yaml) example, and executing:"
   ]
  },
  {
   "cell_type": "code",
   "execution_count": null,
   "metadata": {},
   "outputs": [],
   "source": [
    "config_file = os.path.join(kit_dir, 'deploy_config.yaml')\n",
    "sambastudio_client = SnsdkWrapper(config_file)\n",
    "sambastudio_client.create_project()\n",
    "sambastudio_client.create_composite_model()\n",
    "sambastudio_client.create_endpoint()\n",
    "endpoint_env = sambastudio_client.get_endpoint_details()"
   ]
  }
 ],
 "metadata": {
  "kernelspec": {
   "display_name": ".venv",
   "language": "python",
   "name": "python3"
  },
  "language_info": {
   "codemirror_mode": {
    "name": "ipython",
    "version": 3
   },
   "file_extension": ".py",
   "mimetype": "text/x-python",
   "name": "python",
   "nbconvert_exporter": "python",
   "pygments_lexer": "ipython3",
   "version": "3.11.10"
  }
 },
 "nbformat": 4,
 "nbformat_minor": 2
}
